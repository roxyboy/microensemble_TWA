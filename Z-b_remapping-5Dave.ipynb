{
 "cells": [
  {
   "cell_type": "code",
   "execution_count": 1,
   "metadata": {},
   "outputs": [
    {
     "data": {
      "text/html": [
       "\n",
       "            <div>\n",
       "                <div style=\"\n",
       "                    width: 24px;\n",
       "                    height: 24px;\n",
       "                    background-color: #e1e1e1;\n",
       "                    border: 3px solid #9D9D9D;\n",
       "                    border-radius: 5px;\n",
       "                    position: absolute;\"> </div>\n",
       "                <div style=\"margin-left: 48px;\">\n",
       "                    <h3 style=\"margin-bottom: 0px;\">Client</h3>\n",
       "                    <p style=\"color: #9D9D9D; margin-bottom: 0px;\">Client-f69d5da0-e6e5-11eb-afe1-0cc47a4a18a8</p>\n",
       "                    <table style=\"width: 100%; text-align: left;\">\n",
       "                    \n",
       "                <tr>\n",
       "                    <td style=\"text-align: left;\"><strong>Connection method:</strong> Direct</td>\n",
       "                    <td style=\"text-align: left;\"></td>\n",
       "                </tr>\n",
       "                \n",
       "                <tr>\n",
       "                    <td style=\"text-align: left;\">\n",
       "                        <strong>Dashboard: </strong>\n",
       "                        <a href=\"http://127.0.0.1:40989/status\">http://127.0.0.1:40989/status</a>\n",
       "                    </td>\n",
       "                    <td style=\"text-align: left;\"></td>\n",
       "                </tr>\n",
       "                \n",
       "                    </table>\n",
       "                    \n",
       "                <details>\n",
       "                <summary style=\"margin-bottom: 20px;\"><h3 style=\"display: inline;\">Scheduler Info</h3></summary>\n",
       "                \n",
       "        <div style=\"\">\n",
       "            \n",
       "            <div>\n",
       "                <div style=\"\n",
       "                    width: 24px;\n",
       "                    height: 24px;\n",
       "                    background-color: #FFF7E5;\n",
       "                    border: 3px solid #FF6132;\n",
       "                    border-radius: 5px;\n",
       "                    position: absolute;\"> </div>\n",
       "                <div style=\"margin-left: 48px;\">\n",
       "                    <h3 style=\"margin-bottom: 0px;\">Scheduler</h3>\n",
       "                    <p style=\"color: #9D9D9D; margin-bottom: 0px;\">Scheduler-ab9ea9df-051d-4a9b-8cdc-2086dc7e7524</p>\n",
       "                    <table style=\"width: 100%; text-align: left;\">\n",
       "                        <tr>\n",
       "                            <td style=\"text-align: left;\"><strong>Comm:</strong> tcp://127.0.0.1:45099</td>\n",
       "                            <td style=\"text-align: left;\"><strong>Workers:</strong> 12</td>\n",
       "                        </tr>\n",
       "                        <tr>\n",
       "                            <td style=\"text-align: left;\">\n",
       "                                <strong>Dashboard:</strong> <a href=\"http://127.0.0.1:40989/status\">http://127.0.0.1:40989/status</a>\n",
       "                            </td>\n",
       "                            <td style=\"text-align: left;\">\n",
       "                                <strong>Total threads:</strong>\n",
       "                                60\n",
       "                            </td>\n",
       "                        </tr>\n",
       "                        <tr>\n",
       "                            <td style=\"text-align: left;\">\n",
       "                                <strong>Started:</strong>\n",
       "                                15 hours ago\n",
       "                            </td>\n",
       "                            <td style=\"text-align: left;\">\n",
       "                                <strong>Total memory:</strong>\n",
       "                                236.08 GiB\n",
       "                            </td>\n",
       "                        </tr>\n",
       "                    </table>\n",
       "                </div>\n",
       "            </div>\n",
       "        \n",
       "            <details style=\"margin-left: 48px;\">\n",
       "            <summary style=\"margin-bottom: 20px;\"><h3 style=\"display: inline;\">Workers</h3></summary>\n",
       "            \n",
       "            <div style=\"margin-bottom: 20px;\">\n",
       "                <div style=\"width: 24px;\n",
       "                            height: 24px;\n",
       "                            background-color: #DBF5FF;\n",
       "                            border: 3px solid #4CC9FF;\n",
       "                            border-radius: 5px;\n",
       "                            position: absolute;\"> </div>\n",
       "                <div style=\"margin-left: 48px;\">\n",
       "                <details>\n",
       "                    <summary>\n",
       "                        <h4 style=\"margin-bottom: 0px; display: inline;\">Worker: 2</h4>\n",
       "                    </summary>\n",
       "                    <table style=\"width: 100%; text-align: left;\">\n",
       "                        <tr>\n",
       "                            <td style=\"text-align: left;\"><strong>Comm: </strong> tcp://127.0.0.1:40335</td>\n",
       "                            <td style=\"text-align: left;\"><strong>Total threads: </strong> 5</td>\n",
       "                        </tr>\n",
       "                        <tr>\n",
       "                            <td style=\"text-align: left;\">\n",
       "                                <strong>Dashboard: </strong>\n",
       "                                <a href=\"http://127.0.0.1:38463/status\">http://127.0.0.1:38463/status</a>\n",
       "                            </td>\n",
       "                            <td style=\"text-align: left;\">\n",
       "                                <strong>Memory: </strong>\n",
       "                                19.67 GiB\n",
       "                            </td>\n",
       "                        </tr>\n",
       "                        <tr>\n",
       "                            <td style=\"text-align: left;\"><strong>Nanny: </strong> tcp://127.0.0.1:44777</td>\n",
       "                            <td style=\"text-align: left;\"></td>\n",
       "                        </tr>\n",
       "                        <tr>\n",
       "                            <td colspan=\"2\" style=\"text-align: left;\">\n",
       "                                <strong>Local directory: </strong>\n",
       "                                /tank/users/tuchida/dask-worker-space/worker-r2hqm889\n",
       "                            </td>\n",
       "                        </tr>\n",
       "                        \n",
       "                        \n",
       "                <tr>\n",
       "                    <td style=\"text-align: left;\">\n",
       "                        <strong>Tasks executing: </strong> 0\n",
       "                    </td>\n",
       "                    <td style=\"text-align: left;\">\n",
       "                        <strong>Tasks in memory: </strong> 0\n",
       "                    </td>\n",
       "                </tr>\n",
       "                <tr>\n",
       "                    <td style=\"text-align: left;\">\n",
       "                        <strong>Tasks ready: </strong> 0\n",
       "                    </td>\n",
       "                    <td style=\"text-align: left;\">\n",
       "                        <strong>Tasks in flight: </strong>0\n",
       "                    </td>\n",
       "                </tr>\n",
       "                <tr>\n",
       "                    <td style=\"text-align: left;\"><strong>CPU usage:</strong> 4.0%</td>\n",
       "                    <td style=\"text-align: left;\">\n",
       "                        <strong>Last seen: </strong>\n",
       "                        Just now\n",
       "                    </td>\n",
       "                </tr>\n",
       "                <tr>\n",
       "                    <td style=\"text-align: left;\">\n",
       "                        <strong>Memory usage: </strong>\n",
       "                        4.26 GiB\n",
       "                    </td>\n",
       "                    <td style=\"text-align: left;\">\n",
       "                        <strong>Spilled bytes: </strong>\n",
       "                        0 B\n",
       "                    </td>\n",
       "                </tr>\n",
       "                <tr>\n",
       "                    <td style=\"text-align: left;\">\n",
       "                        <strong>Read bytes: </strong>\n",
       "                        3.22 MiB\n",
       "                    </td>\n",
       "                    <td style=\"text-align: left;\">\n",
       "                        <strong>Write bytes: </strong>\n",
       "                        583.31 kiB\n",
       "                    </td>\n",
       "                </tr>\n",
       "                \n",
       "                    </table>\n",
       "                </details>\n",
       "                </div>\n",
       "            </div>\n",
       "            \n",
       "            <div style=\"margin-bottom: 20px;\">\n",
       "                <div style=\"width: 24px;\n",
       "                            height: 24px;\n",
       "                            background-color: #DBF5FF;\n",
       "                            border: 3px solid #4CC9FF;\n",
       "                            border-radius: 5px;\n",
       "                            position: absolute;\"> </div>\n",
       "                <div style=\"margin-left: 48px;\">\n",
       "                <details>\n",
       "                    <summary>\n",
       "                        <h4 style=\"margin-bottom: 0px; display: inline;\">Worker: 3</h4>\n",
       "                    </summary>\n",
       "                    <table style=\"width: 100%; text-align: left;\">\n",
       "                        <tr>\n",
       "                            <td style=\"text-align: left;\"><strong>Comm: </strong> tcp://127.0.0.1:41025</td>\n",
       "                            <td style=\"text-align: left;\"><strong>Total threads: </strong> 5</td>\n",
       "                        </tr>\n",
       "                        <tr>\n",
       "                            <td style=\"text-align: left;\">\n",
       "                                <strong>Dashboard: </strong>\n",
       "                                <a href=\"http://127.0.0.1:42705/status\">http://127.0.0.1:42705/status</a>\n",
       "                            </td>\n",
       "                            <td style=\"text-align: left;\">\n",
       "                                <strong>Memory: </strong>\n",
       "                                19.67 GiB\n",
       "                            </td>\n",
       "                        </tr>\n",
       "                        <tr>\n",
       "                            <td style=\"text-align: left;\"><strong>Nanny: </strong> tcp://127.0.0.1:34921</td>\n",
       "                            <td style=\"text-align: left;\"></td>\n",
       "                        </tr>\n",
       "                        <tr>\n",
       "                            <td colspan=\"2\" style=\"text-align: left;\">\n",
       "                                <strong>Local directory: </strong>\n",
       "                                /tank/users/tuchida/dask-worker-space/worker-fhpa1p39\n",
       "                            </td>\n",
       "                        </tr>\n",
       "                        \n",
       "                        \n",
       "                <tr>\n",
       "                    <td style=\"text-align: left;\">\n",
       "                        <strong>Tasks executing: </strong> 0\n",
       "                    </td>\n",
       "                    <td style=\"text-align: left;\">\n",
       "                        <strong>Tasks in memory: </strong> 0\n",
       "                    </td>\n",
       "                </tr>\n",
       "                <tr>\n",
       "                    <td style=\"text-align: left;\">\n",
       "                        <strong>Tasks ready: </strong> 0\n",
       "                    </td>\n",
       "                    <td style=\"text-align: left;\">\n",
       "                        <strong>Tasks in flight: </strong>0\n",
       "                    </td>\n",
       "                </tr>\n",
       "                <tr>\n",
       "                    <td style=\"text-align: left;\"><strong>CPU usage:</strong> 2.0%</td>\n",
       "                    <td style=\"text-align: left;\">\n",
       "                        <strong>Last seen: </strong>\n",
       "                        Just now\n",
       "                    </td>\n",
       "                </tr>\n",
       "                <tr>\n",
       "                    <td style=\"text-align: left;\">\n",
       "                        <strong>Memory usage: </strong>\n",
       "                        5.28 GiB\n",
       "                    </td>\n",
       "                    <td style=\"text-align: left;\">\n",
       "                        <strong>Spilled bytes: </strong>\n",
       "                        0 B\n",
       "                    </td>\n",
       "                </tr>\n",
       "                <tr>\n",
       "                    <td style=\"text-align: left;\">\n",
       "                        <strong>Read bytes: </strong>\n",
       "                        3.23 MiB\n",
       "                    </td>\n",
       "                    <td style=\"text-align: left;\">\n",
       "                        <strong>Write bytes: </strong>\n",
       "                        584.76 kiB\n",
       "                    </td>\n",
       "                </tr>\n",
       "                \n",
       "                    </table>\n",
       "                </details>\n",
       "                </div>\n",
       "            </div>\n",
       "            \n",
       "            <div style=\"margin-bottom: 20px;\">\n",
       "                <div style=\"width: 24px;\n",
       "                            height: 24px;\n",
       "                            background-color: #DBF5FF;\n",
       "                            border: 3px solid #4CC9FF;\n",
       "                            border-radius: 5px;\n",
       "                            position: absolute;\"> </div>\n",
       "                <div style=\"margin-left: 48px;\">\n",
       "                <details>\n",
       "                    <summary>\n",
       "                        <h4 style=\"margin-bottom: 0px; display: inline;\">Worker: 4</h4>\n",
       "                    </summary>\n",
       "                    <table style=\"width: 100%; text-align: left;\">\n",
       "                        <tr>\n",
       "                            <td style=\"text-align: left;\"><strong>Comm: </strong> tcp://127.0.0.1:35323</td>\n",
       "                            <td style=\"text-align: left;\"><strong>Total threads: </strong> 5</td>\n",
       "                        </tr>\n",
       "                        <tr>\n",
       "                            <td style=\"text-align: left;\">\n",
       "                                <strong>Dashboard: </strong>\n",
       "                                <a href=\"http://127.0.0.1:36505/status\">http://127.0.0.1:36505/status</a>\n",
       "                            </td>\n",
       "                            <td style=\"text-align: left;\">\n",
       "                                <strong>Memory: </strong>\n",
       "                                19.67 GiB\n",
       "                            </td>\n",
       "                        </tr>\n",
       "                        <tr>\n",
       "                            <td style=\"text-align: left;\"><strong>Nanny: </strong> tcp://127.0.0.1:38443</td>\n",
       "                            <td style=\"text-align: left;\"></td>\n",
       "                        </tr>\n",
       "                        <tr>\n",
       "                            <td colspan=\"2\" style=\"text-align: left;\">\n",
       "                                <strong>Local directory: </strong>\n",
       "                                /tank/users/tuchida/dask-worker-space/worker-uad3lel_\n",
       "                            </td>\n",
       "                        </tr>\n",
       "                        \n",
       "                        \n",
       "                <tr>\n",
       "                    <td style=\"text-align: left;\">\n",
       "                        <strong>Tasks executing: </strong> 0\n",
       "                    </td>\n",
       "                    <td style=\"text-align: left;\">\n",
       "                        <strong>Tasks in memory: </strong> 0\n",
       "                    </td>\n",
       "                </tr>\n",
       "                <tr>\n",
       "                    <td style=\"text-align: left;\">\n",
       "                        <strong>Tasks ready: </strong> 0\n",
       "                    </td>\n",
       "                    <td style=\"text-align: left;\">\n",
       "                        <strong>Tasks in flight: </strong>0\n",
       "                    </td>\n",
       "                </tr>\n",
       "                <tr>\n",
       "                    <td style=\"text-align: left;\"><strong>CPU usage:</strong> 2.0%</td>\n",
       "                    <td style=\"text-align: left;\">\n",
       "                        <strong>Last seen: </strong>\n",
       "                        Just now\n",
       "                    </td>\n",
       "                </tr>\n",
       "                <tr>\n",
       "                    <td style=\"text-align: left;\">\n",
       "                        <strong>Memory usage: </strong>\n",
       "                        5.66 GiB\n",
       "                    </td>\n",
       "                    <td style=\"text-align: left;\">\n",
       "                        <strong>Spilled bytes: </strong>\n",
       "                        0 B\n",
       "                    </td>\n",
       "                </tr>\n",
       "                <tr>\n",
       "                    <td style=\"text-align: left;\">\n",
       "                        <strong>Read bytes: </strong>\n",
       "                        3.23 MiB\n",
       "                    </td>\n",
       "                    <td style=\"text-align: left;\">\n",
       "                        <strong>Write bytes: </strong>\n",
       "                        593.93 kiB\n",
       "                    </td>\n",
       "                </tr>\n",
       "                \n",
       "                    </table>\n",
       "                </details>\n",
       "                </div>\n",
       "            </div>\n",
       "            \n",
       "            <div style=\"margin-bottom: 20px;\">\n",
       "                <div style=\"width: 24px;\n",
       "                            height: 24px;\n",
       "                            background-color: #DBF5FF;\n",
       "                            border: 3px solid #4CC9FF;\n",
       "                            border-radius: 5px;\n",
       "                            position: absolute;\"> </div>\n",
       "                <div style=\"margin-left: 48px;\">\n",
       "                <details>\n",
       "                    <summary>\n",
       "                        <h4 style=\"margin-bottom: 0px; display: inline;\">Worker: 5</h4>\n",
       "                    </summary>\n",
       "                    <table style=\"width: 100%; text-align: left;\">\n",
       "                        <tr>\n",
       "                            <td style=\"text-align: left;\"><strong>Comm: </strong> tcp://127.0.0.1:32941</td>\n",
       "                            <td style=\"text-align: left;\"><strong>Total threads: </strong> 5</td>\n",
       "                        </tr>\n",
       "                        <tr>\n",
       "                            <td style=\"text-align: left;\">\n",
       "                                <strong>Dashboard: </strong>\n",
       "                                <a href=\"http://127.0.0.1:40569/status\">http://127.0.0.1:40569/status</a>\n",
       "                            </td>\n",
       "                            <td style=\"text-align: left;\">\n",
       "                                <strong>Memory: </strong>\n",
       "                                19.67 GiB\n",
       "                            </td>\n",
       "                        </tr>\n",
       "                        <tr>\n",
       "                            <td style=\"text-align: left;\"><strong>Nanny: </strong> tcp://127.0.0.1:45965</td>\n",
       "                            <td style=\"text-align: left;\"></td>\n",
       "                        </tr>\n",
       "                        <tr>\n",
       "                            <td colspan=\"2\" style=\"text-align: left;\">\n",
       "                                <strong>Local directory: </strong>\n",
       "                                /tank/users/tuchida/dask-worker-space/worker-vjzioy1d\n",
       "                            </td>\n",
       "                        </tr>\n",
       "                        \n",
       "                        \n",
       "                <tr>\n",
       "                    <td style=\"text-align: left;\">\n",
       "                        <strong>Tasks executing: </strong> 0\n",
       "                    </td>\n",
       "                    <td style=\"text-align: left;\">\n",
       "                        <strong>Tasks in memory: </strong> 0\n",
       "                    </td>\n",
       "                </tr>\n",
       "                <tr>\n",
       "                    <td style=\"text-align: left;\">\n",
       "                        <strong>Tasks ready: </strong> 0\n",
       "                    </td>\n",
       "                    <td style=\"text-align: left;\">\n",
       "                        <strong>Tasks in flight: </strong>0\n",
       "                    </td>\n",
       "                </tr>\n",
       "                <tr>\n",
       "                    <td style=\"text-align: left;\"><strong>CPU usage:</strong> 4.0%</td>\n",
       "                    <td style=\"text-align: left;\">\n",
       "                        <strong>Last seen: </strong>\n",
       "                        Just now\n",
       "                    </td>\n",
       "                </tr>\n",
       "                <tr>\n",
       "                    <td style=\"text-align: left;\">\n",
       "                        <strong>Memory usage: </strong>\n",
       "                        6.29 GiB\n",
       "                    </td>\n",
       "                    <td style=\"text-align: left;\">\n",
       "                        <strong>Spilled bytes: </strong>\n",
       "                        0 B\n",
       "                    </td>\n",
       "                </tr>\n",
       "                <tr>\n",
       "                    <td style=\"text-align: left;\">\n",
       "                        <strong>Read bytes: </strong>\n",
       "                        9.52 MiB\n",
       "                    </td>\n",
       "                    <td style=\"text-align: left;\">\n",
       "                        <strong>Write bytes: </strong>\n",
       "                        905.60 kiB\n",
       "                    </td>\n",
       "                </tr>\n",
       "                \n",
       "                    </table>\n",
       "                </details>\n",
       "                </div>\n",
       "            </div>\n",
       "            \n",
       "            <div style=\"margin-bottom: 20px;\">\n",
       "                <div style=\"width: 24px;\n",
       "                            height: 24px;\n",
       "                            background-color: #DBF5FF;\n",
       "                            border: 3px solid #4CC9FF;\n",
       "                            border-radius: 5px;\n",
       "                            position: absolute;\"> </div>\n",
       "                <div style=\"margin-left: 48px;\">\n",
       "                <details>\n",
       "                    <summary>\n",
       "                        <h4 style=\"margin-bottom: 0px; display: inline;\">Worker: 6</h4>\n",
       "                    </summary>\n",
       "                    <table style=\"width: 100%; text-align: left;\">\n",
       "                        <tr>\n",
       "                            <td style=\"text-align: left;\"><strong>Comm: </strong> tcp://127.0.0.1:44595</td>\n",
       "                            <td style=\"text-align: left;\"><strong>Total threads: </strong> 5</td>\n",
       "                        </tr>\n",
       "                        <tr>\n",
       "                            <td style=\"text-align: left;\">\n",
       "                                <strong>Dashboard: </strong>\n",
       "                                <a href=\"http://127.0.0.1:33501/status\">http://127.0.0.1:33501/status</a>\n",
       "                            </td>\n",
       "                            <td style=\"text-align: left;\">\n",
       "                                <strong>Memory: </strong>\n",
       "                                19.67 GiB\n",
       "                            </td>\n",
       "                        </tr>\n",
       "                        <tr>\n",
       "                            <td style=\"text-align: left;\"><strong>Nanny: </strong> tcp://127.0.0.1:43261</td>\n",
       "                            <td style=\"text-align: left;\"></td>\n",
       "                        </tr>\n",
       "                        <tr>\n",
       "                            <td colspan=\"2\" style=\"text-align: left;\">\n",
       "                                <strong>Local directory: </strong>\n",
       "                                /tank/users/tuchida/dask-worker-space/worker-5i6jfbps\n",
       "                            </td>\n",
       "                        </tr>\n",
       "                        \n",
       "                        \n",
       "                <tr>\n",
       "                    <td style=\"text-align: left;\">\n",
       "                        <strong>Tasks executing: </strong> 0\n",
       "                    </td>\n",
       "                    <td style=\"text-align: left;\">\n",
       "                        <strong>Tasks in memory: </strong> 0\n",
       "                    </td>\n",
       "                </tr>\n",
       "                <tr>\n",
       "                    <td style=\"text-align: left;\">\n",
       "                        <strong>Tasks ready: </strong> 0\n",
       "                    </td>\n",
       "                    <td style=\"text-align: left;\">\n",
       "                        <strong>Tasks in flight: </strong>1\n",
       "                    </td>\n",
       "                </tr>\n",
       "                <tr>\n",
       "                    <td style=\"text-align: left;\"><strong>CPU usage:</strong> 2.0%</td>\n",
       "                    <td style=\"text-align: left;\">\n",
       "                        <strong>Last seen: </strong>\n",
       "                        Just now\n",
       "                    </td>\n",
       "                </tr>\n",
       "                <tr>\n",
       "                    <td style=\"text-align: left;\">\n",
       "                        <strong>Memory usage: </strong>\n",
       "                        6.41 GiB\n",
       "                    </td>\n",
       "                    <td style=\"text-align: left;\">\n",
       "                        <strong>Spilled bytes: </strong>\n",
       "                        0 B\n",
       "                    </td>\n",
       "                </tr>\n",
       "                <tr>\n",
       "                    <td style=\"text-align: left;\">\n",
       "                        <strong>Read bytes: </strong>\n",
       "                        3.25 MiB\n",
       "                    </td>\n",
       "                    <td style=\"text-align: left;\">\n",
       "                        <strong>Write bytes: </strong>\n",
       "                        606.22 kiB\n",
       "                    </td>\n",
       "                </tr>\n",
       "                \n",
       "                    </table>\n",
       "                </details>\n",
       "                </div>\n",
       "            </div>\n",
       "            \n",
       "            <div style=\"margin-bottom: 20px;\">\n",
       "                <div style=\"width: 24px;\n",
       "                            height: 24px;\n",
       "                            background-color: #DBF5FF;\n",
       "                            border: 3px solid #4CC9FF;\n",
       "                            border-radius: 5px;\n",
       "                            position: absolute;\"> </div>\n",
       "                <div style=\"margin-left: 48px;\">\n",
       "                <details>\n",
       "                    <summary>\n",
       "                        <h4 style=\"margin-bottom: 0px; display: inline;\">Worker: 7</h4>\n",
       "                    </summary>\n",
       "                    <table style=\"width: 100%; text-align: left;\">\n",
       "                        <tr>\n",
       "                            <td style=\"text-align: left;\"><strong>Comm: </strong> tcp://127.0.0.1:38007</td>\n",
       "                            <td style=\"text-align: left;\"><strong>Total threads: </strong> 5</td>\n",
       "                        </tr>\n",
       "                        <tr>\n",
       "                            <td style=\"text-align: left;\">\n",
       "                                <strong>Dashboard: </strong>\n",
       "                                <a href=\"http://127.0.0.1:46309/status\">http://127.0.0.1:46309/status</a>\n",
       "                            </td>\n",
       "                            <td style=\"text-align: left;\">\n",
       "                                <strong>Memory: </strong>\n",
       "                                19.67 GiB\n",
       "                            </td>\n",
       "                        </tr>\n",
       "                        <tr>\n",
       "                            <td style=\"text-align: left;\"><strong>Nanny: </strong> tcp://127.0.0.1:46401</td>\n",
       "                            <td style=\"text-align: left;\"></td>\n",
       "                        </tr>\n",
       "                        <tr>\n",
       "                            <td colspan=\"2\" style=\"text-align: left;\">\n",
       "                                <strong>Local directory: </strong>\n",
       "                                /tank/users/tuchida/dask-worker-space/worker-zj0f1fb6\n",
       "                            </td>\n",
       "                        </tr>\n",
       "                        \n",
       "                        \n",
       "                <tr>\n",
       "                    <td style=\"text-align: left;\">\n",
       "                        <strong>Tasks executing: </strong> 0\n",
       "                    </td>\n",
       "                    <td style=\"text-align: left;\">\n",
       "                        <strong>Tasks in memory: </strong> 0\n",
       "                    </td>\n",
       "                </tr>\n",
       "                <tr>\n",
       "                    <td style=\"text-align: left;\">\n",
       "                        <strong>Tasks ready: </strong> 0\n",
       "                    </td>\n",
       "                    <td style=\"text-align: left;\">\n",
       "                        <strong>Tasks in flight: </strong>0\n",
       "                    </td>\n",
       "                </tr>\n",
       "                <tr>\n",
       "                    <td style=\"text-align: left;\"><strong>CPU usage:</strong> 4.0%</td>\n",
       "                    <td style=\"text-align: left;\">\n",
       "                        <strong>Last seen: </strong>\n",
       "                        Just now\n",
       "                    </td>\n",
       "                </tr>\n",
       "                <tr>\n",
       "                    <td style=\"text-align: left;\">\n",
       "                        <strong>Memory usage: </strong>\n",
       "                        4.50 GiB\n",
       "                    </td>\n",
       "                    <td style=\"text-align: left;\">\n",
       "                        <strong>Spilled bytes: </strong>\n",
       "                        0 B\n",
       "                    </td>\n",
       "                </tr>\n",
       "                <tr>\n",
       "                    <td style=\"text-align: left;\">\n",
       "                        <strong>Read bytes: </strong>\n",
       "                        3.23 MiB\n",
       "                    </td>\n",
       "                    <td style=\"text-align: left;\">\n",
       "                        <strong>Write bytes: </strong>\n",
       "                        587.71 kiB\n",
       "                    </td>\n",
       "                </tr>\n",
       "                \n",
       "                    </table>\n",
       "                </details>\n",
       "                </div>\n",
       "            </div>\n",
       "            \n",
       "            <div style=\"margin-bottom: 20px;\">\n",
       "                <div style=\"width: 24px;\n",
       "                            height: 24px;\n",
       "                            background-color: #DBF5FF;\n",
       "                            border: 3px solid #4CC9FF;\n",
       "                            border-radius: 5px;\n",
       "                            position: absolute;\"> </div>\n",
       "                <div style=\"margin-left: 48px;\">\n",
       "                <details>\n",
       "                    <summary>\n",
       "                        <h4 style=\"margin-bottom: 0px; display: inline;\">Worker: 8</h4>\n",
       "                    </summary>\n",
       "                    <table style=\"width: 100%; text-align: left;\">\n",
       "                        <tr>\n",
       "                            <td style=\"text-align: left;\"><strong>Comm: </strong> tcp://127.0.0.1:37355</td>\n",
       "                            <td style=\"text-align: left;\"><strong>Total threads: </strong> 5</td>\n",
       "                        </tr>\n",
       "                        <tr>\n",
       "                            <td style=\"text-align: left;\">\n",
       "                                <strong>Dashboard: </strong>\n",
       "                                <a href=\"http://127.0.0.1:41959/status\">http://127.0.0.1:41959/status</a>\n",
       "                            </td>\n",
       "                            <td style=\"text-align: left;\">\n",
       "                                <strong>Memory: </strong>\n",
       "                                19.67 GiB\n",
       "                            </td>\n",
       "                        </tr>\n",
       "                        <tr>\n",
       "                            <td style=\"text-align: left;\"><strong>Nanny: </strong> tcp://127.0.0.1:41221</td>\n",
       "                            <td style=\"text-align: left;\"></td>\n",
       "                        </tr>\n",
       "                        <tr>\n",
       "                            <td colspan=\"2\" style=\"text-align: left;\">\n",
       "                                <strong>Local directory: </strong>\n",
       "                                /tank/users/tuchida/dask-worker-space/worker-pyekofg8\n",
       "                            </td>\n",
       "                        </tr>\n",
       "                        \n",
       "                        \n",
       "                <tr>\n",
       "                    <td style=\"text-align: left;\">\n",
       "                        <strong>Tasks executing: </strong> 0\n",
       "                    </td>\n",
       "                    <td style=\"text-align: left;\">\n",
       "                        <strong>Tasks in memory: </strong> 0\n",
       "                    </td>\n",
       "                </tr>\n",
       "                <tr>\n",
       "                    <td style=\"text-align: left;\">\n",
       "                        <strong>Tasks ready: </strong> 0\n",
       "                    </td>\n",
       "                    <td style=\"text-align: left;\">\n",
       "                        <strong>Tasks in flight: </strong>0\n",
       "                    </td>\n",
       "                </tr>\n",
       "                <tr>\n",
       "                    <td style=\"text-align: left;\"><strong>CPU usage:</strong> 2.0%</td>\n",
       "                    <td style=\"text-align: left;\">\n",
       "                        <strong>Last seen: </strong>\n",
       "                        Just now\n",
       "                    </td>\n",
       "                </tr>\n",
       "                <tr>\n",
       "                    <td style=\"text-align: left;\">\n",
       "                        <strong>Memory usage: </strong>\n",
       "                        3.77 GiB\n",
       "                    </td>\n",
       "                    <td style=\"text-align: left;\">\n",
       "                        <strong>Spilled bytes: </strong>\n",
       "                        0 B\n",
       "                    </td>\n",
       "                </tr>\n",
       "                <tr>\n",
       "                    <td style=\"text-align: left;\">\n",
       "                        <strong>Read bytes: </strong>\n",
       "                        9.51 MiB\n",
       "                    </td>\n",
       "                    <td style=\"text-align: left;\">\n",
       "                        <strong>Write bytes: </strong>\n",
       "                        906.39 kiB\n",
       "                    </td>\n",
       "                </tr>\n",
       "                \n",
       "                    </table>\n",
       "                </details>\n",
       "                </div>\n",
       "            </div>\n",
       "            \n",
       "            <div style=\"margin-bottom: 20px;\">\n",
       "                <div style=\"width: 24px;\n",
       "                            height: 24px;\n",
       "                            background-color: #DBF5FF;\n",
       "                            border: 3px solid #4CC9FF;\n",
       "                            border-radius: 5px;\n",
       "                            position: absolute;\"> </div>\n",
       "                <div style=\"margin-left: 48px;\">\n",
       "                <details>\n",
       "                    <summary>\n",
       "                        <h4 style=\"margin-bottom: 0px; display: inline;\">Worker: 9</h4>\n",
       "                    </summary>\n",
       "                    <table style=\"width: 100%; text-align: left;\">\n",
       "                        <tr>\n",
       "                            <td style=\"text-align: left;\"><strong>Comm: </strong> tcp://127.0.0.1:46295</td>\n",
       "                            <td style=\"text-align: left;\"><strong>Total threads: </strong> 5</td>\n",
       "                        </tr>\n",
       "                        <tr>\n",
       "                            <td style=\"text-align: left;\">\n",
       "                                <strong>Dashboard: </strong>\n",
       "                                <a href=\"http://127.0.0.1:34629/status\">http://127.0.0.1:34629/status</a>\n",
       "                            </td>\n",
       "                            <td style=\"text-align: left;\">\n",
       "                                <strong>Memory: </strong>\n",
       "                                19.67 GiB\n",
       "                            </td>\n",
       "                        </tr>\n",
       "                        <tr>\n",
       "                            <td style=\"text-align: left;\"><strong>Nanny: </strong> tcp://127.0.0.1:42031</td>\n",
       "                            <td style=\"text-align: left;\"></td>\n",
       "                        </tr>\n",
       "                        <tr>\n",
       "                            <td colspan=\"2\" style=\"text-align: left;\">\n",
       "                                <strong>Local directory: </strong>\n",
       "                                /tank/users/tuchida/dask-worker-space/worker-trc26qod\n",
       "                            </td>\n",
       "                        </tr>\n",
       "                        \n",
       "                        \n",
       "                <tr>\n",
       "                    <td style=\"text-align: left;\">\n",
       "                        <strong>Tasks executing: </strong> 0\n",
       "                    </td>\n",
       "                    <td style=\"text-align: left;\">\n",
       "                        <strong>Tasks in memory: </strong> 0\n",
       "                    </td>\n",
       "                </tr>\n",
       "                <tr>\n",
       "                    <td style=\"text-align: left;\">\n",
       "                        <strong>Tasks ready: </strong> 0\n",
       "                    </td>\n",
       "                    <td style=\"text-align: left;\">\n",
       "                        <strong>Tasks in flight: </strong>0\n",
       "                    </td>\n",
       "                </tr>\n",
       "                <tr>\n",
       "                    <td style=\"text-align: left;\"><strong>CPU usage:</strong> 4.0%</td>\n",
       "                    <td style=\"text-align: left;\">\n",
       "                        <strong>Last seen: </strong>\n",
       "                        Just now\n",
       "                    </td>\n",
       "                </tr>\n",
       "                <tr>\n",
       "                    <td style=\"text-align: left;\">\n",
       "                        <strong>Memory usage: </strong>\n",
       "                        4.72 GiB\n",
       "                    </td>\n",
       "                    <td style=\"text-align: left;\">\n",
       "                        <strong>Spilled bytes: </strong>\n",
       "                        0 B\n",
       "                    </td>\n",
       "                </tr>\n",
       "                <tr>\n",
       "                    <td style=\"text-align: left;\">\n",
       "                        <strong>Read bytes: </strong>\n",
       "                        3.24 MiB\n",
       "                    </td>\n",
       "                    <td style=\"text-align: left;\">\n",
       "                        <strong>Write bytes: </strong>\n",
       "                        604.73 kiB\n",
       "                    </td>\n",
       "                </tr>\n",
       "                \n",
       "                    </table>\n",
       "                </details>\n",
       "                </div>\n",
       "            </div>\n",
       "            \n",
       "            <div style=\"margin-bottom: 20px;\">\n",
       "                <div style=\"width: 24px;\n",
       "                            height: 24px;\n",
       "                            background-color: #DBF5FF;\n",
       "                            border: 3px solid #4CC9FF;\n",
       "                            border-radius: 5px;\n",
       "                            position: absolute;\"> </div>\n",
       "                <div style=\"margin-left: 48px;\">\n",
       "                <details>\n",
       "                    <summary>\n",
       "                        <h4 style=\"margin-bottom: 0px; display: inline;\">Worker: 10</h4>\n",
       "                    </summary>\n",
       "                    <table style=\"width: 100%; text-align: left;\">\n",
       "                        <tr>\n",
       "                            <td style=\"text-align: left;\"><strong>Comm: </strong> tcp://127.0.0.1:36101</td>\n",
       "                            <td style=\"text-align: left;\"><strong>Total threads: </strong> 5</td>\n",
       "                        </tr>\n",
       "                        <tr>\n",
       "                            <td style=\"text-align: left;\">\n",
       "                                <strong>Dashboard: </strong>\n",
       "                                <a href=\"http://127.0.0.1:34121/status\">http://127.0.0.1:34121/status</a>\n",
       "                            </td>\n",
       "                            <td style=\"text-align: left;\">\n",
       "                                <strong>Memory: </strong>\n",
       "                                19.67 GiB\n",
       "                            </td>\n",
       "                        </tr>\n",
       "                        <tr>\n",
       "                            <td style=\"text-align: left;\"><strong>Nanny: </strong> tcp://127.0.0.1:39843</td>\n",
       "                            <td style=\"text-align: left;\"></td>\n",
       "                        </tr>\n",
       "                        <tr>\n",
       "                            <td colspan=\"2\" style=\"text-align: left;\">\n",
       "                                <strong>Local directory: </strong>\n",
       "                                /tank/users/tuchida/dask-worker-space/worker-qj056yqo\n",
       "                            </td>\n",
       "                        </tr>\n",
       "                        \n",
       "                        \n",
       "                <tr>\n",
       "                    <td style=\"text-align: left;\">\n",
       "                        <strong>Tasks executing: </strong> 0\n",
       "                    </td>\n",
       "                    <td style=\"text-align: left;\">\n",
       "                        <strong>Tasks in memory: </strong> 0\n",
       "                    </td>\n",
       "                </tr>\n",
       "                <tr>\n",
       "                    <td style=\"text-align: left;\">\n",
       "                        <strong>Tasks ready: </strong> 0\n",
       "                    </td>\n",
       "                    <td style=\"text-align: left;\">\n",
       "                        <strong>Tasks in flight: </strong>0\n",
       "                    </td>\n",
       "                </tr>\n",
       "                <tr>\n",
       "                    <td style=\"text-align: left;\"><strong>CPU usage:</strong> 2.0%</td>\n",
       "                    <td style=\"text-align: left;\">\n",
       "                        <strong>Last seen: </strong>\n",
       "                        Just now\n",
       "                    </td>\n",
       "                </tr>\n",
       "                <tr>\n",
       "                    <td style=\"text-align: left;\">\n",
       "                        <strong>Memory usage: </strong>\n",
       "                        4.34 GiB\n",
       "                    </td>\n",
       "                    <td style=\"text-align: left;\">\n",
       "                        <strong>Spilled bytes: </strong>\n",
       "                        0 B\n",
       "                    </td>\n",
       "                </tr>\n",
       "                <tr>\n",
       "                    <td style=\"text-align: left;\">\n",
       "                        <strong>Read bytes: </strong>\n",
       "                        3.24 MiB\n",
       "                    </td>\n",
       "                    <td style=\"text-align: left;\">\n",
       "                        <strong>Write bytes: </strong>\n",
       "                        584.21 kiB\n",
       "                    </td>\n",
       "                </tr>\n",
       "                \n",
       "                    </table>\n",
       "                </details>\n",
       "                </div>\n",
       "            </div>\n",
       "            \n",
       "            <div style=\"margin-bottom: 20px;\">\n",
       "                <div style=\"width: 24px;\n",
       "                            height: 24px;\n",
       "                            background-color: #DBF5FF;\n",
       "                            border: 3px solid #4CC9FF;\n",
       "                            border-radius: 5px;\n",
       "                            position: absolute;\"> </div>\n",
       "                <div style=\"margin-left: 48px;\">\n",
       "                <details>\n",
       "                    <summary>\n",
       "                        <h4 style=\"margin-bottom: 0px; display: inline;\">Worker: 11</h4>\n",
       "                    </summary>\n",
       "                    <table style=\"width: 100%; text-align: left;\">\n",
       "                        <tr>\n",
       "                            <td style=\"text-align: left;\"><strong>Comm: </strong> tcp://127.0.0.1:34923</td>\n",
       "                            <td style=\"text-align: left;\"><strong>Total threads: </strong> 5</td>\n",
       "                        </tr>\n",
       "                        <tr>\n",
       "                            <td style=\"text-align: left;\">\n",
       "                                <strong>Dashboard: </strong>\n",
       "                                <a href=\"http://127.0.0.1:35683/status\">http://127.0.0.1:35683/status</a>\n",
       "                            </td>\n",
       "                            <td style=\"text-align: left;\">\n",
       "                                <strong>Memory: </strong>\n",
       "                                19.67 GiB\n",
       "                            </td>\n",
       "                        </tr>\n",
       "                        <tr>\n",
       "                            <td style=\"text-align: left;\"><strong>Nanny: </strong> tcp://127.0.0.1:43027</td>\n",
       "                            <td style=\"text-align: left;\"></td>\n",
       "                        </tr>\n",
       "                        <tr>\n",
       "                            <td colspan=\"2\" style=\"text-align: left;\">\n",
       "                                <strong>Local directory: </strong>\n",
       "                                /tank/users/tuchida/dask-worker-space/worker-l319fk06\n",
       "                            </td>\n",
       "                        </tr>\n",
       "                        \n",
       "                        \n",
       "                <tr>\n",
       "                    <td style=\"text-align: left;\">\n",
       "                        <strong>Tasks executing: </strong> 0\n",
       "                    </td>\n",
       "                    <td style=\"text-align: left;\">\n",
       "                        <strong>Tasks in memory: </strong> 0\n",
       "                    </td>\n",
       "                </tr>\n",
       "                <tr>\n",
       "                    <td style=\"text-align: left;\">\n",
       "                        <strong>Tasks ready: </strong> 0\n",
       "                    </td>\n",
       "                    <td style=\"text-align: left;\">\n",
       "                        <strong>Tasks in flight: </strong>0\n",
       "                    </td>\n",
       "                </tr>\n",
       "                <tr>\n",
       "                    <td style=\"text-align: left;\"><strong>CPU usage:</strong> 4.0%</td>\n",
       "                    <td style=\"text-align: left;\">\n",
       "                        <strong>Last seen: </strong>\n",
       "                        Just now\n",
       "                    </td>\n",
       "                </tr>\n",
       "                <tr>\n",
       "                    <td style=\"text-align: left;\">\n",
       "                        <strong>Memory usage: </strong>\n",
       "                        3.37 GiB\n",
       "                    </td>\n",
       "                    <td style=\"text-align: left;\">\n",
       "                        <strong>Spilled bytes: </strong>\n",
       "                        0 B\n",
       "                    </td>\n",
       "                </tr>\n",
       "                <tr>\n",
       "                    <td style=\"text-align: left;\">\n",
       "                        <strong>Read bytes: </strong>\n",
       "                        3.23 MiB\n",
       "                    </td>\n",
       "                    <td style=\"text-align: left;\">\n",
       "                        <strong>Write bytes: </strong>\n",
       "                        579.58 kiB\n",
       "                    </td>\n",
       "                </tr>\n",
       "                \n",
       "                    </table>\n",
       "                </details>\n",
       "                </div>\n",
       "            </div>\n",
       "            \n",
       "            <div style=\"margin-bottom: 20px;\">\n",
       "                <div style=\"width: 24px;\n",
       "                            height: 24px;\n",
       "                            background-color: #DBF5FF;\n",
       "                            border: 3px solid #4CC9FF;\n",
       "                            border-radius: 5px;\n",
       "                            position: absolute;\"> </div>\n",
       "                <div style=\"margin-left: 48px;\">\n",
       "                <details>\n",
       "                    <summary>\n",
       "                        <h4 style=\"margin-bottom: 0px; display: inline;\">Worker: 12</h4>\n",
       "                    </summary>\n",
       "                    <table style=\"width: 100%; text-align: left;\">\n",
       "                        <tr>\n",
       "                            <td style=\"text-align: left;\"><strong>Comm: </strong> tcp://127.0.0.1:44295</td>\n",
       "                            <td style=\"text-align: left;\"><strong>Total threads: </strong> 5</td>\n",
       "                        </tr>\n",
       "                        <tr>\n",
       "                            <td style=\"text-align: left;\">\n",
       "                                <strong>Dashboard: </strong>\n",
       "                                <a href=\"http://127.0.0.1:40833/status\">http://127.0.0.1:40833/status</a>\n",
       "                            </td>\n",
       "                            <td style=\"text-align: left;\">\n",
       "                                <strong>Memory: </strong>\n",
       "                                19.67 GiB\n",
       "                            </td>\n",
       "                        </tr>\n",
       "                        <tr>\n",
       "                            <td style=\"text-align: left;\"><strong>Nanny: </strong> tcp://127.0.0.1:42415</td>\n",
       "                            <td style=\"text-align: left;\"></td>\n",
       "                        </tr>\n",
       "                        <tr>\n",
       "                            <td colspan=\"2\" style=\"text-align: left;\">\n",
       "                                <strong>Local directory: </strong>\n",
       "                                /tank/users/tuchida/dask-worker-space/worker-udvkm1gt\n",
       "                            </td>\n",
       "                        </tr>\n",
       "                        \n",
       "                        \n",
       "                <tr>\n",
       "                    <td style=\"text-align: left;\">\n",
       "                        <strong>Tasks executing: </strong> 0\n",
       "                    </td>\n",
       "                    <td style=\"text-align: left;\">\n",
       "                        <strong>Tasks in memory: </strong> 0\n",
       "                    </td>\n",
       "                </tr>\n",
       "                <tr>\n",
       "                    <td style=\"text-align: left;\">\n",
       "                        <strong>Tasks ready: </strong> 0\n",
       "                    </td>\n",
       "                    <td style=\"text-align: left;\">\n",
       "                        <strong>Tasks in flight: </strong>0\n",
       "                    </td>\n",
       "                </tr>\n",
       "                <tr>\n",
       "                    <td style=\"text-align: left;\"><strong>CPU usage:</strong> 2.0%</td>\n",
       "                    <td style=\"text-align: left;\">\n",
       "                        <strong>Last seen: </strong>\n",
       "                        Just now\n",
       "                    </td>\n",
       "                </tr>\n",
       "                <tr>\n",
       "                    <td style=\"text-align: left;\">\n",
       "                        <strong>Memory usage: </strong>\n",
       "                        4.70 GiB\n",
       "                    </td>\n",
       "                    <td style=\"text-align: left;\">\n",
       "                        <strong>Spilled bytes: </strong>\n",
       "                        0 B\n",
       "                    </td>\n",
       "                </tr>\n",
       "                <tr>\n",
       "                    <td style=\"text-align: left;\">\n",
       "                        <strong>Read bytes: </strong>\n",
       "                        3.24 MiB\n",
       "                    </td>\n",
       "                    <td style=\"text-align: left;\">\n",
       "                        <strong>Write bytes: </strong>\n",
       "                        595.17 kiB\n",
       "                    </td>\n",
       "                </tr>\n",
       "                \n",
       "                    </table>\n",
       "                </details>\n",
       "                </div>\n",
       "            </div>\n",
       "            \n",
       "            <div style=\"margin-bottom: 20px;\">\n",
       "                <div style=\"width: 24px;\n",
       "                            height: 24px;\n",
       "                            background-color: #DBF5FF;\n",
       "                            border: 3px solid #4CC9FF;\n",
       "                            border-radius: 5px;\n",
       "                            position: absolute;\"> </div>\n",
       "                <div style=\"margin-left: 48px;\">\n",
       "                <details>\n",
       "                    <summary>\n",
       "                        <h4 style=\"margin-bottom: 0px; display: inline;\">Worker: 13</h4>\n",
       "                    </summary>\n",
       "                    <table style=\"width: 100%; text-align: left;\">\n",
       "                        <tr>\n",
       "                            <td style=\"text-align: left;\"><strong>Comm: </strong> tcp://127.0.0.1:38367</td>\n",
       "                            <td style=\"text-align: left;\"><strong>Total threads: </strong> 5</td>\n",
       "                        </tr>\n",
       "                        <tr>\n",
       "                            <td style=\"text-align: left;\">\n",
       "                                <strong>Dashboard: </strong>\n",
       "                                <a href=\"http://127.0.0.1:42025/status\">http://127.0.0.1:42025/status</a>\n",
       "                            </td>\n",
       "                            <td style=\"text-align: left;\">\n",
       "                                <strong>Memory: </strong>\n",
       "                                19.67 GiB\n",
       "                            </td>\n",
       "                        </tr>\n",
       "                        <tr>\n",
       "                            <td style=\"text-align: left;\"><strong>Nanny: </strong> tcp://127.0.0.1:43845</td>\n",
       "                            <td style=\"text-align: left;\"></td>\n",
       "                        </tr>\n",
       "                        <tr>\n",
       "                            <td colspan=\"2\" style=\"text-align: left;\">\n",
       "                                <strong>Local directory: </strong>\n",
       "                                /tank/users/tuchida/dask-worker-space/worker-46bde6dk\n",
       "                            </td>\n",
       "                        </tr>\n",
       "                        \n",
       "                        \n",
       "                <tr>\n",
       "                    <td style=\"text-align: left;\">\n",
       "                        <strong>Tasks executing: </strong> 0\n",
       "                    </td>\n",
       "                    <td style=\"text-align: left;\">\n",
       "                        <strong>Tasks in memory: </strong> 0\n",
       "                    </td>\n",
       "                </tr>\n",
       "                <tr>\n",
       "                    <td style=\"text-align: left;\">\n",
       "                        <strong>Tasks ready: </strong> 0\n",
       "                    </td>\n",
       "                    <td style=\"text-align: left;\">\n",
       "                        <strong>Tasks in flight: </strong>0\n",
       "                    </td>\n",
       "                </tr>\n",
       "                <tr>\n",
       "                    <td style=\"text-align: left;\"><strong>CPU usage:</strong> 4.0%</td>\n",
       "                    <td style=\"text-align: left;\">\n",
       "                        <strong>Last seen: </strong>\n",
       "                        Just now\n",
       "                    </td>\n",
       "                </tr>\n",
       "                <tr>\n",
       "                    <td style=\"text-align: left;\">\n",
       "                        <strong>Memory usage: </strong>\n",
       "                        5.62 GiB\n",
       "                    </td>\n",
       "                    <td style=\"text-align: left;\">\n",
       "                        <strong>Spilled bytes: </strong>\n",
       "                        0 B\n",
       "                    </td>\n",
       "                </tr>\n",
       "                <tr>\n",
       "                    <td style=\"text-align: left;\">\n",
       "                        <strong>Read bytes: </strong>\n",
       "                        3.23 MiB\n",
       "                    </td>\n",
       "                    <td style=\"text-align: left;\">\n",
       "                        <strong>Write bytes: </strong>\n",
       "                        598.86 kiB\n",
       "                    </td>\n",
       "                </tr>\n",
       "                \n",
       "                    </table>\n",
       "                </details>\n",
       "                </div>\n",
       "            </div>\n",
       "            \n",
       "            </details>\n",
       "        </div>\n",
       "        \n",
       "                </details>\n",
       "                \n",
       "                </div>\n",
       "            </div>\n",
       "        "
      ],
      "text/plain": [
       "<Client: 'tcp://127.0.0.1:45099' processes=12 threads=60, memory=236.08 GiB>"
      ]
     },
     "execution_count": 1,
     "metadata": {},
     "output_type": "execute_result"
    }
   ],
   "source": [
    "from dask.distributed import Client\n",
    "\n",
    "client = Client(\"tcp://127.0.0.1:45099\")\n",
    "client"
   ]
  },
  {
   "cell_type": "code",
   "execution_count": 16,
   "metadata": {},
   "outputs": [
    {
     "name": "stderr",
     "output_type": "stream",
     "text": [
      "distributed.client - ERROR - Restart timed out after 20.00 seconds\n"
     ]
    },
    {
     "data": {
      "text/html": [
       "\n",
       "            <div>\n",
       "                <div style=\"\n",
       "                    width: 24px;\n",
       "                    height: 24px;\n",
       "                    background-color: #e1e1e1;\n",
       "                    border: 3px solid #9D9D9D;\n",
       "                    border-radius: 5px;\n",
       "                    position: absolute;\"> </div>\n",
       "                <div style=\"margin-left: 48px;\">\n",
       "                    <h3 style=\"margin-bottom: 0px;\">Client</h3>\n",
       "                    <p style=\"color: #9D9D9D; margin-bottom: 0px;\">Client-d2cec143-e497-11eb-b257-0cc47a4a18a8</p>\n",
       "                    <table style=\"width: 100%; text-align: left;\">\n",
       "                    \n",
       "                <tr>\n",
       "                    <td style=\"text-align: left;\"><strong>Connection method:</strong> Direct</td>\n",
       "                    <td style=\"text-align: left;\"></td>\n",
       "                </tr>\n",
       "                \n",
       "                <tr>\n",
       "                    <td style=\"text-align: left;\">\n",
       "                        <strong>Dashboard: </strong>\n",
       "                        <a href=\"http://127.0.0.1:8787/status\">http://127.0.0.1:8787/status</a>\n",
       "                    </td>\n",
       "                    <td style=\"text-align: left;\"></td>\n",
       "                </tr>\n",
       "                \n",
       "                    </table>\n",
       "                    \n",
       "                <details>\n",
       "                <summary style=\"margin-bottom: 20px;\"><h3 style=\"display: inline;\">Scheduler Info</h3></summary>\n",
       "                \n",
       "        <div style=\"\">\n",
       "            \n",
       "            <div>\n",
       "                <div style=\"\n",
       "                    width: 24px;\n",
       "                    height: 24px;\n",
       "                    background-color: #FFF7E5;\n",
       "                    border: 3px solid #FF6132;\n",
       "                    border-radius: 5px;\n",
       "                    position: absolute;\"> </div>\n",
       "                <div style=\"margin-left: 48px;\">\n",
       "                    <h3 style=\"margin-bottom: 0px;\">Scheduler</h3>\n",
       "                    <p style=\"color: #9D9D9D; margin-bottom: 0px;\">Scheduler-01bc35cd-41b5-427a-9e1e-e77b42745923</p>\n",
       "                    <table style=\"width: 100%; text-align: left;\">\n",
       "                        <tr>\n",
       "                            <td style=\"text-align: left;\"><strong>Comm:</strong> tcp://127.0.0.1:40629</td>\n",
       "                            <td style=\"text-align: left;\"><strong>Workers:</strong> 0</td>\n",
       "                        </tr>\n",
       "                        <tr>\n",
       "                            <td style=\"text-align: left;\">\n",
       "                                <strong>Dashboard:</strong> <a href=\"http://127.0.0.1:8787/status\">http://127.0.0.1:8787/status</a>\n",
       "                            </td>\n",
       "                            <td style=\"text-align: left;\">\n",
       "                                <strong>Total threads:</strong>\n",
       "                                0\n",
       "                            </td>\n",
       "                        </tr>\n",
       "                        <tr>\n",
       "                            <td style=\"text-align: left;\">\n",
       "                                <strong>Started:</strong>\n",
       "                                7 hours ago\n",
       "                            </td>\n",
       "                            <td style=\"text-align: left;\">\n",
       "                                <strong>Total memory:</strong>\n",
       "                                0 B\n",
       "                            </td>\n",
       "                        </tr>\n",
       "                    </table>\n",
       "                </div>\n",
       "            </div>\n",
       "        \n",
       "            <details style=\"margin-left: 48px;\">\n",
       "            <summary style=\"margin-bottom: 20px;\"><h3 style=\"display: inline;\">Workers</h3></summary>\n",
       "            \n",
       "            </details>\n",
       "        </div>\n",
       "        \n",
       "                </details>\n",
       "                \n",
       "                </div>\n",
       "            </div>\n",
       "        "
      ],
      "text/plain": [
       "<Client: 'tcp://127.0.0.1:40629' processes=0 threads=0, memory=0 B>"
      ]
     },
     "execution_count": 16,
     "metadata": {},
     "output_type": "execute_result"
    }
   ],
   "source": [
    "client.restart()"
   ]
  },
  {
   "cell_type": "code",
   "execution_count": 2,
   "metadata": {},
   "outputs": [],
   "source": [
    "import numpy as np\n",
    "import xarray as xr\n",
    "import pandas as pd\n",
    "from dask.diagnostics import ProgressBar\n",
    "import os.path as op\n",
    "import os\n",
    "# import gc\n",
    "# import h5py\n",
    "import xrft\n",
    "import gsw\n",
    "import time\n",
    "from scipy.interpolate import PchipInterpolator, interp1d\n",
    "from xgcm.grid import Grid\n",
    "from xmitgcm import open_mdsdataset\n",
    "from MITgcmutils import jmd95\n",
    "from fastjmd95 import rho as densjmd95\n",
    "from fastjmd95 import drhods, drhodt\n",
    "import matplotlib.pyplot as plt\n",
    "%matplotlib inline"
   ]
  },
  {
   "cell_type": "code",
   "execution_count": 3,
   "metadata": {},
   "outputs": [],
   "source": [
    "# from xlayers import finegrid, layers\n",
    "# from xlayers.core import layers_numpy, layers_apply"
   ]
  },
  {
   "cell_type": "code",
   "execution_count": 4,
   "metadata": {},
   "outputs": [],
   "source": [
    "ddir = '/tank/chaocean/'\n",
    "# savedir = '/tank/topog/tuchida/TWA/'\n",
    "topog = '/tank/topog/tuchida/TWA/'\n",
    "tdgs = '/tank/tdgs/tuchida/TWA/'"
   ]
  },
  {
   "cell_type": "code",
   "execution_count": 5,
   "metadata": {},
   "outputs": [
    {
     "name": "stdout",
     "output_type": "stream",
     "text": [
      "[20.         20.34783626 20.69475465 21.03984695 21.38222406 21.72102502\n",
      " 22.05542541 22.38464498 22.70795438 23.02468079 23.33421255 23.63600254\n",
      " 23.92957049 24.21450415 24.49045938 24.75715929 25.01439246 25.26201041\n",
      " 25.49992447 25.72810197 25.94656223 26.15537208 26.35464133 26.5445181\n",
      " 26.72518415 26.89685039 27.05975242 27.21414639 27.36030499 27.49851386\n",
      " 27.62906814 27.75226942 27.868423   27.97783536 28.08081204 28.17765574\n",
      " 28.26866467 28.35413122 28.43434077 28.50957077 28.58009001 28.64615804\n",
      " 28.70802471 28.76592996 28.82010358 28.87076516 28.91812416 28.96237991\n",
      " 29.00372184 29.04232966 29.0783736  29.11201471 29.14340512 29.17268843\n",
      " 29.2       ] [19.82602439 20.17397561 20.52146729 20.86758519 21.21142948 21.55212404\n",
      " 21.88882517 22.22072965 22.54708189 22.86718016 23.18038174 23.48610686\n",
      " 23.78384163 24.07313971 24.35362294 24.62498098 24.88696994 25.13941024\n",
      " 25.38218374 25.61523025 25.83854364 26.05216754 26.25619087 26.45074315\n",
      " 26.63598991 26.81212805 26.97938136 27.13799621 27.28823752 27.43038488\n",
      " 27.56472909 27.69156888 27.81120802 27.92395269 28.03010915 28.12998175\n",
      " 28.22387112 28.31207273 28.39487559 28.47256121 28.5454028  28.61366458\n",
      " 28.67760131 28.73745791 28.79346926 28.84586005 28.89484479 28.94062787\n",
      " 28.98340364 29.02335666 29.06066184 29.09548479 29.12798208 29.15830152\n",
      " 29.18658254 29.21295651]\n"
     ]
    }
   ],
   "source": [
    "grav = 9.81\n",
    "nensembs = 5\n",
    "Kh = 20.\n",
    "K4 = 1e10\n",
    "Kr = 1e-5\n",
    "thetaMax = 1e20\n",
    "rhoConst = 9.998e2\n",
    "Cp = 3.994e3\n",
    "ySstart = -15\n",
    "yNstart = 10\n",
    "yend = 50\n",
    "\n",
    "Dsig = 9.2\n",
    "sigmin = 20.\n",
    "nlayers = 55\n",
    "# siglayers = np.linspace(19,48,nlayers)\n",
    "xs, xe = (0,2)\n",
    "tanh1 = np.tanh(np.arange(xs, xe, (xe-xs)/nlayers))\n",
    "amp = (tanh1.max()-tanh1.min())\n",
    "siglayers = (tanh1-tanh1.min())*amp**-1*Dsig + sigmin\n",
    "tanh2 = np.tanh(np.arange(xs-(xe-xs)/(2*nlayers), xe+(xe-xs)/(2*nlayers), (xe-xs)/nlayers))\n",
    "sigp1layers = (tanh2-tanh1.min())*amp**-1*Dsig + sigmin\n",
    "# func = interp1d(range(1,nlayers+1), siglayers, fill_value='extrapolate')\n",
    "# sigp1layers = func(np.arange(.5,nlayers+1.5,1))\n",
    "print(siglayers,sigp1layers)"
   ]
  },
  {
   "cell_type": "code",
   "execution_count": 6,
   "metadata": {},
   "outputs": [],
   "source": [
    "tchunk = 1\n",
    "xchunk = 200\n",
    "ychunk = 200\n",
    "sigchunk = 10\n",
    "dnf = 2160\n",
    "nremap = 140\n",
    "nfile = 73"
   ]
  },
  {
   "cell_type": "code",
   "execution_count": 7,
   "metadata": {},
   "outputs": [],
   "source": [
    "def sound_speed(s,th,p):\n",
    "    \"\"\"\n",
    "    s            : salinity (psu)\n",
    "    th           : potential temperature (deg C, ITS-90)\n",
    "    p            : pressure (dbar)\n",
    "    \"\"\"\n",
    "    th2 = th**2\n",
    "    sqrts = np.sqrt(s)\n",
    "\n",
    "    anum = ( 9.99843699e2 +\n",
    "            th *( 7.35212840 +\n",
    "                 th *(-5.45928211e-2 +\n",
    "                      th * 3.98476704e-4\n",
    "                     )\n",
    "                ) +\n",
    "            s *( 2.96938239 -\n",
    "                th * 7.23268813e-3 +\n",
    "                s * 2.12382341e-3\n",
    "               )\n",
    "           )\n",
    "    aden = (1. +\n",
    "            th *( 7.28606739e-3 +\n",
    "                 th *(-4.60835542e-5 +\n",
    "                      th *( 3.68390573e-7 +\n",
    "                           th * 1.80809186e-10\n",
    "                          )\n",
    "                     )\n",
    "                ) +\n",
    "            s *( 2.14691708e-3 -\n",
    "                th *( 9.27062484e-6 +\n",
    "                     th2 * 1.78343643e-10\n",
    "                    ) +\n",
    "                sqrts *( 4.76534122e-6 +\n",
    "                        th2 * 1.63410736e-9\n",
    "                       )\n",
    "               )\n",
    "           )\n",
    "    \n",
    "#     anum_th =   (      7.352128400 + \n",
    "#                  th *(-1.091856422e-01 + \n",
    "#                  th *  1.195430112e-03) -\n",
    "#                   s *  7.232688130e-03)\n",
    "\n",
    "#     aden_th =   (      7.286067390e-03 +\n",
    "#                  th *(-9.216710840e-05 + \n",
    "#                  th *( 1.105171719e-06 + \n",
    "#                  th *  7.232367440e-10)) +\n",
    "#                   s *(-9.270624840e-06 - \n",
    "#                 th2 *  5.350309290e-10 + \n",
    "#           th *sqrts *  3.268214720e-09))\n",
    "\n",
    "#     anum_s =    (      2.96938239 -\n",
    "#                  th *  7.23268813e-03 +\n",
    "#                   s *  4.24764682e-03)\n",
    "\n",
    "#     aden_s =    (      2.14691708e-03 -\n",
    "#                  th *( 9.27062484e-06 +\n",
    "#                 th2 *  1.78343643e-10) +\n",
    "#               sqrts *( 7.14801183e-06 + \n",
    "#                 th2 *  2.45116104e-09))\n",
    "\n",
    "    anum_p = ( 1.04004591e-2 +\n",
    "              th2 * 1.03970529e-7 +\n",
    "              s * 5.18761880e-6\n",
    "             )\n",
    "    aden_p = 5.30848875e-6 * xr.ones_like(s)\n",
    "\n",
    "#     s = s.where(p!=0.)\n",
    "#     th = th.where(p!=0.) \n",
    "#     th2 = th2.where(p!=0.) \n",
    "#     p = p.where(p!=0.)\n",
    "#     anum = anum.where(p!=0.)\n",
    "#     aden = aden.where(p!=0.)\n",
    "#     anum_p = anum_p.where(p!=0.)\n",
    "#     aden_p = aden_p.where(p!=0.)\n",
    "\n",
    "    pth = p*th\n",
    "    anum = anum + p *( 1.04004591e-2 +\n",
    "                      th2 *  1.03970529e-7 +\n",
    "                      s *  5.18761880e-6 -\n",
    "                      p *( 3.24041825e-8 +\n",
    "                          th2 *  1.23869360e-11\n",
    "                         )\n",
    "                     )\n",
    "    aden = aden + p *( 5.30848875e-6 -\n",
    "                      pth *(th2 *  3.03175128e-16 +\n",
    "                            p *  1.27934137e-17\n",
    "                           )\n",
    "                     )\n",
    "\n",
    "#     anum_s = anum_s +                    p *  5.1876188e-06\n",
    "\n",
    "#     anum_th = anum_th +                pth *( 2.07941058e-07 - \n",
    "#                                          p *  2.47738720e-11)\n",
    "\n",
    "#     aden_th = aden_th -         p *p *(th2 *  9.09525384e-16 +\n",
    "#                                          p *  1.27934137e-17) \n",
    "\n",
    "    anum_p = anum_p - p *( 6.4808365e-8 + th2 * 2.4773872e-11)\n",
    "\n",
    "    aden_p = aden_p - pth *(th2 * 6.06350256e-16 +\n",
    "                            p * 3.83802411e-17)\n",
    "\n",
    "\n",
    "    rec_aden = aden**-1\n",
    "\n",
    "    rho = anum*rec_aden\n",
    "#     rho_s = (anum_s - aden_s*rho)*rec_aden\n",
    "#     rho_th = (anum_th - aden_th*rho)*rec_aden\n",
    "    rho_p = (anum_p - aden_p*rho)*rec_aden\n",
    "    \n",
    "    return np.sqrt(rho_p*1e-4)**-1"
   ]
  },
  {
   "cell_type": "code",
   "execution_count": 15,
   "metadata": {
    "collapsed": true,
    "jupyter": {
     "outputs_hidden": true,
     "source_hidden": true
    }
   },
   "outputs": [
    {
     "name": "stdout",
     "output_type": "stream",
     "text": [
      "Interpolation done. Lapse: 1344.8100290298462\n",
      "943920\n"
     ]
    }
   ],
   "source": [
    "# for itime in range(1101600+dnf,1259280+dnf,dnf):\n",
    "# for itime in range(1043280+dnf,1101600+dnf,dnf):\n",
    "for itime in range(943920,943920+dnf,dnf):\n",
    "    \n",
    "    dsz = xr.open_dataset(op.join(savedir,'%4d/Zs_membs_parallel-%2d_%010d.nc' \n",
    "                                  % (year,nremap,itime)),\n",
    "                          chunks={'nmemb':membchunk,'XC':xchunk,'XG':xchunk,\n",
    "                                  'YC':ychunk,'YG':ychunk}\n",
    "                         )\n",
    "        \n",
    "    grids = Grid(dsz, periodic=['X'], \n",
    "                 coords={'Z':{'center':'sig','outer':'sigp1'},\n",
    "                         'Y':{'center':'YC','left':'YG'},\n",
    "                         'X':{'center':'XC','left':'XG'}}\n",
    "                )\n",
    "    \n",
    "    for nmemb in range(24,36):\n",
    "        if nmemb == 24:\n",
    "            ds = open_mdsdataset(op.join(ddir,'qjamet/RUNS/ORAR/memb%02d/run%4d/ocn/' \n",
    "                                         % (nmemb,year)), \n",
    "                                grid_dir=op.join(ddir,'grid_chaO/gridMIT_update1/'),\n",
    "                                prefix=['diag_ocnSnap',\n",
    "                                        'diag_Tbgt2D','diag_Tbgt3D',\n",
    "                                        'diag_Sbgt2D','diag_Sbgt3D'], \n",
    "                                delta_t=2e2, iters=itime, \n",
    "                                chunks={'XC':xchunk,'XG':xchunk}\n",
    "                                ).isel(time=-1)\n",
    "        else:\n",
    "            ds = xr.concat([ds, open_mdsdataset(op.join(ddir,\n",
    "                                                        'qjamet/RUNS/ORAR/memb%02d/run%4d/ocn/' \n",
    "                                                        % (nmemb,year)), \n",
    "                                                grid_dir=op.join(ddir,\n",
    "                                                                 'grid_chaO/gridMIT_update1/'),\n",
    "                                                prefix=['diag_ocnSnap',\n",
    "                                                        'diag_Tbgt2D','diag_Tbgt3D',\n",
    "                                                        'diag_Sbgt2D','diag_Sbgt3D'], \n",
    "                                                delta_t=2e2, iters=itime, \n",
    "                                                chunks={'XC':xchunk,'XG':xchunk}\n",
    "                                               ).isel(time=-1)],\n",
    "                            dim='nmemb')\n",
    "    ds.coords['nmemb'] = ('nmemb',np.arange(0,12,1))\n",
    "    \n",
    "#     cs = xr.apply_ufunc(sound_speed, \n",
    "#                         ds.SALT.sel(YC=slice(yNstart-12**-1,yend+2*12**-1)), \n",
    "#                         ds.THETA.sel(YC=slice(yNstart-12**-1,yend+2*12**-1)), \n",
    "#                         -grav*ds.Z*rhoConst*1e-4,             # pressure in [dbar]!!!!\n",
    "#                         dask='parallelized', output_dtypes=[float,]\n",
    "#                        ).where(ds.maskC!=0.).compute().chunk({'nmemb':membchunk,\n",
    "#                                                               'XC':xchunk,'YC':ychunk})\n",
    "    cs = sound_speed(ds.SALT.sel(YC=slice(yNstart-12**-1,yend+2*12**-1)), \n",
    "                     ds.THETA.sel(YC=slice(yNstart-12**-1,yend+2*12**-1)), \n",
    "                     -grav*ds.Z*rhoConst*1e-4\n",
    "                    ).where(ds.maskC!=0.)\n",
    "    rho_s = xr.apply_ufunc(drhods, \n",
    "                           ds.SALT.sel(YC=slice(yNstart-12**-1,yend+2*12**-1)), \n",
    "                           ds.THETA.sel(YC=slice(yNstart-12**-1,yend+2*12**-1)),\n",
    "                           -grav*ds.Z*rhoConst*1e-4,             # pressure in [dbar]!!!!\n",
    "                           dask='parallelized', output_dtypes=[float,]\n",
    "                          ).where(ds.maskC!=0.)\n",
    "    rho_th = xr.apply_ufunc(drhodt, \n",
    "                            ds.SALT.sel(YC=slice(yNstart-12**-1,yend+2*12**-1)), \n",
    "                            ds.THETA.sel(YC=slice(yNstart-12**-1,yend+2*12**-1)),\n",
    "                            -grav*ds.Z*rhoConst*1e-4,             # pressure in [dbar]!!!!\n",
    "                            dask='parallelized', output_dtypes=[float,]\n",
    "                           ).where(ds.maskC!=0.)\n",
    "            \n",
    "    fine_drf = np.squeeze(ds.drF.sel(Z=slice(None,None)))\n",
    "    fine_drc = np.squeeze(ds.drC.sel(Zp1=slice(None,None)))\n",
    "#     drf_finer,mapindex,mapfact,cellindex = finegrid.finegrid(fine_drf, fine_drc, nremap)\n",
    "    \n",
    "    grid = Grid(ds, periodic=['X'])\n",
    "    \n",
    "#################################\n",
    "#     rho_insitu = xr.apply_ufunc(jmd95.densjmd95, \n",
    "#                                 ds.SALT.sel(YC=slice(yNstart-12**-1,yend+2*12**-1)), \n",
    "#                                 ds.THETA.sel(YC=slice(yNstart-12**-1,yend+2*12**-1)),\n",
    "# #                                 (ds.PHIHYD.sel(YC=slice(ySstart-12**-1,yend+2*12**-1))\n",
    "#                                 -grav*ds.Z*rhoConst*1e-4, # pressure in [dbar]!!!!\n",
    "#                                 dask='parallelized', output_dtypes=[float,]\n",
    "#                                ).where(ds.maskC!=0.).compute().chunk({'nmemb':membchunk,\n",
    "#                                                                       'XC':xchunk,'YC':ychunk}\n",
    "#                                                                     )\n",
    "    \n",
    "#     rhox = xr.apply_ufunc(jmd95.densjmd95, \n",
    "#                           grid.interp(ds.SALT,'X').sel(YC=slice(yNstart-12**-1,\n",
    "#                                                                 yend+2*12**-1)), \n",
    "#                           grid.interp(ds.THETA,'X').sel(YC=slice(yNstart-12**-1,\n",
    "#                                                                  yend+2*12**-1)), \n",
    "# #                           (grid.interp(ds.PHIHYD,'X').sel(YC=slice(ySstart-12**-1,\n",
    "# #                                                                    yend+2*12**-1))\n",
    "#                           -grav*ds.Z*rhoConst*1e-4, \n",
    "#                           dask='parallelized', output_dtypes=[float,]\n",
    "#                          ).where(ds.maskW!=0.).compute().chunk({'nmemb':membchunk,\n",
    "#                                                                 'XG':xchunk,'YC':ychunk})\n",
    "    \n",
    "#     rhoy = xr.apply_ufunc(jmd95.densjmd95, \n",
    "#                           grid.interp(ds.SALT,'Y',boundary='fill'\n",
    "#                                      ).sel(YG=slice(yNstart-12**-1,yend+2*12**-1)), \n",
    "#                           grid.interp(ds.THETA,'Y',boundary='fill'\n",
    "#                                      ).sel(YG=slice(yNstart-12**-1,yend+2*12**-1)), \n",
    "# #                           (grid.interp(ds.PHIHYD,'Y',boundary='fill'\n",
    "# #                                       ).sel(YG=slice(ySstart-12**-1,yend+2*12**-1))\n",
    "#                           -grav*ds.Z*rhoConst*1e-4,\n",
    "#                           dask='parallelized', output_dtypes=[float,]\n",
    "#                          ).where(ds.maskS!=0.).compute().chunk({'nmemb':membchunk,\n",
    "#                                                                 'XC':xchunk,'YG':ychunk})\n",
    "\n",
    "    rho_insitu = xr.apply_ufunc(densjmd95, \n",
    "                                ds.SALT.sel(YC=slice(yNstart-12**-1,yend+2*12**-1)), \n",
    "                                ds.THETA.sel(YC=slice(yNstart-12**-1,yend+2*12**-1)),\n",
    "                                -grav*ds.Z*rhoConst*1e-4,             # pressure in [dbar]!!!!\n",
    "                                dask='parallelized', output_dtypes=[float,]\n",
    "                               ).where(ds.maskC!=0.).compute().chunk({'nmemb':membchunk,\n",
    "                                                                      'XC':xchunk,'YC':ychunk})\n",
    "    rhox = xr.apply_ufunc(densjmd95, \n",
    "                          grid.interp(ds.SALT,'X').sel(YC=slice(yNstart-12**-1,yend+2*12**-1)), \n",
    "                          grid.interp(ds.THETA,'X').sel(YC=slice(yNstart-12**-1,yend+2*12**-1)), \n",
    "                          -grav*ds.Z*rhoConst*1e-4, \n",
    "                          dask='parallelized', output_dtypes=[float,]\n",
    "                         ).where(ds.maskW!=0.).compute().chunk({'nmemb':membchunk,\n",
    "                                                                'XG':xchunk,'YC':ychunk})\n",
    "    rhoy = xr.apply_ufunc(densjmd95, \n",
    "                          grid.interp(ds.SALT,'Y',boundary='fill'\n",
    "                                     ).sel(YG=slice(yNstart-12**-1,yend+2*12**-1)), \n",
    "                          grid.interp(ds.THETA,'Y',boundary='fill'\n",
    "                                     ).sel(YG=slice(yNstart-12**-1,yend+2*12**-1)), \n",
    "                          -grav*ds.Z*rhoConst*1e-4,\n",
    "                          dask='parallelized', output_dtypes=[float,]\n",
    "                         ).where(ds.maskS!=0.).compute().chunk({'nmemb':membchunk,\n",
    "                                                                'XC':xchunk,'YG':ychunk})\n",
    "    \n",
    "########################################\n",
    "# #     dpdx = (grid.diff(ds.PHIHYD.where(ds.maskC!=0.) * grid.interp(ds.dyG,'X'),\n",
    "# #                       'X'\n",
    "# #                      ) * ds.rAw**-1\n",
    "# #            ).where(ds.maskW!=0.)\n",
    "# #     dpdy = (grid.diff(ds.PHIHYD.where(ds.maskC!=0.) \n",
    "# #                       * grid.interp(ds.dxG,'Y',boundary='fill'),\n",
    "# #                       'Y',boundary='fill'\n",
    "# #                      ) * ds.rAs**-1\n",
    "# #            ).where(ds.maskS!=0.)\n",
    "    dpdx = (grid.diff(ds.PHIHYD.where(ds.maskC!=0.),'X') \n",
    "            * ds.dxC**-1\n",
    "           ).where(ds.maskW!=0.)\n",
    "    dpdy = (grid.diff(ds.PHIHYD.where(ds.maskC!=0.),'Y',boundary='fill') \n",
    "            * ds.dyC**-1\n",
    "           ).where(ds.maskS!=0.)\n",
    "# #     dpdx.coords['nmemb'] = ('nmemb',ds.nmemb.data)\n",
    "# #     dpdy.coords['nmemb'] = ('nmemb',ds.nmemb.data)\n",
    "    \n",
    "########################################\n",
    "    swfrac = .62 * np.exp(ds.Zl/.6) + (1-.62) * np.exp(ds.Zl/20.)\n",
    "    swfrac1 = (.62 * np.exp(ds.Zl.shift(Zl=-1)/.6) + (1-.62) \n",
    "               * np.exp(ds.Zl.shift(Zl=-1)/20.))\n",
    "    Qsw = (ds.oceQsw / (rhoConst*Cp) / (ds.drF*ds.hFacC) \n",
    "           * (swfrac - swfrac1).data\n",
    "          ).where(ds.maskC!=0.)\n",
    "    Tflx = ((ds.TFLUX - ds.oceQsw) \n",
    "            / (rhoConst*Cp*ds.drF[0]*ds.hFacC.isel(Z=0))\n",
    "           ).where(ds.maskInC!=0.)\n",
    "    tsurf_corr = 0.                  # linFSConverveTr = F.\n",
    "    Surf_corr = (tsurf_corr - ds.WTHMASS[:,0].where(ds.maskInC!=0.)\n",
    "                ) / (ds.drF[0]*ds.hFacC.isel(Z=0))\n",
    "#     DibaT = (ds.Diss_TH.where(ds.maskC!=0.) + Qsw).load()\n",
    "#     DibaT.isel(Z=0)[:] += (Tflx + Surf_corr).load()\n",
    "    DibaT = ds.Diss_TH.where(ds.maskC!=0.) + Qsw\n",
    "    DibaT = DibaT + xr.concat([xr.DataArray((Tflx+Surf_corr).data.reshape((len(ds.nmemb),1,\n",
    "                                                                           len(ds.YC),len(ds.XC)\n",
    "                                                                          )),\n",
    "                                            dims=['nmemb','Z','YC','XC'],\n",
    "                                            coords={'nmemb':ds.nmemb.data,\n",
    "                                                    'Z':np.array([ds.Z[0].data]),\n",
    "                                                    'YC':ds.YC.data,'XC':ds.XC.data}),\n",
    "                               xr.zeros_like(ds.Diss_TH.isel(Z=slice(1,None))\n",
    "                                            ).reset_coords(drop=True)],\n",
    "                              dim='Z')\n",
    "\n",
    "########################################\n",
    "    Sflx = (ds.SFLUX \n",
    "            / (rhoConst*ds.drF[0]*ds.hFacC.isel(Z=0))\n",
    "           ).where(ds.maskInC!=0.)\n",
    "    ssurf_corr = 0.                  # linFSConverveTr = F.\n",
    "    Surf_corr = (ssurf_corr - ds.WSLTMASS[:,0].where(ds.maskInC!=0.)\n",
    "                ) / (ds.drF[0]*ds.hFacC.isel(Z=0))\n",
    "#     DibaS = ds.Diss_SLT.where(ds.maskC!=0.).load()\n",
    "#     DibaS.isel(Z=0)[:] += (Sflx + Surf_corr).load()\n",
    "    DibaS = ds.Diss_SLT.where(ds.maskC!=0.)\n",
    "    DibaS = DibaS + xr.concat([xr.DataArray((Sflx+Surf_corr).data.reshape((len(ds.nmemb),1,\n",
    "                                                                           len(ds.YC),len(ds.XC)\n",
    "                                                                          )),\n",
    "                                            dims=['nmemb','Z','YC','XC'],\n",
    "                                            coords={'nmemb':ds.nmemb.data,\n",
    "                                                    'Z':np.array([ds.Z[0].data]),\n",
    "                                                    'YC':ds.YC.data,'XC':ds.XC.data}),\n",
    "                               xr.zeros_like(ds.Diss_SLT.isel(Z=slice(1,None))\n",
    "                                            ).reset_coords(drop=True)],\n",
    "                              dim='Z')\n",
    "    \n",
    "    comp = grid.interp(ds.WVEL,'Z',boundary='fill').chunk({'Z':-1}) * grav**2 * cs**-2\n",
    "    \n",
    "##########################################\n",
    "    start = time.time()    \n",
    "# #     diaTdz = xr.DataArray(np.ones((len(ds.nmemb),\n",
    "# #                                    len(ds.YC.sel(YC=slice(yNstart-12**-1,\n",
    "# #                                                           yend+2*12**-1))),\n",
    "# #                                    len(ds.XC),len(siglayers))),\n",
    "# #                           dims=['nmemb','YC','XC','sig'],\n",
    "# #                           coords={'nmemb':range(len(ds.nmemb),),\n",
    "# #                                   'YC':ds.YC.sel(YC=slice(yNstart-12**-1,\n",
    "# #                                                           yend+2*12**-1)).data,\n",
    "# #                                   'XC':ds.XC.data,'sig':siglayers}\n",
    "# #                          ) * np.nan\n",
    "# #     diaSdz = diaTdz.copy()\n",
    "# #     sdz = diaTdz.copy()\n",
    "# #     tdz = diaTdz.copy()\n",
    "# #     pxdz = xr.DataArray(np.ones((len(ds.nmemb),\n",
    "# #                                  len(ds.YC.sel(YC=slice(yNstart-12**-1,yend+2*12**-1))),\n",
    "# #                                  len(ds.XG),len(siglayers))),\n",
    "# #                         dims=['nmemb','YC','XG','sig'],\n",
    "# #                         coords={'nmemb':range(len(ds.nmemb),),\n",
    "# #                                 'YC':ds.YC.sel(YC=slice(yNstart-12**-1,\n",
    "# #                                                         yend+2*12**-1)).data,\n",
    "# #                                 'XG':ds.XG.data,'sig':siglayers}\n",
    "# #                        ) * np.nan\n",
    "# #     pydz = xr.DataArray(np.ones((len(ds.nmemb),\n",
    "# #                                  len(ds.YG.sel(YG=slice(yNstart-12**-1,yend+2*12**-1))),\n",
    "# #                                  len(ds.XC),len(siglayers))),\n",
    "# #                         dims=['nmemb','YG','XC','sig'],\n",
    "# #                         coords={'nmemb':range(len(ds.nmemb),),\n",
    "# #                                 'YG':ds.YG.sel(YG=slice(yNstart-12**-1,\n",
    "# #                                                         yend+2*12**-1)).data,\n",
    "# #                                 'XC':ds.XC.data,'sig':siglayers}\n",
    "# #                        ) * np.nan\n",
    "# #     udz = pxdz.copy()\n",
    "# #     vdz = pydz.copy()\n",
    "    \n",
    "# #     for tt in range(len(ds.nmemb)):\n",
    "# #         tmp1 = xr.apply_ufunc(layers_numpy, \n",
    "# #                               dpdx.isel(nmemb=tt).sel(YC=slice(yNstart-12**-1,\n",
    "# #                                                                yend+2*12**-1)\n",
    "# #                                                      ).chunk({'XG':xchunk}),\n",
    "# #                               (rhox.isel(nmemb=tt)-rhoConst),\n",
    "# #                               kwargs={'thetalayers':siglayers,'mapfact':mapfact,\n",
    "# #                                       'mapindex':mapindex,'cellindex':cellindex,\n",
    "# #                                       'drf_finer':drf_finer},\n",
    "# #                               dask='parallelized',\n",
    "# #                               input_core_dims=[['Z'],['Z']], \n",
    "# #                               output_core_dims=[['sig']],\n",
    "# #                               output_dtypes=[float,], output_sizes={'sig':siglayers.size}\n",
    "# #                              ).compute()\n",
    "\n",
    "# #         tmp2 = xr.apply_ufunc(layers_numpy, \n",
    "# #                               dpdy.isel(nmemb=tt).sel(YG=slice(yNstart-12**-1,\n",
    "# #                                                                yend+2*12**-1)\n",
    "# #                                                      ).chunk({'YG':ychunk}),\n",
    "# #                               (rhoy.isel(nmemb=tt)-rhoConst),\n",
    "# #                               kwargs={'thetalayers':siglayers,'mapfact':mapfact,\n",
    "# #                                       'mapindex':mapindex,'cellindex':cellindex,\n",
    "# #                                       'drf_finer':drf_finer},\n",
    "# #                               dask='parallelized',\n",
    "# #                               input_core_dims=[['Z'],['Z']], \n",
    "# #                               output_core_dims=[['sig']],\n",
    "# #                               output_dtypes=[float,], output_sizes={'sig':siglayers.size}\n",
    "# #                              ).compute()\n",
    "\n",
    "# #         pxdz[tt] = tmp1.data\n",
    "# #         pydz[tt] = tmp2.data\n",
    "# #         del tmp1, tmp2\n",
    "    pxdz = layers_apply(dpdx.sel(YC=slice(yNstart-12**-1,yend+2*12**-1)\n",
    "                                ).chunk({'nmemb':membchunk,'XG':xchunk}),\n",
    "                        (rhox-rhoConst),\n",
    "                        siglayers, fine_drf, fine_drc, fine_fact=nremap,\n",
    "                        lev_name='Z', Tlev_name='sig').compute()\n",
    "    pydz = layers_apply(dpdy.sel(YG=slice(yNstart-12**-1,yend+2*12**-1)\n",
    "                                ).chunk({'nmemb':membchunk,'YG':ychunk}),\n",
    "                        (rhoy-rhoConst),\n",
    "                        siglayers, fine_drf, fine_drc, fine_fact=nremap,\n",
    "                        lev_name='Z', Tlev_name='sig').compute()\n",
    "        \n",
    "#         tmp3 = xr.apply_ufunc(layers_numpy, \n",
    "#                               DibaT.isel(nmemb=tt).where(ds.maskC!=0.\n",
    "#                                                         ).sel(YC=slice(yNstart-12**-1,\n",
    "#                                                                        yend+2*12**-1)\n",
    "#                                                              ).chunk({'Z':-1,'YC':ychunk,\n",
    "#                                                                       'XC':xchunk}),\n",
    "#                               (rho_insitu.isel(nmemb=tt)-rhoConst),\n",
    "#                               kwargs={'thetalayers':siglayers,'mapfact':mapfact,\n",
    "#                                       'mapindex':mapindex,'cellindex':cellindex,\n",
    "#                                       'drf_finer':drf_finer},\n",
    "#                               dask='parallelized',\n",
    "#                               input_core_dims=[['Z'],['Z']], \n",
    "#                               output_core_dims=[['sig']],\n",
    "#                               output_dtypes=[float,], output_sizes={'sig':siglayers.size}\n",
    "#                              ).compute()\n",
    "\n",
    "#         tmp4 = xr.apply_ufunc(layers_numpy, \n",
    "#                               DibaS.isel(nmemb=tt).where(ds.maskC!=0.\n",
    "#                                                         ).sel(YC=slice(yNstart-12**-1,\n",
    "#                                                                        yend+2*12**-1)\n",
    "#                                                              ).chunk({'Z':-1,'YC':ychunk,\n",
    "#                                                                       'XC':xchunk}),\n",
    "#                               (rho_insitu.isel(nmemb=tt)-rhoConst),\n",
    "#                               kwargs={'thetalayers':siglayers,'mapfact':mapfact,\n",
    "#                                       'mapindex':mapindex,'cellindex':cellindex,\n",
    "#                                       'drf_finer':drf_finer},\n",
    "#                               dask='parallelized',\n",
    "#                               input_core_dims=[['Z'],['Z']], \n",
    "#                               output_core_dims=[['sig']],\n",
    "#                               output_dtypes=[float,], output_sizes={'sig':siglayers.size}\n",
    "#                              ).compute()\n",
    "\n",
    "#         diaTdz[tt] = tmp3.data\n",
    "#         diaSdz[tt] = tmp4.data\n",
    "#         del tmp3, tmp4\n",
    "    diaTdz = layers_apply((rho_th*DibaT).where(ds.maskC!=0.).sel(YC=slice(yNstart-12**-1,\n",
    "                                                                          yend+2*12**-1)\n",
    "                                                                ).chunk({'nmemb':membchunk,'Z':-1,\n",
    "                                                                         'YC':ychunk,'XC':xchunk}),\n",
    "                          (rho_insitu-rhoConst),\n",
    "                          siglayers, fine_drf, fine_drc, fine_fact=nremap,\n",
    "                          lev_name='Z', Tlev_name='sig').compute()\n",
    "    diaSdz = layers_apply((rho_s*DibaS).where(ds.maskC!=0.).sel(YC=slice(yNstart-12**-1,\n",
    "                                                                         yend+2*12**-1)\n",
    "                                                               ).chunk({'nmemb':membchunk,'Z':-1,\n",
    "                                                                        'YC':ychunk,'XC':xchunk}),\n",
    "                          (rho_insitu-rhoConst),\n",
    "                          siglayers, fine_drf, fine_drc, fine_fact=nremap,\n",
    "                          lev_name='Z', Tlev_name='sig').compute()\n",
    "#     drdTdz = layers_apply(rho_th.where(ds.maskC!=0.).sel(YC=slice(yNstart-12**-1,yend+2*12**-1)\n",
    "#                                                         ).chunk({'nmemb':membchunk,\n",
    "#                                                                  'YC':ychunk,'XC':xchunk}),\n",
    "#                           (rho_insitu-rhoConst),\n",
    "#                           siglayers, fine_drf, fine_drc, fine_fact=nremap,\n",
    "#                           lev_name='Z', Tlev_name='sig').compute()\n",
    "#     drdsdz = layers_apply(rho_s.where(ds.maskC!=0.).sel(YC=slice(yNstart-12**-1,yend+2*12**-1)\n",
    "#                                                        ).chunk({'nmemb':membchunk,\n",
    "#                                                                 'YC':ychunk,'XC':xchunk}),\n",
    "#                           (rho_insitu-rhoConst),\n",
    "#                           siglayers, fine_drf, fine_drc, fine_fact=nremap,\n",
    "#                           lev_name='Z', Tlev_name='sig').compute()\n",
    "    cmpdz = layers_apply(comp.where(ds.maskC!=0.).sel(YC=slice(yNstart-12**-1,yend+2*12**-1)\n",
    "                                                     ).chunk({'nmemb':membchunk,\n",
    "                                                              'YC':ychunk,'XC':xchunk}),\n",
    "                         (rho_insitu-rhoConst),\n",
    "                         siglayers, fine_drf, fine_drc, fine_fact=nremap,\n",
    "                         lev_name='Z', Tlev_name='sig').compute()\n",
    "        \n",
    "#         tmp5 = xr.apply_ufunc(layers_numpy, \n",
    "#                               ds.THETA.isel(nmemb=tt).where(ds.maskC!=0.\n",
    "#                                                            ).sel(YC=slice(yNstart-12**-1,\n",
    "#                                                                           yend+2*12**-1)\n",
    "#                                                                 ).chunk({'YC':ychunk,\n",
    "#                                                                          'XC':xchunk}),\n",
    "#                               (rho_insitu.isel(nmemb=tt)-rhoConst),\n",
    "#                               kwargs={'thetalayers':siglayers,'mapfact':mapfact,\n",
    "#                                       'mapindex':mapindex,'cellindex':cellindex,\n",
    "#                                       'drf_finer':drf_finer},\n",
    "#                               dask='parallelized',\n",
    "#                               input_core_dims=[['Z'],['Z']], \n",
    "#                               output_core_dims=[['sig']],\n",
    "#                               output_dtypes=[float,], output_sizes={'sig':siglayers.size}\n",
    "#                              ).compute()\n",
    "\n",
    "#         tmp6 = xr.apply_ufunc(layers_numpy, \n",
    "#                               ds.SALT.isel(nmemb=tt).where(ds.maskC!=0.\n",
    "#                                                           ).sel(YC=slice(yNstart-12**-1,\n",
    "#                                                                          yend+2*12**-1)\n",
    "#                                                                ).chunk({'YC':ychunk,\n",
    "#                                                                         'XC':xchunk}),\n",
    "#                               (rho_insitu.isel(nmemb=tt)-rhoConst),\n",
    "#                               kwargs={'thetalayers':siglayers,'mapfact':mapfact,\n",
    "#                                       'mapindex':mapindex,'cellindex':cellindex,\n",
    "#                                       'drf_finer':drf_finer},\n",
    "#                               dask='parallelized',\n",
    "#                               input_core_dims=[['Z'],['Z']], \n",
    "#                               output_core_dims=[['sig']],\n",
    "#                               output_dtypes=[float,], output_sizes={'sig':siglayers.size}\n",
    "#                              ).compute()\n",
    "\n",
    "#         tdz[tt] = tmp5.data\n",
    "#         sdz[tt] = tmp6.data\n",
    "#         del tmp5, tmp6\n",
    "    tdz = layers_apply(ds.THETA.where(ds.maskC!=0.).sel(YC=slice(yNstart-12**-1,yend+2*12**-1)\n",
    "                                                       ).chunk({'nmemb':membchunk,\n",
    "                                                                'YC':ychunk,'XC':xchunk}),\n",
    "                       (rho_insitu-rhoConst),\n",
    "                       siglayers, fine_drf, fine_drc, fine_fact=nremap,\n",
    "                       lev_name='Z', Tlev_name='sig').compute()\n",
    "    sdz = layers_apply(ds.SALT.where(ds.maskC!=0.).sel(YC=slice(yNstart-12**-1,yend+2*12**-1)\n",
    "                                                      ).chunk({'nmemb':membchunk,\n",
    "                                                               'YC':ychunk,'XC':xchunk}),\n",
    "                       (rho_insitu-rhoConst),\n",
    "                       siglayers, fine_drf, fine_drc, fine_fact=nremap,\n",
    "                       lev_name='Z', Tlev_name='sig').compute()\n",
    "        \n",
    "# #         tmp7 = xr.apply_ufunc(layers_numpy, \n",
    "# #                               ds.UVEL.isel(nmemb=tt).where(ds.maskW!=0.\n",
    "# #                                                           ).sel(YC=slice(yNstart-12**-1,\n",
    "# #                                                                          yend+2*12**-1)\n",
    "# #                                                                ).chunk({'YC':ychunk,\n",
    "# #                                                                         'XG':xchunk}),\n",
    "# #                               (rhox.isel(nmemb=tt)-rhoConst),\n",
    "# #                               kwargs={'thetalayers':siglayers,'mapfact':mapfact,\n",
    "# #                                       'mapindex':mapindex,'cellindex':cellindex,\n",
    "# #                                       'drf_finer':drf_finer},\n",
    "# #                               dask='parallelized',\n",
    "# #                               input_core_dims=[['Z'],['Z']], \n",
    "# #                               output_core_dims=[['sig']],\n",
    "# #                               output_dtypes=[float,], output_sizes={'sig':siglayers.size}\n",
    "# #                              ).compute()\n",
    "\n",
    "# #         tmp8 = xr.apply_ufunc(layers_numpy, \n",
    "# #                               ds.VVEL.isel(nmemb=tt).where(ds.maskS!=0.\n",
    "# #                                                           ).sel(YG=slice(yNstart-12**-1,\n",
    "# #                                                                          yend+2*12**-1)\n",
    "# #                                                                ).chunk({'YG':ychunk,\n",
    "# #                                                                         'XC':xchunk}),\n",
    "# #                               (rhoy.isel(nmemb=tt)-rhoConst),\n",
    "# #                               kwargs={'thetalayers':siglayers,'mapfact':mapfact,\n",
    "# #                                       'mapindex':mapindex,'cellindex':cellindex,\n",
    "# #                                       'drf_finer':drf_finer},\n",
    "# #                               dask='parallelized',\n",
    "# #                               input_core_dims=[['Z'],['Z']], \n",
    "# #                               output_core_dims=[['sig']],\n",
    "# #                               output_dtypes=[float,], output_sizes={'sig':siglayers.size}\n",
    "# #                              ).compute()\n",
    "\n",
    "# #         udz[tt] = tmp7.data\n",
    "# #         vdz[tt] = tmp8.data\n",
    "# #         del tmp7, tmp8\n",
    "    udz = layers_apply(ds.UVEL.where(ds.maskW!=0.).sel(YC=slice(yNstart-12**-1,yend+2*12**-1)\n",
    "                                                      ).chunk({'nmemb':membchunk,\n",
    "                                                               'YC':ychunk,'XG':xchunk}),\n",
    "                       (rhox-rhoConst),\n",
    "                       siglayers, fine_drf, fine_drc, fine_fact=nremap,\n",
    "                       lev_name='Z', Tlev_name='sig').compute()\n",
    "    vdz = layers_apply(ds.VVEL.where(ds.maskS!=0.).sel(YG=slice(yNstart-12**-1,yend+2*12**-1)\n",
    "                                                      ).chunk({'nmemb':membchunk,\n",
    "                                                               'YG':ychunk,'XC':xchunk}),\n",
    "                       (rhoy-rhoConst),\n",
    "                       siglayers, fine_drf, fine_drc, fine_fact=nremap,\n",
    "                       lev_name='Z', Tlev_name='sig').compute()\n",
    "    \n",
    "\n",
    "#     pxdz = pxdz.chunk({'nmemb':membchunk,'sig':sigchunk,'XG':xchunk,'YC':ychunk})\n",
    "#     pydz = pydz.chunk({'nmemb':membchunk,'sig':sigchunk,'XC':xchunk,'YG':ychunk})\n",
    "    diaTdz = diaTdz.chunk({'nmemb':membchunk,'YC':ychunk,'XC':xchunk})\n",
    "    diaSdz = diaSdz.chunk({'nmemb':membchunk,'YC':ychunk,'XC':xchunk})\n",
    "#     drdTdz = drdTdz.chunk({'nmemb':membchunk,'YC':ychunk,'XC':xchunk})\n",
    "#     drdsdz = drdsdz.chunk({'nmemb':membchunk,'YC':ychunk,'XC':xchunk})\n",
    "    cmpdz = cmpdz.chunk({'nmemb':membchunk,'YC':ychunk,'XC':xchunk})\n",
    "#     tdz = tdz.chunk({'nmemb':membchunk,'YC':ychunk,'XC':xchunk})\n",
    "#     sdz = sdz.chunk({'nmemb':membchunk,'YC':ychunk,'XC':xchunk})\n",
    "#     udz = udz.chunk({'nmemb':membchunk,'sig':sigchunk,'XG':xchunk,'YC':ychunk})\n",
    "#     vdz = vdz.chunk({'nmemb':membchunk,'sig':sigchunk,'XC':xchunk,'YG':ychunk})\n",
    "    \n",
    "    del rho_insitu\n",
    "    del rhoy, rhox\n",
    "    end = time.time()\n",
    "    print(\"Interpolation done. Lapse:\", end-start)\n",
    "    \n",
    "    \n",
    "##########################################    \n",
    "    buoyb = -grav * dsz.sig * rhoConst**-1\n",
    "    buoybp1 = -grav * dsz.sigp1 * rhoConst**-1\n",
    "    \n",
    "#     _dT = -grids.diff(tdz.chunk({'nmemb':membchunk,'YC':ychunk,'XC':xchunk})\n",
    "#                       * dsz.dzetaF**-1,\n",
    "#                       'Z',boundary='fill')**-1\n",
    "#     _ds = -grids.diff(sdz.chunk({'nmemb':membchunk,'YC':ychunk,'XC':xchunk})\n",
    "#                       * dsz.dzetaF**-1,\n",
    "#                       'Z',boundary='fill')**-1\n",
    "# #     varpidz = (grids.interp(dbdT,'Z',boundary='fill') * diaTdz\n",
    "# #                + grids.interp(dbds,'Z',boundary='fill') * diaSdz\n",
    "# #               ).compute()\n",
    "#     varpidz_db = (grids.interp(_dT,'Z',boundary='fill') * diaTdz\n",
    "#                   + grids.interp(_ds,'Z',boundary='fill') * diaSdz\n",
    "#                  )\n",
    "#     varpidz = (varpidz_db * -grids.diff(buoybp1,'Z',boundary='fill')\n",
    "#                + cmpdz).compute()\n",
    "    varpidzdr = diaTdz + diaSdz\n",
    "    varpidz = (-varpidzdr * grav*rhoConst**-1 \n",
    "               + cmpdz\n",
    "              ).compute()\n",
    "    \n",
    "    dsave = varpidz.to_dataset(name='varpidz')\n",
    "    dsave.coords['sigp1'] = ('sigp1',sigp1layers)\n",
    "    dsave.to_netcdf(op.join(savedir,'%4d/Varpidz-compressible_membs_parallel-%2d_%010d.nc' \n",
    "                            % (year,nremap,itime)))\n",
    "    dsave.close()\n",
    "#     dsave = varpidz_db.to_dataset(name='varpidz_db')\n",
    "    dsave = vdz.to_dataset(name='vdz')\n",
    "    dsave['udz'] = udz\n",
    "    dsave['tdz'] = tdz\n",
    "    dsave['sdz'] = sdz\n",
    "    dsave['pxdz'] = pxdz\n",
    "    dsave['pydz'] = pydz\n",
    "    dsave.coords['sigp1'] = ('sigp1',sigp1layers)\n",
    "    dsave.to_netcdf(op.join(savedir,'%4d/Dyn_membs_parallel-%2d_%010d.nc' \n",
    "                            % (year,nremap,itime)))\n",
    "    dsave.close()\n",
    "    dsz.close()\n",
    "    ds.close()\n",
    "\n",
    "#     del cs, rho_th, rho_s\n",
    "    del varpidz, tdz, sdz, diaTdz, diaSdz, cmpdz\n",
    "    del vdz, udz, pydz, pxdz\n",
    "#     client.restart()\n",
    "    \n",
    "    print(itime)"
   ]
  },
  {
   "cell_type": "markdown",
   "metadata": {},
   "source": [
    "# Years 2008-2012"
   ]
  },
  {
   "cell_type": "code",
   "execution_count": 7,
   "metadata": {
    "jupyter": {
     "source_hidden": true
    },
    "tags": []
   },
   "outputs": [],
   "source": [
    "# dHT0 = xr.open_dataset(op.join(savedir,'IC_temperature-bias_%2dS-%2dN.nc'\n",
    "#                                % (np.abs(ySstart),yend))).dHT0\n",
    "# dHS0 = xr.open_dataset(op.join(savedir,'IC_salinity-bias_%2dS-%2dN.nc'\n",
    "#                                % (np.abs(ySstart),yend))).dHS0\n",
    "Cs = xr.open_dataset(op.join(savedir,'5Dave/Max_sound-speed.nc')).Cs"
   ]
  },
  {
   "cell_type": "code",
   "execution_count": 12,
   "metadata": {
    "collapsed": true,
    "jupyter": {
     "outputs_hidden": true,
     "source_hidden": true
    },
    "tags": []
   },
   "outputs": [
    {
     "data": {
      "text/plain": [
       "8376480"
      ]
     },
     "execution_count": 12,
     "metadata": {},
     "output_type": "execute_result"
    }
   ],
   "source": [
    "years = np.arange(2008,2013,dtype=int)\n",
    "ntimes = np.arange(7886160,8672400+dnf,dnf).reshape(len(years),nfile)\n",
    "dd = 8\n",
    "yystart = 3\n",
    "ntimes[yystart,dd]"
   ]
  },
  {
   "cell_type": "code",
   "execution_count": 13,
   "metadata": {
    "collapsed": true,
    "jupyter": {
     "outputs_hidden": true,
     "source_hidden": true
    },
    "tags": []
   },
   "outputs": [
    {
     "name": "stderr",
     "output_type": "stream",
     "text": [
      "/tank/users/tuchida/miniconda3/envs/ensemble/lib/python3.7/site-packages/ipykernel_launcher.py:106: FutureWarning: This DataArray contains multi-dimensional coordinates. In the future, these coordinates will be transposed as well unless you specify transpose_coords=False.\n",
      "/tank/users/tuchida/miniconda3/envs/ensemble/lib/python3.7/site-packages/ipykernel_launcher.py:108: FutureWarning: This DataArray contains multi-dimensional coordinates. In the future, these coordinates will be transposed as well unless you specify transpose_coords=False.\n",
      "/tank/users/tuchida/miniconda3/envs/ensemble/lib/python3.7/site-packages/ipykernel_launcher.py:110: FutureWarning: This DataArray contains multi-dimensional coordinates. In the future, these coordinates will be transposed as well unless you specify transpose_coords=False.\n"
     ]
    },
    {
     "name": "stdout",
     "output_type": "stream",
     "text": [
      "Zs saved.\n",
      "Varpi saved.\n",
      "Dyn saved.\n",
      "8376480\n"
     ]
    },
    {
     "name": "stderr",
     "output_type": "stream",
     "text": [
      "/tank/users/tuchida/miniconda3/envs/ensemble/lib/python3.7/site-packages/ipykernel_launcher.py:106: FutureWarning: This DataArray contains multi-dimensional coordinates. In the future, these coordinates will be transposed as well unless you specify transpose_coords=False.\n",
      "/tank/users/tuchida/miniconda3/envs/ensemble/lib/python3.7/site-packages/ipykernel_launcher.py:108: FutureWarning: This DataArray contains multi-dimensional coordinates. In the future, these coordinates will be transposed as well unless you specify transpose_coords=False.\n",
      "/tank/users/tuchida/miniconda3/envs/ensemble/lib/python3.7/site-packages/ipykernel_launcher.py:110: FutureWarning: This DataArray contains multi-dimensional coordinates. In the future, these coordinates will be transposed as well unless you specify transpose_coords=False.\n"
     ]
    },
    {
     "name": "stdout",
     "output_type": "stream",
     "text": [
      "Zs saved.\n",
      "Varpi saved.\n",
      "Dyn saved.\n",
      "8378640\n"
     ]
    },
    {
     "name": "stderr",
     "output_type": "stream",
     "text": [
      "/tank/users/tuchida/miniconda3/envs/ensemble/lib/python3.7/site-packages/ipykernel_launcher.py:106: FutureWarning: This DataArray contains multi-dimensional coordinates. In the future, these coordinates will be transposed as well unless you specify transpose_coords=False.\n",
      "/tank/users/tuchida/miniconda3/envs/ensemble/lib/python3.7/site-packages/ipykernel_launcher.py:108: FutureWarning: This DataArray contains multi-dimensional coordinates. In the future, these coordinates will be transposed as well unless you specify transpose_coords=False.\n",
      "/tank/users/tuchida/miniconda3/envs/ensemble/lib/python3.7/site-packages/ipykernel_launcher.py:110: FutureWarning: This DataArray contains multi-dimensional coordinates. In the future, these coordinates will be transposed as well unless you specify transpose_coords=False.\n"
     ]
    },
    {
     "name": "stdout",
     "output_type": "stream",
     "text": [
      "Zs saved.\n",
      "Varpi saved.\n",
      "Dyn saved.\n",
      "8380800\n"
     ]
    },
    {
     "name": "stderr",
     "output_type": "stream",
     "text": [
      "/tank/users/tuchida/miniconda3/envs/ensemble/lib/python3.7/site-packages/ipykernel_launcher.py:106: FutureWarning: This DataArray contains multi-dimensional coordinates. In the future, these coordinates will be transposed as well unless you specify transpose_coords=False.\n",
      "/tank/users/tuchida/miniconda3/envs/ensemble/lib/python3.7/site-packages/ipykernel_launcher.py:108: FutureWarning: This DataArray contains multi-dimensional coordinates. In the future, these coordinates will be transposed as well unless you specify transpose_coords=False.\n",
      "/tank/users/tuchida/miniconda3/envs/ensemble/lib/python3.7/site-packages/ipykernel_launcher.py:110: FutureWarning: This DataArray contains multi-dimensional coordinates. In the future, these coordinates will be transposed as well unless you specify transpose_coords=False.\n"
     ]
    },
    {
     "name": "stdout",
     "output_type": "stream",
     "text": [
      "Zs saved.\n",
      "Varpi saved.\n",
      "Dyn saved.\n",
      "8382960\n"
     ]
    },
    {
     "name": "stderr",
     "output_type": "stream",
     "text": [
      "/tank/users/tuchida/miniconda3/envs/ensemble/lib/python3.7/site-packages/ipykernel_launcher.py:106: FutureWarning: This DataArray contains multi-dimensional coordinates. In the future, these coordinates will be transposed as well unless you specify transpose_coords=False.\n",
      "/tank/users/tuchida/miniconda3/envs/ensemble/lib/python3.7/site-packages/ipykernel_launcher.py:108: FutureWarning: This DataArray contains multi-dimensional coordinates. In the future, these coordinates will be transposed as well unless you specify transpose_coords=False.\n",
      "/tank/users/tuchida/miniconda3/envs/ensemble/lib/python3.7/site-packages/ipykernel_launcher.py:110: FutureWarning: This DataArray contains multi-dimensional coordinates. In the future, these coordinates will be transposed as well unless you specify transpose_coords=False.\n"
     ]
    },
    {
     "name": "stdout",
     "output_type": "stream",
     "text": [
      "Zs saved.\n",
      "Varpi saved.\n",
      "Dyn saved.\n",
      "8385120\n"
     ]
    },
    {
     "name": "stderr",
     "output_type": "stream",
     "text": [
      "/tank/users/tuchida/miniconda3/envs/ensemble/lib/python3.7/site-packages/ipykernel_launcher.py:106: FutureWarning: This DataArray contains multi-dimensional coordinates. In the future, these coordinates will be transposed as well unless you specify transpose_coords=False.\n",
      "/tank/users/tuchida/miniconda3/envs/ensemble/lib/python3.7/site-packages/ipykernel_launcher.py:108: FutureWarning: This DataArray contains multi-dimensional coordinates. In the future, these coordinates will be transposed as well unless you specify transpose_coords=False.\n",
      "/tank/users/tuchida/miniconda3/envs/ensemble/lib/python3.7/site-packages/ipykernel_launcher.py:110: FutureWarning: This DataArray contains multi-dimensional coordinates. In the future, these coordinates will be transposed as well unless you specify transpose_coords=False.\n"
     ]
    },
    {
     "name": "stdout",
     "output_type": "stream",
     "text": [
      "Zs saved.\n",
      "Varpi saved.\n",
      "Dyn saved.\n",
      "8387280\n"
     ]
    },
    {
     "name": "stderr",
     "output_type": "stream",
     "text": [
      "/tank/users/tuchida/miniconda3/envs/ensemble/lib/python3.7/site-packages/ipykernel_launcher.py:106: FutureWarning: This DataArray contains multi-dimensional coordinates. In the future, these coordinates will be transposed as well unless you specify transpose_coords=False.\n",
      "/tank/users/tuchida/miniconda3/envs/ensemble/lib/python3.7/site-packages/ipykernel_launcher.py:108: FutureWarning: This DataArray contains multi-dimensional coordinates. In the future, these coordinates will be transposed as well unless you specify transpose_coords=False.\n",
      "/tank/users/tuchida/miniconda3/envs/ensemble/lib/python3.7/site-packages/ipykernel_launcher.py:110: FutureWarning: This DataArray contains multi-dimensional coordinates. In the future, these coordinates will be transposed as well unless you specify transpose_coords=False.\n"
     ]
    },
    {
     "name": "stdout",
     "output_type": "stream",
     "text": [
      "Zs saved.\n",
      "Varpi saved.\n",
      "Dyn saved.\n",
      "8389440\n"
     ]
    },
    {
     "name": "stderr",
     "output_type": "stream",
     "text": [
      "/tank/users/tuchida/miniconda3/envs/ensemble/lib/python3.7/site-packages/ipykernel_launcher.py:106: FutureWarning: This DataArray contains multi-dimensional coordinates. In the future, these coordinates will be transposed as well unless you specify transpose_coords=False.\n",
      "/tank/users/tuchida/miniconda3/envs/ensemble/lib/python3.7/site-packages/ipykernel_launcher.py:108: FutureWarning: This DataArray contains multi-dimensional coordinates. In the future, these coordinates will be transposed as well unless you specify transpose_coords=False.\n",
      "/tank/users/tuchida/miniconda3/envs/ensemble/lib/python3.7/site-packages/ipykernel_launcher.py:110: FutureWarning: This DataArray contains multi-dimensional coordinates. In the future, these coordinates will be transposed as well unless you specify transpose_coords=False.\n"
     ]
    },
    {
     "name": "stdout",
     "output_type": "stream",
     "text": [
      "Zs saved.\n",
      "Varpi saved.\n",
      "Dyn saved.\n",
      "8391600\n"
     ]
    },
    {
     "name": "stderr",
     "output_type": "stream",
     "text": [
      "/tank/users/tuchida/miniconda3/envs/ensemble/lib/python3.7/site-packages/ipykernel_launcher.py:106: FutureWarning: This DataArray contains multi-dimensional coordinates. In the future, these coordinates will be transposed as well unless you specify transpose_coords=False.\n",
      "/tank/users/tuchida/miniconda3/envs/ensemble/lib/python3.7/site-packages/ipykernel_launcher.py:108: FutureWarning: This DataArray contains multi-dimensional coordinates. In the future, these coordinates will be transposed as well unless you specify transpose_coords=False.\n",
      "/tank/users/tuchida/miniconda3/envs/ensemble/lib/python3.7/site-packages/ipykernel_launcher.py:110: FutureWarning: This DataArray contains multi-dimensional coordinates. In the future, these coordinates will be transposed as well unless you specify transpose_coords=False.\n"
     ]
    },
    {
     "name": "stdout",
     "output_type": "stream",
     "text": [
      "Zs saved.\n",
      "Varpi saved.\n",
      "Dyn saved.\n",
      "8393760\n"
     ]
    },
    {
     "name": "stderr",
     "output_type": "stream",
     "text": [
      "/tank/users/tuchida/miniconda3/envs/ensemble/lib/python3.7/site-packages/ipykernel_launcher.py:106: FutureWarning: This DataArray contains multi-dimensional coordinates. In the future, these coordinates will be transposed as well unless you specify transpose_coords=False.\n",
      "/tank/users/tuchida/miniconda3/envs/ensemble/lib/python3.7/site-packages/ipykernel_launcher.py:108: FutureWarning: This DataArray contains multi-dimensional coordinates. In the future, these coordinates will be transposed as well unless you specify transpose_coords=False.\n",
      "/tank/users/tuchida/miniconda3/envs/ensemble/lib/python3.7/site-packages/ipykernel_launcher.py:110: FutureWarning: This DataArray contains multi-dimensional coordinates. In the future, these coordinates will be transposed as well unless you specify transpose_coords=False.\n"
     ]
    },
    {
     "name": "stdout",
     "output_type": "stream",
     "text": [
      "Zs saved.\n",
      "Varpi saved.\n",
      "Dyn saved.\n",
      "8395920\n"
     ]
    },
    {
     "name": "stderr",
     "output_type": "stream",
     "text": [
      "/tank/users/tuchida/miniconda3/envs/ensemble/lib/python3.7/site-packages/ipykernel_launcher.py:106: FutureWarning: This DataArray contains multi-dimensional coordinates. In the future, these coordinates will be transposed as well unless you specify transpose_coords=False.\n",
      "/tank/users/tuchida/miniconda3/envs/ensemble/lib/python3.7/site-packages/ipykernel_launcher.py:108: FutureWarning: This DataArray contains multi-dimensional coordinates. In the future, these coordinates will be transposed as well unless you specify transpose_coords=False.\n",
      "/tank/users/tuchida/miniconda3/envs/ensemble/lib/python3.7/site-packages/ipykernel_launcher.py:110: FutureWarning: This DataArray contains multi-dimensional coordinates. In the future, these coordinates will be transposed as well unless you specify transpose_coords=False.\n"
     ]
    },
    {
     "name": "stdout",
     "output_type": "stream",
     "text": [
      "Zs saved.\n",
      "Varpi saved.\n",
      "Dyn saved.\n",
      "8398080\n"
     ]
    },
    {
     "name": "stderr",
     "output_type": "stream",
     "text": [
      "/tank/users/tuchida/miniconda3/envs/ensemble/lib/python3.7/site-packages/ipykernel_launcher.py:106: FutureWarning: This DataArray contains multi-dimensional coordinates. In the future, these coordinates will be transposed as well unless you specify transpose_coords=False.\n",
      "/tank/users/tuchida/miniconda3/envs/ensemble/lib/python3.7/site-packages/ipykernel_launcher.py:108: FutureWarning: This DataArray contains multi-dimensional coordinates. In the future, these coordinates will be transposed as well unless you specify transpose_coords=False.\n",
      "/tank/users/tuchida/miniconda3/envs/ensemble/lib/python3.7/site-packages/ipykernel_launcher.py:110: FutureWarning: This DataArray contains multi-dimensional coordinates. In the future, these coordinates will be transposed as well unless you specify transpose_coords=False.\n"
     ]
    },
    {
     "name": "stdout",
     "output_type": "stream",
     "text": [
      "Zs saved.\n",
      "Varpi saved.\n",
      "Dyn saved.\n",
      "8400240\n"
     ]
    },
    {
     "name": "stderr",
     "output_type": "stream",
     "text": [
      "/tank/users/tuchida/miniconda3/envs/ensemble/lib/python3.7/site-packages/ipykernel_launcher.py:106: FutureWarning: This DataArray contains multi-dimensional coordinates. In the future, these coordinates will be transposed as well unless you specify transpose_coords=False.\n",
      "/tank/users/tuchida/miniconda3/envs/ensemble/lib/python3.7/site-packages/ipykernel_launcher.py:108: FutureWarning: This DataArray contains multi-dimensional coordinates. In the future, these coordinates will be transposed as well unless you specify transpose_coords=False.\n",
      "/tank/users/tuchida/miniconda3/envs/ensemble/lib/python3.7/site-packages/ipykernel_launcher.py:110: FutureWarning: This DataArray contains multi-dimensional coordinates. In the future, these coordinates will be transposed as well unless you specify transpose_coords=False.\n"
     ]
    },
    {
     "name": "stdout",
     "output_type": "stream",
     "text": [
      "Zs saved.\n",
      "Varpi saved.\n",
      "Dyn saved.\n",
      "8402400\n"
     ]
    },
    {
     "name": "stderr",
     "output_type": "stream",
     "text": [
      "/tank/users/tuchida/miniconda3/envs/ensemble/lib/python3.7/site-packages/ipykernel_launcher.py:106: FutureWarning: This DataArray contains multi-dimensional coordinates. In the future, these coordinates will be transposed as well unless you specify transpose_coords=False.\n",
      "/tank/users/tuchida/miniconda3/envs/ensemble/lib/python3.7/site-packages/ipykernel_launcher.py:108: FutureWarning: This DataArray contains multi-dimensional coordinates. In the future, these coordinates will be transposed as well unless you specify transpose_coords=False.\n",
      "/tank/users/tuchida/miniconda3/envs/ensemble/lib/python3.7/site-packages/ipykernel_launcher.py:110: FutureWarning: This DataArray contains multi-dimensional coordinates. In the future, these coordinates will be transposed as well unless you specify transpose_coords=False.\n"
     ]
    },
    {
     "name": "stdout",
     "output_type": "stream",
     "text": [
      "Zs saved.\n",
      "Varpi saved.\n",
      "Dyn saved.\n",
      "8404560\n"
     ]
    },
    {
     "name": "stderr",
     "output_type": "stream",
     "text": [
      "/tank/users/tuchida/miniconda3/envs/ensemble/lib/python3.7/site-packages/ipykernel_launcher.py:106: FutureWarning: This DataArray contains multi-dimensional coordinates. In the future, these coordinates will be transposed as well unless you specify transpose_coords=False.\n",
      "/tank/users/tuchida/miniconda3/envs/ensemble/lib/python3.7/site-packages/ipykernel_launcher.py:108: FutureWarning: This DataArray contains multi-dimensional coordinates. In the future, these coordinates will be transposed as well unless you specify transpose_coords=False.\n",
      "/tank/users/tuchida/miniconda3/envs/ensemble/lib/python3.7/site-packages/ipykernel_launcher.py:110: FutureWarning: This DataArray contains multi-dimensional coordinates. In the future, these coordinates will be transposed as well unless you specify transpose_coords=False.\n"
     ]
    },
    {
     "name": "stdout",
     "output_type": "stream",
     "text": [
      "Zs saved.\n",
      "Varpi saved.\n",
      "Dyn saved.\n",
      "8406720\n"
     ]
    },
    {
     "name": "stderr",
     "output_type": "stream",
     "text": [
      "/tank/users/tuchida/miniconda3/envs/ensemble/lib/python3.7/site-packages/ipykernel_launcher.py:106: FutureWarning: This DataArray contains multi-dimensional coordinates. In the future, these coordinates will be transposed as well unless you specify transpose_coords=False.\n",
      "/tank/users/tuchida/miniconda3/envs/ensemble/lib/python3.7/site-packages/ipykernel_launcher.py:108: FutureWarning: This DataArray contains multi-dimensional coordinates. In the future, these coordinates will be transposed as well unless you specify transpose_coords=False.\n",
      "/tank/users/tuchida/miniconda3/envs/ensemble/lib/python3.7/site-packages/ipykernel_launcher.py:110: FutureWarning: This DataArray contains multi-dimensional coordinates. In the future, these coordinates will be transposed as well unless you specify transpose_coords=False.\n"
     ]
    },
    {
     "name": "stdout",
     "output_type": "stream",
     "text": [
      "Zs saved.\n",
      "Varpi saved.\n",
      "Dyn saved.\n",
      "8408880\n"
     ]
    },
    {
     "name": "stderr",
     "output_type": "stream",
     "text": [
      "/tank/users/tuchida/miniconda3/envs/ensemble/lib/python3.7/site-packages/ipykernel_launcher.py:106: FutureWarning: This DataArray contains multi-dimensional coordinates. In the future, these coordinates will be transposed as well unless you specify transpose_coords=False.\n",
      "/tank/users/tuchida/miniconda3/envs/ensemble/lib/python3.7/site-packages/ipykernel_launcher.py:108: FutureWarning: This DataArray contains multi-dimensional coordinates. In the future, these coordinates will be transposed as well unless you specify transpose_coords=False.\n",
      "/tank/users/tuchida/miniconda3/envs/ensemble/lib/python3.7/site-packages/ipykernel_launcher.py:110: FutureWarning: This DataArray contains multi-dimensional coordinates. In the future, these coordinates will be transposed as well unless you specify transpose_coords=False.\n"
     ]
    },
    {
     "name": "stdout",
     "output_type": "stream",
     "text": [
      "Zs saved.\n",
      "Varpi saved.\n",
      "Dyn saved.\n",
      "8411040\n"
     ]
    },
    {
     "name": "stderr",
     "output_type": "stream",
     "text": [
      "/tank/users/tuchida/miniconda3/envs/ensemble/lib/python3.7/site-packages/ipykernel_launcher.py:106: FutureWarning: This DataArray contains multi-dimensional coordinates. In the future, these coordinates will be transposed as well unless you specify transpose_coords=False.\n",
      "/tank/users/tuchida/miniconda3/envs/ensemble/lib/python3.7/site-packages/ipykernel_launcher.py:108: FutureWarning: This DataArray contains multi-dimensional coordinates. In the future, these coordinates will be transposed as well unless you specify transpose_coords=False.\n",
      "/tank/users/tuchida/miniconda3/envs/ensemble/lib/python3.7/site-packages/ipykernel_launcher.py:110: FutureWarning: This DataArray contains multi-dimensional coordinates. In the future, these coordinates will be transposed as well unless you specify transpose_coords=False.\n"
     ]
    },
    {
     "name": "stdout",
     "output_type": "stream",
     "text": [
      "Zs saved.\n",
      "Varpi saved.\n",
      "Dyn saved.\n",
      "8413200\n"
     ]
    },
    {
     "name": "stderr",
     "output_type": "stream",
     "text": [
      "/tank/users/tuchida/miniconda3/envs/ensemble/lib/python3.7/site-packages/ipykernel_launcher.py:106: FutureWarning: This DataArray contains multi-dimensional coordinates. In the future, these coordinates will be transposed as well unless you specify transpose_coords=False.\n",
      "/tank/users/tuchida/miniconda3/envs/ensemble/lib/python3.7/site-packages/ipykernel_launcher.py:108: FutureWarning: This DataArray contains multi-dimensional coordinates. In the future, these coordinates will be transposed as well unless you specify transpose_coords=False.\n",
      "/tank/users/tuchida/miniconda3/envs/ensemble/lib/python3.7/site-packages/ipykernel_launcher.py:110: FutureWarning: This DataArray contains multi-dimensional coordinates. In the future, these coordinates will be transposed as well unless you specify transpose_coords=False.\n"
     ]
    },
    {
     "name": "stdout",
     "output_type": "stream",
     "text": [
      "Zs saved.\n",
      "Varpi saved.\n",
      "Dyn saved.\n",
      "8415360\n"
     ]
    },
    {
     "name": "stderr",
     "output_type": "stream",
     "text": [
      "/tank/users/tuchida/miniconda3/envs/ensemble/lib/python3.7/site-packages/ipykernel_launcher.py:106: FutureWarning: This DataArray contains multi-dimensional coordinates. In the future, these coordinates will be transposed as well unless you specify transpose_coords=False.\n",
      "/tank/users/tuchida/miniconda3/envs/ensemble/lib/python3.7/site-packages/ipykernel_launcher.py:108: FutureWarning: This DataArray contains multi-dimensional coordinates. In the future, these coordinates will be transposed as well unless you specify transpose_coords=False.\n",
      "/tank/users/tuchida/miniconda3/envs/ensemble/lib/python3.7/site-packages/ipykernel_launcher.py:110: FutureWarning: This DataArray contains multi-dimensional coordinates. In the future, these coordinates will be transposed as well unless you specify transpose_coords=False.\n"
     ]
    },
    {
     "name": "stdout",
     "output_type": "stream",
     "text": [
      "Zs saved.\n",
      "Varpi saved.\n",
      "Dyn saved.\n",
      "8417520\n"
     ]
    },
    {
     "name": "stderr",
     "output_type": "stream",
     "text": [
      "/tank/users/tuchida/miniconda3/envs/ensemble/lib/python3.7/site-packages/ipykernel_launcher.py:106: FutureWarning: This DataArray contains multi-dimensional coordinates. In the future, these coordinates will be transposed as well unless you specify transpose_coords=False.\n",
      "/tank/users/tuchida/miniconda3/envs/ensemble/lib/python3.7/site-packages/ipykernel_launcher.py:108: FutureWarning: This DataArray contains multi-dimensional coordinates. In the future, these coordinates will be transposed as well unless you specify transpose_coords=False.\n",
      "/tank/users/tuchida/miniconda3/envs/ensemble/lib/python3.7/site-packages/ipykernel_launcher.py:110: FutureWarning: This DataArray contains multi-dimensional coordinates. In the future, these coordinates will be transposed as well unless you specify transpose_coords=False.\n"
     ]
    },
    {
     "name": "stdout",
     "output_type": "stream",
     "text": [
      "Zs saved.\n",
      "Varpi saved.\n",
      "Dyn saved.\n",
      "8419680\n"
     ]
    },
    {
     "name": "stderr",
     "output_type": "stream",
     "text": [
      "/tank/users/tuchida/miniconda3/envs/ensemble/lib/python3.7/site-packages/ipykernel_launcher.py:106: FutureWarning: This DataArray contains multi-dimensional coordinates. In the future, these coordinates will be transposed as well unless you specify transpose_coords=False.\n",
      "/tank/users/tuchida/miniconda3/envs/ensemble/lib/python3.7/site-packages/ipykernel_launcher.py:108: FutureWarning: This DataArray contains multi-dimensional coordinates. In the future, these coordinates will be transposed as well unless you specify transpose_coords=False.\n",
      "/tank/users/tuchida/miniconda3/envs/ensemble/lib/python3.7/site-packages/ipykernel_launcher.py:110: FutureWarning: This DataArray contains multi-dimensional coordinates. In the future, these coordinates will be transposed as well unless you specify transpose_coords=False.\n"
     ]
    },
    {
     "name": "stdout",
     "output_type": "stream",
     "text": [
      "Zs saved.\n",
      "Varpi saved.\n",
      "Dyn saved.\n",
      "8421840\n"
     ]
    },
    {
     "name": "stderr",
     "output_type": "stream",
     "text": [
      "/tank/users/tuchida/miniconda3/envs/ensemble/lib/python3.7/site-packages/ipykernel_launcher.py:106: FutureWarning: This DataArray contains multi-dimensional coordinates. In the future, these coordinates will be transposed as well unless you specify transpose_coords=False.\n",
      "/tank/users/tuchida/miniconda3/envs/ensemble/lib/python3.7/site-packages/ipykernel_launcher.py:108: FutureWarning: This DataArray contains multi-dimensional coordinates. In the future, these coordinates will be transposed as well unless you specify transpose_coords=False.\n",
      "/tank/users/tuchida/miniconda3/envs/ensemble/lib/python3.7/site-packages/ipykernel_launcher.py:110: FutureWarning: This DataArray contains multi-dimensional coordinates. In the future, these coordinates will be transposed as well unless you specify transpose_coords=False.\n"
     ]
    },
    {
     "name": "stdout",
     "output_type": "stream",
     "text": [
      "Zs saved.\n",
      "Varpi saved.\n",
      "Dyn saved.\n",
      "8424000\n"
     ]
    },
    {
     "name": "stderr",
     "output_type": "stream",
     "text": [
      "/tank/users/tuchida/miniconda3/envs/ensemble/lib/python3.7/site-packages/ipykernel_launcher.py:106: FutureWarning: This DataArray contains multi-dimensional coordinates. In the future, these coordinates will be transposed as well unless you specify transpose_coords=False.\n",
      "/tank/users/tuchida/miniconda3/envs/ensemble/lib/python3.7/site-packages/ipykernel_launcher.py:108: FutureWarning: This DataArray contains multi-dimensional coordinates. In the future, these coordinates will be transposed as well unless you specify transpose_coords=False.\n",
      "/tank/users/tuchida/miniconda3/envs/ensemble/lib/python3.7/site-packages/ipykernel_launcher.py:110: FutureWarning: This DataArray contains multi-dimensional coordinates. In the future, these coordinates will be transposed as well unless you specify transpose_coords=False.\n"
     ]
    },
    {
     "name": "stdout",
     "output_type": "stream",
     "text": [
      "Zs saved.\n",
      "Varpi saved.\n",
      "Dyn saved.\n",
      "8426160\n"
     ]
    },
    {
     "name": "stderr",
     "output_type": "stream",
     "text": [
      "/tank/users/tuchida/miniconda3/envs/ensemble/lib/python3.7/site-packages/ipykernel_launcher.py:106: FutureWarning: This DataArray contains multi-dimensional coordinates. In the future, these coordinates will be transposed as well unless you specify transpose_coords=False.\n",
      "/tank/users/tuchida/miniconda3/envs/ensemble/lib/python3.7/site-packages/ipykernel_launcher.py:108: FutureWarning: This DataArray contains multi-dimensional coordinates. In the future, these coordinates will be transposed as well unless you specify transpose_coords=False.\n",
      "/tank/users/tuchida/miniconda3/envs/ensemble/lib/python3.7/site-packages/ipykernel_launcher.py:110: FutureWarning: This DataArray contains multi-dimensional coordinates. In the future, these coordinates will be transposed as well unless you specify transpose_coords=False.\n"
     ]
    },
    {
     "name": "stdout",
     "output_type": "stream",
     "text": [
      "Zs saved.\n",
      "Varpi saved.\n",
      "Dyn saved.\n",
      "8428320\n"
     ]
    },
    {
     "name": "stderr",
     "output_type": "stream",
     "text": [
      "/tank/users/tuchida/miniconda3/envs/ensemble/lib/python3.7/site-packages/ipykernel_launcher.py:106: FutureWarning: This DataArray contains multi-dimensional coordinates. In the future, these coordinates will be transposed as well unless you specify transpose_coords=False.\n",
      "/tank/users/tuchida/miniconda3/envs/ensemble/lib/python3.7/site-packages/ipykernel_launcher.py:108: FutureWarning: This DataArray contains multi-dimensional coordinates. In the future, these coordinates will be transposed as well unless you specify transpose_coords=False.\n",
      "/tank/users/tuchida/miniconda3/envs/ensemble/lib/python3.7/site-packages/ipykernel_launcher.py:110: FutureWarning: This DataArray contains multi-dimensional coordinates. In the future, these coordinates will be transposed as well unless you specify transpose_coords=False.\n"
     ]
    },
    {
     "name": "stdout",
     "output_type": "stream",
     "text": [
      "Zs saved.\n",
      "Varpi saved.\n",
      "Dyn saved.\n",
      "8430480\n"
     ]
    },
    {
     "name": "stderr",
     "output_type": "stream",
     "text": [
      "/tank/users/tuchida/miniconda3/envs/ensemble/lib/python3.7/site-packages/ipykernel_launcher.py:106: FutureWarning: This DataArray contains multi-dimensional coordinates. In the future, these coordinates will be transposed as well unless you specify transpose_coords=False.\n",
      "/tank/users/tuchida/miniconda3/envs/ensemble/lib/python3.7/site-packages/ipykernel_launcher.py:108: FutureWarning: This DataArray contains multi-dimensional coordinates. In the future, these coordinates will be transposed as well unless you specify transpose_coords=False.\n",
      "/tank/users/tuchida/miniconda3/envs/ensemble/lib/python3.7/site-packages/ipykernel_launcher.py:110: FutureWarning: This DataArray contains multi-dimensional coordinates. In the future, these coordinates will be transposed as well unless you specify transpose_coords=False.\n"
     ]
    },
    {
     "name": "stdout",
     "output_type": "stream",
     "text": [
      "Zs saved.\n",
      "Varpi saved.\n",
      "Dyn saved.\n",
      "8432640\n"
     ]
    },
    {
     "name": "stderr",
     "output_type": "stream",
     "text": [
      "/tank/users/tuchida/miniconda3/envs/ensemble/lib/python3.7/site-packages/ipykernel_launcher.py:106: FutureWarning: This DataArray contains multi-dimensional coordinates. In the future, these coordinates will be transposed as well unless you specify transpose_coords=False.\n",
      "/tank/users/tuchida/miniconda3/envs/ensemble/lib/python3.7/site-packages/ipykernel_launcher.py:108: FutureWarning: This DataArray contains multi-dimensional coordinates. In the future, these coordinates will be transposed as well unless you specify transpose_coords=False.\n",
      "/tank/users/tuchida/miniconda3/envs/ensemble/lib/python3.7/site-packages/ipykernel_launcher.py:110: FutureWarning: This DataArray contains multi-dimensional coordinates. In the future, these coordinates will be transposed as well unless you specify transpose_coords=False.\n"
     ]
    },
    {
     "name": "stdout",
     "output_type": "stream",
     "text": [
      "Zs saved.\n",
      "Varpi saved.\n",
      "Dyn saved.\n",
      "8434800\n"
     ]
    },
    {
     "name": "stderr",
     "output_type": "stream",
     "text": [
      "/tank/users/tuchida/miniconda3/envs/ensemble/lib/python3.7/site-packages/ipykernel_launcher.py:106: FutureWarning: This DataArray contains multi-dimensional coordinates. In the future, these coordinates will be transposed as well unless you specify transpose_coords=False.\n",
      "/tank/users/tuchida/miniconda3/envs/ensemble/lib/python3.7/site-packages/ipykernel_launcher.py:108: FutureWarning: This DataArray contains multi-dimensional coordinates. In the future, these coordinates will be transposed as well unless you specify transpose_coords=False.\n",
      "/tank/users/tuchida/miniconda3/envs/ensemble/lib/python3.7/site-packages/ipykernel_launcher.py:110: FutureWarning: This DataArray contains multi-dimensional coordinates. In the future, these coordinates will be transposed as well unless you specify transpose_coords=False.\n"
     ]
    },
    {
     "name": "stdout",
     "output_type": "stream",
     "text": [
      "Zs saved.\n",
      "Varpi saved.\n",
      "Dyn saved.\n",
      "8436960\n"
     ]
    },
    {
     "name": "stderr",
     "output_type": "stream",
     "text": [
      "/tank/users/tuchida/miniconda3/envs/ensemble/lib/python3.7/site-packages/ipykernel_launcher.py:106: FutureWarning: This DataArray contains multi-dimensional coordinates. In the future, these coordinates will be transposed as well unless you specify transpose_coords=False.\n",
      "/tank/users/tuchida/miniconda3/envs/ensemble/lib/python3.7/site-packages/ipykernel_launcher.py:108: FutureWarning: This DataArray contains multi-dimensional coordinates. In the future, these coordinates will be transposed as well unless you specify transpose_coords=False.\n",
      "/tank/users/tuchida/miniconda3/envs/ensemble/lib/python3.7/site-packages/ipykernel_launcher.py:110: FutureWarning: This DataArray contains multi-dimensional coordinates. In the future, these coordinates will be transposed as well unless you specify transpose_coords=False.\n"
     ]
    },
    {
     "name": "stdout",
     "output_type": "stream",
     "text": [
      "Zs saved.\n",
      "Varpi saved.\n",
      "Dyn saved.\n",
      "8439120\n"
     ]
    },
    {
     "name": "stderr",
     "output_type": "stream",
     "text": [
      "/tank/users/tuchida/miniconda3/envs/ensemble/lib/python3.7/site-packages/ipykernel_launcher.py:106: FutureWarning: This DataArray contains multi-dimensional coordinates. In the future, these coordinates will be transposed as well unless you specify transpose_coords=False.\n",
      "/tank/users/tuchida/miniconda3/envs/ensemble/lib/python3.7/site-packages/ipykernel_launcher.py:108: FutureWarning: This DataArray contains multi-dimensional coordinates. In the future, these coordinates will be transposed as well unless you specify transpose_coords=False.\n",
      "/tank/users/tuchida/miniconda3/envs/ensemble/lib/python3.7/site-packages/ipykernel_launcher.py:110: FutureWarning: This DataArray contains multi-dimensional coordinates. In the future, these coordinates will be transposed as well unless you specify transpose_coords=False.\n"
     ]
    },
    {
     "name": "stdout",
     "output_type": "stream",
     "text": [
      "Zs saved.\n",
      "Varpi saved.\n",
      "Dyn saved.\n",
      "8441280\n"
     ]
    },
    {
     "name": "stderr",
     "output_type": "stream",
     "text": [
      "/tank/users/tuchida/miniconda3/envs/ensemble/lib/python3.7/site-packages/ipykernel_launcher.py:106: FutureWarning: This DataArray contains multi-dimensional coordinates. In the future, these coordinates will be transposed as well unless you specify transpose_coords=False.\n",
      "/tank/users/tuchida/miniconda3/envs/ensemble/lib/python3.7/site-packages/ipykernel_launcher.py:108: FutureWarning: This DataArray contains multi-dimensional coordinates. In the future, these coordinates will be transposed as well unless you specify transpose_coords=False.\n",
      "/tank/users/tuchida/miniconda3/envs/ensemble/lib/python3.7/site-packages/ipykernel_launcher.py:110: FutureWarning: This DataArray contains multi-dimensional coordinates. In the future, these coordinates will be transposed as well unless you specify transpose_coords=False.\n"
     ]
    },
    {
     "name": "stdout",
     "output_type": "stream",
     "text": [
      "Zs saved.\n",
      "Varpi saved.\n",
      "Dyn saved.\n",
      "8443440\n"
     ]
    },
    {
     "name": "stderr",
     "output_type": "stream",
     "text": [
      "/tank/users/tuchida/miniconda3/envs/ensemble/lib/python3.7/site-packages/ipykernel_launcher.py:106: FutureWarning: This DataArray contains multi-dimensional coordinates. In the future, these coordinates will be transposed as well unless you specify transpose_coords=False.\n",
      "/tank/users/tuchida/miniconda3/envs/ensemble/lib/python3.7/site-packages/ipykernel_launcher.py:108: FutureWarning: This DataArray contains multi-dimensional coordinates. In the future, these coordinates will be transposed as well unless you specify transpose_coords=False.\n",
      "/tank/users/tuchida/miniconda3/envs/ensemble/lib/python3.7/site-packages/ipykernel_launcher.py:110: FutureWarning: This DataArray contains multi-dimensional coordinates. In the future, these coordinates will be transposed as well unless you specify transpose_coords=False.\n"
     ]
    },
    {
     "name": "stdout",
     "output_type": "stream",
     "text": [
      "Zs saved.\n",
      "Varpi saved.\n",
      "Dyn saved.\n",
      "8445600\n"
     ]
    },
    {
     "name": "stderr",
     "output_type": "stream",
     "text": [
      "/tank/users/tuchida/miniconda3/envs/ensemble/lib/python3.7/site-packages/ipykernel_launcher.py:106: FutureWarning: This DataArray contains multi-dimensional coordinates. In the future, these coordinates will be transposed as well unless you specify transpose_coords=False.\n",
      "/tank/users/tuchida/miniconda3/envs/ensemble/lib/python3.7/site-packages/ipykernel_launcher.py:108: FutureWarning: This DataArray contains multi-dimensional coordinates. In the future, these coordinates will be transposed as well unless you specify transpose_coords=False.\n",
      "/tank/users/tuchida/miniconda3/envs/ensemble/lib/python3.7/site-packages/ipykernel_launcher.py:110: FutureWarning: This DataArray contains multi-dimensional coordinates. In the future, these coordinates will be transposed as well unless you specify transpose_coords=False.\n"
     ]
    },
    {
     "name": "stdout",
     "output_type": "stream",
     "text": [
      "Zs saved.\n",
      "Varpi saved.\n",
      "Dyn saved.\n",
      "8447760\n"
     ]
    },
    {
     "name": "stderr",
     "output_type": "stream",
     "text": [
      "/tank/users/tuchida/miniconda3/envs/ensemble/lib/python3.7/site-packages/ipykernel_launcher.py:106: FutureWarning: This DataArray contains multi-dimensional coordinates. In the future, these coordinates will be transposed as well unless you specify transpose_coords=False.\n",
      "/tank/users/tuchida/miniconda3/envs/ensemble/lib/python3.7/site-packages/ipykernel_launcher.py:108: FutureWarning: This DataArray contains multi-dimensional coordinates. In the future, these coordinates will be transposed as well unless you specify transpose_coords=False.\n",
      "/tank/users/tuchida/miniconda3/envs/ensemble/lib/python3.7/site-packages/ipykernel_launcher.py:110: FutureWarning: This DataArray contains multi-dimensional coordinates. In the future, these coordinates will be transposed as well unless you specify transpose_coords=False.\n"
     ]
    },
    {
     "name": "stdout",
     "output_type": "stream",
     "text": [
      "Zs saved.\n",
      "Varpi saved.\n",
      "Dyn saved.\n",
      "8449920\n"
     ]
    },
    {
     "name": "stderr",
     "output_type": "stream",
     "text": [
      "/tank/users/tuchida/miniconda3/envs/ensemble/lib/python3.7/site-packages/ipykernel_launcher.py:106: FutureWarning: This DataArray contains multi-dimensional coordinates. In the future, these coordinates will be transposed as well unless you specify transpose_coords=False.\n",
      "/tank/users/tuchida/miniconda3/envs/ensemble/lib/python3.7/site-packages/ipykernel_launcher.py:108: FutureWarning: This DataArray contains multi-dimensional coordinates. In the future, these coordinates will be transposed as well unless you specify transpose_coords=False.\n",
      "/tank/users/tuchida/miniconda3/envs/ensemble/lib/python3.7/site-packages/ipykernel_launcher.py:110: FutureWarning: This DataArray contains multi-dimensional coordinates. In the future, these coordinates will be transposed as well unless you specify transpose_coords=False.\n"
     ]
    },
    {
     "name": "stdout",
     "output_type": "stream",
     "text": [
      "Zs saved.\n",
      "Varpi saved.\n",
      "Dyn saved.\n",
      "8452080\n"
     ]
    },
    {
     "name": "stderr",
     "output_type": "stream",
     "text": [
      "/tank/users/tuchida/miniconda3/envs/ensemble/lib/python3.7/site-packages/ipykernel_launcher.py:106: FutureWarning: This DataArray contains multi-dimensional coordinates. In the future, these coordinates will be transposed as well unless you specify transpose_coords=False.\n",
      "/tank/users/tuchida/miniconda3/envs/ensemble/lib/python3.7/site-packages/ipykernel_launcher.py:108: FutureWarning: This DataArray contains multi-dimensional coordinates. In the future, these coordinates will be transposed as well unless you specify transpose_coords=False.\n",
      "/tank/users/tuchida/miniconda3/envs/ensemble/lib/python3.7/site-packages/ipykernel_launcher.py:110: FutureWarning: This DataArray contains multi-dimensional coordinates. In the future, these coordinates will be transposed as well unless you specify transpose_coords=False.\n"
     ]
    },
    {
     "name": "stdout",
     "output_type": "stream",
     "text": [
      "Zs saved.\n",
      "Varpi saved.\n",
      "Dyn saved.\n",
      "8454240\n"
     ]
    },
    {
     "name": "stderr",
     "output_type": "stream",
     "text": [
      "/tank/users/tuchida/miniconda3/envs/ensemble/lib/python3.7/site-packages/ipykernel_launcher.py:106: FutureWarning: This DataArray contains multi-dimensional coordinates. In the future, these coordinates will be transposed as well unless you specify transpose_coords=False.\n",
      "/tank/users/tuchida/miniconda3/envs/ensemble/lib/python3.7/site-packages/ipykernel_launcher.py:108: FutureWarning: This DataArray contains multi-dimensional coordinates. In the future, these coordinates will be transposed as well unless you specify transpose_coords=False.\n",
      "/tank/users/tuchida/miniconda3/envs/ensemble/lib/python3.7/site-packages/ipykernel_launcher.py:110: FutureWarning: This DataArray contains multi-dimensional coordinates. In the future, these coordinates will be transposed as well unless you specify transpose_coords=False.\n"
     ]
    },
    {
     "name": "stdout",
     "output_type": "stream",
     "text": [
      "Zs saved.\n",
      "Varpi saved.\n",
      "Dyn saved.\n",
      "8456400\n"
     ]
    },
    {
     "name": "stderr",
     "output_type": "stream",
     "text": [
      "/tank/users/tuchida/miniconda3/envs/ensemble/lib/python3.7/site-packages/ipykernel_launcher.py:106: FutureWarning: This DataArray contains multi-dimensional coordinates. In the future, these coordinates will be transposed as well unless you specify transpose_coords=False.\n",
      "/tank/users/tuchida/miniconda3/envs/ensemble/lib/python3.7/site-packages/ipykernel_launcher.py:108: FutureWarning: This DataArray contains multi-dimensional coordinates. In the future, these coordinates will be transposed as well unless you specify transpose_coords=False.\n",
      "/tank/users/tuchida/miniconda3/envs/ensemble/lib/python3.7/site-packages/ipykernel_launcher.py:110: FutureWarning: This DataArray contains multi-dimensional coordinates. In the future, these coordinates will be transposed as well unless you specify transpose_coords=False.\n"
     ]
    },
    {
     "name": "stdout",
     "output_type": "stream",
     "text": [
      "Zs saved.\n",
      "Varpi saved.\n",
      "Dyn saved.\n",
      "8458560\n"
     ]
    },
    {
     "name": "stderr",
     "output_type": "stream",
     "text": [
      "/tank/users/tuchida/miniconda3/envs/ensemble/lib/python3.7/site-packages/ipykernel_launcher.py:106: FutureWarning: This DataArray contains multi-dimensional coordinates. In the future, these coordinates will be transposed as well unless you specify transpose_coords=False.\n",
      "/tank/users/tuchida/miniconda3/envs/ensemble/lib/python3.7/site-packages/ipykernel_launcher.py:108: FutureWarning: This DataArray contains multi-dimensional coordinates. In the future, these coordinates will be transposed as well unless you specify transpose_coords=False.\n",
      "/tank/users/tuchida/miniconda3/envs/ensemble/lib/python3.7/site-packages/ipykernel_launcher.py:110: FutureWarning: This DataArray contains multi-dimensional coordinates. In the future, these coordinates will be transposed as well unless you specify transpose_coords=False.\n"
     ]
    },
    {
     "name": "stdout",
     "output_type": "stream",
     "text": [
      "Zs saved.\n",
      "Varpi saved.\n",
      "Dyn saved.\n",
      "8460720\n"
     ]
    },
    {
     "name": "stderr",
     "output_type": "stream",
     "text": [
      "/tank/users/tuchida/miniconda3/envs/ensemble/lib/python3.7/site-packages/ipykernel_launcher.py:106: FutureWarning: This DataArray contains multi-dimensional coordinates. In the future, these coordinates will be transposed as well unless you specify transpose_coords=False.\n",
      "/tank/users/tuchida/miniconda3/envs/ensemble/lib/python3.7/site-packages/ipykernel_launcher.py:108: FutureWarning: This DataArray contains multi-dimensional coordinates. In the future, these coordinates will be transposed as well unless you specify transpose_coords=False.\n",
      "/tank/users/tuchida/miniconda3/envs/ensemble/lib/python3.7/site-packages/ipykernel_launcher.py:110: FutureWarning: This DataArray contains multi-dimensional coordinates. In the future, these coordinates will be transposed as well unless you specify transpose_coords=False.\n"
     ]
    },
    {
     "name": "stdout",
     "output_type": "stream",
     "text": [
      "Zs saved.\n",
      "Varpi saved.\n",
      "Dyn saved.\n",
      "8462880\n"
     ]
    },
    {
     "name": "stderr",
     "output_type": "stream",
     "text": [
      "/tank/users/tuchida/miniconda3/envs/ensemble/lib/python3.7/site-packages/ipykernel_launcher.py:106: FutureWarning: This DataArray contains multi-dimensional coordinates. In the future, these coordinates will be transposed as well unless you specify transpose_coords=False.\n",
      "/tank/users/tuchida/miniconda3/envs/ensemble/lib/python3.7/site-packages/ipykernel_launcher.py:108: FutureWarning: This DataArray contains multi-dimensional coordinates. In the future, these coordinates will be transposed as well unless you specify transpose_coords=False.\n",
      "/tank/users/tuchida/miniconda3/envs/ensemble/lib/python3.7/site-packages/ipykernel_launcher.py:110: FutureWarning: This DataArray contains multi-dimensional coordinates. In the future, these coordinates will be transposed as well unless you specify transpose_coords=False.\n"
     ]
    },
    {
     "name": "stdout",
     "output_type": "stream",
     "text": [
      "Zs saved.\n",
      "Varpi saved.\n",
      "Dyn saved.\n",
      "8465040\n"
     ]
    },
    {
     "name": "stderr",
     "output_type": "stream",
     "text": [
      "/tank/users/tuchida/miniconda3/envs/ensemble/lib/python3.7/site-packages/ipykernel_launcher.py:106: FutureWarning: This DataArray contains multi-dimensional coordinates. In the future, these coordinates will be transposed as well unless you specify transpose_coords=False.\n",
      "/tank/users/tuchida/miniconda3/envs/ensemble/lib/python3.7/site-packages/ipykernel_launcher.py:108: FutureWarning: This DataArray contains multi-dimensional coordinates. In the future, these coordinates will be transposed as well unless you specify transpose_coords=False.\n",
      "/tank/users/tuchida/miniconda3/envs/ensemble/lib/python3.7/site-packages/ipykernel_launcher.py:110: FutureWarning: This DataArray contains multi-dimensional coordinates. In the future, these coordinates will be transposed as well unless you specify transpose_coords=False.\n"
     ]
    },
    {
     "name": "stdout",
     "output_type": "stream",
     "text": [
      "Zs saved.\n",
      "Varpi saved.\n",
      "Dyn saved.\n",
      "8467200\n"
     ]
    },
    {
     "name": "stderr",
     "output_type": "stream",
     "text": [
      "/tank/users/tuchida/miniconda3/envs/ensemble/lib/python3.7/site-packages/ipykernel_launcher.py:106: FutureWarning: This DataArray contains multi-dimensional coordinates. In the future, these coordinates will be transposed as well unless you specify transpose_coords=False.\n",
      "/tank/users/tuchida/miniconda3/envs/ensemble/lib/python3.7/site-packages/ipykernel_launcher.py:108: FutureWarning: This DataArray contains multi-dimensional coordinates. In the future, these coordinates will be transposed as well unless you specify transpose_coords=False.\n",
      "/tank/users/tuchida/miniconda3/envs/ensemble/lib/python3.7/site-packages/ipykernel_launcher.py:110: FutureWarning: This DataArray contains multi-dimensional coordinates. In the future, these coordinates will be transposed as well unless you specify transpose_coords=False.\n"
     ]
    },
    {
     "name": "stdout",
     "output_type": "stream",
     "text": [
      "Zs saved.\n",
      "Varpi saved.\n",
      "Dyn saved.\n",
      "8469360\n"
     ]
    },
    {
     "name": "stderr",
     "output_type": "stream",
     "text": [
      "/tank/users/tuchida/miniconda3/envs/ensemble/lib/python3.7/site-packages/ipykernel_launcher.py:106: FutureWarning: This DataArray contains multi-dimensional coordinates. In the future, these coordinates will be transposed as well unless you specify transpose_coords=False.\n",
      "/tank/users/tuchida/miniconda3/envs/ensemble/lib/python3.7/site-packages/ipykernel_launcher.py:108: FutureWarning: This DataArray contains multi-dimensional coordinates. In the future, these coordinates will be transposed as well unless you specify transpose_coords=False.\n",
      "/tank/users/tuchida/miniconda3/envs/ensemble/lib/python3.7/site-packages/ipykernel_launcher.py:110: FutureWarning: This DataArray contains multi-dimensional coordinates. In the future, these coordinates will be transposed as well unless you specify transpose_coords=False.\n"
     ]
    },
    {
     "name": "stdout",
     "output_type": "stream",
     "text": [
      "Zs saved.\n",
      "Varpi saved.\n",
      "Dyn saved.\n",
      "8471520\n"
     ]
    },
    {
     "name": "stderr",
     "output_type": "stream",
     "text": [
      "/tank/users/tuchida/miniconda3/envs/ensemble/lib/python3.7/site-packages/ipykernel_launcher.py:106: FutureWarning: This DataArray contains multi-dimensional coordinates. In the future, these coordinates will be transposed as well unless you specify transpose_coords=False.\n",
      "/tank/users/tuchida/miniconda3/envs/ensemble/lib/python3.7/site-packages/ipykernel_launcher.py:108: FutureWarning: This DataArray contains multi-dimensional coordinates. In the future, these coordinates will be transposed as well unless you specify transpose_coords=False.\n",
      "/tank/users/tuchida/miniconda3/envs/ensemble/lib/python3.7/site-packages/ipykernel_launcher.py:110: FutureWarning: This DataArray contains multi-dimensional coordinates. In the future, these coordinates will be transposed as well unless you specify transpose_coords=False.\n"
     ]
    },
    {
     "name": "stdout",
     "output_type": "stream",
     "text": [
      "Zs saved.\n",
      "Varpi saved.\n",
      "Dyn saved.\n",
      "8473680\n"
     ]
    },
    {
     "name": "stderr",
     "output_type": "stream",
     "text": [
      "/tank/users/tuchida/miniconda3/envs/ensemble/lib/python3.7/site-packages/ipykernel_launcher.py:106: FutureWarning: This DataArray contains multi-dimensional coordinates. In the future, these coordinates will be transposed as well unless you specify transpose_coords=False.\n",
      "/tank/users/tuchida/miniconda3/envs/ensemble/lib/python3.7/site-packages/ipykernel_launcher.py:108: FutureWarning: This DataArray contains multi-dimensional coordinates. In the future, these coordinates will be transposed as well unless you specify transpose_coords=False.\n",
      "/tank/users/tuchida/miniconda3/envs/ensemble/lib/python3.7/site-packages/ipykernel_launcher.py:110: FutureWarning: This DataArray contains multi-dimensional coordinates. In the future, these coordinates will be transposed as well unless you specify transpose_coords=False.\n"
     ]
    },
    {
     "name": "stdout",
     "output_type": "stream",
     "text": [
      "Zs saved.\n",
      "Varpi saved.\n",
      "Dyn saved.\n",
      "8475840\n"
     ]
    },
    {
     "name": "stderr",
     "output_type": "stream",
     "text": [
      "/tank/users/tuchida/miniconda3/envs/ensemble/lib/python3.7/site-packages/ipykernel_launcher.py:106: FutureWarning: This DataArray contains multi-dimensional coordinates. In the future, these coordinates will be transposed as well unless you specify transpose_coords=False.\n",
      "/tank/users/tuchida/miniconda3/envs/ensemble/lib/python3.7/site-packages/ipykernel_launcher.py:108: FutureWarning: This DataArray contains multi-dimensional coordinates. In the future, these coordinates will be transposed as well unless you specify transpose_coords=False.\n",
      "/tank/users/tuchida/miniconda3/envs/ensemble/lib/python3.7/site-packages/ipykernel_launcher.py:110: FutureWarning: This DataArray contains multi-dimensional coordinates. In the future, these coordinates will be transposed as well unless you specify transpose_coords=False.\n"
     ]
    },
    {
     "name": "stdout",
     "output_type": "stream",
     "text": [
      "Zs saved.\n",
      "Varpi saved.\n",
      "Dyn saved.\n",
      "8478000\n"
     ]
    },
    {
     "name": "stderr",
     "output_type": "stream",
     "text": [
      "/tank/users/tuchida/miniconda3/envs/ensemble/lib/python3.7/site-packages/ipykernel_launcher.py:106: FutureWarning: This DataArray contains multi-dimensional coordinates. In the future, these coordinates will be transposed as well unless you specify transpose_coords=False.\n",
      "/tank/users/tuchida/miniconda3/envs/ensemble/lib/python3.7/site-packages/ipykernel_launcher.py:108: FutureWarning: This DataArray contains multi-dimensional coordinates. In the future, these coordinates will be transposed as well unless you specify transpose_coords=False.\n",
      "/tank/users/tuchida/miniconda3/envs/ensemble/lib/python3.7/site-packages/ipykernel_launcher.py:110: FutureWarning: This DataArray contains multi-dimensional coordinates. In the future, these coordinates will be transposed as well unless you specify transpose_coords=False.\n"
     ]
    },
    {
     "name": "stdout",
     "output_type": "stream",
     "text": [
      "Zs saved.\n",
      "Varpi saved.\n",
      "Dyn saved.\n",
      "8480160\n"
     ]
    },
    {
     "name": "stderr",
     "output_type": "stream",
     "text": [
      "/tank/users/tuchida/miniconda3/envs/ensemble/lib/python3.7/site-packages/ipykernel_launcher.py:106: FutureWarning: This DataArray contains multi-dimensional coordinates. In the future, these coordinates will be transposed as well unless you specify transpose_coords=False.\n",
      "/tank/users/tuchida/miniconda3/envs/ensemble/lib/python3.7/site-packages/ipykernel_launcher.py:108: FutureWarning: This DataArray contains multi-dimensional coordinates. In the future, these coordinates will be transposed as well unless you specify transpose_coords=False.\n",
      "/tank/users/tuchida/miniconda3/envs/ensemble/lib/python3.7/site-packages/ipykernel_launcher.py:110: FutureWarning: This DataArray contains multi-dimensional coordinates. In the future, these coordinates will be transposed as well unless you specify transpose_coords=False.\n"
     ]
    },
    {
     "name": "stdout",
     "output_type": "stream",
     "text": [
      "Zs saved.\n",
      "Varpi saved.\n",
      "Dyn saved.\n",
      "8482320\n"
     ]
    },
    {
     "name": "stderr",
     "output_type": "stream",
     "text": [
      "/tank/users/tuchida/miniconda3/envs/ensemble/lib/python3.7/site-packages/ipykernel_launcher.py:106: FutureWarning: This DataArray contains multi-dimensional coordinates. In the future, these coordinates will be transposed as well unless you specify transpose_coords=False.\n",
      "/tank/users/tuchida/miniconda3/envs/ensemble/lib/python3.7/site-packages/ipykernel_launcher.py:108: FutureWarning: This DataArray contains multi-dimensional coordinates. In the future, these coordinates will be transposed as well unless you specify transpose_coords=False.\n",
      "/tank/users/tuchida/miniconda3/envs/ensemble/lib/python3.7/site-packages/ipykernel_launcher.py:110: FutureWarning: This DataArray contains multi-dimensional coordinates. In the future, these coordinates will be transposed as well unless you specify transpose_coords=False.\n"
     ]
    },
    {
     "name": "stdout",
     "output_type": "stream",
     "text": [
      "Zs saved.\n",
      "Varpi saved.\n",
      "Dyn saved.\n",
      "8484480\n"
     ]
    },
    {
     "name": "stderr",
     "output_type": "stream",
     "text": [
      "/tank/users/tuchida/miniconda3/envs/ensemble/lib/python3.7/site-packages/ipykernel_launcher.py:106: FutureWarning: This DataArray contains multi-dimensional coordinates. In the future, these coordinates will be transposed as well unless you specify transpose_coords=False.\n",
      "/tank/users/tuchida/miniconda3/envs/ensemble/lib/python3.7/site-packages/ipykernel_launcher.py:108: FutureWarning: This DataArray contains multi-dimensional coordinates. In the future, these coordinates will be transposed as well unless you specify transpose_coords=False.\n",
      "/tank/users/tuchida/miniconda3/envs/ensemble/lib/python3.7/site-packages/ipykernel_launcher.py:110: FutureWarning: This DataArray contains multi-dimensional coordinates. In the future, these coordinates will be transposed as well unless you specify transpose_coords=False.\n"
     ]
    },
    {
     "name": "stdout",
     "output_type": "stream",
     "text": [
      "Zs saved.\n",
      "Varpi saved.\n",
      "Dyn saved.\n",
      "8486640\n"
     ]
    },
    {
     "name": "stderr",
     "output_type": "stream",
     "text": [
      "/tank/users/tuchida/miniconda3/envs/ensemble/lib/python3.7/site-packages/ipykernel_launcher.py:106: FutureWarning: This DataArray contains multi-dimensional coordinates. In the future, these coordinates will be transposed as well unless you specify transpose_coords=False.\n",
      "/tank/users/tuchida/miniconda3/envs/ensemble/lib/python3.7/site-packages/ipykernel_launcher.py:108: FutureWarning: This DataArray contains multi-dimensional coordinates. In the future, these coordinates will be transposed as well unless you specify transpose_coords=False.\n",
      "/tank/users/tuchida/miniconda3/envs/ensemble/lib/python3.7/site-packages/ipykernel_launcher.py:110: FutureWarning: This DataArray contains multi-dimensional coordinates. In the future, these coordinates will be transposed as well unless you specify transpose_coords=False.\n"
     ]
    },
    {
     "name": "stdout",
     "output_type": "stream",
     "text": [
      "Zs saved.\n",
      "Varpi saved.\n",
      "Dyn saved.\n",
      "8488800\n"
     ]
    },
    {
     "name": "stderr",
     "output_type": "stream",
     "text": [
      "/tank/users/tuchida/miniconda3/envs/ensemble/lib/python3.7/site-packages/ipykernel_launcher.py:106: FutureWarning: This DataArray contains multi-dimensional coordinates. In the future, these coordinates will be transposed as well unless you specify transpose_coords=False.\n",
      "/tank/users/tuchida/miniconda3/envs/ensemble/lib/python3.7/site-packages/ipykernel_launcher.py:108: FutureWarning: This DataArray contains multi-dimensional coordinates. In the future, these coordinates will be transposed as well unless you specify transpose_coords=False.\n",
      "/tank/users/tuchida/miniconda3/envs/ensemble/lib/python3.7/site-packages/ipykernel_launcher.py:110: FutureWarning: This DataArray contains multi-dimensional coordinates. In the future, these coordinates will be transposed as well unless you specify transpose_coords=False.\n"
     ]
    },
    {
     "name": "stdout",
     "output_type": "stream",
     "text": [
      "Zs saved.\n",
      "Varpi saved.\n",
      "Dyn saved.\n",
      "8490960\n"
     ]
    },
    {
     "name": "stderr",
     "output_type": "stream",
     "text": [
      "/tank/users/tuchida/miniconda3/envs/ensemble/lib/python3.7/site-packages/ipykernel_launcher.py:106: FutureWarning: This DataArray contains multi-dimensional coordinates. In the future, these coordinates will be transposed as well unless you specify transpose_coords=False.\n",
      "/tank/users/tuchida/miniconda3/envs/ensemble/lib/python3.7/site-packages/ipykernel_launcher.py:108: FutureWarning: This DataArray contains multi-dimensional coordinates. In the future, these coordinates will be transposed as well unless you specify transpose_coords=False.\n",
      "/tank/users/tuchida/miniconda3/envs/ensemble/lib/python3.7/site-packages/ipykernel_launcher.py:110: FutureWarning: This DataArray contains multi-dimensional coordinates. In the future, these coordinates will be transposed as well unless you specify transpose_coords=False.\n"
     ]
    },
    {
     "name": "stdout",
     "output_type": "stream",
     "text": [
      "Zs saved.\n",
      "Varpi saved.\n",
      "Dyn saved.\n",
      "8493120\n"
     ]
    },
    {
     "name": "stderr",
     "output_type": "stream",
     "text": [
      "/tank/users/tuchida/miniconda3/envs/ensemble/lib/python3.7/site-packages/ipykernel_launcher.py:106: FutureWarning: This DataArray contains multi-dimensional coordinates. In the future, these coordinates will be transposed as well unless you specify transpose_coords=False.\n",
      "/tank/users/tuchida/miniconda3/envs/ensemble/lib/python3.7/site-packages/ipykernel_launcher.py:108: FutureWarning: This DataArray contains multi-dimensional coordinates. In the future, these coordinates will be transposed as well unless you specify transpose_coords=False.\n",
      "/tank/users/tuchida/miniconda3/envs/ensemble/lib/python3.7/site-packages/ipykernel_launcher.py:110: FutureWarning: This DataArray contains multi-dimensional coordinates. In the future, these coordinates will be transposed as well unless you specify transpose_coords=False.\n"
     ]
    },
    {
     "name": "stdout",
     "output_type": "stream",
     "text": [
      "Zs saved.\n",
      "Varpi saved.\n",
      "Dyn saved.\n",
      "8495280\n"
     ]
    },
    {
     "name": "stderr",
     "output_type": "stream",
     "text": [
      "/tank/users/tuchida/miniconda3/envs/ensemble/lib/python3.7/site-packages/ipykernel_launcher.py:106: FutureWarning: This DataArray contains multi-dimensional coordinates. In the future, these coordinates will be transposed as well unless you specify transpose_coords=False.\n",
      "/tank/users/tuchida/miniconda3/envs/ensemble/lib/python3.7/site-packages/ipykernel_launcher.py:108: FutureWarning: This DataArray contains multi-dimensional coordinates. In the future, these coordinates will be transposed as well unless you specify transpose_coords=False.\n",
      "/tank/users/tuchida/miniconda3/envs/ensemble/lib/python3.7/site-packages/ipykernel_launcher.py:110: FutureWarning: This DataArray contains multi-dimensional coordinates. In the future, these coordinates will be transposed as well unless you specify transpose_coords=False.\n"
     ]
    },
    {
     "name": "stdout",
     "output_type": "stream",
     "text": [
      "Zs saved.\n",
      "Varpi saved.\n",
      "Dyn saved.\n",
      "8497440\n"
     ]
    },
    {
     "name": "stderr",
     "output_type": "stream",
     "text": [
      "/tank/users/tuchida/miniconda3/envs/ensemble/lib/python3.7/site-packages/ipykernel_launcher.py:106: FutureWarning: This DataArray contains multi-dimensional coordinates. In the future, these coordinates will be transposed as well unless you specify transpose_coords=False.\n",
      "/tank/users/tuchida/miniconda3/envs/ensemble/lib/python3.7/site-packages/ipykernel_launcher.py:108: FutureWarning: This DataArray contains multi-dimensional coordinates. In the future, these coordinates will be transposed as well unless you specify transpose_coords=False.\n",
      "/tank/users/tuchida/miniconda3/envs/ensemble/lib/python3.7/site-packages/ipykernel_launcher.py:110: FutureWarning: This DataArray contains multi-dimensional coordinates. In the future, these coordinates will be transposed as well unless you specify transpose_coords=False.\n"
     ]
    },
    {
     "name": "stdout",
     "output_type": "stream",
     "text": [
      "Zs saved.\n",
      "Varpi saved.\n",
      "Dyn saved.\n",
      "8499600\n"
     ]
    },
    {
     "name": "stderr",
     "output_type": "stream",
     "text": [
      "/tank/users/tuchida/miniconda3/envs/ensemble/lib/python3.7/site-packages/ipykernel_launcher.py:106: FutureWarning: This DataArray contains multi-dimensional coordinates. In the future, these coordinates will be transposed as well unless you specify transpose_coords=False.\n",
      "/tank/users/tuchida/miniconda3/envs/ensemble/lib/python3.7/site-packages/ipykernel_launcher.py:108: FutureWarning: This DataArray contains multi-dimensional coordinates. In the future, these coordinates will be transposed as well unless you specify transpose_coords=False.\n",
      "/tank/users/tuchida/miniconda3/envs/ensemble/lib/python3.7/site-packages/ipykernel_launcher.py:110: FutureWarning: This DataArray contains multi-dimensional coordinates. In the future, these coordinates will be transposed as well unless you specify transpose_coords=False.\n"
     ]
    },
    {
     "name": "stdout",
     "output_type": "stream",
     "text": [
      "Zs saved.\n",
      "Varpi saved.\n",
      "Dyn saved.\n",
      "8501760\n"
     ]
    },
    {
     "name": "stderr",
     "output_type": "stream",
     "text": [
      "/tank/users/tuchida/miniconda3/envs/ensemble/lib/python3.7/site-packages/ipykernel_launcher.py:106: FutureWarning: This DataArray contains multi-dimensional coordinates. In the future, these coordinates will be transposed as well unless you specify transpose_coords=False.\n",
      "/tank/users/tuchida/miniconda3/envs/ensemble/lib/python3.7/site-packages/ipykernel_launcher.py:108: FutureWarning: This DataArray contains multi-dimensional coordinates. In the future, these coordinates will be transposed as well unless you specify transpose_coords=False.\n",
      "/tank/users/tuchida/miniconda3/envs/ensemble/lib/python3.7/site-packages/ipykernel_launcher.py:110: FutureWarning: This DataArray contains multi-dimensional coordinates. In the future, these coordinates will be transposed as well unless you specify transpose_coords=False.\n"
     ]
    },
    {
     "name": "stdout",
     "output_type": "stream",
     "text": [
      "Zs saved.\n",
      "Varpi saved.\n",
      "Dyn saved.\n",
      "8503920\n"
     ]
    },
    {
     "name": "stderr",
     "output_type": "stream",
     "text": [
      "/tank/users/tuchida/miniconda3/envs/ensemble/lib/python3.7/site-packages/ipykernel_launcher.py:106: FutureWarning: This DataArray contains multi-dimensional coordinates. In the future, these coordinates will be transposed as well unless you specify transpose_coords=False.\n",
      "/tank/users/tuchida/miniconda3/envs/ensemble/lib/python3.7/site-packages/ipykernel_launcher.py:108: FutureWarning: This DataArray contains multi-dimensional coordinates. In the future, these coordinates will be transposed as well unless you specify transpose_coords=False.\n",
      "/tank/users/tuchida/miniconda3/envs/ensemble/lib/python3.7/site-packages/ipykernel_launcher.py:110: FutureWarning: This DataArray contains multi-dimensional coordinates. In the future, these coordinates will be transposed as well unless you specify transpose_coords=False.\n"
     ]
    },
    {
     "name": "stdout",
     "output_type": "stream",
     "text": [
      "Zs saved.\n",
      "Varpi saved.\n",
      "Dyn saved.\n",
      "8506080\n"
     ]
    },
    {
     "name": "stderr",
     "output_type": "stream",
     "text": [
      "/tank/users/tuchida/miniconda3/envs/ensemble/lib/python3.7/site-packages/ipykernel_launcher.py:106: FutureWarning: This DataArray contains multi-dimensional coordinates. In the future, these coordinates will be transposed as well unless you specify transpose_coords=False.\n",
      "/tank/users/tuchida/miniconda3/envs/ensemble/lib/python3.7/site-packages/ipykernel_launcher.py:108: FutureWarning: This DataArray contains multi-dimensional coordinates. In the future, these coordinates will be transposed as well unless you specify transpose_coords=False.\n",
      "/tank/users/tuchida/miniconda3/envs/ensemble/lib/python3.7/site-packages/ipykernel_launcher.py:110: FutureWarning: This DataArray contains multi-dimensional coordinates. In the future, these coordinates will be transposed as well unless you specify transpose_coords=False.\n"
     ]
    },
    {
     "name": "stdout",
     "output_type": "stream",
     "text": [
      "Zs saved.\n",
      "Varpi saved.\n",
      "Dyn saved.\n",
      "8508240\n"
     ]
    },
    {
     "name": "stderr",
     "output_type": "stream",
     "text": [
      "/tank/users/tuchida/miniconda3/envs/ensemble/lib/python3.7/site-packages/ipykernel_launcher.py:106: FutureWarning: This DataArray contains multi-dimensional coordinates. In the future, these coordinates will be transposed as well unless you specify transpose_coords=False.\n",
      "/tank/users/tuchida/miniconda3/envs/ensemble/lib/python3.7/site-packages/ipykernel_launcher.py:108: FutureWarning: This DataArray contains multi-dimensional coordinates. In the future, these coordinates will be transposed as well unless you specify transpose_coords=False.\n",
      "/tank/users/tuchida/miniconda3/envs/ensemble/lib/python3.7/site-packages/ipykernel_launcher.py:110: FutureWarning: This DataArray contains multi-dimensional coordinates. In the future, these coordinates will be transposed as well unless you specify transpose_coords=False.\n"
     ]
    },
    {
     "name": "stdout",
     "output_type": "stream",
     "text": [
      "Zs saved.\n",
      "Varpi saved.\n",
      "Dyn saved.\n",
      "8510400\n"
     ]
    },
    {
     "name": "stderr",
     "output_type": "stream",
     "text": [
      "/tank/users/tuchida/miniconda3/envs/ensemble/lib/python3.7/site-packages/ipykernel_launcher.py:106: FutureWarning: This DataArray contains multi-dimensional coordinates. In the future, these coordinates will be transposed as well unless you specify transpose_coords=False.\n",
      "/tank/users/tuchida/miniconda3/envs/ensemble/lib/python3.7/site-packages/ipykernel_launcher.py:108: FutureWarning: This DataArray contains multi-dimensional coordinates. In the future, these coordinates will be transposed as well unless you specify transpose_coords=False.\n",
      "/tank/users/tuchida/miniconda3/envs/ensemble/lib/python3.7/site-packages/ipykernel_launcher.py:110: FutureWarning: This DataArray contains multi-dimensional coordinates. In the future, these coordinates will be transposed as well unless you specify transpose_coords=False.\n"
     ]
    },
    {
     "name": "stdout",
     "output_type": "stream",
     "text": [
      "Zs saved.\n",
      "Varpi saved.\n",
      "Dyn saved.\n",
      "8512560\n"
     ]
    },
    {
     "name": "stderr",
     "output_type": "stream",
     "text": [
      "/tank/users/tuchida/miniconda3/envs/ensemble/lib/python3.7/site-packages/ipykernel_launcher.py:106: FutureWarning: This DataArray contains multi-dimensional coordinates. In the future, these coordinates will be transposed as well unless you specify transpose_coords=False.\n",
      "/tank/users/tuchida/miniconda3/envs/ensemble/lib/python3.7/site-packages/ipykernel_launcher.py:108: FutureWarning: This DataArray contains multi-dimensional coordinates. In the future, these coordinates will be transposed as well unless you specify transpose_coords=False.\n",
      "/tank/users/tuchida/miniconda3/envs/ensemble/lib/python3.7/site-packages/ipykernel_launcher.py:110: FutureWarning: This DataArray contains multi-dimensional coordinates. In the future, these coordinates will be transposed as well unless you specify transpose_coords=False.\n"
     ]
    },
    {
     "name": "stdout",
     "output_type": "stream",
     "text": [
      "Zs saved.\n",
      "Varpi saved.\n",
      "Dyn saved.\n",
      "8514720\n"
     ]
    },
    {
     "name": "stderr",
     "output_type": "stream",
     "text": [
      "/tank/users/tuchida/miniconda3/envs/ensemble/lib/python3.7/site-packages/ipykernel_launcher.py:106: FutureWarning: This DataArray contains multi-dimensional coordinates. In the future, these coordinates will be transposed as well unless you specify transpose_coords=False.\n",
      "/tank/users/tuchida/miniconda3/envs/ensemble/lib/python3.7/site-packages/ipykernel_launcher.py:108: FutureWarning: This DataArray contains multi-dimensional coordinates. In the future, these coordinates will be transposed as well unless you specify transpose_coords=False.\n",
      "/tank/users/tuchida/miniconda3/envs/ensemble/lib/python3.7/site-packages/ipykernel_launcher.py:110: FutureWarning: This DataArray contains multi-dimensional coordinates. In the future, these coordinates will be transposed as well unless you specify transpose_coords=False.\n"
     ]
    },
    {
     "name": "stdout",
     "output_type": "stream",
     "text": [
      "Zs saved.\n",
      "Varpi saved.\n",
      "Dyn saved.\n",
      "8516880\n"
     ]
    },
    {
     "name": "stderr",
     "output_type": "stream",
     "text": [
      "/tank/users/tuchida/miniconda3/envs/ensemble/lib/python3.7/site-packages/ipykernel_launcher.py:106: FutureWarning: This DataArray contains multi-dimensional coordinates. In the future, these coordinates will be transposed as well unless you specify transpose_coords=False.\n",
      "/tank/users/tuchida/miniconda3/envs/ensemble/lib/python3.7/site-packages/ipykernel_launcher.py:108: FutureWarning: This DataArray contains multi-dimensional coordinates. In the future, these coordinates will be transposed as well unless you specify transpose_coords=False.\n",
      "/tank/users/tuchida/miniconda3/envs/ensemble/lib/python3.7/site-packages/ipykernel_launcher.py:110: FutureWarning: This DataArray contains multi-dimensional coordinates. In the future, these coordinates will be transposed as well unless you specify transpose_coords=False.\n"
     ]
    },
    {
     "name": "stdout",
     "output_type": "stream",
     "text": [
      "Zs saved.\n",
      "Varpi saved.\n",
      "Dyn saved.\n",
      "8519040\n"
     ]
    },
    {
     "name": "stderr",
     "output_type": "stream",
     "text": [
      "/tank/users/tuchida/miniconda3/envs/ensemble/lib/python3.7/site-packages/ipykernel_launcher.py:106: FutureWarning: This DataArray contains multi-dimensional coordinates. In the future, these coordinates will be transposed as well unless you specify transpose_coords=False.\n",
      "/tank/users/tuchida/miniconda3/envs/ensemble/lib/python3.7/site-packages/ipykernel_launcher.py:108: FutureWarning: This DataArray contains multi-dimensional coordinates. In the future, these coordinates will be transposed as well unless you specify transpose_coords=False.\n",
      "/tank/users/tuchida/miniconda3/envs/ensemble/lib/python3.7/site-packages/ipykernel_launcher.py:110: FutureWarning: This DataArray contains multi-dimensional coordinates. In the future, these coordinates will be transposed as well unless you specify transpose_coords=False.\n"
     ]
    },
    {
     "name": "stdout",
     "output_type": "stream",
     "text": [
      "Zs saved.\n",
      "Varpi saved.\n",
      "Dyn saved.\n",
      "8521200\n"
     ]
    },
    {
     "name": "stderr",
     "output_type": "stream",
     "text": [
      "/tank/users/tuchida/miniconda3/envs/ensemble/lib/python3.7/site-packages/ipykernel_launcher.py:106: FutureWarning: This DataArray contains multi-dimensional coordinates. In the future, these coordinates will be transposed as well unless you specify transpose_coords=False.\n",
      "/tank/users/tuchida/miniconda3/envs/ensemble/lib/python3.7/site-packages/ipykernel_launcher.py:108: FutureWarning: This DataArray contains multi-dimensional coordinates. In the future, these coordinates will be transposed as well unless you specify transpose_coords=False.\n",
      "/tank/users/tuchida/miniconda3/envs/ensemble/lib/python3.7/site-packages/ipykernel_launcher.py:110: FutureWarning: This DataArray contains multi-dimensional coordinates. In the future, these coordinates will be transposed as well unless you specify transpose_coords=False.\n"
     ]
    },
    {
     "name": "stdout",
     "output_type": "stream",
     "text": [
      "Zs saved.\n",
      "Varpi saved.\n",
      "Dyn saved.\n",
      "8523360\n"
     ]
    },
    {
     "name": "stderr",
     "output_type": "stream",
     "text": [
      "/tank/users/tuchida/miniconda3/envs/ensemble/lib/python3.7/site-packages/ipykernel_launcher.py:106: FutureWarning: This DataArray contains multi-dimensional coordinates. In the future, these coordinates will be transposed as well unless you specify transpose_coords=False.\n",
      "/tank/users/tuchida/miniconda3/envs/ensemble/lib/python3.7/site-packages/ipykernel_launcher.py:108: FutureWarning: This DataArray contains multi-dimensional coordinates. In the future, these coordinates will be transposed as well unless you specify transpose_coords=False.\n",
      "/tank/users/tuchida/miniconda3/envs/ensemble/lib/python3.7/site-packages/ipykernel_launcher.py:110: FutureWarning: This DataArray contains multi-dimensional coordinates. In the future, these coordinates will be transposed as well unless you specify transpose_coords=False.\n"
     ]
    },
    {
     "name": "stdout",
     "output_type": "stream",
     "text": [
      "Zs saved.\n",
      "Varpi saved.\n",
      "Dyn saved.\n",
      "8525520\n"
     ]
    },
    {
     "name": "stderr",
     "output_type": "stream",
     "text": [
      "/tank/users/tuchida/miniconda3/envs/ensemble/lib/python3.7/site-packages/ipykernel_launcher.py:106: FutureWarning: This DataArray contains multi-dimensional coordinates. In the future, these coordinates will be transposed as well unless you specify transpose_coords=False.\n",
      "/tank/users/tuchida/miniconda3/envs/ensemble/lib/python3.7/site-packages/ipykernel_launcher.py:108: FutureWarning: This DataArray contains multi-dimensional coordinates. In the future, these coordinates will be transposed as well unless you specify transpose_coords=False.\n",
      "/tank/users/tuchida/miniconda3/envs/ensemble/lib/python3.7/site-packages/ipykernel_launcher.py:110: FutureWarning: This DataArray contains multi-dimensional coordinates. In the future, these coordinates will be transposed as well unless you specify transpose_coords=False.\n"
     ]
    },
    {
     "name": "stdout",
     "output_type": "stream",
     "text": [
      "Zs saved.\n",
      "Varpi saved.\n",
      "Dyn saved.\n",
      "8527680\n"
     ]
    },
    {
     "name": "stderr",
     "output_type": "stream",
     "text": [
      "/tank/users/tuchida/miniconda3/envs/ensemble/lib/python3.7/site-packages/ipykernel_launcher.py:106: FutureWarning: This DataArray contains multi-dimensional coordinates. In the future, these coordinates will be transposed as well unless you specify transpose_coords=False.\n",
      "/tank/users/tuchida/miniconda3/envs/ensemble/lib/python3.7/site-packages/ipykernel_launcher.py:108: FutureWarning: This DataArray contains multi-dimensional coordinates. In the future, these coordinates will be transposed as well unless you specify transpose_coords=False.\n",
      "/tank/users/tuchida/miniconda3/envs/ensemble/lib/python3.7/site-packages/ipykernel_launcher.py:110: FutureWarning: This DataArray contains multi-dimensional coordinates. In the future, these coordinates will be transposed as well unless you specify transpose_coords=False.\n"
     ]
    },
    {
     "name": "stdout",
     "output_type": "stream",
     "text": [
      "Zs saved.\n",
      "Varpi saved.\n",
      "Dyn saved.\n",
      "8529840\n"
     ]
    },
    {
     "name": "stderr",
     "output_type": "stream",
     "text": [
      "/tank/users/tuchida/miniconda3/envs/ensemble/lib/python3.7/site-packages/ipykernel_launcher.py:106: FutureWarning: This DataArray contains multi-dimensional coordinates. In the future, these coordinates will be transposed as well unless you specify transpose_coords=False.\n",
      "/tank/users/tuchida/miniconda3/envs/ensemble/lib/python3.7/site-packages/ipykernel_launcher.py:108: FutureWarning: This DataArray contains multi-dimensional coordinates. In the future, these coordinates will be transposed as well unless you specify transpose_coords=False.\n",
      "/tank/users/tuchida/miniconda3/envs/ensemble/lib/python3.7/site-packages/ipykernel_launcher.py:110: FutureWarning: This DataArray contains multi-dimensional coordinates. In the future, these coordinates will be transposed as well unless you specify transpose_coords=False.\n"
     ]
    },
    {
     "name": "stdout",
     "output_type": "stream",
     "text": [
      "Zs saved.\n",
      "Varpi saved.\n",
      "Dyn saved.\n",
      "8532000\n"
     ]
    },
    {
     "name": "stderr",
     "output_type": "stream",
     "text": [
      "/tank/users/tuchida/miniconda3/envs/ensemble/lib/python3.7/site-packages/ipykernel_launcher.py:106: FutureWarning: This DataArray contains multi-dimensional coordinates. In the future, these coordinates will be transposed as well unless you specify transpose_coords=False.\n",
      "/tank/users/tuchida/miniconda3/envs/ensemble/lib/python3.7/site-packages/ipykernel_launcher.py:108: FutureWarning: This DataArray contains multi-dimensional coordinates. In the future, these coordinates will be transposed as well unless you specify transpose_coords=False.\n",
      "/tank/users/tuchida/miniconda3/envs/ensemble/lib/python3.7/site-packages/ipykernel_launcher.py:110: FutureWarning: This DataArray contains multi-dimensional coordinates. In the future, these coordinates will be transposed as well unless you specify transpose_coords=False.\n"
     ]
    },
    {
     "name": "stdout",
     "output_type": "stream",
     "text": [
      "Zs saved.\n",
      "Varpi saved.\n",
      "Dyn saved.\n",
      "8534160\n"
     ]
    },
    {
     "name": "stderr",
     "output_type": "stream",
     "text": [
      "/tank/users/tuchida/miniconda3/envs/ensemble/lib/python3.7/site-packages/ipykernel_launcher.py:106: FutureWarning: This DataArray contains multi-dimensional coordinates. In the future, these coordinates will be transposed as well unless you specify transpose_coords=False.\n",
      "/tank/users/tuchida/miniconda3/envs/ensemble/lib/python3.7/site-packages/ipykernel_launcher.py:108: FutureWarning: This DataArray contains multi-dimensional coordinates. In the future, these coordinates will be transposed as well unless you specify transpose_coords=False.\n",
      "/tank/users/tuchida/miniconda3/envs/ensemble/lib/python3.7/site-packages/ipykernel_launcher.py:110: FutureWarning: This DataArray contains multi-dimensional coordinates. In the future, these coordinates will be transposed as well unless you specify transpose_coords=False.\n"
     ]
    },
    {
     "name": "stdout",
     "output_type": "stream",
     "text": [
      "Zs saved.\n",
      "Varpi saved.\n",
      "Dyn saved.\n",
      "8536320\n"
     ]
    },
    {
     "name": "stderr",
     "output_type": "stream",
     "text": [
      "/tank/users/tuchida/miniconda3/envs/ensemble/lib/python3.7/site-packages/ipykernel_launcher.py:106: FutureWarning: This DataArray contains multi-dimensional coordinates. In the future, these coordinates will be transposed as well unless you specify transpose_coords=False.\n",
      "/tank/users/tuchida/miniconda3/envs/ensemble/lib/python3.7/site-packages/ipykernel_launcher.py:108: FutureWarning: This DataArray contains multi-dimensional coordinates. In the future, these coordinates will be transposed as well unless you specify transpose_coords=False.\n",
      "/tank/users/tuchida/miniconda3/envs/ensemble/lib/python3.7/site-packages/ipykernel_launcher.py:110: FutureWarning: This DataArray contains multi-dimensional coordinates. In the future, these coordinates will be transposed as well unless you specify transpose_coords=False.\n"
     ]
    },
    {
     "name": "stdout",
     "output_type": "stream",
     "text": [
      "Zs saved.\n",
      "Varpi saved.\n",
      "Dyn saved.\n",
      "8538480\n"
     ]
    },
    {
     "name": "stderr",
     "output_type": "stream",
     "text": [
      "/tank/users/tuchida/miniconda3/envs/ensemble/lib/python3.7/site-packages/ipykernel_launcher.py:106: FutureWarning: This DataArray contains multi-dimensional coordinates. In the future, these coordinates will be transposed as well unless you specify transpose_coords=False.\n",
      "/tank/users/tuchida/miniconda3/envs/ensemble/lib/python3.7/site-packages/ipykernel_launcher.py:108: FutureWarning: This DataArray contains multi-dimensional coordinates. In the future, these coordinates will be transposed as well unless you specify transpose_coords=False.\n",
      "/tank/users/tuchida/miniconda3/envs/ensemble/lib/python3.7/site-packages/ipykernel_launcher.py:110: FutureWarning: This DataArray contains multi-dimensional coordinates. In the future, these coordinates will be transposed as well unless you specify transpose_coords=False.\n"
     ]
    },
    {
     "name": "stdout",
     "output_type": "stream",
     "text": [
      "Zs saved.\n",
      "Varpi saved.\n",
      "Dyn saved.\n",
      "8540640\n"
     ]
    },
    {
     "name": "stderr",
     "output_type": "stream",
     "text": [
      "/tank/users/tuchida/miniconda3/envs/ensemble/lib/python3.7/site-packages/ipykernel_launcher.py:106: FutureWarning: This DataArray contains multi-dimensional coordinates. In the future, these coordinates will be transposed as well unless you specify transpose_coords=False.\n",
      "/tank/users/tuchida/miniconda3/envs/ensemble/lib/python3.7/site-packages/ipykernel_launcher.py:108: FutureWarning: This DataArray contains multi-dimensional coordinates. In the future, these coordinates will be transposed as well unless you specify transpose_coords=False.\n",
      "/tank/users/tuchida/miniconda3/envs/ensemble/lib/python3.7/site-packages/ipykernel_launcher.py:110: FutureWarning: This DataArray contains multi-dimensional coordinates. In the future, these coordinates will be transposed as well unless you specify transpose_coords=False.\n"
     ]
    },
    {
     "name": "stdout",
     "output_type": "stream",
     "text": [
      "Zs saved.\n",
      "Varpi saved.\n",
      "Dyn saved.\n",
      "8542800\n"
     ]
    },
    {
     "name": "stderr",
     "output_type": "stream",
     "text": [
      "/tank/users/tuchida/miniconda3/envs/ensemble/lib/python3.7/site-packages/ipykernel_launcher.py:106: FutureWarning: This DataArray contains multi-dimensional coordinates. In the future, these coordinates will be transposed as well unless you specify transpose_coords=False.\n",
      "/tank/users/tuchida/miniconda3/envs/ensemble/lib/python3.7/site-packages/ipykernel_launcher.py:108: FutureWarning: This DataArray contains multi-dimensional coordinates. In the future, these coordinates will be transposed as well unless you specify transpose_coords=False.\n",
      "/tank/users/tuchida/miniconda3/envs/ensemble/lib/python3.7/site-packages/ipykernel_launcher.py:110: FutureWarning: This DataArray contains multi-dimensional coordinates. In the future, these coordinates will be transposed as well unless you specify transpose_coords=False.\n"
     ]
    },
    {
     "name": "stdout",
     "output_type": "stream",
     "text": [
      "Zs saved.\n",
      "Varpi saved.\n",
      "Dyn saved.\n",
      "8544960\n"
     ]
    },
    {
     "name": "stderr",
     "output_type": "stream",
     "text": [
      "/tank/users/tuchida/miniconda3/envs/ensemble/lib/python3.7/site-packages/ipykernel_launcher.py:106: FutureWarning: This DataArray contains multi-dimensional coordinates. In the future, these coordinates will be transposed as well unless you specify transpose_coords=False.\n",
      "/tank/users/tuchida/miniconda3/envs/ensemble/lib/python3.7/site-packages/ipykernel_launcher.py:108: FutureWarning: This DataArray contains multi-dimensional coordinates. In the future, these coordinates will be transposed as well unless you specify transpose_coords=False.\n",
      "/tank/users/tuchida/miniconda3/envs/ensemble/lib/python3.7/site-packages/ipykernel_launcher.py:110: FutureWarning: This DataArray contains multi-dimensional coordinates. In the future, these coordinates will be transposed as well unless you specify transpose_coords=False.\n"
     ]
    },
    {
     "name": "stdout",
     "output_type": "stream",
     "text": [
      "Zs saved.\n",
      "Varpi saved.\n",
      "Dyn saved.\n",
      "8547120\n"
     ]
    },
    {
     "name": "stderr",
     "output_type": "stream",
     "text": [
      "/tank/users/tuchida/miniconda3/envs/ensemble/lib/python3.7/site-packages/ipykernel_launcher.py:106: FutureWarning: This DataArray contains multi-dimensional coordinates. In the future, these coordinates will be transposed as well unless you specify transpose_coords=False.\n",
      "/tank/users/tuchida/miniconda3/envs/ensemble/lib/python3.7/site-packages/ipykernel_launcher.py:108: FutureWarning: This DataArray contains multi-dimensional coordinates. In the future, these coordinates will be transposed as well unless you specify transpose_coords=False.\n",
      "/tank/users/tuchida/miniconda3/envs/ensemble/lib/python3.7/site-packages/ipykernel_launcher.py:110: FutureWarning: This DataArray contains multi-dimensional coordinates. In the future, these coordinates will be transposed as well unless you specify transpose_coords=False.\n"
     ]
    },
    {
     "name": "stdout",
     "output_type": "stream",
     "text": [
      "Zs saved.\n",
      "Varpi saved.\n",
      "Dyn saved.\n",
      "8549280\n"
     ]
    },
    {
     "name": "stderr",
     "output_type": "stream",
     "text": [
      "/tank/users/tuchida/miniconda3/envs/ensemble/lib/python3.7/site-packages/ipykernel_launcher.py:106: FutureWarning: This DataArray contains multi-dimensional coordinates. In the future, these coordinates will be transposed as well unless you specify transpose_coords=False.\n",
      "/tank/users/tuchida/miniconda3/envs/ensemble/lib/python3.7/site-packages/ipykernel_launcher.py:108: FutureWarning: This DataArray contains multi-dimensional coordinates. In the future, these coordinates will be transposed as well unless you specify transpose_coords=False.\n",
      "/tank/users/tuchida/miniconda3/envs/ensemble/lib/python3.7/site-packages/ipykernel_launcher.py:110: FutureWarning: This DataArray contains multi-dimensional coordinates. In the future, these coordinates will be transposed as well unless you specify transpose_coords=False.\n"
     ]
    },
    {
     "name": "stdout",
     "output_type": "stream",
     "text": [
      "Zs saved.\n",
      "Varpi saved.\n",
      "Dyn saved.\n",
      "8551440\n"
     ]
    },
    {
     "name": "stderr",
     "output_type": "stream",
     "text": [
      "/tank/users/tuchida/miniconda3/envs/ensemble/lib/python3.7/site-packages/ipykernel_launcher.py:106: FutureWarning: This DataArray contains multi-dimensional coordinates. In the future, these coordinates will be transposed as well unless you specify transpose_coords=False.\n",
      "/tank/users/tuchida/miniconda3/envs/ensemble/lib/python3.7/site-packages/ipykernel_launcher.py:108: FutureWarning: This DataArray contains multi-dimensional coordinates. In the future, these coordinates will be transposed as well unless you specify transpose_coords=False.\n",
      "/tank/users/tuchida/miniconda3/envs/ensemble/lib/python3.7/site-packages/ipykernel_launcher.py:110: FutureWarning: This DataArray contains multi-dimensional coordinates. In the future, these coordinates will be transposed as well unless you specify transpose_coords=False.\n"
     ]
    },
    {
     "name": "stdout",
     "output_type": "stream",
     "text": [
      "Zs saved.\n",
      "Varpi saved.\n",
      "Dyn saved.\n",
      "8553600\n"
     ]
    },
    {
     "name": "stderr",
     "output_type": "stream",
     "text": [
      "/tank/users/tuchida/miniconda3/envs/ensemble/lib/python3.7/site-packages/ipykernel_launcher.py:106: FutureWarning: This DataArray contains multi-dimensional coordinates. In the future, these coordinates will be transposed as well unless you specify transpose_coords=False.\n",
      "/tank/users/tuchida/miniconda3/envs/ensemble/lib/python3.7/site-packages/ipykernel_launcher.py:108: FutureWarning: This DataArray contains multi-dimensional coordinates. In the future, these coordinates will be transposed as well unless you specify transpose_coords=False.\n",
      "/tank/users/tuchida/miniconda3/envs/ensemble/lib/python3.7/site-packages/ipykernel_launcher.py:110: FutureWarning: This DataArray contains multi-dimensional coordinates. In the future, these coordinates will be transposed as well unless you specify transpose_coords=False.\n"
     ]
    },
    {
     "name": "stdout",
     "output_type": "stream",
     "text": [
      "Zs saved.\n",
      "Varpi saved.\n",
      "Dyn saved.\n",
      "8555760\n"
     ]
    },
    {
     "name": "stderr",
     "output_type": "stream",
     "text": [
      "/tank/users/tuchida/miniconda3/envs/ensemble/lib/python3.7/site-packages/ipykernel_launcher.py:106: FutureWarning: This DataArray contains multi-dimensional coordinates. In the future, these coordinates will be transposed as well unless you specify transpose_coords=False.\n",
      "/tank/users/tuchida/miniconda3/envs/ensemble/lib/python3.7/site-packages/ipykernel_launcher.py:108: FutureWarning: This DataArray contains multi-dimensional coordinates. In the future, these coordinates will be transposed as well unless you specify transpose_coords=False.\n",
      "/tank/users/tuchida/miniconda3/envs/ensemble/lib/python3.7/site-packages/ipykernel_launcher.py:110: FutureWarning: This DataArray contains multi-dimensional coordinates. In the future, these coordinates will be transposed as well unless you specify transpose_coords=False.\n"
     ]
    },
    {
     "name": "stdout",
     "output_type": "stream",
     "text": [
      "Zs saved.\n",
      "Varpi saved.\n",
      "Dyn saved.\n",
      "8557920\n"
     ]
    },
    {
     "name": "stderr",
     "output_type": "stream",
     "text": [
      "/tank/users/tuchida/miniconda3/envs/ensemble/lib/python3.7/site-packages/ipykernel_launcher.py:106: FutureWarning: This DataArray contains multi-dimensional coordinates. In the future, these coordinates will be transposed as well unless you specify transpose_coords=False.\n",
      "/tank/users/tuchida/miniconda3/envs/ensemble/lib/python3.7/site-packages/ipykernel_launcher.py:108: FutureWarning: This DataArray contains multi-dimensional coordinates. In the future, these coordinates will be transposed as well unless you specify transpose_coords=False.\n",
      "/tank/users/tuchida/miniconda3/envs/ensemble/lib/python3.7/site-packages/ipykernel_launcher.py:110: FutureWarning: This DataArray contains multi-dimensional coordinates. In the future, these coordinates will be transposed as well unless you specify transpose_coords=False.\n"
     ]
    },
    {
     "name": "stdout",
     "output_type": "stream",
     "text": [
      "Zs saved.\n",
      "Varpi saved.\n",
      "Dyn saved.\n",
      "8560080\n"
     ]
    },
    {
     "name": "stderr",
     "output_type": "stream",
     "text": [
      "/tank/users/tuchida/miniconda3/envs/ensemble/lib/python3.7/site-packages/ipykernel_launcher.py:106: FutureWarning: This DataArray contains multi-dimensional coordinates. In the future, these coordinates will be transposed as well unless you specify transpose_coords=False.\n",
      "/tank/users/tuchida/miniconda3/envs/ensemble/lib/python3.7/site-packages/ipykernel_launcher.py:108: FutureWarning: This DataArray contains multi-dimensional coordinates. In the future, these coordinates will be transposed as well unless you specify transpose_coords=False.\n",
      "/tank/users/tuchida/miniconda3/envs/ensemble/lib/python3.7/site-packages/ipykernel_launcher.py:110: FutureWarning: This DataArray contains multi-dimensional coordinates. In the future, these coordinates will be transposed as well unless you specify transpose_coords=False.\n"
     ]
    },
    {
     "name": "stdout",
     "output_type": "stream",
     "text": [
      "Zs saved.\n",
      "Varpi saved.\n",
      "Dyn saved.\n",
      "8562240\n"
     ]
    },
    {
     "name": "stderr",
     "output_type": "stream",
     "text": [
      "/tank/users/tuchida/miniconda3/envs/ensemble/lib/python3.7/site-packages/ipykernel_launcher.py:106: FutureWarning: This DataArray contains multi-dimensional coordinates. In the future, these coordinates will be transposed as well unless you specify transpose_coords=False.\n",
      "/tank/users/tuchida/miniconda3/envs/ensemble/lib/python3.7/site-packages/ipykernel_launcher.py:108: FutureWarning: This DataArray contains multi-dimensional coordinates. In the future, these coordinates will be transposed as well unless you specify transpose_coords=False.\n",
      "/tank/users/tuchida/miniconda3/envs/ensemble/lib/python3.7/site-packages/ipykernel_launcher.py:110: FutureWarning: This DataArray contains multi-dimensional coordinates. In the future, these coordinates will be transposed as well unless you specify transpose_coords=False.\n"
     ]
    },
    {
     "name": "stdout",
     "output_type": "stream",
     "text": [
      "Zs saved.\n",
      "Varpi saved.\n",
      "Dyn saved.\n",
      "8564400\n"
     ]
    },
    {
     "name": "stderr",
     "output_type": "stream",
     "text": [
      "/tank/users/tuchida/miniconda3/envs/ensemble/lib/python3.7/site-packages/ipykernel_launcher.py:106: FutureWarning: This DataArray contains multi-dimensional coordinates. In the future, these coordinates will be transposed as well unless you specify transpose_coords=False.\n",
      "/tank/users/tuchida/miniconda3/envs/ensemble/lib/python3.7/site-packages/ipykernel_launcher.py:108: FutureWarning: This DataArray contains multi-dimensional coordinates. In the future, these coordinates will be transposed as well unless you specify transpose_coords=False.\n",
      "/tank/users/tuchida/miniconda3/envs/ensemble/lib/python3.7/site-packages/ipykernel_launcher.py:110: FutureWarning: This DataArray contains multi-dimensional coordinates. In the future, these coordinates will be transposed as well unless you specify transpose_coords=False.\n"
     ]
    },
    {
     "name": "stdout",
     "output_type": "stream",
     "text": [
      "Zs saved.\n",
      "Varpi saved.\n",
      "Dyn saved.\n",
      "8566560\n"
     ]
    },
    {
     "name": "stderr",
     "output_type": "stream",
     "text": [
      "/tank/users/tuchida/miniconda3/envs/ensemble/lib/python3.7/site-packages/ipykernel_launcher.py:106: FutureWarning: This DataArray contains multi-dimensional coordinates. In the future, these coordinates will be transposed as well unless you specify transpose_coords=False.\n",
      "/tank/users/tuchida/miniconda3/envs/ensemble/lib/python3.7/site-packages/ipykernel_launcher.py:108: FutureWarning: This DataArray contains multi-dimensional coordinates. In the future, these coordinates will be transposed as well unless you specify transpose_coords=False.\n",
      "/tank/users/tuchida/miniconda3/envs/ensemble/lib/python3.7/site-packages/ipykernel_launcher.py:110: FutureWarning: This DataArray contains multi-dimensional coordinates. In the future, these coordinates will be transposed as well unless you specify transpose_coords=False.\n"
     ]
    },
    {
     "name": "stdout",
     "output_type": "stream",
     "text": [
      "Zs saved.\n",
      "Varpi saved.\n",
      "Dyn saved.\n",
      "8568720\n"
     ]
    },
    {
     "name": "stderr",
     "output_type": "stream",
     "text": [
      "/tank/users/tuchida/miniconda3/envs/ensemble/lib/python3.7/site-packages/ipykernel_launcher.py:106: FutureWarning: This DataArray contains multi-dimensional coordinates. In the future, these coordinates will be transposed as well unless you specify transpose_coords=False.\n",
      "/tank/users/tuchida/miniconda3/envs/ensemble/lib/python3.7/site-packages/ipykernel_launcher.py:108: FutureWarning: This DataArray contains multi-dimensional coordinates. In the future, these coordinates will be transposed as well unless you specify transpose_coords=False.\n",
      "/tank/users/tuchida/miniconda3/envs/ensemble/lib/python3.7/site-packages/ipykernel_launcher.py:110: FutureWarning: This DataArray contains multi-dimensional coordinates. In the future, these coordinates will be transposed as well unless you specify transpose_coords=False.\n"
     ]
    },
    {
     "name": "stdout",
     "output_type": "stream",
     "text": [
      "Zs saved.\n",
      "Varpi saved.\n",
      "Dyn saved.\n",
      "8570880\n"
     ]
    },
    {
     "name": "stderr",
     "output_type": "stream",
     "text": [
      "/tank/users/tuchida/miniconda3/envs/ensemble/lib/python3.7/site-packages/ipykernel_launcher.py:106: FutureWarning: This DataArray contains multi-dimensional coordinates. In the future, these coordinates will be transposed as well unless you specify transpose_coords=False.\n",
      "/tank/users/tuchida/miniconda3/envs/ensemble/lib/python3.7/site-packages/ipykernel_launcher.py:108: FutureWarning: This DataArray contains multi-dimensional coordinates. In the future, these coordinates will be transposed as well unless you specify transpose_coords=False.\n",
      "/tank/users/tuchida/miniconda3/envs/ensemble/lib/python3.7/site-packages/ipykernel_launcher.py:110: FutureWarning: This DataArray contains multi-dimensional coordinates. In the future, these coordinates will be transposed as well unless you specify transpose_coords=False.\n"
     ]
    },
    {
     "name": "stdout",
     "output_type": "stream",
     "text": [
      "Zs saved.\n",
      "Varpi saved.\n",
      "Dyn saved.\n",
      "8573040\n"
     ]
    },
    {
     "name": "stderr",
     "output_type": "stream",
     "text": [
      "/tank/users/tuchida/miniconda3/envs/ensemble/lib/python3.7/site-packages/ipykernel_launcher.py:106: FutureWarning: This DataArray contains multi-dimensional coordinates. In the future, these coordinates will be transposed as well unless you specify transpose_coords=False.\n",
      "/tank/users/tuchida/miniconda3/envs/ensemble/lib/python3.7/site-packages/ipykernel_launcher.py:108: FutureWarning: This DataArray contains multi-dimensional coordinates. In the future, these coordinates will be transposed as well unless you specify transpose_coords=False.\n",
      "/tank/users/tuchida/miniconda3/envs/ensemble/lib/python3.7/site-packages/ipykernel_launcher.py:110: FutureWarning: This DataArray contains multi-dimensional coordinates. In the future, these coordinates will be transposed as well unless you specify transpose_coords=False.\n"
     ]
    },
    {
     "name": "stdout",
     "output_type": "stream",
     "text": [
      "Zs saved.\n",
      "Varpi saved.\n",
      "Dyn saved.\n",
      "8575200\n"
     ]
    },
    {
     "name": "stderr",
     "output_type": "stream",
     "text": [
      "/tank/users/tuchida/miniconda3/envs/ensemble/lib/python3.7/site-packages/ipykernel_launcher.py:106: FutureWarning: This DataArray contains multi-dimensional coordinates. In the future, these coordinates will be transposed as well unless you specify transpose_coords=False.\n",
      "/tank/users/tuchida/miniconda3/envs/ensemble/lib/python3.7/site-packages/ipykernel_launcher.py:108: FutureWarning: This DataArray contains multi-dimensional coordinates. In the future, these coordinates will be transposed as well unless you specify transpose_coords=False.\n",
      "/tank/users/tuchida/miniconda3/envs/ensemble/lib/python3.7/site-packages/ipykernel_launcher.py:110: FutureWarning: This DataArray contains multi-dimensional coordinates. In the future, these coordinates will be transposed as well unless you specify transpose_coords=False.\n"
     ]
    },
    {
     "name": "stdout",
     "output_type": "stream",
     "text": [
      "Zs saved.\n",
      "Varpi saved.\n",
      "Dyn saved.\n",
      "8577360\n"
     ]
    },
    {
     "name": "stderr",
     "output_type": "stream",
     "text": [
      "/tank/users/tuchida/miniconda3/envs/ensemble/lib/python3.7/site-packages/ipykernel_launcher.py:106: FutureWarning: This DataArray contains multi-dimensional coordinates. In the future, these coordinates will be transposed as well unless you specify transpose_coords=False.\n",
      "/tank/users/tuchida/miniconda3/envs/ensemble/lib/python3.7/site-packages/ipykernel_launcher.py:108: FutureWarning: This DataArray contains multi-dimensional coordinates. In the future, these coordinates will be transposed as well unless you specify transpose_coords=False.\n",
      "/tank/users/tuchida/miniconda3/envs/ensemble/lib/python3.7/site-packages/ipykernel_launcher.py:110: FutureWarning: This DataArray contains multi-dimensional coordinates. In the future, these coordinates will be transposed as well unless you specify transpose_coords=False.\n"
     ]
    },
    {
     "name": "stdout",
     "output_type": "stream",
     "text": [
      "Zs saved.\n",
      "Varpi saved.\n",
      "Dyn saved.\n",
      "8579520\n"
     ]
    },
    {
     "name": "stderr",
     "output_type": "stream",
     "text": [
      "/tank/users/tuchida/miniconda3/envs/ensemble/lib/python3.7/site-packages/ipykernel_launcher.py:106: FutureWarning: This DataArray contains multi-dimensional coordinates. In the future, these coordinates will be transposed as well unless you specify transpose_coords=False.\n",
      "/tank/users/tuchida/miniconda3/envs/ensemble/lib/python3.7/site-packages/ipykernel_launcher.py:108: FutureWarning: This DataArray contains multi-dimensional coordinates. In the future, these coordinates will be transposed as well unless you specify transpose_coords=False.\n",
      "/tank/users/tuchida/miniconda3/envs/ensemble/lib/python3.7/site-packages/ipykernel_launcher.py:110: FutureWarning: This DataArray contains multi-dimensional coordinates. In the future, these coordinates will be transposed as well unless you specify transpose_coords=False.\n"
     ]
    },
    {
     "name": "stdout",
     "output_type": "stream",
     "text": [
      "Zs saved.\n",
      "Varpi saved.\n",
      "Dyn saved.\n",
      "8581680\n"
     ]
    },
    {
     "name": "stderr",
     "output_type": "stream",
     "text": [
      "/tank/users/tuchida/miniconda3/envs/ensemble/lib/python3.7/site-packages/ipykernel_launcher.py:106: FutureWarning: This DataArray contains multi-dimensional coordinates. In the future, these coordinates will be transposed as well unless you specify transpose_coords=False.\n",
      "/tank/users/tuchida/miniconda3/envs/ensemble/lib/python3.7/site-packages/ipykernel_launcher.py:108: FutureWarning: This DataArray contains multi-dimensional coordinates. In the future, these coordinates will be transposed as well unless you specify transpose_coords=False.\n",
      "/tank/users/tuchida/miniconda3/envs/ensemble/lib/python3.7/site-packages/ipykernel_launcher.py:110: FutureWarning: This DataArray contains multi-dimensional coordinates. In the future, these coordinates will be transposed as well unless you specify transpose_coords=False.\n"
     ]
    },
    {
     "name": "stdout",
     "output_type": "stream",
     "text": [
      "Zs saved.\n",
      "Varpi saved.\n",
      "Dyn saved.\n",
      "8583840\n"
     ]
    },
    {
     "name": "stderr",
     "output_type": "stream",
     "text": [
      "/tank/users/tuchida/miniconda3/envs/ensemble/lib/python3.7/site-packages/ipykernel_launcher.py:106: FutureWarning: This DataArray contains multi-dimensional coordinates. In the future, these coordinates will be transposed as well unless you specify transpose_coords=False.\n",
      "/tank/users/tuchida/miniconda3/envs/ensemble/lib/python3.7/site-packages/ipykernel_launcher.py:108: FutureWarning: This DataArray contains multi-dimensional coordinates. In the future, these coordinates will be transposed as well unless you specify transpose_coords=False.\n",
      "/tank/users/tuchida/miniconda3/envs/ensemble/lib/python3.7/site-packages/ipykernel_launcher.py:110: FutureWarning: This DataArray contains multi-dimensional coordinates. In the future, these coordinates will be transposed as well unless you specify transpose_coords=False.\n"
     ]
    },
    {
     "name": "stdout",
     "output_type": "stream",
     "text": [
      "Zs saved.\n",
      "Varpi saved.\n",
      "Dyn saved.\n",
      "8586000\n"
     ]
    },
    {
     "name": "stderr",
     "output_type": "stream",
     "text": [
      "/tank/users/tuchida/miniconda3/envs/ensemble/lib/python3.7/site-packages/ipykernel_launcher.py:106: FutureWarning: This DataArray contains multi-dimensional coordinates. In the future, these coordinates will be transposed as well unless you specify transpose_coords=False.\n",
      "/tank/users/tuchida/miniconda3/envs/ensemble/lib/python3.7/site-packages/ipykernel_launcher.py:108: FutureWarning: This DataArray contains multi-dimensional coordinates. In the future, these coordinates will be transposed as well unless you specify transpose_coords=False.\n",
      "/tank/users/tuchida/miniconda3/envs/ensemble/lib/python3.7/site-packages/ipykernel_launcher.py:110: FutureWarning: This DataArray contains multi-dimensional coordinates. In the future, these coordinates will be transposed as well unless you specify transpose_coords=False.\n"
     ]
    },
    {
     "name": "stdout",
     "output_type": "stream",
     "text": [
      "Zs saved.\n",
      "Varpi saved.\n",
      "Dyn saved.\n",
      "8588160\n"
     ]
    },
    {
     "name": "stderr",
     "output_type": "stream",
     "text": [
      "/tank/users/tuchida/miniconda3/envs/ensemble/lib/python3.7/site-packages/ipykernel_launcher.py:106: FutureWarning: This DataArray contains multi-dimensional coordinates. In the future, these coordinates will be transposed as well unless you specify transpose_coords=False.\n",
      "/tank/users/tuchida/miniconda3/envs/ensemble/lib/python3.7/site-packages/ipykernel_launcher.py:108: FutureWarning: This DataArray contains multi-dimensional coordinates. In the future, these coordinates will be transposed as well unless you specify transpose_coords=False.\n",
      "/tank/users/tuchida/miniconda3/envs/ensemble/lib/python3.7/site-packages/ipykernel_launcher.py:110: FutureWarning: This DataArray contains multi-dimensional coordinates. In the future, these coordinates will be transposed as well unless you specify transpose_coords=False.\n"
     ]
    },
    {
     "name": "stdout",
     "output_type": "stream",
     "text": [
      "Zs saved.\n",
      "Varpi saved.\n",
      "Dyn saved.\n",
      "8590320\n"
     ]
    },
    {
     "name": "stderr",
     "output_type": "stream",
     "text": [
      "/tank/users/tuchida/miniconda3/envs/ensemble/lib/python3.7/site-packages/ipykernel_launcher.py:106: FutureWarning: This DataArray contains multi-dimensional coordinates. In the future, these coordinates will be transposed as well unless you specify transpose_coords=False.\n",
      "/tank/users/tuchida/miniconda3/envs/ensemble/lib/python3.7/site-packages/ipykernel_launcher.py:108: FutureWarning: This DataArray contains multi-dimensional coordinates. In the future, these coordinates will be transposed as well unless you specify transpose_coords=False.\n",
      "/tank/users/tuchida/miniconda3/envs/ensemble/lib/python3.7/site-packages/ipykernel_launcher.py:110: FutureWarning: This DataArray contains multi-dimensional coordinates. In the future, these coordinates will be transposed as well unless you specify transpose_coords=False.\n"
     ]
    },
    {
     "name": "stdout",
     "output_type": "stream",
     "text": [
      "Zs saved.\n",
      "Varpi saved.\n",
      "Dyn saved.\n",
      "8592480\n"
     ]
    },
    {
     "name": "stderr",
     "output_type": "stream",
     "text": [
      "/tank/users/tuchida/miniconda3/envs/ensemble/lib/python3.7/site-packages/ipykernel_launcher.py:106: FutureWarning: This DataArray contains multi-dimensional coordinates. In the future, these coordinates will be transposed as well unless you specify transpose_coords=False.\n",
      "/tank/users/tuchida/miniconda3/envs/ensemble/lib/python3.7/site-packages/ipykernel_launcher.py:108: FutureWarning: This DataArray contains multi-dimensional coordinates. In the future, these coordinates will be transposed as well unless you specify transpose_coords=False.\n",
      "/tank/users/tuchida/miniconda3/envs/ensemble/lib/python3.7/site-packages/ipykernel_launcher.py:110: FutureWarning: This DataArray contains multi-dimensional coordinates. In the future, these coordinates will be transposed as well unless you specify transpose_coords=False.\n"
     ]
    },
    {
     "name": "stdout",
     "output_type": "stream",
     "text": [
      "Zs saved.\n",
      "Varpi saved.\n",
      "Dyn saved.\n",
      "8594640\n"
     ]
    },
    {
     "name": "stderr",
     "output_type": "stream",
     "text": [
      "/tank/users/tuchida/miniconda3/envs/ensemble/lib/python3.7/site-packages/ipykernel_launcher.py:106: FutureWarning: This DataArray contains multi-dimensional coordinates. In the future, these coordinates will be transposed as well unless you specify transpose_coords=False.\n",
      "/tank/users/tuchida/miniconda3/envs/ensemble/lib/python3.7/site-packages/ipykernel_launcher.py:108: FutureWarning: This DataArray contains multi-dimensional coordinates. In the future, these coordinates will be transposed as well unless you specify transpose_coords=False.\n",
      "/tank/users/tuchida/miniconda3/envs/ensemble/lib/python3.7/site-packages/ipykernel_launcher.py:110: FutureWarning: This DataArray contains multi-dimensional coordinates. In the future, these coordinates will be transposed as well unless you specify transpose_coords=False.\n"
     ]
    },
    {
     "name": "stdout",
     "output_type": "stream",
     "text": [
      "Zs saved.\n",
      "Varpi saved.\n",
      "Dyn saved.\n",
      "8596800\n"
     ]
    },
    {
     "name": "stderr",
     "output_type": "stream",
     "text": [
      "/tank/users/tuchida/miniconda3/envs/ensemble/lib/python3.7/site-packages/ipykernel_launcher.py:106: FutureWarning: This DataArray contains multi-dimensional coordinates. In the future, these coordinates will be transposed as well unless you specify transpose_coords=False.\n",
      "/tank/users/tuchida/miniconda3/envs/ensemble/lib/python3.7/site-packages/ipykernel_launcher.py:108: FutureWarning: This DataArray contains multi-dimensional coordinates. In the future, these coordinates will be transposed as well unless you specify transpose_coords=False.\n",
      "/tank/users/tuchida/miniconda3/envs/ensemble/lib/python3.7/site-packages/ipykernel_launcher.py:110: FutureWarning: This DataArray contains multi-dimensional coordinates. In the future, these coordinates will be transposed as well unless you specify transpose_coords=False.\n"
     ]
    },
    {
     "name": "stdout",
     "output_type": "stream",
     "text": [
      "Zs saved.\n",
      "Varpi saved.\n",
      "Dyn saved.\n",
      "8598960\n"
     ]
    },
    {
     "name": "stderr",
     "output_type": "stream",
     "text": [
      "/tank/users/tuchida/miniconda3/envs/ensemble/lib/python3.7/site-packages/ipykernel_launcher.py:106: FutureWarning: This DataArray contains multi-dimensional coordinates. In the future, these coordinates will be transposed as well unless you specify transpose_coords=False.\n",
      "/tank/users/tuchida/miniconda3/envs/ensemble/lib/python3.7/site-packages/ipykernel_launcher.py:108: FutureWarning: This DataArray contains multi-dimensional coordinates. In the future, these coordinates will be transposed as well unless you specify transpose_coords=False.\n",
      "/tank/users/tuchida/miniconda3/envs/ensemble/lib/python3.7/site-packages/ipykernel_launcher.py:110: FutureWarning: This DataArray contains multi-dimensional coordinates. In the future, these coordinates will be transposed as well unless you specify transpose_coords=False.\n"
     ]
    },
    {
     "name": "stdout",
     "output_type": "stream",
     "text": [
      "Zs saved.\n",
      "Varpi saved.\n",
      "Dyn saved.\n",
      "8601120\n"
     ]
    },
    {
     "name": "stderr",
     "output_type": "stream",
     "text": [
      "/tank/users/tuchida/miniconda3/envs/ensemble/lib/python3.7/site-packages/ipykernel_launcher.py:106: FutureWarning: This DataArray contains multi-dimensional coordinates. In the future, these coordinates will be transposed as well unless you specify transpose_coords=False.\n",
      "/tank/users/tuchida/miniconda3/envs/ensemble/lib/python3.7/site-packages/ipykernel_launcher.py:108: FutureWarning: This DataArray contains multi-dimensional coordinates. In the future, these coordinates will be transposed as well unless you specify transpose_coords=False.\n",
      "/tank/users/tuchida/miniconda3/envs/ensemble/lib/python3.7/site-packages/ipykernel_launcher.py:110: FutureWarning: This DataArray contains multi-dimensional coordinates. In the future, these coordinates will be transposed as well unless you specify transpose_coords=False.\n"
     ]
    },
    {
     "name": "stdout",
     "output_type": "stream",
     "text": [
      "Zs saved.\n",
      "Varpi saved.\n",
      "Dyn saved.\n",
      "8603280\n"
     ]
    },
    {
     "name": "stderr",
     "output_type": "stream",
     "text": [
      "/tank/users/tuchida/miniconda3/envs/ensemble/lib/python3.7/site-packages/ipykernel_launcher.py:106: FutureWarning: This DataArray contains multi-dimensional coordinates. In the future, these coordinates will be transposed as well unless you specify transpose_coords=False.\n",
      "/tank/users/tuchida/miniconda3/envs/ensemble/lib/python3.7/site-packages/ipykernel_launcher.py:108: FutureWarning: This DataArray contains multi-dimensional coordinates. In the future, these coordinates will be transposed as well unless you specify transpose_coords=False.\n",
      "/tank/users/tuchida/miniconda3/envs/ensemble/lib/python3.7/site-packages/ipykernel_launcher.py:110: FutureWarning: This DataArray contains multi-dimensional coordinates. In the future, these coordinates will be transposed as well unless you specify transpose_coords=False.\n"
     ]
    },
    {
     "name": "stdout",
     "output_type": "stream",
     "text": [
      "Zs saved.\n",
      "Varpi saved.\n",
      "Dyn saved.\n",
      "8605440\n"
     ]
    },
    {
     "name": "stderr",
     "output_type": "stream",
     "text": [
      "/tank/users/tuchida/miniconda3/envs/ensemble/lib/python3.7/site-packages/ipykernel_launcher.py:106: FutureWarning: This DataArray contains multi-dimensional coordinates. In the future, these coordinates will be transposed as well unless you specify transpose_coords=False.\n",
      "/tank/users/tuchida/miniconda3/envs/ensemble/lib/python3.7/site-packages/ipykernel_launcher.py:108: FutureWarning: This DataArray contains multi-dimensional coordinates. In the future, these coordinates will be transposed as well unless you specify transpose_coords=False.\n",
      "/tank/users/tuchida/miniconda3/envs/ensemble/lib/python3.7/site-packages/ipykernel_launcher.py:110: FutureWarning: This DataArray contains multi-dimensional coordinates. In the future, these coordinates will be transposed as well unless you specify transpose_coords=False.\n"
     ]
    },
    {
     "name": "stdout",
     "output_type": "stream",
     "text": [
      "Zs saved.\n",
      "Varpi saved.\n",
      "Dyn saved.\n",
      "8607600\n"
     ]
    },
    {
     "name": "stderr",
     "output_type": "stream",
     "text": [
      "/tank/users/tuchida/miniconda3/envs/ensemble/lib/python3.7/site-packages/ipykernel_launcher.py:106: FutureWarning: This DataArray contains multi-dimensional coordinates. In the future, these coordinates will be transposed as well unless you specify transpose_coords=False.\n",
      "/tank/users/tuchida/miniconda3/envs/ensemble/lib/python3.7/site-packages/ipykernel_launcher.py:108: FutureWarning: This DataArray contains multi-dimensional coordinates. In the future, these coordinates will be transposed as well unless you specify transpose_coords=False.\n",
      "/tank/users/tuchida/miniconda3/envs/ensemble/lib/python3.7/site-packages/ipykernel_launcher.py:110: FutureWarning: This DataArray contains multi-dimensional coordinates. In the future, these coordinates will be transposed as well unless you specify transpose_coords=False.\n"
     ]
    },
    {
     "name": "stdout",
     "output_type": "stream",
     "text": [
      "Zs saved.\n",
      "Varpi saved.\n",
      "Dyn saved.\n",
      "8609760\n"
     ]
    },
    {
     "name": "stderr",
     "output_type": "stream",
     "text": [
      "/tank/users/tuchida/miniconda3/envs/ensemble/lib/python3.7/site-packages/ipykernel_launcher.py:106: FutureWarning: This DataArray contains multi-dimensional coordinates. In the future, these coordinates will be transposed as well unless you specify transpose_coords=False.\n",
      "/tank/users/tuchida/miniconda3/envs/ensemble/lib/python3.7/site-packages/ipykernel_launcher.py:108: FutureWarning: This DataArray contains multi-dimensional coordinates. In the future, these coordinates will be transposed as well unless you specify transpose_coords=False.\n",
      "/tank/users/tuchida/miniconda3/envs/ensemble/lib/python3.7/site-packages/ipykernel_launcher.py:110: FutureWarning: This DataArray contains multi-dimensional coordinates. In the future, these coordinates will be transposed as well unless you specify transpose_coords=False.\n"
     ]
    },
    {
     "name": "stdout",
     "output_type": "stream",
     "text": [
      "Zs saved.\n",
      "Varpi saved.\n",
      "Dyn saved.\n",
      "8611920\n"
     ]
    },
    {
     "name": "stderr",
     "output_type": "stream",
     "text": [
      "/tank/users/tuchida/miniconda3/envs/ensemble/lib/python3.7/site-packages/ipykernel_launcher.py:106: FutureWarning: This DataArray contains multi-dimensional coordinates. In the future, these coordinates will be transposed as well unless you specify transpose_coords=False.\n",
      "/tank/users/tuchida/miniconda3/envs/ensemble/lib/python3.7/site-packages/ipykernel_launcher.py:108: FutureWarning: This DataArray contains multi-dimensional coordinates. In the future, these coordinates will be transposed as well unless you specify transpose_coords=False.\n",
      "/tank/users/tuchida/miniconda3/envs/ensemble/lib/python3.7/site-packages/ipykernel_launcher.py:110: FutureWarning: This DataArray contains multi-dimensional coordinates. In the future, these coordinates will be transposed as well unless you specify transpose_coords=False.\n"
     ]
    },
    {
     "name": "stdout",
     "output_type": "stream",
     "text": [
      "Zs saved.\n",
      "Varpi saved.\n",
      "Dyn saved.\n",
      "8614080\n"
     ]
    },
    {
     "name": "stderr",
     "output_type": "stream",
     "text": [
      "/tank/users/tuchida/miniconda3/envs/ensemble/lib/python3.7/site-packages/ipykernel_launcher.py:106: FutureWarning: This DataArray contains multi-dimensional coordinates. In the future, these coordinates will be transposed as well unless you specify transpose_coords=False.\n",
      "/tank/users/tuchida/miniconda3/envs/ensemble/lib/python3.7/site-packages/ipykernel_launcher.py:108: FutureWarning: This DataArray contains multi-dimensional coordinates. In the future, these coordinates will be transposed as well unless you specify transpose_coords=False.\n",
      "/tank/users/tuchida/miniconda3/envs/ensemble/lib/python3.7/site-packages/ipykernel_launcher.py:110: FutureWarning: This DataArray contains multi-dimensional coordinates. In the future, these coordinates will be transposed as well unless you specify transpose_coords=False.\n"
     ]
    },
    {
     "name": "stdout",
     "output_type": "stream",
     "text": [
      "Zs saved.\n",
      "Varpi saved.\n",
      "Dyn saved.\n",
      "8616240\n"
     ]
    },
    {
     "name": "stderr",
     "output_type": "stream",
     "text": [
      "/tank/users/tuchida/miniconda3/envs/ensemble/lib/python3.7/site-packages/ipykernel_launcher.py:106: FutureWarning: This DataArray contains multi-dimensional coordinates. In the future, these coordinates will be transposed as well unless you specify transpose_coords=False.\n",
      "/tank/users/tuchida/miniconda3/envs/ensemble/lib/python3.7/site-packages/ipykernel_launcher.py:108: FutureWarning: This DataArray contains multi-dimensional coordinates. In the future, these coordinates will be transposed as well unless you specify transpose_coords=False.\n",
      "/tank/users/tuchida/miniconda3/envs/ensemble/lib/python3.7/site-packages/ipykernel_launcher.py:110: FutureWarning: This DataArray contains multi-dimensional coordinates. In the future, these coordinates will be transposed as well unless you specify transpose_coords=False.\n"
     ]
    },
    {
     "name": "stdout",
     "output_type": "stream",
     "text": [
      "Zs saved.\n",
      "Varpi saved.\n",
      "Dyn saved.\n",
      "8618400\n"
     ]
    },
    {
     "name": "stderr",
     "output_type": "stream",
     "text": [
      "/tank/users/tuchida/miniconda3/envs/ensemble/lib/python3.7/site-packages/ipykernel_launcher.py:106: FutureWarning: This DataArray contains multi-dimensional coordinates. In the future, these coordinates will be transposed as well unless you specify transpose_coords=False.\n",
      "/tank/users/tuchida/miniconda3/envs/ensemble/lib/python3.7/site-packages/ipykernel_launcher.py:108: FutureWarning: This DataArray contains multi-dimensional coordinates. In the future, these coordinates will be transposed as well unless you specify transpose_coords=False.\n",
      "/tank/users/tuchida/miniconda3/envs/ensemble/lib/python3.7/site-packages/ipykernel_launcher.py:110: FutureWarning: This DataArray contains multi-dimensional coordinates. In the future, these coordinates will be transposed as well unless you specify transpose_coords=False.\n"
     ]
    },
    {
     "name": "stdout",
     "output_type": "stream",
     "text": [
      "Zs saved.\n",
      "Varpi saved.\n",
      "Dyn saved.\n",
      "8620560\n"
     ]
    },
    {
     "name": "stderr",
     "output_type": "stream",
     "text": [
      "/tank/users/tuchida/miniconda3/envs/ensemble/lib/python3.7/site-packages/ipykernel_launcher.py:106: FutureWarning: This DataArray contains multi-dimensional coordinates. In the future, these coordinates will be transposed as well unless you specify transpose_coords=False.\n",
      "/tank/users/tuchida/miniconda3/envs/ensemble/lib/python3.7/site-packages/ipykernel_launcher.py:108: FutureWarning: This DataArray contains multi-dimensional coordinates. In the future, these coordinates will be transposed as well unless you specify transpose_coords=False.\n",
      "/tank/users/tuchida/miniconda3/envs/ensemble/lib/python3.7/site-packages/ipykernel_launcher.py:110: FutureWarning: This DataArray contains multi-dimensional coordinates. In the future, these coordinates will be transposed as well unless you specify transpose_coords=False.\n"
     ]
    },
    {
     "name": "stdout",
     "output_type": "stream",
     "text": [
      "Zs saved.\n",
      "Varpi saved.\n",
      "Dyn saved.\n",
      "8622720\n"
     ]
    },
    {
     "name": "stderr",
     "output_type": "stream",
     "text": [
      "/tank/users/tuchida/miniconda3/envs/ensemble/lib/python3.7/site-packages/ipykernel_launcher.py:106: FutureWarning: This DataArray contains multi-dimensional coordinates. In the future, these coordinates will be transposed as well unless you specify transpose_coords=False.\n",
      "/tank/users/tuchida/miniconda3/envs/ensemble/lib/python3.7/site-packages/ipykernel_launcher.py:108: FutureWarning: This DataArray contains multi-dimensional coordinates. In the future, these coordinates will be transposed as well unless you specify transpose_coords=False.\n",
      "/tank/users/tuchida/miniconda3/envs/ensemble/lib/python3.7/site-packages/ipykernel_launcher.py:110: FutureWarning: This DataArray contains multi-dimensional coordinates. In the future, these coordinates will be transposed as well unless you specify transpose_coords=False.\n"
     ]
    },
    {
     "name": "stdout",
     "output_type": "stream",
     "text": [
      "Zs saved.\n",
      "Varpi saved.\n",
      "Dyn saved.\n",
      "8624880\n"
     ]
    },
    {
     "name": "stderr",
     "output_type": "stream",
     "text": [
      "/tank/users/tuchida/miniconda3/envs/ensemble/lib/python3.7/site-packages/ipykernel_launcher.py:106: FutureWarning: This DataArray contains multi-dimensional coordinates. In the future, these coordinates will be transposed as well unless you specify transpose_coords=False.\n",
      "/tank/users/tuchida/miniconda3/envs/ensemble/lib/python3.7/site-packages/ipykernel_launcher.py:108: FutureWarning: This DataArray contains multi-dimensional coordinates. In the future, these coordinates will be transposed as well unless you specify transpose_coords=False.\n",
      "/tank/users/tuchida/miniconda3/envs/ensemble/lib/python3.7/site-packages/ipykernel_launcher.py:110: FutureWarning: This DataArray contains multi-dimensional coordinates. In the future, these coordinates will be transposed as well unless you specify transpose_coords=False.\n"
     ]
    },
    {
     "name": "stdout",
     "output_type": "stream",
     "text": [
      "Zs saved.\n",
      "Varpi saved.\n",
      "Dyn saved.\n",
      "8627040\n"
     ]
    },
    {
     "name": "stderr",
     "output_type": "stream",
     "text": [
      "/tank/users/tuchida/miniconda3/envs/ensemble/lib/python3.7/site-packages/ipykernel_launcher.py:106: FutureWarning: This DataArray contains multi-dimensional coordinates. In the future, these coordinates will be transposed as well unless you specify transpose_coords=False.\n",
      "/tank/users/tuchida/miniconda3/envs/ensemble/lib/python3.7/site-packages/ipykernel_launcher.py:108: FutureWarning: This DataArray contains multi-dimensional coordinates. In the future, these coordinates will be transposed as well unless you specify transpose_coords=False.\n",
      "/tank/users/tuchida/miniconda3/envs/ensemble/lib/python3.7/site-packages/ipykernel_launcher.py:110: FutureWarning: This DataArray contains multi-dimensional coordinates. In the future, these coordinates will be transposed as well unless you specify transpose_coords=False.\n"
     ]
    },
    {
     "name": "stdout",
     "output_type": "stream",
     "text": [
      "Zs saved.\n",
      "Varpi saved.\n",
      "Dyn saved.\n",
      "8629200\n"
     ]
    },
    {
     "name": "stderr",
     "output_type": "stream",
     "text": [
      "/tank/users/tuchida/miniconda3/envs/ensemble/lib/python3.7/site-packages/ipykernel_launcher.py:106: FutureWarning: This DataArray contains multi-dimensional coordinates. In the future, these coordinates will be transposed as well unless you specify transpose_coords=False.\n",
      "/tank/users/tuchida/miniconda3/envs/ensemble/lib/python3.7/site-packages/ipykernel_launcher.py:108: FutureWarning: This DataArray contains multi-dimensional coordinates. In the future, these coordinates will be transposed as well unless you specify transpose_coords=False.\n",
      "/tank/users/tuchida/miniconda3/envs/ensemble/lib/python3.7/site-packages/ipykernel_launcher.py:110: FutureWarning: This DataArray contains multi-dimensional coordinates. In the future, these coordinates will be transposed as well unless you specify transpose_coords=False.\n"
     ]
    },
    {
     "name": "stdout",
     "output_type": "stream",
     "text": [
      "Zs saved.\n",
      "Varpi saved.\n",
      "Dyn saved.\n",
      "8631360\n"
     ]
    },
    {
     "name": "stderr",
     "output_type": "stream",
     "text": [
      "/tank/users/tuchida/miniconda3/envs/ensemble/lib/python3.7/site-packages/ipykernel_launcher.py:106: FutureWarning: This DataArray contains multi-dimensional coordinates. In the future, these coordinates will be transposed as well unless you specify transpose_coords=False.\n",
      "/tank/users/tuchida/miniconda3/envs/ensemble/lib/python3.7/site-packages/ipykernel_launcher.py:108: FutureWarning: This DataArray contains multi-dimensional coordinates. In the future, these coordinates will be transposed as well unless you specify transpose_coords=False.\n",
      "/tank/users/tuchida/miniconda3/envs/ensemble/lib/python3.7/site-packages/ipykernel_launcher.py:110: FutureWarning: This DataArray contains multi-dimensional coordinates. In the future, these coordinates will be transposed as well unless you specify transpose_coords=False.\n"
     ]
    },
    {
     "name": "stdout",
     "output_type": "stream",
     "text": [
      "Zs saved.\n",
      "Varpi saved.\n",
      "Dyn saved.\n",
      "8633520\n"
     ]
    },
    {
     "name": "stderr",
     "output_type": "stream",
     "text": [
      "/tank/users/tuchida/miniconda3/envs/ensemble/lib/python3.7/site-packages/ipykernel_launcher.py:106: FutureWarning: This DataArray contains multi-dimensional coordinates. In the future, these coordinates will be transposed as well unless you specify transpose_coords=False.\n",
      "/tank/users/tuchida/miniconda3/envs/ensemble/lib/python3.7/site-packages/ipykernel_launcher.py:108: FutureWarning: This DataArray contains multi-dimensional coordinates. In the future, these coordinates will be transposed as well unless you specify transpose_coords=False.\n",
      "/tank/users/tuchida/miniconda3/envs/ensemble/lib/python3.7/site-packages/ipykernel_launcher.py:110: FutureWarning: This DataArray contains multi-dimensional coordinates. In the future, these coordinates will be transposed as well unless you specify transpose_coords=False.\n"
     ]
    },
    {
     "name": "stdout",
     "output_type": "stream",
     "text": [
      "Zs saved.\n",
      "Varpi saved.\n",
      "Dyn saved.\n",
      "8635680\n"
     ]
    },
    {
     "name": "stderr",
     "output_type": "stream",
     "text": [
      "/tank/users/tuchida/miniconda3/envs/ensemble/lib/python3.7/site-packages/ipykernel_launcher.py:106: FutureWarning: This DataArray contains multi-dimensional coordinates. In the future, these coordinates will be transposed as well unless you specify transpose_coords=False.\n",
      "/tank/users/tuchida/miniconda3/envs/ensemble/lib/python3.7/site-packages/ipykernel_launcher.py:108: FutureWarning: This DataArray contains multi-dimensional coordinates. In the future, these coordinates will be transposed as well unless you specify transpose_coords=False.\n",
      "/tank/users/tuchida/miniconda3/envs/ensemble/lib/python3.7/site-packages/ipykernel_launcher.py:110: FutureWarning: This DataArray contains multi-dimensional coordinates. In the future, these coordinates will be transposed as well unless you specify transpose_coords=False.\n"
     ]
    },
    {
     "name": "stdout",
     "output_type": "stream",
     "text": [
      "Zs saved.\n",
      "Varpi saved.\n",
      "Dyn saved.\n",
      "8637840\n"
     ]
    },
    {
     "name": "stderr",
     "output_type": "stream",
     "text": [
      "/tank/users/tuchida/miniconda3/envs/ensemble/lib/python3.7/site-packages/ipykernel_launcher.py:106: FutureWarning: This DataArray contains multi-dimensional coordinates. In the future, these coordinates will be transposed as well unless you specify transpose_coords=False.\n",
      "/tank/users/tuchida/miniconda3/envs/ensemble/lib/python3.7/site-packages/ipykernel_launcher.py:108: FutureWarning: This DataArray contains multi-dimensional coordinates. In the future, these coordinates will be transposed as well unless you specify transpose_coords=False.\n",
      "/tank/users/tuchida/miniconda3/envs/ensemble/lib/python3.7/site-packages/ipykernel_launcher.py:110: FutureWarning: This DataArray contains multi-dimensional coordinates. In the future, these coordinates will be transposed as well unless you specify transpose_coords=False.\n"
     ]
    },
    {
     "name": "stdout",
     "output_type": "stream",
     "text": [
      "Zs saved.\n",
      "Varpi saved.\n",
      "Dyn saved.\n",
      "8640000\n"
     ]
    },
    {
     "name": "stderr",
     "output_type": "stream",
     "text": [
      "/tank/users/tuchida/miniconda3/envs/ensemble/lib/python3.7/site-packages/ipykernel_launcher.py:106: FutureWarning: This DataArray contains multi-dimensional coordinates. In the future, these coordinates will be transposed as well unless you specify transpose_coords=False.\n",
      "/tank/users/tuchida/miniconda3/envs/ensemble/lib/python3.7/site-packages/ipykernel_launcher.py:108: FutureWarning: This DataArray contains multi-dimensional coordinates. In the future, these coordinates will be transposed as well unless you specify transpose_coords=False.\n",
      "/tank/users/tuchida/miniconda3/envs/ensemble/lib/python3.7/site-packages/ipykernel_launcher.py:110: FutureWarning: This DataArray contains multi-dimensional coordinates. In the future, these coordinates will be transposed as well unless you specify transpose_coords=False.\n"
     ]
    },
    {
     "name": "stdout",
     "output_type": "stream",
     "text": [
      "Zs saved.\n",
      "Varpi saved.\n",
      "Dyn saved.\n",
      "8642160\n"
     ]
    },
    {
     "name": "stderr",
     "output_type": "stream",
     "text": [
      "/tank/users/tuchida/miniconda3/envs/ensemble/lib/python3.7/site-packages/ipykernel_launcher.py:106: FutureWarning: This DataArray contains multi-dimensional coordinates. In the future, these coordinates will be transposed as well unless you specify transpose_coords=False.\n",
      "/tank/users/tuchida/miniconda3/envs/ensemble/lib/python3.7/site-packages/ipykernel_launcher.py:108: FutureWarning: This DataArray contains multi-dimensional coordinates. In the future, these coordinates will be transposed as well unless you specify transpose_coords=False.\n",
      "/tank/users/tuchida/miniconda3/envs/ensemble/lib/python3.7/site-packages/ipykernel_launcher.py:110: FutureWarning: This DataArray contains multi-dimensional coordinates. In the future, these coordinates will be transposed as well unless you specify transpose_coords=False.\n"
     ]
    },
    {
     "name": "stdout",
     "output_type": "stream",
     "text": [
      "Zs saved.\n",
      "Varpi saved.\n",
      "Dyn saved.\n",
      "8644320\n"
     ]
    },
    {
     "name": "stderr",
     "output_type": "stream",
     "text": [
      "/tank/users/tuchida/miniconda3/envs/ensemble/lib/python3.7/site-packages/ipykernel_launcher.py:106: FutureWarning: This DataArray contains multi-dimensional coordinates. In the future, these coordinates will be transposed as well unless you specify transpose_coords=False.\n",
      "/tank/users/tuchida/miniconda3/envs/ensemble/lib/python3.7/site-packages/ipykernel_launcher.py:108: FutureWarning: This DataArray contains multi-dimensional coordinates. In the future, these coordinates will be transposed as well unless you specify transpose_coords=False.\n",
      "/tank/users/tuchida/miniconda3/envs/ensemble/lib/python3.7/site-packages/ipykernel_launcher.py:110: FutureWarning: This DataArray contains multi-dimensional coordinates. In the future, these coordinates will be transposed as well unless you specify transpose_coords=False.\n"
     ]
    },
    {
     "name": "stdout",
     "output_type": "stream",
     "text": [
      "Zs saved.\n",
      "Varpi saved.\n",
      "Dyn saved.\n",
      "8646480\n"
     ]
    },
    {
     "name": "stderr",
     "output_type": "stream",
     "text": [
      "/tank/users/tuchida/miniconda3/envs/ensemble/lib/python3.7/site-packages/ipykernel_launcher.py:106: FutureWarning: This DataArray contains multi-dimensional coordinates. In the future, these coordinates will be transposed as well unless you specify transpose_coords=False.\n",
      "/tank/users/tuchida/miniconda3/envs/ensemble/lib/python3.7/site-packages/ipykernel_launcher.py:108: FutureWarning: This DataArray contains multi-dimensional coordinates. In the future, these coordinates will be transposed as well unless you specify transpose_coords=False.\n",
      "/tank/users/tuchida/miniconda3/envs/ensemble/lib/python3.7/site-packages/ipykernel_launcher.py:110: FutureWarning: This DataArray contains multi-dimensional coordinates. In the future, these coordinates will be transposed as well unless you specify transpose_coords=False.\n"
     ]
    },
    {
     "name": "stdout",
     "output_type": "stream",
     "text": [
      "Zs saved.\n",
      "Varpi saved.\n",
      "Dyn saved.\n",
      "8648640\n"
     ]
    },
    {
     "name": "stderr",
     "output_type": "stream",
     "text": [
      "/tank/users/tuchida/miniconda3/envs/ensemble/lib/python3.7/site-packages/ipykernel_launcher.py:106: FutureWarning: This DataArray contains multi-dimensional coordinates. In the future, these coordinates will be transposed as well unless you specify transpose_coords=False.\n",
      "/tank/users/tuchida/miniconda3/envs/ensemble/lib/python3.7/site-packages/ipykernel_launcher.py:108: FutureWarning: This DataArray contains multi-dimensional coordinates. In the future, these coordinates will be transposed as well unless you specify transpose_coords=False.\n",
      "/tank/users/tuchida/miniconda3/envs/ensemble/lib/python3.7/site-packages/ipykernel_launcher.py:110: FutureWarning: This DataArray contains multi-dimensional coordinates. In the future, these coordinates will be transposed as well unless you specify transpose_coords=False.\n"
     ]
    },
    {
     "name": "stdout",
     "output_type": "stream",
     "text": [
      "Zs saved.\n",
      "Varpi saved.\n",
      "Dyn saved.\n",
      "8650800\n"
     ]
    },
    {
     "name": "stderr",
     "output_type": "stream",
     "text": [
      "/tank/users/tuchida/miniconda3/envs/ensemble/lib/python3.7/site-packages/ipykernel_launcher.py:106: FutureWarning: This DataArray contains multi-dimensional coordinates. In the future, these coordinates will be transposed as well unless you specify transpose_coords=False.\n",
      "/tank/users/tuchida/miniconda3/envs/ensemble/lib/python3.7/site-packages/ipykernel_launcher.py:108: FutureWarning: This DataArray contains multi-dimensional coordinates. In the future, these coordinates will be transposed as well unless you specify transpose_coords=False.\n",
      "/tank/users/tuchida/miniconda3/envs/ensemble/lib/python3.7/site-packages/ipykernel_launcher.py:110: FutureWarning: This DataArray contains multi-dimensional coordinates. In the future, these coordinates will be transposed as well unless you specify transpose_coords=False.\n"
     ]
    },
    {
     "name": "stdout",
     "output_type": "stream",
     "text": [
      "Zs saved.\n",
      "Varpi saved.\n",
      "Dyn saved.\n",
      "8652960\n"
     ]
    },
    {
     "name": "stderr",
     "output_type": "stream",
     "text": [
      "/tank/users/tuchida/miniconda3/envs/ensemble/lib/python3.7/site-packages/ipykernel_launcher.py:106: FutureWarning: This DataArray contains multi-dimensional coordinates. In the future, these coordinates will be transposed as well unless you specify transpose_coords=False.\n",
      "/tank/users/tuchida/miniconda3/envs/ensemble/lib/python3.7/site-packages/ipykernel_launcher.py:108: FutureWarning: This DataArray contains multi-dimensional coordinates. In the future, these coordinates will be transposed as well unless you specify transpose_coords=False.\n",
      "/tank/users/tuchida/miniconda3/envs/ensemble/lib/python3.7/site-packages/ipykernel_launcher.py:110: FutureWarning: This DataArray contains multi-dimensional coordinates. In the future, these coordinates will be transposed as well unless you specify transpose_coords=False.\n"
     ]
    },
    {
     "name": "stdout",
     "output_type": "stream",
     "text": [
      "Zs saved.\n",
      "Varpi saved.\n",
      "Dyn saved.\n",
      "8655120\n"
     ]
    },
    {
     "name": "stderr",
     "output_type": "stream",
     "text": [
      "/tank/users/tuchida/miniconda3/envs/ensemble/lib/python3.7/site-packages/ipykernel_launcher.py:106: FutureWarning: This DataArray contains multi-dimensional coordinates. In the future, these coordinates will be transposed as well unless you specify transpose_coords=False.\n",
      "/tank/users/tuchida/miniconda3/envs/ensemble/lib/python3.7/site-packages/ipykernel_launcher.py:108: FutureWarning: This DataArray contains multi-dimensional coordinates. In the future, these coordinates will be transposed as well unless you specify transpose_coords=False.\n",
      "/tank/users/tuchida/miniconda3/envs/ensemble/lib/python3.7/site-packages/ipykernel_launcher.py:110: FutureWarning: This DataArray contains multi-dimensional coordinates. In the future, these coordinates will be transposed as well unless you specify transpose_coords=False.\n"
     ]
    },
    {
     "name": "stdout",
     "output_type": "stream",
     "text": [
      "Zs saved.\n",
      "Varpi saved.\n",
      "Dyn saved.\n",
      "8657280\n"
     ]
    },
    {
     "name": "stderr",
     "output_type": "stream",
     "text": [
      "/tank/users/tuchida/miniconda3/envs/ensemble/lib/python3.7/site-packages/ipykernel_launcher.py:106: FutureWarning: This DataArray contains multi-dimensional coordinates. In the future, these coordinates will be transposed as well unless you specify transpose_coords=False.\n",
      "/tank/users/tuchida/miniconda3/envs/ensemble/lib/python3.7/site-packages/ipykernel_launcher.py:108: FutureWarning: This DataArray contains multi-dimensional coordinates. In the future, these coordinates will be transposed as well unless you specify transpose_coords=False.\n",
      "/tank/users/tuchida/miniconda3/envs/ensemble/lib/python3.7/site-packages/ipykernel_launcher.py:110: FutureWarning: This DataArray contains multi-dimensional coordinates. In the future, these coordinates will be transposed as well unless you specify transpose_coords=False.\n"
     ]
    },
    {
     "name": "stdout",
     "output_type": "stream",
     "text": [
      "Zs saved.\n",
      "Varpi saved.\n",
      "Dyn saved.\n",
      "8659440\n"
     ]
    },
    {
     "name": "stderr",
     "output_type": "stream",
     "text": [
      "/tank/users/tuchida/miniconda3/envs/ensemble/lib/python3.7/site-packages/ipykernel_launcher.py:106: FutureWarning: This DataArray contains multi-dimensional coordinates. In the future, these coordinates will be transposed as well unless you specify transpose_coords=False.\n",
      "/tank/users/tuchida/miniconda3/envs/ensemble/lib/python3.7/site-packages/ipykernel_launcher.py:108: FutureWarning: This DataArray contains multi-dimensional coordinates. In the future, these coordinates will be transposed as well unless you specify transpose_coords=False.\n",
      "/tank/users/tuchida/miniconda3/envs/ensemble/lib/python3.7/site-packages/ipykernel_launcher.py:110: FutureWarning: This DataArray contains multi-dimensional coordinates. In the future, these coordinates will be transposed as well unless you specify transpose_coords=False.\n"
     ]
    },
    {
     "name": "stdout",
     "output_type": "stream",
     "text": [
      "Zs saved.\n",
      "Varpi saved.\n",
      "Dyn saved.\n",
      "8661600\n"
     ]
    },
    {
     "name": "stderr",
     "output_type": "stream",
     "text": [
      "/tank/users/tuchida/miniconda3/envs/ensemble/lib/python3.7/site-packages/ipykernel_launcher.py:106: FutureWarning: This DataArray contains multi-dimensional coordinates. In the future, these coordinates will be transposed as well unless you specify transpose_coords=False.\n",
      "/tank/users/tuchida/miniconda3/envs/ensemble/lib/python3.7/site-packages/ipykernel_launcher.py:108: FutureWarning: This DataArray contains multi-dimensional coordinates. In the future, these coordinates will be transposed as well unless you specify transpose_coords=False.\n",
      "/tank/users/tuchida/miniconda3/envs/ensemble/lib/python3.7/site-packages/ipykernel_launcher.py:110: FutureWarning: This DataArray contains multi-dimensional coordinates. In the future, these coordinates will be transposed as well unless you specify transpose_coords=False.\n"
     ]
    },
    {
     "name": "stdout",
     "output_type": "stream",
     "text": [
      "Zs saved.\n",
      "Varpi saved.\n",
      "Dyn saved.\n",
      "8663760\n"
     ]
    },
    {
     "name": "stderr",
     "output_type": "stream",
     "text": [
      "/tank/users/tuchida/miniconda3/envs/ensemble/lib/python3.7/site-packages/ipykernel_launcher.py:106: FutureWarning: This DataArray contains multi-dimensional coordinates. In the future, these coordinates will be transposed as well unless you specify transpose_coords=False.\n",
      "/tank/users/tuchida/miniconda3/envs/ensemble/lib/python3.7/site-packages/ipykernel_launcher.py:108: FutureWarning: This DataArray contains multi-dimensional coordinates. In the future, these coordinates will be transposed as well unless you specify transpose_coords=False.\n",
      "/tank/users/tuchida/miniconda3/envs/ensemble/lib/python3.7/site-packages/ipykernel_launcher.py:110: FutureWarning: This DataArray contains multi-dimensional coordinates. In the future, these coordinates will be transposed as well unless you specify transpose_coords=False.\n"
     ]
    },
    {
     "name": "stdout",
     "output_type": "stream",
     "text": [
      "Zs saved.\n",
      "Varpi saved.\n",
      "Dyn saved.\n",
      "8665920\n"
     ]
    },
    {
     "name": "stderr",
     "output_type": "stream",
     "text": [
      "/tank/users/tuchida/miniconda3/envs/ensemble/lib/python3.7/site-packages/ipykernel_launcher.py:106: FutureWarning: This DataArray contains multi-dimensional coordinates. In the future, these coordinates will be transposed as well unless you specify transpose_coords=False.\n",
      "/tank/users/tuchida/miniconda3/envs/ensemble/lib/python3.7/site-packages/ipykernel_launcher.py:108: FutureWarning: This DataArray contains multi-dimensional coordinates. In the future, these coordinates will be transposed as well unless you specify transpose_coords=False.\n",
      "/tank/users/tuchida/miniconda3/envs/ensemble/lib/python3.7/site-packages/ipykernel_launcher.py:110: FutureWarning: This DataArray contains multi-dimensional coordinates. In the future, these coordinates will be transposed as well unless you specify transpose_coords=False.\n"
     ]
    },
    {
     "name": "stdout",
     "output_type": "stream",
     "text": [
      "Zs saved.\n",
      "Varpi saved.\n",
      "Dyn saved.\n",
      "8668080\n"
     ]
    },
    {
     "name": "stderr",
     "output_type": "stream",
     "text": [
      "/tank/users/tuchida/miniconda3/envs/ensemble/lib/python3.7/site-packages/ipykernel_launcher.py:106: FutureWarning: This DataArray contains multi-dimensional coordinates. In the future, these coordinates will be transposed as well unless you specify transpose_coords=False.\n",
      "/tank/users/tuchida/miniconda3/envs/ensemble/lib/python3.7/site-packages/ipykernel_launcher.py:108: FutureWarning: This DataArray contains multi-dimensional coordinates. In the future, these coordinates will be transposed as well unless you specify transpose_coords=False.\n",
      "/tank/users/tuchida/miniconda3/envs/ensemble/lib/python3.7/site-packages/ipykernel_launcher.py:110: FutureWarning: This DataArray contains multi-dimensional coordinates. In the future, these coordinates will be transposed as well unless you specify transpose_coords=False.\n"
     ]
    },
    {
     "name": "stdout",
     "output_type": "stream",
     "text": [
      "Zs saved.\n",
      "Varpi saved.\n",
      "Dyn saved.\n",
      "8670240\n"
     ]
    },
    {
     "name": "stderr",
     "output_type": "stream",
     "text": [
      "/tank/users/tuchida/miniconda3/envs/ensemble/lib/python3.7/site-packages/ipykernel_launcher.py:106: FutureWarning: This DataArray contains multi-dimensional coordinates. In the future, these coordinates will be transposed as well unless you specify transpose_coords=False.\n",
      "/tank/users/tuchida/miniconda3/envs/ensemble/lib/python3.7/site-packages/ipykernel_launcher.py:108: FutureWarning: This DataArray contains multi-dimensional coordinates. In the future, these coordinates will be transposed as well unless you specify transpose_coords=False.\n",
      "/tank/users/tuchida/miniconda3/envs/ensemble/lib/python3.7/site-packages/ipykernel_launcher.py:110: FutureWarning: This DataArray contains multi-dimensional coordinates. In the future, these coordinates will be transposed as well unless you specify transpose_coords=False.\n"
     ]
    },
    {
     "name": "stdout",
     "output_type": "stream",
     "text": [
      "Zs saved.\n",
      "Varpi saved.\n",
      "Dyn saved.\n",
      "8672400\n"
     ]
    }
   ],
   "source": [
    "ystart = yNstart\n",
    "yy = yystart\n",
    "\n",
    "\n",
    "for year in years[yystart:]:\n",
    "    if year == years[yystart]:\n",
    "        mtimes = ntimes[yy,dd:]\n",
    "    else:\n",
    "        mtimes = ntimes[yy]\n",
    "    for itime in mtimes:\n",
    "        for nmemb in range(24):\n",
    "            if nmemb == 0:\n",
    "                ds = open_mdsdataset(op.join(ddir,'qjamet/RUNS/ORAR/memb%02d/run%4d/ocn/' % (nmemb,year)), \n",
    "                                     grid_dir=op.join(ddir,'grid_chaO/gridMIT_update1/'),\n",
    "                                     prefix=['diag_ocnTave','diag_ocnSurf'], \n",
    "                                     delta_t=2e2, iters=itime,\n",
    "#                                      chunks={'XC':xchunk,'XG':xchunk,'YC':ychunk,'YG':ychunk}\n",
    "                                    ).isel(time=0)\n",
    "            else:\n",
    "                ds = xr.concat([ds, open_mdsdataset(op.join(ddir,'qjamet/RUNS/ORAR/memb%02d/run%4d/ocn/' \n",
    "                                                            % (nmemb,year)), \n",
    "                                                    grid_dir=op.join(ddir,'grid_chaO/gridMIT_update1/'),\n",
    "                                                    prefix=['diag_ocnTave','diag_ocnSurf'], \n",
    "                                                    delta_t=2e2, iters=itime,\n",
    "#                                                     chunks={'XC':xchunk,'XG':xchunk,'YC':ychunk,'YG':ychunk}\n",
    "                                                   ).isel(time=0)\n",
    "                               ], 'nmemb')\n",
    "        ds.coords['nmemb'] = ('nmemb',range(24))\n",
    "\n",
    "\n",
    "        theta = ds.THETA.where(ds.maskC!=0.)\n",
    "        salt = ds.SALT.where(ds.maskC!=0.)\n",
    "        \n",
    "        dsp = xr.open_zarr(op.join(savedir,'PHI_5Dave/run%4d/%010d/' % (year,itime)),\n",
    "                          ).isel(time=0)\n",
    "        cs = dsp.cs.where(ds.maskC!=0.).chunk({'nmemb':membchunk,'Z':-1})\n",
    "        phi = dsp.PHIHYD.where(ds.maskC!=0.).chunk({'nmemb':membchunk,'Z':-1})\n",
    "\n",
    "\n",
    "        fine_drf = np.squeeze(ds.drF.sel(Z=slice(None,None)))\n",
    "        fine_drc = np.squeeze(ds.drC.sel(Zp1=slice(None,None)))\n",
    "\n",
    "        grid = Grid(ds, periodic=['X'])\n",
    "        grid_sub = Grid(ds.sel(YC=slice(ySstart-12**-1,yend+2*12**-1),\n",
    "                               YG=slice(ySstart-12**-1,yend+2*12**-1)), \n",
    "                        periodic=['X'])\n",
    "        dpdx = (grid_sub.diff(phi,'X') \n",
    "                * ds.dxC**-1\n",
    "               ).where(ds.maskW!=0.)\n",
    "        dpdy = (grid_sub.diff(phi,'Y',boundary='fill') \n",
    "                * ds.dyC**-1\n",
    "               ).where(ds.maskS!=0.)\n",
    "\n",
    "########################################\n",
    "#                 Rhos                 #\n",
    "########################################\n",
    "        rho_til = rhoConst*(1. - grav*grid.interp(-grid.cumsum(Cs**-2*ds.drF,\n",
    "                                                               'Z',boundary='fill',to='outer'),\n",
    "                                                  'Z',boundary='fill')\n",
    "                           ).chunk({'Z':-1})\n",
    "    \n",
    "        dsr = xr.open_zarr(op.join(savedir,'Varpi_5Dave/run%4d/%010d/' % (year,itime))\n",
    "                          ).isel(time=0)\n",
    "        rho_insitu = dsr.rho.sel(YC=slice(ystart-12**-1,yend+2*12**-1)\n",
    "                                ).chunk({'nmemb':membchunk,'Z':-1,'XC':xchunk,'YC':ychunk})\n",
    "        rhox = xr.apply_ufunc(densjmd95, \n",
    "                              grid.interp(salt,'X').sel(YC=slice(ystart-12**-1,yend+2*12**-1)), \n",
    "                              grid.interp(theta,'X').sel(YC=slice(ystart-12**-1,yend+2*12**-1)), \n",
    "                              -grav*ds.Z*rhoConst*1e-4, \n",
    "                              dask='parallelized', output_dtypes=[float,]\n",
    "                             ).where(ds.maskW!=0.).chunk({'nmemb':membchunk,\n",
    "                                                          'XG':xchunk,'YC':ychunk})\n",
    "        rhoy = xr.apply_ufunc(densjmd95, \n",
    "                              grid.interp(salt,'Y',boundary='fill'\n",
    "                                         ).sel(YG=slice(ystart-12**-1,yend+2*12**-1)), \n",
    "                              grid.interp(theta,'Y',boundary='fill'\n",
    "                                         ).sel(YG=slice(ystart-12**-1,yend+2*12**-1)), \n",
    "                              -grav*ds.Z*rhoConst*1e-4,\n",
    "                              dask='parallelized', output_dtypes=[float,]\n",
    "                             ).where(ds.maskS!=0.).chunk({'nmemb':membchunk,\n",
    "                                                          'XC':xchunk,'YG':ychunk})\n",
    "#         rhoz = xr.apply_ufunc(densjmd95, \n",
    "#                               grid.interp(grid.interp(salt,'Y',boundary='fill'),\n",
    "#                                           'X').sel(YG=slice(ystart-12**-1,yend+2*12**-1)), \n",
    "#                               grid.interp(grid.interp(theta,'Y',boundary='fill'),\n",
    "#                                           'X').sel(YG=slice(ystart-12**-1,yend+2*12**-1)), \n",
    "#                               -grav*ds.Z*rhoConst*1e-4,\n",
    "#                               dask='parallelized', output_dtypes=[float,]\n",
    "#                              ).where(grid.interp(ds.maskS,'X')!=0.\n",
    "#                                     ).compute().chunk({'nmemb':membchunk,\n",
    "#                                                        'XG':xchunk,'YG':ychunk})\n",
    "        delta = rho_insitu - rho_til\n",
    "        deltax = rhox - rho_til\n",
    "        deltay = rhoy - rho_til\n",
    "#         deltaz = rhoz - rho_til\n",
    "#         print(rho_insitu)\n",
    "\n",
    "##########################################\n",
    "#                   Zs                   #\n",
    "##########################################\n",
    "#         start = time.time()\n",
    "        zz, _ = xr.broadcast(ds.Z, rho_insitu.isel(Z=0))\n",
    "        zzy, _ = xr.broadcast(ds.Z, rhoy.isel(Z=0))\n",
    "        zzx, _ = xr.broadcast(ds.Z, rhox.isel(Z=0))\n",
    "        zz = zz.where(ds.maskC!=0.).chunk({'nmemb':membchunk,'YC':ychunk,\n",
    "                                           'XC':xchunk}).transpose('nmemb','Z','YC','XC')\n",
    "        zzy = zzy.where(ds.maskS!=0.).chunk({'nmemb':membchunk,'YG':ychunk,\n",
    "                                             'XC':xchunk}).transpose('nmemb','Z','YG','XC')\n",
    "        zzx = zzx.where(ds.maskW!=0.).chunk({'nmemb':membchunk,'YC':ychunk,\n",
    "                                             'XG':xchunk}).transpose('nmemb','Z','YC','XG')\n",
    "\n",
    "        dzetaF = layers_apply(xr.ones_like(zz).where(ds.maskC!=0.).chunk({'nmemb':membchunk,\n",
    "                                                                          'XC':xchunk,\n",
    "                                                                          'YC':ychunk}),\n",
    "                              delta,\n",
    "                              siglayers, fine_drf, fine_drc, fine_fact=nremap,\n",
    "                              lev_name='Z', Tlev_name='sig').compute()\n",
    "        zdz = layers_apply(zz, delta,\n",
    "                           siglayers, fine_drf, fine_drc, fine_fact=nremap,\n",
    "                           lev_name='Z', Tlev_name='sig').compute()\n",
    "\n",
    "        dzetaFx = layers_apply(xr.ones_like(zzx).where(ds.maskW!=0.).chunk({'nmemb':membchunk,\n",
    "                                                                            'XG':xchunk,\n",
    "                                                                            'YC':ychunk}),\n",
    "                               deltax,\n",
    "                               siglayers, fine_drf, fine_drc, fine_fact=nremap,\n",
    "                               lev_name='Z', Tlev_name='sig').compute()\n",
    "        zxdz = layers_apply(zzx, deltax,\n",
    "                            siglayers, fine_drf, fine_drc, fine_fact=nremap,\n",
    "                            lev_name='Z', Tlev_name='sig').compute()\n",
    "\n",
    "        dzetaFy = layers_apply(xr.ones_like(zzy).where(ds.maskS!=0.).chunk({'nmemb':membchunk,\n",
    "                                                                            'XC':xchunk,\n",
    "                                                                            'YG':ychunk}),\n",
    "                               deltay,\n",
    "                               siglayers, fine_drf, fine_drc, fine_fact=nremap,\n",
    "                               lev_name='Z', Tlev_name='sig').compute()\n",
    "        zydz = layers_apply(zzy, deltay,\n",
    "                            siglayers, fine_drf, fine_drc, fine_fact=nremap,\n",
    "                            lev_name='Z', Tlev_name='sig').compute()\n",
    "\n",
    "#         dzetaFz = layers_apply(xr.ones_like(rhoz).where(grid.interp(ds.maskS,'X')!=0.\n",
    "#                                                        ).chunk({'nmemb':membchunk,'XG':xchunk,\n",
    "#                                                                 'YG':ychunk}),\n",
    "#                                deltaz,\n",
    "#                                siglayers, fine_drf, fine_drc, fine_fact=nremap,\n",
    "#                                lev_name='Z', Tlev_name='sig').compute()\n",
    "\n",
    "        del zz, zzy, zzx\n",
    "#         end = time.time()\n",
    "#         print(\"Zs interpolated. Lapse:\", end-start)\n",
    "\n",
    "    ##########################################\n",
    "        dsave = zdz.to_dataset(name='zdz')\n",
    "        dsave['zydz'] = zydz\n",
    "        dsave['zxdz'] = zxdz\n",
    "        dsave['dzetaF'] = dzetaF.where(dzetaF!=0.)\n",
    "        dsave['dzetaFx'] = dzetaFx.where(dzetaFx!=0.)\n",
    "        dsave['dzetaFy'] = dzetaFy.where(dzetaFy!=0.)\n",
    "#         dsave['dzetaFz'] = dzetaFz\n",
    "        dsave.coords['sigp1'] = ('sigp1',sigp1layers)\n",
    "        dsave.to_zarr(op.join(savedir,'5Dave/run%4d/Zs/%010d/' % (year,itime)), mode='w')\n",
    "        dsave.close()\n",
    "\n",
    "        del zdz, zydz, zxdz, dzetaF, dzetaFy, dzetaFx \n",
    "#         del dzetaFz\n",
    "        print(\"Zs saved.\")\n",
    "\n",
    "##########################################\n",
    "#          Dynamical variables           #\n",
    "##########################################\n",
    "#         start = time.time()\n",
    "\n",
    "        comp = (grid.interp(ds.WVEL,'Z',boundary='fill').chunk({'Z':-1}) \n",
    "                * grav**2 \n",
    "                * (cs**-2 - Cs**-2))\n",
    "    \n",
    "#         diaTdz = layers_apply(dsr.varpiT.where(ds.maskC!=0.).sel(YC=slice(ystart-12**-1,\n",
    "#                                                                           yend+2*12**-1)\n",
    "#                                                                 ).chunk({'nmemb':membchunk,'Z':-1,\n",
    "#                                                                          'YC':ychunk,'XC':xchunk}),\n",
    "#                               delta,\n",
    "#                               siglayers, fine_drf, fine_drc, fine_fact=nremap,\n",
    "#                               lev_name='Z', Tlev_name='sig').compute()\n",
    "#         diaSdz = layers_apply(dsr.varpiS.where(ds.maskC!=0.).sel(YC=slice(ystart-12**-1,\n",
    "#                                                                           yend+2*12**-1)\n",
    "#                                                                 ).chunk({'nmemb':membchunk,'Z':-1,\n",
    "#                                                                          'YC':ychunk,'XC':xchunk}),\n",
    "#                               delta,\n",
    "#                               siglayers, fine_drf, fine_drc, fine_fact=nremap,\n",
    "#                               lev_name='Z', Tlev_name='sig').compute()\n",
    "        diadz = layers_apply((dsr.VarpiT + dsr.VarpiS).where(ds.maskC!=0.).sel(YC=slice(ystart-12**-1,\n",
    "                                                                                        yend+2*12**-1)\n",
    "                                                                              ).chunk({'nmemb':membchunk,'Z':-1,\n",
    "                                                                                       'YC':ychunk,'XC':xchunk}),\n",
    "                              delta,\n",
    "                              siglayers, fine_drf, fine_drc, fine_fact=nremap,\n",
    "                              lev_name='Z', Tlev_name='sig').compute()\n",
    "        cmpdz = layers_apply(comp.where(ds.maskC!=0.).sel(YC=slice(ystart-12**-1,yend+2*12**-1)\n",
    "                                                         ).chunk({'nmemb':membchunk,\n",
    "                                                                  'YC':ychunk,'XC':xchunk}),\n",
    "                             delta,\n",
    "                             siglayers, fine_drf, fine_drc, fine_fact=nremap,\n",
    "                             lev_name='Z', Tlev_name='sig').compute()       \n",
    "##########################################\n",
    "#         varpidz = (-grav*diadz*rhoConst**-1 \n",
    "#                    + cmpdz\n",
    "#                   )\n",
    "        dsave = cmpdz.to_dataset(name='cmpdz')\n",
    "        dsave['diadz'] = -grav*diadz*rhoConst**-1 \n",
    "        dsave.coords['sigp1'] = ('sigp1',sigp1layers)\n",
    "        dsave.to_zarr(op.join(savedir,'5Dave/run%4d/Varpi/%010d/' % (year,itime)), mode='w')\n",
    "        dsave.close()\n",
    "\n",
    "        del diadz, cmpdz\n",
    "        print(\"Varpi saved.\")\n",
    "\n",
    "##########################################   \n",
    "        pxdz = layers_apply(dpdx.sel(YC=slice(ystart-12**-1,yend+2*12**-1)\n",
    "                                    ).chunk({'nmemb':membchunk,'YC':ychunk,'XG':xchunk}),\n",
    "                            deltax,\n",
    "                            siglayers, fine_drf, fine_drc, fine_fact=nremap,\n",
    "                            lev_name='Z', Tlev_name='sig').compute()\n",
    "        pydz = layers_apply(dpdy.sel(YG=slice(ystart-12**-1,yend+2*12**-1)\n",
    "                                    ).chunk({'nmemb':membchunk,'YG':ychunk,'XC':xchunk}),\n",
    "                            deltay,\n",
    "                            siglayers, fine_drf, fine_drc, fine_fact=nremap,\n",
    "                            lev_name='Z', Tlev_name='sig').compute()\n",
    "        tdz = layers_apply(theta.where(ds.maskC!=0.).sel(YC=slice(ystart-12**-1,yend+2*12**-1)\n",
    "                                                        ).chunk({'nmemb':membchunk,\n",
    "                                                                 'YC':ychunk,'XC':xchunk}),\n",
    "                           delta,\n",
    "                           siglayers, fine_drf, fine_drc, fine_fact=nremap,\n",
    "                           lev_name='Z', Tlev_name='sig').compute()\n",
    "        sdz = layers_apply(salt.where(ds.maskC!=0.).sel(YC=slice(ystart-12**-1,yend+2*12**-1)\n",
    "                                                       ).chunk({'nmemb':membchunk,\n",
    "                                                                'YC':ychunk,'XC':xchunk}),\n",
    "                           delta,\n",
    "                           siglayers, fine_drf, fine_drc, fine_fact=nremap,\n",
    "                           lev_name='Z', Tlev_name='sig').compute()\n",
    "        udz = layers_apply(ds.UVEL.where(ds.maskW!=0.).sel(YC=slice(ystart-12**-1,yend+2*12**-1)\n",
    "                                                          ).chunk({'nmemb':membchunk,\n",
    "                                                                   'YC':ychunk,'XG':xchunk}),\n",
    "                           deltax,\n",
    "                           siglayers, fine_drf, fine_drc, fine_fact=nremap,\n",
    "                           lev_name='Z', Tlev_name='sig').compute()\n",
    "        vdz = layers_apply(ds.VVEL.where(ds.maskS!=0.).sel(YG=slice(ystart-12**-1,yend+2*12**-1)\n",
    "                                                          ).chunk({'nmemb':membchunk,\n",
    "                                                                   'YG':ychunk,'XC':xchunk}),\n",
    "                           deltay,\n",
    "                           siglayers, fine_drf, fine_drc, fine_fact=nremap,\n",
    "                           lev_name='Z', Tlev_name='sig').compute()\n",
    "\n",
    "        del rho_insitu, rhoy, rhox, delta, deltax, deltay\n",
    "#         del rhoz, deltaz\n",
    "#         end = time.time()\n",
    "#         print(\"Dyns interpolated. Lapse:\", end-start)\n",
    "\n",
    "##########################################   \n",
    "        dsave = vdz.to_dataset(name='vdz')\n",
    "        dsave['udz'] = udz\n",
    "        dsave['tdz'] = tdz\n",
    "        dsave['sdz'] = sdz\n",
    "        dsave['pxdz'] = pxdz\n",
    "        dsave['pydz'] = pydz\n",
    "        dsave.coords['sigp1'] = ('sigp1',sigp1layers)\n",
    "        dsave.to_zarr(op.join(savedir,'5Dave/run%4d/Dyns/%010d/' % (year,itime)), mode='w')\n",
    "        dsave.close()\n",
    "\n",
    "        print(\"Dyn saved.\")\n",
    "        del tdz, sdz, vdz, udz, pydz, pxdz\n",
    "        ds.close()\n",
    "        dsp.close()\n",
    "        dsr.close()\n",
    "\n",
    "        print(itime)\n",
    "        \n",
    "    yy += 1"
   ]
  },
  {
   "cell_type": "markdown",
   "metadata": {},
   "source": [
    "# Year 1967"
   ]
  },
  {
   "cell_type": "code",
   "execution_count": 8,
   "metadata": {},
   "outputs": [
    {
     "data": {
      "text/html": [
       "<div><svg style=\"position: absolute; width: 0; height: 0; overflow: hidden\">\n",
       "<defs>\n",
       "<symbol id=\"icon-database\" viewBox=\"0 0 32 32\">\n",
       "<path d=\"M16 0c-8.837 0-16 2.239-16 5v4c0 2.761 7.163 5 16 5s16-2.239 16-5v-4c0-2.761-7.163-5-16-5z\"></path>\n",
       "<path d=\"M16 17c-8.837 0-16-2.239-16-5v6c0 2.761 7.163 5 16 5s16-2.239 16-5v-6c0 2.761-7.163 5-16 5z\"></path>\n",
       "<path d=\"M16 26c-8.837 0-16-2.239-16-5v6c0 2.761 7.163 5 16 5s16-2.239 16-5v-6c0 2.761-7.163 5-16 5z\"></path>\n",
       "</symbol>\n",
       "<symbol id=\"icon-file-text2\" viewBox=\"0 0 32 32\">\n",
       "<path d=\"M28.681 7.159c-0.694-0.947-1.662-2.053-2.724-3.116s-2.169-2.030-3.116-2.724c-1.612-1.182-2.393-1.319-2.841-1.319h-15.5c-1.378 0-2.5 1.121-2.5 2.5v27c0 1.378 1.122 2.5 2.5 2.5h23c1.378 0 2.5-1.122 2.5-2.5v-19.5c0-0.448-0.137-1.23-1.319-2.841zM24.543 5.457c0.959 0.959 1.712 1.825 2.268 2.543h-4.811v-4.811c0.718 0.556 1.584 1.309 2.543 2.268zM28 29.5c0 0.271-0.229 0.5-0.5 0.5h-23c-0.271 0-0.5-0.229-0.5-0.5v-27c0-0.271 0.229-0.5 0.5-0.5 0 0 15.499-0 15.5 0v7c0 0.552 0.448 1 1 1h7v19.5z\"></path>\n",
       "<path d=\"M23 26h-14c-0.552 0-1-0.448-1-1s0.448-1 1-1h14c0.552 0 1 0.448 1 1s-0.448 1-1 1z\"></path>\n",
       "<path d=\"M23 22h-14c-0.552 0-1-0.448-1-1s0.448-1 1-1h14c0.552 0 1 0.448 1 1s-0.448 1-1 1z\"></path>\n",
       "<path d=\"M23 18h-14c-0.552 0-1-0.448-1-1s0.448-1 1-1h14c0.552 0 1 0.448 1 1s-0.448 1-1 1z\"></path>\n",
       "</symbol>\n",
       "</defs>\n",
       "</svg>\n",
       "<style>/* CSS stylesheet for displaying xarray objects in jupyterlab.\n",
       " *\n",
       " */\n",
       "\n",
       ":root {\n",
       "  --xr-font-color0: var(--jp-content-font-color0, rgba(0, 0, 0, 1));\n",
       "  --xr-font-color2: var(--jp-content-font-color2, rgba(0, 0, 0, 0.54));\n",
       "  --xr-font-color3: var(--jp-content-font-color3, rgba(0, 0, 0, 0.38));\n",
       "  --xr-border-color: var(--jp-border-color2, #e0e0e0);\n",
       "  --xr-disabled-color: var(--jp-layout-color3, #bdbdbd);\n",
       "  --xr-background-color: var(--jp-layout-color0, white);\n",
       "  --xr-background-color-row-even: var(--jp-layout-color1, white);\n",
       "  --xr-background-color-row-odd: var(--jp-layout-color2, #eeeeee);\n",
       "}\n",
       "\n",
       "html[theme=dark],\n",
       "body.vscode-dark {\n",
       "  --xr-font-color0: rgba(255, 255, 255, 1);\n",
       "  --xr-font-color2: rgba(255, 255, 255, 0.54);\n",
       "  --xr-font-color3: rgba(255, 255, 255, 0.38);\n",
       "  --xr-border-color: #1F1F1F;\n",
       "  --xr-disabled-color: #515151;\n",
       "  --xr-background-color: #111111;\n",
       "  --xr-background-color-row-even: #111111;\n",
       "  --xr-background-color-row-odd: #313131;\n",
       "}\n",
       "\n",
       ".xr-wrap {\n",
       "  display: block;\n",
       "  min-width: 300px;\n",
       "  max-width: 700px;\n",
       "}\n",
       "\n",
       ".xr-text-repr-fallback {\n",
       "  /* fallback to plain text repr when CSS is not injected (untrusted notebook) */\n",
       "  display: none;\n",
       "}\n",
       "\n",
       ".xr-header {\n",
       "  padding-top: 6px;\n",
       "  padding-bottom: 6px;\n",
       "  margin-bottom: 4px;\n",
       "  border-bottom: solid 1px var(--xr-border-color);\n",
       "}\n",
       "\n",
       ".xr-header > div,\n",
       ".xr-header > ul {\n",
       "  display: inline;\n",
       "  margin-top: 0;\n",
       "  margin-bottom: 0;\n",
       "}\n",
       "\n",
       ".xr-obj-type,\n",
       ".xr-array-name {\n",
       "  margin-left: 2px;\n",
       "  margin-right: 10px;\n",
       "}\n",
       "\n",
       ".xr-obj-type {\n",
       "  color: var(--xr-font-color2);\n",
       "}\n",
       "\n",
       ".xr-sections {\n",
       "  padding-left: 0 !important;\n",
       "  display: grid;\n",
       "  grid-template-columns: 150px auto auto 1fr 20px 20px;\n",
       "}\n",
       "\n",
       ".xr-section-item {\n",
       "  display: contents;\n",
       "}\n",
       "\n",
       ".xr-section-item input {\n",
       "  display: none;\n",
       "}\n",
       "\n",
       ".xr-section-item input + label {\n",
       "  color: var(--xr-disabled-color);\n",
       "}\n",
       "\n",
       ".xr-section-item input:enabled + label {\n",
       "  cursor: pointer;\n",
       "  color: var(--xr-font-color2);\n",
       "}\n",
       "\n",
       ".xr-section-item input:enabled + label:hover {\n",
       "  color: var(--xr-font-color0);\n",
       "}\n",
       "\n",
       ".xr-section-summary {\n",
       "  grid-column: 1;\n",
       "  color: var(--xr-font-color2);\n",
       "  font-weight: 500;\n",
       "}\n",
       "\n",
       ".xr-section-summary > span {\n",
       "  display: inline-block;\n",
       "  padding-left: 0.5em;\n",
       "}\n",
       "\n",
       ".xr-section-summary-in:disabled + label {\n",
       "  color: var(--xr-font-color2);\n",
       "}\n",
       "\n",
       ".xr-section-summary-in + label:before {\n",
       "  display: inline-block;\n",
       "  content: '►';\n",
       "  font-size: 11px;\n",
       "  width: 15px;\n",
       "  text-align: center;\n",
       "}\n",
       "\n",
       ".xr-section-summary-in:disabled + label:before {\n",
       "  color: var(--xr-disabled-color);\n",
       "}\n",
       "\n",
       ".xr-section-summary-in:checked + label:before {\n",
       "  content: '▼';\n",
       "}\n",
       "\n",
       ".xr-section-summary-in:checked + label > span {\n",
       "  display: none;\n",
       "}\n",
       "\n",
       ".xr-section-summary,\n",
       ".xr-section-inline-details {\n",
       "  padding-top: 4px;\n",
       "  padding-bottom: 4px;\n",
       "}\n",
       "\n",
       ".xr-section-inline-details {\n",
       "  grid-column: 2 / -1;\n",
       "}\n",
       "\n",
       ".xr-section-details {\n",
       "  display: none;\n",
       "  grid-column: 1 / -1;\n",
       "  margin-bottom: 5px;\n",
       "}\n",
       "\n",
       ".xr-section-summary-in:checked ~ .xr-section-details {\n",
       "  display: contents;\n",
       "}\n",
       "\n",
       ".xr-array-wrap {\n",
       "  grid-column: 1 / -1;\n",
       "  display: grid;\n",
       "  grid-template-columns: 20px auto;\n",
       "}\n",
       "\n",
       ".xr-array-wrap > label {\n",
       "  grid-column: 1;\n",
       "  vertical-align: top;\n",
       "}\n",
       "\n",
       ".xr-preview {\n",
       "  color: var(--xr-font-color3);\n",
       "}\n",
       "\n",
       ".xr-array-preview,\n",
       ".xr-array-data {\n",
       "  padding: 0 5px !important;\n",
       "  grid-column: 2;\n",
       "}\n",
       "\n",
       ".xr-array-data,\n",
       ".xr-array-in:checked ~ .xr-array-preview {\n",
       "  display: none;\n",
       "}\n",
       "\n",
       ".xr-array-in:checked ~ .xr-array-data,\n",
       ".xr-array-preview {\n",
       "  display: inline-block;\n",
       "}\n",
       "\n",
       ".xr-dim-list {\n",
       "  display: inline-block !important;\n",
       "  list-style: none;\n",
       "  padding: 0 !important;\n",
       "  margin: 0;\n",
       "}\n",
       "\n",
       ".xr-dim-list li {\n",
       "  display: inline-block;\n",
       "  padding: 0;\n",
       "  margin: 0;\n",
       "}\n",
       "\n",
       ".xr-dim-list:before {\n",
       "  content: '(';\n",
       "}\n",
       "\n",
       ".xr-dim-list:after {\n",
       "  content: ')';\n",
       "}\n",
       "\n",
       ".xr-dim-list li:not(:last-child):after {\n",
       "  content: ',';\n",
       "  padding-right: 5px;\n",
       "}\n",
       "\n",
       ".xr-has-index {\n",
       "  font-weight: bold;\n",
       "}\n",
       "\n",
       ".xr-var-list,\n",
       ".xr-var-item {\n",
       "  display: contents;\n",
       "}\n",
       "\n",
       ".xr-var-item > div,\n",
       ".xr-var-item label,\n",
       ".xr-var-item > .xr-var-name span {\n",
       "  background-color: var(--xr-background-color-row-even);\n",
       "  margin-bottom: 0;\n",
       "}\n",
       "\n",
       ".xr-var-item > .xr-var-name:hover span {\n",
       "  padding-right: 5px;\n",
       "}\n",
       "\n",
       ".xr-var-list > li:nth-child(odd) > div,\n",
       ".xr-var-list > li:nth-child(odd) > label,\n",
       ".xr-var-list > li:nth-child(odd) > .xr-var-name span {\n",
       "  background-color: var(--xr-background-color-row-odd);\n",
       "}\n",
       "\n",
       ".xr-var-name {\n",
       "  grid-column: 1;\n",
       "}\n",
       "\n",
       ".xr-var-dims {\n",
       "  grid-column: 2;\n",
       "}\n",
       "\n",
       ".xr-var-dtype {\n",
       "  grid-column: 3;\n",
       "  text-align: right;\n",
       "  color: var(--xr-font-color2);\n",
       "}\n",
       "\n",
       ".xr-var-preview {\n",
       "  grid-column: 4;\n",
       "}\n",
       "\n",
       ".xr-var-name,\n",
       ".xr-var-dims,\n",
       ".xr-var-dtype,\n",
       ".xr-preview,\n",
       ".xr-attrs dt {\n",
       "  white-space: nowrap;\n",
       "  overflow: hidden;\n",
       "  text-overflow: ellipsis;\n",
       "  padding-right: 10px;\n",
       "}\n",
       "\n",
       ".xr-var-name:hover,\n",
       ".xr-var-dims:hover,\n",
       ".xr-var-dtype:hover,\n",
       ".xr-attrs dt:hover {\n",
       "  overflow: visible;\n",
       "  width: auto;\n",
       "  z-index: 1;\n",
       "}\n",
       "\n",
       ".xr-var-attrs,\n",
       ".xr-var-data {\n",
       "  display: none;\n",
       "  background-color: var(--xr-background-color) !important;\n",
       "  padding-bottom: 5px !important;\n",
       "}\n",
       "\n",
       ".xr-var-attrs-in:checked ~ .xr-var-attrs,\n",
       ".xr-var-data-in:checked ~ .xr-var-data {\n",
       "  display: block;\n",
       "}\n",
       "\n",
       ".xr-var-data > table {\n",
       "  float: right;\n",
       "}\n",
       "\n",
       ".xr-var-name span,\n",
       ".xr-var-data,\n",
       ".xr-attrs {\n",
       "  padding-left: 25px !important;\n",
       "}\n",
       "\n",
       ".xr-attrs,\n",
       ".xr-var-attrs,\n",
       ".xr-var-data {\n",
       "  grid-column: 1 / -1;\n",
       "}\n",
       "\n",
       "dl.xr-attrs {\n",
       "  padding: 0;\n",
       "  margin: 0;\n",
       "  display: grid;\n",
       "  grid-template-columns: 125px auto;\n",
       "}\n",
       "\n",
       ".xr-attrs dt,\n",
       ".xr-attrs dd {\n",
       "  padding: 0;\n",
       "  margin: 0;\n",
       "  float: left;\n",
       "  padding-right: 10px;\n",
       "  width: auto;\n",
       "}\n",
       "\n",
       ".xr-attrs dt {\n",
       "  font-weight: normal;\n",
       "  grid-column: 1;\n",
       "}\n",
       "\n",
       ".xr-attrs dt:hover span {\n",
       "  display: inline-block;\n",
       "  background: var(--xr-background-color);\n",
       "  padding-right: 10px;\n",
       "}\n",
       "\n",
       ".xr-attrs dd {\n",
       "  grid-column: 2;\n",
       "  white-space: pre-wrap;\n",
       "  word-break: break-all;\n",
       "}\n",
       "\n",
       ".xr-icon-database,\n",
       ".xr-icon-file-text2 {\n",
       "  display: inline-block;\n",
       "  vertical-align: middle;\n",
       "  width: 1em;\n",
       "  height: 1.5em !important;\n",
       "  stroke-width: 0;\n",
       "  stroke: currentColor;\n",
       "  fill: currentColor;\n",
       "}\n",
       "</style><pre class='xr-text-repr-fallback'>&lt;xarray.DataArray &#x27;Cs&#x27; (Z: 46)&gt;\n",
       "dask.array&lt;xarray-Cs, shape=(46,), dtype=float32, chunksize=(46,), chunktype=numpy.ndarray&gt;\n",
       "Coordinates:\n",
       "    PHrefC   (Z) float32 dask.array&lt;chunksize=(46,), meta=np.ndarray&gt;\n",
       "  * Z        (Z) float32 -3.047 -9.454 -16.36 ... -5.625e+03 -5.875e+03\n",
       "    drF      (Z) float32 dask.array&lt;chunksize=(46,), meta=np.ndarray&gt;\n",
       "    iter     int64 ...\n",
       "    rhoRef   (Z) float32 dask.array&lt;chunksize=(46,), meta=np.ndarray&gt;\n",
       "    time     timedelta64[ns] ...</pre><div class='xr-wrap' hidden><div class='xr-header'><div class='xr-obj-type'>xarray.DataArray</div><div class='xr-array-name'>'Cs'</div><ul class='xr-dim-list'><li><span class='xr-has-index'>Z</span>: 46</li></ul></div><ul class='xr-sections'><li class='xr-section-item'><div class='xr-array-wrap'><input id='section-1cf632d6-8d07-42ab-83b8-118fedd04431' class='xr-array-in' type='checkbox' checked><label for='section-1cf632d6-8d07-42ab-83b8-118fedd04431' title='Show/hide data repr'><svg class='icon xr-icon-database'><use xlink:href='#icon-database'></use></svg></label><div class='xr-array-preview xr-preview'><span>dask.array&lt;chunksize=(46,), meta=np.ndarray&gt;</span></div><div class='xr-array-data'><table>\n",
       "<tr>\n",
       "<td>\n",
       "<table>\n",
       "  <thead>\n",
       "    <tr><td> </td><th> Array </th><th> Chunk </th></tr>\n",
       "  </thead>\n",
       "  <tbody>\n",
       "    <tr><th> Bytes </th><td> 184 B </td> <td> 184 B </td></tr>\n",
       "    <tr><th> Shape </th><td> (46,) </td> <td> (46,) </td></tr>\n",
       "    <tr><th> Count </th><td> 2 Tasks </td><td> 1 Chunks </td></tr>\n",
       "    <tr><th> Type </th><td> float32 </td><td> numpy.ndarray </td></tr>\n",
       "  </tbody>\n",
       "</table>\n",
       "</td>\n",
       "<td>\n",
       "<svg width=\"170\" height=\"79\" style=\"stroke:rgb(0,0,0);stroke-width:1\" >\n",
       "\n",
       "  <!-- Horizontal lines -->\n",
       "  <line x1=\"0\" y1=\"0\" x2=\"120\" y2=\"0\" style=\"stroke-width:2\" />\n",
       "  <line x1=\"0\" y1=\"29\" x2=\"120\" y2=\"29\" style=\"stroke-width:2\" />\n",
       "\n",
       "  <!-- Vertical lines -->\n",
       "  <line x1=\"0\" y1=\"0\" x2=\"0\" y2=\"29\" style=\"stroke-width:2\" />\n",
       "  <line x1=\"120\" y1=\"0\" x2=\"120\" y2=\"29\" style=\"stroke-width:2\" />\n",
       "\n",
       "  <!-- Colored Rectangle -->\n",
       "  <polygon points=\"0.0,0.0 120.0,0.0 120.0,29.503486635972166 0.0,29.503486635972166\" style=\"fill:#ECB172A0;stroke-width:0\"/>\n",
       "\n",
       "  <!-- Text -->\n",
       "  <text x=\"60.000000\" y=\"49.503487\" font-size=\"1.0rem\" font-weight=\"100\" text-anchor=\"middle\" >46</text>\n",
       "  <text x=\"140.000000\" y=\"14.751743\" font-size=\"1.0rem\" font-weight=\"100\" text-anchor=\"middle\" transform=\"rotate(0,140.000000,14.751743)\">1</text>\n",
       "</svg>\n",
       "</td>\n",
       "</tr>\n",
       "</table></div></div></li><li class='xr-section-item'><input id='section-42ee7b2a-7cea-406f-a04a-a03d9f0a0dbb' class='xr-section-summary-in' type='checkbox'  checked><label for='section-42ee7b2a-7cea-406f-a04a-a03d9f0a0dbb' class='xr-section-summary' >Coordinates: <span>(6)</span></label><div class='xr-section-inline-details'></div><div class='xr-section-details'><ul class='xr-var-list'><li class='xr-var-item'><div class='xr-var-name'><span>PHrefC</span></div><div class='xr-var-dims'>(Z)</div><div class='xr-var-dtype'>float32</div><div class='xr-var-preview xr-preview'>dask.array&lt;chunksize=(46,), meta=np.ndarray&gt;</div><input id='attrs-3e8626b2-9229-4960-bf02-7138e0ac8f3b' class='xr-var-attrs-in' type='checkbox' ><label for='attrs-3e8626b2-9229-4960-bf02-7138e0ac8f3b' title='Show/Hide attributes'><svg class='icon xr-icon-file-text2'><use xlink:href='#icon-file-text2'></use></svg></label><input id='data-18065d93-2f40-4713-926f-f0789f56bce5' class='xr-var-data-in' type='checkbox'><label for='data-18065d93-2f40-4713-926f-f0789f56bce5' title='Show/Hide data repr'><svg class='icon xr-icon-database'><use xlink:href='#icon-database'></use></svg></label><div class='xr-var-attrs'><dl class='xr-attrs'><dt><span>long_name :</span></dt><dd>Reference Hydrostatic Pressure</dd><dt><span>standard_name :</span></dt><dd>cell_reference_pressure</dd><dt><span>units :</span></dt><dd>m2 s-2</dd></dl></div><div class='xr-var-data'><table>\n",
       "<tr>\n",
       "<td>\n",
       "<table>\n",
       "  <thead>\n",
       "    <tr><td> </td><th> Array </th><th> Chunk </th></tr>\n",
       "  </thead>\n",
       "  <tbody>\n",
       "    <tr><th> Bytes </th><td> 184 B </td> <td> 184 B </td></tr>\n",
       "    <tr><th> Shape </th><td> (46,) </td> <td> (46,) </td></tr>\n",
       "    <tr><th> Count </th><td> 2 Tasks </td><td> 1 Chunks </td></tr>\n",
       "    <tr><th> Type </th><td> float32 </td><td> numpy.ndarray </td></tr>\n",
       "  </tbody>\n",
       "</table>\n",
       "</td>\n",
       "<td>\n",
       "<svg width=\"170\" height=\"79\" style=\"stroke:rgb(0,0,0);stroke-width:1\" >\n",
       "\n",
       "  <!-- Horizontal lines -->\n",
       "  <line x1=\"0\" y1=\"0\" x2=\"120\" y2=\"0\" style=\"stroke-width:2\" />\n",
       "  <line x1=\"0\" y1=\"29\" x2=\"120\" y2=\"29\" style=\"stroke-width:2\" />\n",
       "\n",
       "  <!-- Vertical lines -->\n",
       "  <line x1=\"0\" y1=\"0\" x2=\"0\" y2=\"29\" style=\"stroke-width:2\" />\n",
       "  <line x1=\"120\" y1=\"0\" x2=\"120\" y2=\"29\" style=\"stroke-width:2\" />\n",
       "\n",
       "  <!-- Colored Rectangle -->\n",
       "  <polygon points=\"0.0,0.0 120.0,0.0 120.0,29.503486635972166 0.0,29.503486635972166\" style=\"fill:#ECB172A0;stroke-width:0\"/>\n",
       "\n",
       "  <!-- Text -->\n",
       "  <text x=\"60.000000\" y=\"49.503487\" font-size=\"1.0rem\" font-weight=\"100\" text-anchor=\"middle\" >46</text>\n",
       "  <text x=\"140.000000\" y=\"14.751743\" font-size=\"1.0rem\" font-weight=\"100\" text-anchor=\"middle\" transform=\"rotate(0,140.000000,14.751743)\">1</text>\n",
       "</svg>\n",
       "</td>\n",
       "</tr>\n",
       "</table></div></li><li class='xr-var-item'><div class='xr-var-name'><span class='xr-has-index'>Z</span></div><div class='xr-var-dims'>(Z)</div><div class='xr-var-dtype'>float32</div><div class='xr-var-preview xr-preview'>-3.047 -9.454 ... -5.875e+03</div><input id='attrs-3fec7ac9-6694-4f9e-a6c1-ae2c51127bb0' class='xr-var-attrs-in' type='checkbox' ><label for='attrs-3fec7ac9-6694-4f9e-a6c1-ae2c51127bb0' title='Show/Hide attributes'><svg class='icon xr-icon-file-text2'><use xlink:href='#icon-file-text2'></use></svg></label><input id='data-7dbe126f-4ab4-482a-8166-b52bf4b1cb94' class='xr-var-data-in' type='checkbox'><label for='data-7dbe126f-4ab4-482a-8166-b52bf4b1cb94' title='Show/Hide data repr'><svg class='icon xr-icon-database'><use xlink:href='#icon-database'></use></svg></label><div class='xr-var-attrs'><dl class='xr-attrs'><dt><span>axis :</span></dt><dd>Z</dd><dt><span>long_name :</span></dt><dd>vertical coordinate of cell center</dd><dt><span>positive :</span></dt><dd>down</dd><dt><span>standard_name :</span></dt><dd>depth</dd><dt><span>units :</span></dt><dd>m</dd></dl></div><div class='xr-var-data'><pre>array([-3.046773e+00, -9.454049e+00, -1.636397e+01, -2.389871e+01,\n",
       "       -3.220929e+01, -4.148185e+01, -5.194513e+01, -6.387905e+01,\n",
       "       -7.762451e+01, -9.359412e+01, -1.122835e+02, -1.342823e+02,\n",
       "       -1.602840e+02, -1.910925e+02, -2.276233e+02, -2.708962e+02,\n",
       "       -3.220169e+02, -3.821444e+02, -4.524429e+02, -5.340197e+02,\n",
       "       -6.278525e+02, -7.347150e+02, -8.551112e+02, -9.892289e+02,\n",
       "       -1.136922e+03, -1.297724e+03, -1.470893e+03, -1.655472e+03,\n",
       "       -1.850365e+03, -2.054414e+03, -2.266454e+03, -2.485371e+03,\n",
       "       -2.710133e+03, -2.939812e+03, -3.173588e+03, -3.410756e+03,\n",
       "       -3.650712e+03, -3.892950e+03, -4.137047e+03, -4.382654e+03,\n",
       "       -4.629485e+03, -4.877303e+03, -5.125919e+03, -5.375177e+03,\n",
       "       -5.624952e+03, -5.875141e+03], dtype=float32)</pre></div></li><li class='xr-var-item'><div class='xr-var-name'><span>drF</span></div><div class='xr-var-dims'>(Z)</div><div class='xr-var-dtype'>float32</div><div class='xr-var-preview xr-preview'>dask.array&lt;chunksize=(46,), meta=np.ndarray&gt;</div><input id='attrs-33fceb33-589f-4800-a8ee-35aedd9ecd56' class='xr-var-attrs-in' type='checkbox' ><label for='attrs-33fceb33-589f-4800-a8ee-35aedd9ecd56' title='Show/Hide attributes'><svg class='icon xr-icon-file-text2'><use xlink:href='#icon-file-text2'></use></svg></label><input id='data-6b1da21b-b5a5-4319-be43-8a9995c8582c' class='xr-var-data-in' type='checkbox'><label for='data-6b1da21b-b5a5-4319-be43-8a9995c8582c' title='Show/Hide data repr'><svg class='icon xr-icon-database'><use xlink:href='#icon-database'></use></svg></label><div class='xr-var-attrs'><dl class='xr-attrs'><dt><span>long_name :</span></dt><dd>cell z size</dd><dt><span>standard_name :</span></dt><dd>cell_z_size</dd><dt><span>units :</span></dt><dd>m</dd></dl></div><div class='xr-var-data'><table>\n",
       "<tr>\n",
       "<td>\n",
       "<table>\n",
       "  <thead>\n",
       "    <tr><td> </td><th> Array </th><th> Chunk </th></tr>\n",
       "  </thead>\n",
       "  <tbody>\n",
       "    <tr><th> Bytes </th><td> 184 B </td> <td> 184 B </td></tr>\n",
       "    <tr><th> Shape </th><td> (46,) </td> <td> (46,) </td></tr>\n",
       "    <tr><th> Count </th><td> 2 Tasks </td><td> 1 Chunks </td></tr>\n",
       "    <tr><th> Type </th><td> float32 </td><td> numpy.ndarray </td></tr>\n",
       "  </tbody>\n",
       "</table>\n",
       "</td>\n",
       "<td>\n",
       "<svg width=\"170\" height=\"79\" style=\"stroke:rgb(0,0,0);stroke-width:1\" >\n",
       "\n",
       "  <!-- Horizontal lines -->\n",
       "  <line x1=\"0\" y1=\"0\" x2=\"120\" y2=\"0\" style=\"stroke-width:2\" />\n",
       "  <line x1=\"0\" y1=\"29\" x2=\"120\" y2=\"29\" style=\"stroke-width:2\" />\n",
       "\n",
       "  <!-- Vertical lines -->\n",
       "  <line x1=\"0\" y1=\"0\" x2=\"0\" y2=\"29\" style=\"stroke-width:2\" />\n",
       "  <line x1=\"120\" y1=\"0\" x2=\"120\" y2=\"29\" style=\"stroke-width:2\" />\n",
       "\n",
       "  <!-- Colored Rectangle -->\n",
       "  <polygon points=\"0.0,0.0 120.0,0.0 120.0,29.503486635972166 0.0,29.503486635972166\" style=\"fill:#ECB172A0;stroke-width:0\"/>\n",
       "\n",
       "  <!-- Text -->\n",
       "  <text x=\"60.000000\" y=\"49.503487\" font-size=\"1.0rem\" font-weight=\"100\" text-anchor=\"middle\" >46</text>\n",
       "  <text x=\"140.000000\" y=\"14.751743\" font-size=\"1.0rem\" font-weight=\"100\" text-anchor=\"middle\" transform=\"rotate(0,140.000000,14.751743)\">1</text>\n",
       "</svg>\n",
       "</td>\n",
       "</tr>\n",
       "</table></div></li><li class='xr-var-item'><div class='xr-var-name'><span>iter</span></div><div class='xr-var-dims'>()</div><div class='xr-var-dtype'>int64</div><div class='xr-var-preview xr-preview'>...</div><input id='attrs-a4d061e7-d0a7-42f2-8abe-da843d5faa1a' class='xr-var-attrs-in' type='checkbox' ><label for='attrs-a4d061e7-d0a7-42f2-8abe-da843d5faa1a' title='Show/Hide attributes'><svg class='icon xr-icon-file-text2'><use xlink:href='#icon-file-text2'></use></svg></label><input id='data-71d6087b-ac67-4bc6-9b90-8d466585b108' class='xr-var-data-in' type='checkbox'><label for='data-71d6087b-ac67-4bc6-9b90-8d466585b108' title='Show/Hide data repr'><svg class='icon xr-icon-database'><use xlink:href='#icon-database'></use></svg></label><div class='xr-var-attrs'><dl class='xr-attrs'><dt><span>long_name :</span></dt><dd>model timestep number</dd><dt><span>standard_name :</span></dt><dd>timestep</dd></dl></div><div class='xr-var-data'><pre>array(1576800)</pre></div></li><li class='xr-var-item'><div class='xr-var-name'><span>rhoRef</span></div><div class='xr-var-dims'>(Z)</div><div class='xr-var-dtype'>float32</div><div class='xr-var-preview xr-preview'>dask.array&lt;chunksize=(46,), meta=np.ndarray&gt;</div><input id='attrs-2de433a6-9a71-42b9-9f1b-ecc3bd1731d1' class='xr-var-attrs-in' type='checkbox' ><label for='attrs-2de433a6-9a71-42b9-9f1b-ecc3bd1731d1' title='Show/Hide attributes'><svg class='icon xr-icon-file-text2'><use xlink:href='#icon-file-text2'></use></svg></label><input id='data-35faa95d-d289-4169-8550-c1fd80e74630' class='xr-var-data-in' type='checkbox'><label for='data-35faa95d-d289-4169-8550-c1fd80e74630' title='Show/Hide data repr'><svg class='icon xr-icon-database'><use xlink:href='#icon-database'></use></svg></label><div class='xr-var-attrs'><dl class='xr-attrs'><dt><span>coordinate :</span></dt><dd>Z</dd><dt><span>long_name :</span></dt><dd>1D, vertical reference density profile</dd><dt><span>standard_name :</span></dt><dd>reference_density_profile</dd><dt><span>units :</span></dt><dd>kg m-3</dd></dl></div><div class='xr-var-data'><table>\n",
       "<tr>\n",
       "<td>\n",
       "<table>\n",
       "  <thead>\n",
       "    <tr><td> </td><th> Array </th><th> Chunk </th></tr>\n",
       "  </thead>\n",
       "  <tbody>\n",
       "    <tr><th> Bytes </th><td> 184 B </td> <td> 184 B </td></tr>\n",
       "    <tr><th> Shape </th><td> (46,) </td> <td> (46,) </td></tr>\n",
       "    <tr><th> Count </th><td> 2 Tasks </td><td> 1 Chunks </td></tr>\n",
       "    <tr><th> Type </th><td> float32 </td><td> numpy.ndarray </td></tr>\n",
       "  </tbody>\n",
       "</table>\n",
       "</td>\n",
       "<td>\n",
       "<svg width=\"170\" height=\"79\" style=\"stroke:rgb(0,0,0);stroke-width:1\" >\n",
       "\n",
       "  <!-- Horizontal lines -->\n",
       "  <line x1=\"0\" y1=\"0\" x2=\"120\" y2=\"0\" style=\"stroke-width:2\" />\n",
       "  <line x1=\"0\" y1=\"29\" x2=\"120\" y2=\"29\" style=\"stroke-width:2\" />\n",
       "\n",
       "  <!-- Vertical lines -->\n",
       "  <line x1=\"0\" y1=\"0\" x2=\"0\" y2=\"29\" style=\"stroke-width:2\" />\n",
       "  <line x1=\"120\" y1=\"0\" x2=\"120\" y2=\"29\" style=\"stroke-width:2\" />\n",
       "\n",
       "  <!-- Colored Rectangle -->\n",
       "  <polygon points=\"0.0,0.0 120.0,0.0 120.0,29.503486635972166 0.0,29.503486635972166\" style=\"fill:#ECB172A0;stroke-width:0\"/>\n",
       "\n",
       "  <!-- Text -->\n",
       "  <text x=\"60.000000\" y=\"49.503487\" font-size=\"1.0rem\" font-weight=\"100\" text-anchor=\"middle\" >46</text>\n",
       "  <text x=\"140.000000\" y=\"14.751743\" font-size=\"1.0rem\" font-weight=\"100\" text-anchor=\"middle\" transform=\"rotate(0,140.000000,14.751743)\">1</text>\n",
       "</svg>\n",
       "</td>\n",
       "</tr>\n",
       "</table></div></li><li class='xr-var-item'><div class='xr-var-name'><span>time</span></div><div class='xr-var-dims'>()</div><div class='xr-var-dtype'>timedelta64[ns]</div><div class='xr-var-preview xr-preview'>...</div><input id='attrs-5820b709-b0ce-460b-be55-694cfa882cd5' class='xr-var-attrs-in' type='checkbox' ><label for='attrs-5820b709-b0ce-460b-be55-694cfa882cd5' title='Show/Hide attributes'><svg class='icon xr-icon-file-text2'><use xlink:href='#icon-file-text2'></use></svg></label><input id='data-534c0fec-85d7-4434-9443-5890a2f4ad39' class='xr-var-data-in' type='checkbox'><label for='data-534c0fec-85d7-4434-9443-5890a2f4ad39' title='Show/Hide data repr'><svg class='icon xr-icon-database'><use xlink:href='#icon-database'></use></svg></label><div class='xr-var-attrs'><dl class='xr-attrs'><dt><span>axis :</span></dt><dd>T</dd><dt><span>calendar :</span></dt><dd>gregorian</dd><dt><span>long_name :</span></dt><dd>Time</dd><dt><span>standard_name :</span></dt><dd>time</dd></dl></div><div class='xr-var-data'><pre>array(315360000000000000, dtype=&#x27;timedelta64[ns]&#x27;)</pre></div></li></ul></div></li><li class='xr-section-item'><input id='section-83905efb-ae48-4f22-9110-0029b9d9fbb8' class='xr-section-summary-in' type='checkbox' disabled ><label for='section-83905efb-ae48-4f22-9110-0029b9d9fbb8' class='xr-section-summary'  title='Expand/collapse section'>Attributes: <span>(0)</span></label><div class='xr-section-inline-details'></div><div class='xr-section-details'><dl class='xr-attrs'></dl></div></li></ul></div></div>"
      ],
      "text/plain": [
       "<xarray.DataArray 'Cs' (Z: 46)>\n",
       "dask.array<xarray-Cs, shape=(46,), dtype=float32, chunksize=(46,), chunktype=numpy.ndarray>\n",
       "Coordinates:\n",
       "    PHrefC   (Z) float32 dask.array<chunksize=(46,), meta=np.ndarray>\n",
       "  * Z        (Z) float32 -3.047 -9.454 -16.36 ... -5.625e+03 -5.875e+03\n",
       "    drF      (Z) float32 dask.array<chunksize=(46,), meta=np.ndarray>\n",
       "    iter     int64 ...\n",
       "    rhoRef   (Z) float32 dask.array<chunksize=(46,), meta=np.ndarray>\n",
       "    time     timedelta64[ns] ..."
      ]
     },
     "execution_count": 8,
     "metadata": {},
     "output_type": "execute_result"
    }
   ],
   "source": [
    "Cs = xr.open_zarr(op.join(tdgs,'5Dave/Max_sound-speed/run1967/')).Cs\n",
    "Cs"
   ]
  },
  {
   "cell_type": "code",
   "execution_count": 9,
   "metadata": {},
   "outputs": [
    {
     "data": {
      "text/plain": [
       "array([1572480, 1574640, 1576800])"
      ]
     },
     "execution_count": 9,
     "metadata": {},
     "output_type": "execute_result"
    }
   ],
   "source": [
    "years = np.arange(1967,1968,dtype=int)\n",
    "ntimes = np.arange(1421280,1576800+dnf,dnf).reshape(len(years),nfile)\n",
    "dd = 70\n",
    "yystart = 0\n",
    "ntimes[yystart,dd:]"
   ]
  },
  {
   "cell_type": "code",
   "execution_count": 10,
   "metadata": {},
   "outputs": [
    {
     "name": "stdout",
     "output_type": "stream",
     "text": [
      "<xarray.DataArray 'concatenate-9e5b8d9f1e77b684449251e029ac1355' (Zp1: 47)>\n",
      "dask.array<mul, shape=(47,), dtype=float32, chunksize=(47,), chunktype=numpy.ndarray>\n",
      "Coordinates:\n",
      "  * Zp1      (Zp1) >f4 0.0 -6.094 -12.81 -19.91 ... -5.5e+03 -5.75e+03 -6e+03\n",
      "<xarray.DataArray 'delta_outer' (time: 1, Zp1: 47, YC: 783, XC: 1000)>\n",
      "dask.array<rechunk-merge, shape=(1, 47, 783, 1000), dtype=float64, chunksize=(1, 47, 200, 200), chunktype=numpy.ndarray>\n",
      "Coordinates:\n",
      "  * time     (time) timedelta64[ns] 3645 days\n",
      "  * Zp1      (Zp1) >f4 0.0 -6.094 -12.81 -19.91 ... -5.5e+03 -5.75e+03 -6e+03\n",
      "  * YC       (YC) >f4 -15.08 -15.0 -14.92 -14.83 ... 49.83 49.92 50.0 50.08\n",
      "  * XC       (XC) >f4 262.0 262.1 262.2 262.3 262.3 ... 347.7 347.8 347.9 348.0\n",
      "    drC      (Zp1) >f4 dask.array<chunksize=(47,), meta=np.ndarray>\n",
      "    PHrefF   (Zp1) >f4 dask.array<chunksize=(47,), meta=np.ndarray>\n",
      "<xarray.Dataset>\n",
      "Dimensions:       (XC: 1000, XG: 1000, YC: 783, YG: 783, delta: 54, delta_outer: 55, deltax_outer: 55, deltay_outer: 55, time: 1)\n",
      "Coordinates:\n",
      "  * time          (time) timedelta64[ns] 3645 days\n",
      "  * XC            (XC) >f4 262.0 262.1 262.2 262.3 ... 347.7 347.8 347.9 348.0\n",
      "  * YC            (YC) >f4 -15.08 -15.0 -14.92 -14.83 ... 49.83 49.92 50.0 50.08\n",
      "  * delta_outer   (delta_outer) float64 20.0 20.35 20.69 ... 29.14 29.17 29.2\n",
      "  * YG            (YG) >f4 -15.04 -14.96 -14.87 -14.79 ... 49.96 50.04 50.13\n",
      "  * deltay_outer  (deltay_outer) float64 20.0 20.35 20.69 ... 29.14 29.17 29.2\n",
      "  * XG            (XG) >f4 262.0 262.0 262.1 262.2 ... 347.7 347.8 347.8 347.9\n",
      "  * deltax_outer  (deltax_outer) float64 20.0 20.35 20.69 ... 29.14 29.17 29.2\n",
      "  * delta         (delta) float64 20.17 20.52 20.87 21.21 ... 29.13 29.16 29.19\n",
      "Data variables:\n",
      "    zdz           (time, YC, XC, delta_outer) float32 dask.array<chunksize=(1, 200, 200, 55), meta=np.ndarray>\n",
      "    zydz          (time, YG, XC, deltay_outer) float32 dask.array<chunksize=(1, 200, 200, 55), meta=np.ndarray>\n",
      "    zxdz          (time, YC, XG, deltax_outer) float32 dask.array<chunksize=(1, 200, 200, 55), meta=np.ndarray>\n",
      "    dzetaF        (time, YC, XC, delta_outer) float32 dask.array<chunksize=(1, 200, 200, 55), meta=np.ndarray>\n",
      "    dzetaFx       (time, YC, XG, deltax_outer) float32 dask.array<chunksize=(1, 200, 200, 55), meta=np.ndarray>\n",
      "    dzetaFy       (time, YG, XC, deltay_outer) float32 dask.array<chunksize=(1, 200, 200, 55), meta=np.ndarray>\n"
     ]
    },
    {
     "data": {
      "image/png": "[encoded data removed]",
      "text/plain": [
       "<Figure size 1008x792 with 8 Axes>"
      ]
     },
     "metadata": {
      "needs_background": "light"
     },
     "output_type": "display_data"
    },
    {
     "data": {
      "image/png": "[encoded data removed]",
      "text/plain": [
       "<Figure size 1008x792 with 8 Axes>"
      ]
     },
     "metadata": {
      "needs_background": "light"
     },
     "output_type": "display_data"
    },
    {
     "name": "stdout",
     "output_type": "stream",
     "text": [
      "<xarray.Dataset>\n",
      "Dimensions:      (XC: 1000, YC: 783, delta: 54, delta_outer: 55, time: 1)\n",
      "Coordinates:\n",
      "  * YC           (YC) float64 -15.08 -15.0 -14.92 -14.83 ... 49.92 50.0 50.08\n",
      "  * time         (time) timedelta64[ns] 3645 days\n",
      "  * XC           (XC) float32 262.0 262.1 262.2 262.3 ... 347.8 347.9 348.0\n",
      "  * delta_outer  (delta_outer) float64 20.0 20.35 20.69 ... 29.14 29.17 29.2\n",
      "  * delta        (delta) float64 20.17 20.52 20.87 21.21 ... 29.13 29.16 29.19\n",
      "Data variables:\n",
      "    cmpdz        (time, YC, XC, delta_outer) float32 dask.array<chunksize=(1, 200, 200, 55), meta=np.ndarray>\n",
      "    diadz        (time, YC, XC, delta_outer) float64 dask.array<chunksize=(1, 200, 200, 55), meta=np.ndarray>\n",
      "<xarray.Dataset>\n",
      "Dimensions:      (XC: 1000, YC: 783, delta: 54, delta_outer: 55, time: 1)\n",
      "Coordinates:\n",
      "  * time         (time) timedelta64[ns] 3645 days\n",
      "  * XC           (XC) >f4 262.0 262.1 262.2 262.3 ... 347.7 347.8 347.9 348.0\n",
      "  * YC           (YC) >f4 -15.08 -15.0 -14.92 -14.83 ... 49.83 49.92 50.0 50.08\n",
      "  * delta_outer  (delta_outer) float64 20.0 20.35 20.69 ... 29.14 29.17 29.2\n",
      "  * delta        (delta) float64 20.17 20.52 20.87 21.21 ... 29.13 29.16 29.19\n",
      "Data variables:\n",
      "    tdz          (time, YC, XC, delta_outer) float32 dask.array<chunksize=(1, 200, 200, 55), meta=np.ndarray>\n",
      "    sdz          (time, YC, XC, delta_outer) float32 dask.array<chunksize=(1, 200, 200, 55), meta=np.ndarray>\n",
      "<xarray.Dataset>\n",
      "Dimensions:       (XC: 1000, XG: 1000, YC: 783, YG: 783, delta: 54, deltax_outer: 55, deltay_outer: 55, time: 1)\n",
      "Coordinates:\n",
      "  * time          (time) timedelta64[ns] 3645 days\n",
      "  * XC            (XC) float32 262.0 262.1 262.2 262.3 ... 347.8 347.9 348.0\n",
      "  * YG            (YG) float64 -15.04 -14.96 -14.87 -14.79 ... 49.96 50.04 50.13\n",
      "  * deltay_outer  (deltay_outer) float64 20.0 20.35 20.69 ... 29.14 29.17 29.2\n",
      "  * YC            (YC) float64 -15.08 -15.0 -14.92 -14.83 ... 49.92 50.0 50.08\n",
      "  * XG            (XG) >f4 262.0 262.0 262.1 262.2 ... 347.7 347.8 347.8 347.9\n",
      "  * deltax_outer  (deltax_outer) float64 20.0 20.35 20.69 ... 29.14 29.17 29.2\n",
      "  * delta         (delta) float64 20.17 20.52 20.87 21.21 ... 29.13 29.16 29.19\n",
      "Data variables:\n",
      "    vdz           (time, YG, XC, deltay_outer) float32 dask.array<chunksize=(1, 200, 200, 55), meta=np.ndarray>\n",
      "    udz           (time, YC, XG, deltax_outer) float32 dask.array<chunksize=(1, 200, 200, 55), meta=np.ndarray>\n",
      "    pxdz          (time, YC, XG, deltax_outer) float64 dask.array<chunksize=(1, 200, 200, 55), meta=np.ndarray>\n",
      "    pydz          (time, YG, XC, deltay_outer) float64 dask.array<chunksize=(1, 200, 200, 55), meta=np.ndarray>\n",
      "1574640\n",
      "1576800\n"
     ]
    }
   ],
   "source": [
    "import warnings\n",
    "warnings.filterwarnings(\"ignore\")\n",
    "\n",
    "dCs = 1e-5\n",
    "ystart = ySstart\n",
    "yy = yystart\n",
    "\n",
    "\n",
    "for year in years[yystart:]:\n",
    "    if year == years[yystart]:\n",
    "        mtimes = ntimes[yy,dd+1:]\n",
    "#         mtimes = ntimes[yy,:1]\n",
    "    else:\n",
    "        mtimes = ntimes[yy]\n",
    "        \n",
    "    for itime in mtimes:\n",
    "        \n",
    "#         if itime == mtimes[0]:\n",
    "#             nmembs = np.arange(36,60)\n",
    "#         else:\n",
    "        nmembs = np.concatenate((np.arange(24),np.arange(36,60)))\n",
    "            \n",
    "        for imemb in nmembs:\n",
    "            if imemb < 24:\n",
    "                ds = open_mdsdataset(op.join(ddir,'qjamet/RUNS/ORAR/memb%02d/run%4d/ocn/' \n",
    "                                             % (imemb,year)), \n",
    "                                     grid_dir=op.join(ddir,'grid_chaO/gridMIT_update1/'),\n",
    "                                     prefix=['diag_ocnTave','diag_ocnSurf'], \n",
    "                                     delta_t=2e2, iters=itime                              \n",
    "                                    ).chunk({'YC':ychunk,'YG':ychunk,'XC':xchunk,'XG':xchunk})\n",
    "                dsp = xr.open_zarr(op.join(topog,'PHI_5Dave/run%4d/%010d/' % (year,itime)),\n",
    "                                  ).sel(nmemb=imemb)      \n",
    "            else:\n",
    "                ds = open_mdsdataset(op.join(ddir,'qjamet/RUNS/ORAR/memb%02d/run%4d/ocn/' \n",
    "                                             % (imemb,year)), \n",
    "                                  grid_dir=op.join(ddir,'grid_chaO/gridMIT_update1/'),\n",
    "                                  prefix=['diag_ocnTave','diag_ocnSurf',\n",
    "#                                           'diag_TSbgt2D','diag_dissTS'\n",
    "                                         ], \n",
    "                                  delta_t=2e2, iters=itime\n",
    "                                 ).chunk({'XC':xchunk,'XG':xchunk,'YC':ychunk,'YG':ychunk})\n",
    "                dsp = xr.open_zarr(op.join(tdgs,'Cs_5Dave/run%4d/%010d/' % (year,itime))\n",
    "                                  ).sel(nmemb=imemb-12)\n",
    "            \n",
    "            theta = ds.THETA.where(ds.maskC!=0.)\n",
    "            salt = ds.SALT.where(ds.maskC!=0.)\n",
    "                \n",
    "            dsp.coords['time'] = ds.time\n",
    "            dsp = dsp.chunk({'YC':ychunk,'XC':xchunk})\n",
    "            cs = dsp.cs.where(ds.maskC!=0.).chunk({'Z':-1})\n",
    "            if imemb < 24:\n",
    "                phi = dsp.PHIHYD.where(ds.maskC!=0.).sel(YC=slice(ystart-12**-1,\n",
    "                                                                  yend+2*12**-1)).chunk({'Z':-1})\n",
    "            else:\n",
    "                phi = ds.PHIHYD.where(ds.maskC!=0.).sel(YC=slice(ystart-12**-1,\n",
    "                                                                 yend+2*12**-1))\n",
    "\n",
    "            xA = ds.hFacW * ds.dyG * ds.drF\n",
    "            yA = ds.hFacS * ds.dxG * ds.drF\n",
    "            dxC_r = ds.dxC**-1\n",
    "            dyC_r = ds.dyC**-1\n",
    "            dxG_r = ds.dxG**-1\n",
    "            dyG_r = ds.dyG**-1\n",
    "            drF_r = ds.drF**-1\n",
    "            drC_r = ds.drC**-1\n",
    "            hFacC_r = ds.hFacC**-1\n",
    "            rA_r = ds.rA**-1\n",
    "            pres = rhoConst*grav*(-ds.Z) * 1e-4\n",
    "            presp1 = grav*(-ds.Zp1)*rhoConst * 1e-4\n",
    "            grid = Grid(ds, periodic=['X'])\n",
    "            grid_sub = Grid(ds.sel(YC=slice(ySstart-12**-1,yend+2*12**-1),\n",
    "                                   YG=slice(ySstart-12**-1,yend+2*12**-1)), \n",
    "                            periodic=['X']\n",
    "                           )\n",
    "            rho_til = rhoConst*(1. - grav*(-grid.cumsum((Cs+dCs)**-2*ds.drF, 'Z',\n",
    "                                                        boundary='extend', to='outer')\n",
    "                                          )\n",
    "                               ).chunk({'Zp1':-1})\n",
    "            if itime == mtimes[0] and imemb == 0:\n",
    "                print(rho_til)\n",
    "\n",
    "            dpdx = (grid_sub.diff(phi,'X') * dxC_r).where(ds.maskW!=0.)\n",
    "            dpdy = (grid_sub.diff(phi,'Y',boundary='fill') * dyC_r).where(ds.maskS!=0.)\n",
    "\n",
    "############################################\n",
    "#                   Rhos                   #\n",
    "############################################\n",
    "            rho_outer = xr.apply_ufunc(densjmd95, \n",
    "                                       grid.interp(salt,'Z',boundary='extend',to='outer'\n",
    "                                                  ).sel(YC=slice(ystart-12**-1,yend+2*12**-1)), \n",
    "                                       grid.interp(theta,'Z',boundary='extend',to='outer'\n",
    "                                                  ).sel(YC=slice(ystart-12**-1,yend+2*12**-1)), \n",
    "                                       presp1, \n",
    "                                       dask='parallelized', output_dtypes=[float,]\n",
    "                                      ).chunk({'XC':xchunk,'YC':ychunk})\n",
    "            rhox = xr.apply_ufunc(densjmd95, \n",
    "                                  grid.interp(grid.interp(salt,'X'\n",
    "                                                         ).where(ds.maskW!=0.).sel(YC=slice(ystart-12**-1,\n",
    "                                                                                            yend+2*12**-1)),\n",
    "                                              'Z',boundary='extend',to='outer'), \n",
    "                                  grid.interp(grid.interp(theta,'X'\n",
    "                                                         ).where(ds.maskW!=0.).sel(YC=slice(ystart-12**-1,\n",
    "                                                                                            yend+2*12**-1)),\n",
    "                                              'Z',boundary='extend',to='outer'), \n",
    "                                  presp1, \n",
    "                                  dask='parallelized', output_dtypes=[float,]\n",
    "                                 ).chunk({'XG':xchunk,'YC':ychunk})\n",
    "            rhoy = xr.apply_ufunc(densjmd95, \n",
    "                                  grid.interp(grid.interp(salt,'Y',boundary='fill'\n",
    "                                                         ).where(ds.maskS!=0.).sel(YG=slice(ystart-12**-1,\n",
    "                                                                                            yend+2*12**-1)),\n",
    "                                              'Z',boundary='extend',to='outer'), \n",
    "                                  grid.interp(grid.interp(theta,'Y',boundary='fill'\n",
    "                                                         ).where(ds.maskS!=0.).sel(YG=slice(ystart-12**-1,\n",
    "                                                                                            yend+2*12**-1)),\n",
    "                                              'Z',boundary='extend',to='outer'), \n",
    "                                  presp1,\n",
    "                                  dask='parallelized', output_dtypes=[float,]\n",
    "                                 ).chunk({'XC':xchunk,'YG':ychunk})\n",
    "\n",
    "            delta_outer = (rho_outer - rho_til).chunk({'Zp1':-1}).rename('delta_outer')\n",
    "            deltax_outer = (rhox - rho_til).chunk({'Zp1':-1}).rename('deltax_outer')\n",
    "            deltay_outer = (rhoy - rho_til).chunk({'Zp1':-1}).rename('deltay_outer')\n",
    "            if year == years[yystart] and itime == mtimes[0] and imemb == 0:\n",
    "                print(delta_outer)\n",
    "                fig, axes = plt.subplots(figsize=(14,11), nrows=2, ncols=2)\n",
    "#                 fig.set_tight_layout(True)\n",
    "                delta_outer.isel(time=0,Zp1=0).plot(ax=axes[0,0])\n",
    "                delta_outer.isel(time=0,Zp1=1).plot(ax=axes[0,1])\n",
    "                delta_outer.isel(time=0,Zp1=20).plot(ax=axes[1,0])\n",
    "                delta_outer.isel(time=0,Zp1=40).plot(ax=axes[1,1])\n",
    "\n",
    "##############################################\n",
    "#                     Zs                     #\n",
    "##############################################\n",
    "#         start = time.time()\n",
    "            zz = (xr.ones_like(ds.THETA)*ds.Z).where(ds.maskC!=0.).sel(YC=slice(ystart-12**-1,\n",
    "                                                                                yend+2*12**-1)\n",
    "                                                                      ).chunk({'YC':ychunk,'XC':xchunk}\n",
    "                                                                             )\n",
    "            zzy = (xr.ones_like(ds.VVEL)*ds.Z).where(ds.maskS!=0.).sel(YG=slice(ystart-12**-1,\n",
    "                                                                                yend+2*12**-1)\n",
    "                                                                      ).chunk({'YG':ychunk,'XC':xchunk}\n",
    "                                                                             )\n",
    "            zzx = (xr.ones_like(ds.UVEL)*ds.Z).where(ds.maskW!=0.).sel(YC=slice(ystart-12**-1,\n",
    "                                                                                yend+2*12**-1)\n",
    "                                                                      ).chunk({'YC':ychunk,'XG':xchunk}\n",
    "                                                                             )\n",
    "            zetadz = grid_sub.transform(zz.fillna(0.)*ds.drF,\n",
    "                                        'Z',\n",
    "                                        sigp1layers,\n",
    "                                        method='conservative',\n",
    "                                        target_data=delta_outer)\n",
    "            zetadzx = grid_sub.transform(zzx.fillna(0.)*ds.drF,\n",
    "                                         'Z',\n",
    "                                         sigp1layers,\n",
    "                                         method='conservative',\n",
    "                                         target_data=deltax_outer)\n",
    "            zetadzy = grid_sub.transform(zzy.fillna(0.)*ds.drF,\n",
    "                                         'Z',\n",
    "                                         sigp1layers,\n",
    "                                         method='conservative',\n",
    "                                         target_data=deltay_outer)\n",
    "            \n",
    "            dzz = (xr.ones_like(ds.THETA)*ds.drF).where(ds.maskC!=0.).sel(YC=slice(ystart-12**-1,\n",
    "                                                                                   yend+2*12**-1)\n",
    "                                                                         ).chunk({'YC':ychunk,'XC':xchunk}\n",
    "                                                                                )\n",
    "            dzzy = (xr.ones_like(ds.VVEL)*ds.drF).where(ds.maskS!=0.).sel(YG=slice(ystart-12**-1,\n",
    "                                                                                   yend+2*12**-1)\n",
    "                                                                         ).chunk({'YG':ychunk,'XC':xchunk}\n",
    "                                                                                )\n",
    "            dzzx = (xr.ones_like(ds.UVEL)*ds.drF).where(ds.maskW!=0.).sel(YC=slice(ystart-12**-1,\n",
    "                                                                                   yend+2*12**-1)\n",
    "                                                                         ).chunk({'YC':ychunk,'XG':xchunk}\n",
    "                                                                                )\n",
    "            dzetaF = grid_sub.transform(dzz.fillna(0.),\n",
    "                                        'Z',\n",
    "                                        sigp1layers,\n",
    "                                        method='conservative',\n",
    "                                        target_data=delta_outer)\n",
    "            dzetaFx = grid_sub.transform(dzzx.fillna(0.),\n",
    "                                         'Z',\n",
    "                                         sigp1layers,\n",
    "                                         method='conservative',\n",
    "                                         target_data=deltax_outer)\n",
    "            dzetaFy = grid_sub.transform(dzzy.fillna(0.),\n",
    "                                         'Z',\n",
    "                                         sigp1layers,\n",
    "                                         method='conservative',\n",
    "                                         target_data=deltay_outer)\n",
    "##############################################\n",
    "            dsave = zetadz.to_dataset(name='zdz')\n",
    "            dsave['zydz'] = zetadzy\n",
    "            dsave['zxdz'] = zetadzx\n",
    "            dsave['dzetaF'] = dzetaF.where(dzetaF!=0.)\n",
    "            dsave['dzetaFx'] = dzetaFx.where(dzetaFx!=0.)\n",
    "            dsave['dzetaFy'] = dzetaFy.where(dzetaFy!=0.)\n",
    "            delta = .5*(dsave.delta_outer[1:].data \n",
    "                        + dsave.delta_outer[:-1].data)\n",
    "            dsave = dsave.reset_coords(drop=True)\n",
    "            dsave.coords['delta'] = ('delta',delta)\n",
    "            if year == years[yystart] and itime == mtimes[0] and imemb == 0:\n",
    "                print(dsave)\n",
    "                fig, axes = plt.subplots(figsize=(14,11), nrows=2, ncols=2)\n",
    "                (zetadz/dzetaF).where(dzetaF!=0.).isel(time=0,delta_outer=10).plot(ax=axes[0,0], \n",
    "                                                                                   cmap='Blues_r')\n",
    "                (zetadz/dzetaF).where(dzetaF!=0.).isel(time=0,delta_outer=20).plot(ax=axes[0,1], \n",
    "                                                                                   cmap='Blues_r')\n",
    "                (zetadz/dzetaF).where(dzetaF!=0.).isel(time=0,delta_outer=30).plot(ax=axes[1,0], \n",
    "                                                                                   cmap='Blues_r')\n",
    "                (zetadz/dzetaF).where(dzetaF!=0.).isel(time=0,delta_outer=40).plot(ax=axes[1,1], \n",
    "                                                                                   cmap='Blues_r')\n",
    "                plt.show()\n",
    "            dsave.to_zarr(op.join(tdgs,'5Dave/Zs/run%4d/memb%02d/%010d/' \n",
    "                                  % (year,imemb,itime)), mode='w')\n",
    "            dsave.close()\n",
    "            del zz, zzy, zzx, zetadz, zetadzy, zetadzx\n",
    "            del dzetaF, dzetaFy, dzetaFx, dzz, dzzx, dzzy\n",
    "    #         print(\"Zs saved.\")\n",
    "\n",
    "##############################################\n",
    "#            Dynamical variables             #\n",
    "##############################################\n",
    "    #         start = time.time()\n",
    "\n",
    "            comp = (grid.interp(ds.WVEL,'Z',boundary='fill').chunk({'Z':-1}) \n",
    "                    * grav**2 \n",
    "                    * (cs**-2 - (Cs+dCs)**-2)\n",
    "                   )\n",
    "#             if imemb < 24:\n",
    "#                 try:\n",
    "#                     dsr = xr.open_zarr(op.join(topog,'Varpi_5Dave/run%4d/%010d/' % (year,itime))\n",
    "#                                       ).isel(nmemb=imemb)\n",
    "#                 except:\n",
    "#                     dsr = xr.open_zarr(op.join(tdgs,'Varpi_5Dave/run%4d/%010d/' % (year,itime))\n",
    "#                                       ).isel(nmemb=imemb)\n",
    "#             else:\n",
    "#                 dsr = xr.open_zarr(op.join(tdgs,'Varpi_5Dave/run%4d/memb%02d/%010d/' % (year,imemb,itime))\n",
    "#                                   )\n",
    "            dsr = xr.open_zarr(op.join(tdgs,'Varpi_5Dave/run%4d/memb%02d/%010d/' \n",
    "                                       % (year,imemb,itime))\n",
    "                              )\n",
    "            dsr.coords['time'] = ds.time\n",
    "            dsr = dsr.chunk({'YC':ychunk,'XC':xchunk})\n",
    "            diadz = grid_sub.transform(((dsr.VarpiT + dsr.VarpiS\n",
    "                                        ) * ds.drF).where(ds.maskC!=0.).fillna(0.).sel(YC=slice(ystart-12**-1,\n",
    "                                                                                     yend+2*12**-1)\n",
    "                                                                           ).chunk({'Z':-1,\n",
    "                                                                                    'YC':ychunk,'XC':xchunk}),\n",
    "                                       'Z',\n",
    "                                       sigp1layers,\n",
    "                                       method='conservative',\n",
    "                                       target_data=delta_outer)\n",
    "            cmpdz = grid_sub.transform((comp * ds.drF).where(ds.maskC!=0.).fillna(0.).sel(YC=slice(ystart-12**-1,\n",
    "                                                                                      yend+2*12**-1)\n",
    "                                                                            ).chunk({'Z':-1,\n",
    "                                                                                     'YC':ychunk,'XC':xchunk}),\n",
    "                                       'Z',\n",
    "                                       sigp1layers,\n",
    "                                       method='conservative',\n",
    "                                       target_data=delta_outer) \n",
    "##############################################\n",
    "    #         varpidz = (-grav*diadz*rhoConst**-1 \n",
    "    #                    + cmpdz\n",
    "    #                   )\n",
    "            dsave = cmpdz.to_dataset(name='cmpdz')\n",
    "            dsave['diadz'] = -grav*diadz*rhoConst**-1 \n",
    "            dsave = dsave.reset_coords(drop=True)\n",
    "            dsave.coords['delta'] = ('delta',delta)\n",
    "            if year == years[yystart] and itime == mtimes[0] and imemb == 0:\n",
    "                print(dsave)\n",
    "            dsave.to_zarr(op.join(tdgs,'5Dave/Varpi/run%4d/memb%02d/%010d/' \n",
    "                                  % (year,imemb,itime)), mode='w')\n",
    "            dsave.close()\n",
    "            del diadz, cmpdz\n",
    "    #         print(\"Varpi saved.\")\n",
    "##############################################\n",
    "            tdz = grid_sub.transform((theta.fillna(0.)*ds.drF).sel(YC=slice(ystart-12**-1,yend+2*12**-1)\n",
    "                                                       ).chunk({'YC':ychunk,'XC':xchunk}),\n",
    "                                     'Z',\n",
    "                                     sigp1layers,\n",
    "                                     method='conservative',\n",
    "                                     target_data=delta_outer)\n",
    "            sdz = grid_sub.transform((salt.fillna(0.)*ds.drF).sel(YC=slice(ystart-12**-1,yend+2*12**-1)\n",
    "                                                      ).chunk({'YC':ychunk,'XC':xchunk}),\n",
    "                                     'Z',\n",
    "                                     sigp1layers,\n",
    "                                     method='conservative',\n",
    "                                     target_data=delta_outer)\n",
    "            dsave = tdz.to_dataset(name='tdz')\n",
    "            dsave['sdz'] = sdz\n",
    "            dsave = dsave.reset_coords(drop=True)\n",
    "            dsave.coords['delta'] = ('delta',delta)\n",
    "            if year == years[yystart] and itime == mtimes[0] and imemb == 0:\n",
    "                print(dsave)\n",
    "            dsave.to_zarr(op.join(tdgs,'5Dave/Tracers/run%4d/memb%02d/%010d/' \n",
    "                                  % (year,imemb,itime)), mode='w')\n",
    "            del tdz, sdz\n",
    "            dsave.close()\n",
    "##############################################\n",
    "            pxdz = grid_sub.transform((dpdx.fillna(0.)*ds.drF).sel(YC=slice(ystart-12**-1,yend+2*12**-1)\n",
    "                                                       ).chunk({'Z':-1,'YC':ychunk,'XG':xchunk}),\n",
    "                                      'Z',\n",
    "                                      sigp1layers,\n",
    "                                      method='conservative',\n",
    "                                      target_data=deltax_outer)\n",
    "            pydz = grid_sub.transform((dpdy.fillna(0.)*ds.drF).sel(YG=slice(ystart-12**-1,yend+2*12**-1)\n",
    "                                                       ).chunk({'Z':-1,'YG':ychunk,'XC':xchunk}),\n",
    "                                      'Z',\n",
    "                                      sigp1layers,\n",
    "                                      method='conservative',\n",
    "                                      target_data=deltay_outer)\n",
    "            udz = grid_sub.transform((ds.UVEL*ds.drF).where(ds.maskW!=0.).fillna(0.).sel(YC=slice(ystart-12**-1,\n",
    "                                                                                       yend+2*12**-1)\n",
    "                                                                             ).chunk({'YC':ychunk,\n",
    "                                                                                      'XG':xchunk}),\n",
    "                                     'Z',\n",
    "                                     sigp1layers,\n",
    "                                     method='conservative',\n",
    "                                     target_data=deltax_outer)\n",
    "            vdz = grid_sub.transform((ds.VVEL*ds.drF).where(ds.maskS!=0.).fillna(0.).sel(YG=slice(ystart-12**-1,\n",
    "                                                                                       yend+2*12**-1)\n",
    "                                                                             ).chunk({'YG':ychunk,\n",
    "                                                                                      'XC':xchunk}),\n",
    "                                     'Z',\n",
    "                                     sigp1layers,\n",
    "                                     method='conservative',\n",
    "                                     target_data=deltay_outer)\n",
    "            del rho_outer, rhoy, rhox\n",
    "\n",
    "##############################################   \n",
    "            dsave = vdz.to_dataset(name='vdz')\n",
    "            dsave['udz'] = udz\n",
    "            dsave['pxdz'] = pxdz\n",
    "            dsave['pydz'] = pydz\n",
    "            dsave = dsave.reset_coords(drop=True)\n",
    "            dsave.coords['delta'] = ('delta',delta)\n",
    "            if year == years[yystart] and itime == mtimes[0] and imemb == 0:\n",
    "                print(dsave)\n",
    "            dsave.to_zarr(op.join(tdgs,'5Dave/Dyns/run%4d/memb%02d/%010d/' \n",
    "                                  % (year,imemb,itime)), mode='w')\n",
    "            dsave.close()\n",
    "    #         print(\"Dyn saved.\")\n",
    "            del vdz, udz, pydz, pxdz\n",
    "            ds.close()\n",
    "            dsp.close()\n",
    "            dsr.close()\n",
    "\n",
    "        print(itime)\n",
    "        \n",
    "    yy += 1"
   ]
  },
  {
   "cell_type": "code",
   "execution_count": null,
   "metadata": {},
   "outputs": [],
   "source": []
  }
 ],
 "metadata": {
  "kernelspec": {
   "display_name": "Python 3 (ipykernel)",
   "language": "python",
   "name": "python3"
  },
  "language_info": {
   "codemirror_mode": {
    "name": "ipython",
    "version": 3
   },
   "file_extension": ".py",
   "mimetype": "text/x-python",
   "name": "python",
   "nbconvert_exporter": "python",
   "pygments_lexer": "ipython3",
   "version": "3.8.8"
  }
 },
 "nbformat": 4,
 "nbformat_minor": 4
}
