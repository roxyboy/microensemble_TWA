{
 "cells": [
  {
   "cell_type": "code",
   "execution_count": 1,
   "metadata": {},
   "outputs": [
    {
     "data": {
      "text/html": [
       "<table style=\"border: 2px solid white;\">\n",
       "<tr>\n",
       "<td style=\"vertical-align: top; border: 0px solid white\">\n",
       "<h3 style=\"text-align: left;\">Client</h3>\n",
       "<ul style=\"text-align: left; list-style: none; margin: 0; padding: 0;\">\n",
       "  <li><b>Scheduler: </b>tcp://127.0.0.1:36335</li>\n",
       "  <li><b>Dashboard: </b><a href='http://127.0.0.1:8787/status' target='_blank'>http://127.0.0.1:8787/status</a></li>\n",
       "</ul>\n",
       "</td>\n",
       "<td style=\"vertical-align: top; border: 0px solid white\">\n",
       "<h3 style=\"text-align: left;\">Cluster</h3>\n",
       "<ul style=\"text-align: left; list-style:none; margin: 0; padding: 0;\">\n",
       "  <li><b>Workers: </b>12</li>\n",
       "  <li><b>Cores: </b>60</li>\n",
       "  <li><b>Memory: </b>253.49 GB</li>\n",
       "</ul>\n",
       "</td>\n",
       "</tr>\n",
       "</table>"
      ],
      "text/plain": [
       "<Client: 'tcp://127.0.0.1:36335' processes=12 threads=60, memory=253.49 GB>"
      ]
     },
     "execution_count": 1,
     "metadata": {},
     "output_type": "execute_result"
    }
   ],
   "source": [
    "from dask.distributed import Client\n",
    "\n",
    "client = Client(\"tcp://127.0.0.1:36335\")\n",
    "client"
   ]
  },
  {
   "cell_type": "code",
   "execution_count": 2,
   "metadata": {},
   "outputs": [],
   "source": [
    "import numpy as np\n",
    "import xarray as xr\n",
    "import pandas as pd\n",
    "from dask.diagnostics import ProgressBar\n",
    "import os.path as op\n",
    "import os\n",
    "# import gc\n",
    "# import h5py\n",
    "import xrft\n",
    "import gsw\n",
    "import time\n",
    "from scipy.interpolate import PchipInterpolator, interp1d\n",
    "from xgcm.grid import Grid\n",
    "from xmitgcm import open_mdsdataset\n",
    "from MITgcmutils import jmd95\n",
    "from fastjmd95 import rho as densjmd95\n",
    "from fastjmd95 import drhods, drhodt\n",
    "import matplotlib.pyplot as plt\n",
    "%matplotlib inline"
   ]
  },
  {
   "cell_type": "code",
   "execution_count": 3,
   "metadata": {},
   "outputs": [],
   "source": [
    "from xlayers import finegrid, layers\n",
    "from xlayers.core import layers_numpy, layers_apply"
   ]
  },
  {
   "cell_type": "code",
   "execution_count": 4,
   "metadata": {},
   "outputs": [],
   "source": [
    "ddir = '/tank/chaocean/'\n",
    "savedir = '/tank/topog/tuchida/TWA/'"
   ]
  },
  {
   "cell_type": "code",
   "execution_count": 5,
   "metadata": {},
   "outputs": [
    {
     "name": "stdout",
     "output_type": "stream",
     "text": [
      "[0.13517949 0.13510443 0.13472994 0.13405933 0.13309851 0.13185584\n",
      " 0.13034204 0.12856991 0.12655419 0.12431125 0.12185886 0.11921584\n",
      " 0.11640186 0.11343708 0.1103419  0.10713669 0.10384157 0.10047617\n",
      " 0.0970594  0.09360937 0.09014316 0.08667677 0.08322502 0.07980148\n",
      " 0.07641846 0.07308698 0.06981681 0.06661646 0.06349323 0.0604533\n",
      " 0.05750173 0.0546426  0.051879   0.04921318 0.04664658 0.04417995\n",
      " 0.04181336 0.03954635 0.03737794 0.03530672 0.03333092 0.03144845\n",
      " 0.02965695 0.02795388 0.0263365  0.02480195 0.0233473  0.02196953\n",
      " 0.02066559 0.01943244 0.01826704 0.01716637 0.01612747 0.01514743\n",
      " 0.01422339 0.01335261 0.01253238 0.01176011 0.0110333  0.01034953]\n"
     ]
    }
   ],
   "source": [
    "grav = 9.81\n",
    "nensembs = 5\n",
    "Kh = 20.\n",
    "K4 = 1e10\n",
    "Kr = 1e-5\n",
    "thetaMax = 1e20\n",
    "rhoConst = 9.998e2\n",
    "Cp = 3.994e3\n",
    "ySstart = -15\n",
    "yNstart = 10\n",
    "yend = 50\n",
    "\n",
    "Dsig = 7.8\n",
    "sigmin = 21.\n",
    "nlayers = 60\n",
    "# siglayers = np.linspace(19,48,nlayers)\n",
    "xs, xe = (0,2)\n",
    "tanh1 = np.tanh(np.arange(xs, xe, (xe-xs)/nlayers))\n",
    "amp = (tanh1.max()-tanh1.min())\n",
    "siglayers = (tanh1-tanh1.min())*amp**-1*Dsig + sigmin\n",
    "tanh2 = np.tanh(np.arange(xs-(xe-xs)/(2*nlayers), xe+(xe-xs)/(2*nlayers), (xe-xs)/nlayers))\n",
    "sigp1layers = (tanh2-tanh1.min())*amp**-1*Dsig + sigmin\n",
    "# func = interp1d(range(1,nlayers+1), siglayers, fill_value='extrapolate')\n",
    "# sigp1layers = func(np.arange(.5,nlayers+1.5,1))\n",
    "print(siglayers-sigp1layers[:-1])"
   ]
  },
  {
   "cell_type": "code",
   "execution_count": 6,
   "metadata": {},
   "outputs": [],
   "source": [
    "xchunk = 200\n",
    "ychunk = 200\n",
    "sigchunk = 10\n",
    "membchunk = 1\n",
    "dnf = 2160\n",
    "nremap = 140\n",
    "nfile = 73"
   ]
  },
  {
   "cell_type": "code",
   "execution_count": 7,
   "metadata": {},
   "outputs": [],
   "source": [
    "# dHT0 = xr.open_dataset(op.join(savedir,'IC_temperature-bias_%2dS-%2dN.nc'\n",
    "#                                % (np.abs(ySstart),yend))).dHT0\n",
    "# dHS0 = xr.open_dataset(op.join(savedir,'IC_salinity-bias_%2dS-%2dN.nc'\n",
    "#                                % (np.abs(ySstart),yend))).dHS0\n",
    "Cs = xr.open_dataset(op.join(savedir,'5Dave/Max_sound-speed.nc')).Cs"
   ]
  },
  {
   "cell_type": "code",
   "execution_count": 8,
   "metadata": {},
   "outputs": [],
   "source": [
    "def sound_speed(s,th,p):\n",
    "    \"\"\"\n",
    "    s            : salinity (psu)\n",
    "    th           : potential temperature (deg C, ITS-90)\n",
    "    p            : pressure (dbar)\n",
    "    \"\"\"\n",
    "    th2 = th**2\n",
    "    sqrts = np.sqrt(s)\n",
    "\n",
    "    anum = ( 9.99843699e2 +\n",
    "            th *( 7.35212840 +\n",
    "                 th *(-5.45928211e-2 +\n",
    "                      th * 3.98476704e-4\n",
    "                     )\n",
    "                ) +\n",
    "            s *( 2.96938239 -\n",
    "                th * 7.23268813e-3 +\n",
    "                s * 2.12382341e-3\n",
    "               )\n",
    "           )\n",
    "    aden = (1. +\n",
    "            th *( 7.28606739e-3 +\n",
    "                 th *(-4.60835542e-5 +\n",
    "                      th *( 3.68390573e-7 +\n",
    "                           th * 1.80809186e-10\n",
    "                          )\n",
    "                     )\n",
    "                ) +\n",
    "            s *( 2.14691708e-3 -\n",
    "                th *( 9.27062484e-6 +\n",
    "                     th2 * 1.78343643e-10\n",
    "                    ) +\n",
    "                sqrts *( 4.76534122e-6 +\n",
    "                        th2 * 1.63410736e-9\n",
    "                       )\n",
    "               )\n",
    "           )\n",
    "    \n",
    "#     anum_th =   (      7.352128400 + \n",
    "#                  th *(-1.091856422e-01 + \n",
    "#                  th *  1.195430112e-03) -\n",
    "#                   s *  7.232688130e-03)\n",
    "\n",
    "#     aden_th =   (      7.286067390e-03 +\n",
    "#                  th *(-9.216710840e-05 + \n",
    "#                  th *( 1.105171719e-06 + \n",
    "#                  th *  7.232367440e-10)) +\n",
    "#                   s *(-9.270624840e-06 - \n",
    "#                 th2 *  5.350309290e-10 + \n",
    "#           th *sqrts *  3.268214720e-09))\n",
    "\n",
    "#     anum_s =    (      2.96938239 -\n",
    "#                  th *  7.23268813e-03 +\n",
    "#                   s *  4.24764682e-03)\n",
    "\n",
    "#     aden_s =    (      2.14691708e-03 -\n",
    "#                  th *( 9.27062484e-06 +\n",
    "#                 th2 *  1.78343643e-10) +\n",
    "#               sqrts *( 7.14801183e-06 + \n",
    "#                 th2 *  2.45116104e-09))\n",
    "\n",
    "    anum_p = ( 1.04004591e-2 +\n",
    "              th2 * 1.03970529e-7 +\n",
    "              s * 5.18761880e-6\n",
    "             )\n",
    "    aden_p = 5.30848875e-6 * xr.ones_like(s)\n",
    "\n",
    "#     s = s.where(p!=0.)\n",
    "#     th = th.where(p!=0.) \n",
    "#     th2 = th2.where(p!=0.) \n",
    "#     p = p.where(p!=0.)\n",
    "#     anum = anum.where(p!=0.)\n",
    "#     aden = aden.where(p!=0.)\n",
    "#     anum_p = anum_p.where(p!=0.)\n",
    "#     aden_p = aden_p.where(p!=0.)\n",
    "\n",
    "    pth = p*th\n",
    "    anum = anum + p *( 1.04004591e-2 +\n",
    "                      th2 *  1.03970529e-7 +\n",
    "                      s *  5.18761880e-6 -\n",
    "                      p *( 3.24041825e-8 +\n",
    "                          th2 *  1.23869360e-11\n",
    "                         )\n",
    "                     )\n",
    "    aden = aden + p *( 5.30848875e-6 -\n",
    "                      pth *(th2 *  3.03175128e-16 +\n",
    "                            p *  1.27934137e-17\n",
    "                           )\n",
    "                     )\n",
    "\n",
    "#     anum_s = anum_s +                    p *  5.1876188e-06\n",
    "\n",
    "#     anum_th = anum_th +                pth *( 2.07941058e-07 - \n",
    "#                                          p *  2.47738720e-11)\n",
    "\n",
    "#     aden_th = aden_th -         p *p *(th2 *  9.09525384e-16 +\n",
    "#                                          p *  1.27934137e-17) \n",
    "\n",
    "    anum_p = anum_p - p *( 6.4808365e-8 + th2 * 2.4773872e-11)\n",
    "\n",
    "    aden_p = aden_p - pth *(th2 * 6.06350256e-16 +\n",
    "                            p * 3.83802411e-17)\n",
    "\n",
    "\n",
    "    rec_aden = aden**-1\n",
    "\n",
    "    rho = anum*rec_aden\n",
    "#     rho_s = (anum_s - aden_s*rho)*rec_aden\n",
    "#     rho_th = (anum_th - aden_th*rho)*rec_aden\n",
    "    rho_p = (anum_p - aden_p*rho)*rec_aden\n",
    "    \n",
    "    return np.sqrt(rho_p*1e-4)**-1"
   ]
  },
  {
   "cell_type": "code",
   "execution_count": 15,
   "metadata": {
    "collapsed": true,
    "jupyter": {
     "outputs_hidden": true,
     "source_hidden": true
    }
   },
   "outputs": [
    {
     "name": "stdout",
     "output_type": "stream",
     "text": [
      "Interpolation done. Lapse: 1344.8100290298462\n",
      "943920\n"
     ]
    }
   ],
   "source": [
    "# for itime in range(1101600+dnf,1259280+dnf,dnf):\n",
    "# for itime in range(1043280+dnf,1101600+dnf,dnf):\n",
    "for itime in range(943920,943920+dnf,dnf):\n",
    "    \n",
    "    dsz = xr.open_dataset(op.join(savedir,'%4d/Zs_membs_parallel-%2d_%010d.nc' \n",
    "                                  % (year,nremap,itime)),\n",
    "                          chunks={'nmemb':membchunk,'XC':xchunk,'XG':xchunk,\n",
    "                                  'YC':ychunk,'YG':ychunk}\n",
    "                         )\n",
    "        \n",
    "    grids = Grid(dsz, periodic=['X'], \n",
    "                 coords={'Z':{'center':'sig','outer':'sigp1'},\n",
    "                         'Y':{'center':'YC','left':'YG'},\n",
    "                         'X':{'center':'XC','left':'XG'}}\n",
    "                )\n",
    "    \n",
    "    for nmemb in range(24,36):\n",
    "        if nmemb == 24:\n",
    "            ds = open_mdsdataset(op.join(ddir,'qjamet/RUNS/ORAR/memb%02d/run%4d/ocn/' \n",
    "                                         % (nmemb,year)), \n",
    "                                grid_dir=op.join(ddir,'grid_chaO/gridMIT_update1/'),\n",
    "                                prefix=['diag_ocnSnap',\n",
    "                                        'diag_Tbgt2D','diag_Tbgt3D',\n",
    "                                        'diag_Sbgt2D','diag_Sbgt3D'], \n",
    "                                delta_t=2e2, iters=itime, \n",
    "                                chunks={'XC':xchunk,'XG':xchunk}\n",
    "                                ).isel(time=-1)\n",
    "        else:\n",
    "            ds = xr.concat([ds, open_mdsdataset(op.join(ddir,\n",
    "                                                        'qjamet/RUNS/ORAR/memb%02d/run%4d/ocn/' \n",
    "                                                        % (nmemb,year)), \n",
    "                                                grid_dir=op.join(ddir,\n",
    "                                                                 'grid_chaO/gridMIT_update1/'),\n",
    "                                                prefix=['diag_ocnSnap',\n",
    "                                                        'diag_Tbgt2D','diag_Tbgt3D',\n",
    "                                                        'diag_Sbgt2D','diag_Sbgt3D'], \n",
    "                                                delta_t=2e2, iters=itime, \n",
    "                                                chunks={'XC':xchunk,'XG':xchunk}\n",
    "                                               ).isel(time=-1)],\n",
    "                            dim='nmemb')\n",
    "    ds.coords['nmemb'] = ('nmemb',np.arange(0,12,1))\n",
    "    \n",
    "#     cs = xr.apply_ufunc(sound_speed, \n",
    "#                         ds.SALT.sel(YC=slice(yNstart-12**-1,yend+2*12**-1)), \n",
    "#                         ds.THETA.sel(YC=slice(yNstart-12**-1,yend+2*12**-1)), \n",
    "#                         -grav*ds.Z*rhoConst*1e-4,             # pressure in [dbar]!!!!\n",
    "#                         dask='parallelized', output_dtypes=[float,]\n",
    "#                        ).where(ds.maskC!=0.).compute().chunk({'nmemb':membchunk,\n",
    "#                                                               'XC':xchunk,'YC':ychunk})\n",
    "    cs = sound_speed(ds.SALT.sel(YC=slice(yNstart-12**-1,yend+2*12**-1)), \n",
    "                     ds.THETA.sel(YC=slice(yNstart-12**-1,yend+2*12**-1)), \n",
    "                     -grav*ds.Z*rhoConst*1e-4\n",
    "                    ).where(ds.maskC!=0.)\n",
    "    rho_s = xr.apply_ufunc(drhods, \n",
    "                           ds.SALT.sel(YC=slice(yNstart-12**-1,yend+2*12**-1)), \n",
    "                           ds.THETA.sel(YC=slice(yNstart-12**-1,yend+2*12**-1)),\n",
    "                           -grav*ds.Z*rhoConst*1e-4,             # pressure in [dbar]!!!!\n",
    "                           dask='parallelized', output_dtypes=[float,]\n",
    "                          ).where(ds.maskC!=0.)\n",
    "    rho_th = xr.apply_ufunc(drhodt, \n",
    "                            ds.SALT.sel(YC=slice(yNstart-12**-1,yend+2*12**-1)), \n",
    "                            ds.THETA.sel(YC=slice(yNstart-12**-1,yend+2*12**-1)),\n",
    "                            -grav*ds.Z*rhoConst*1e-4,             # pressure in [dbar]!!!!\n",
    "                            dask='parallelized', output_dtypes=[float,]\n",
    "                           ).where(ds.maskC!=0.)\n",
    "            \n",
    "    fine_drf = np.squeeze(ds.drF.sel(Z=slice(None,None)))\n",
    "    fine_drc = np.squeeze(ds.drC.sel(Zp1=slice(None,None)))\n",
    "#     drf_finer,mapindex,mapfact,cellindex = finegrid.finegrid(fine_drf, fine_drc, nremap)\n",
    "    \n",
    "    grid = Grid(ds, periodic=['X'])\n",
    "    \n",
    "#################################\n",
    "#     rho_insitu = xr.apply_ufunc(jmd95.densjmd95, \n",
    "#                                 ds.SALT.sel(YC=slice(yNstart-12**-1,yend+2*12**-1)), \n",
    "#                                 ds.THETA.sel(YC=slice(yNstart-12**-1,yend+2*12**-1)),\n",
    "# #                                 (ds.PHIHYD.sel(YC=slice(ySstart-12**-1,yend+2*12**-1))\n",
    "#                                 -grav*ds.Z*rhoConst*1e-4, # pressure in [dbar]!!!!\n",
    "#                                 dask='parallelized', output_dtypes=[float,]\n",
    "#                                ).where(ds.maskC!=0.).compute().chunk({'nmemb':membchunk,\n",
    "#                                                                       'XC':xchunk,'YC':ychunk}\n",
    "#                                                                     )\n",
    "    \n",
    "#     rhox = xr.apply_ufunc(jmd95.densjmd95, \n",
    "#                           grid.interp(ds.SALT,'X').sel(YC=slice(yNstart-12**-1,\n",
    "#                                                                 yend+2*12**-1)), \n",
    "#                           grid.interp(ds.THETA,'X').sel(YC=slice(yNstart-12**-1,\n",
    "#                                                                  yend+2*12**-1)), \n",
    "# #                           (grid.interp(ds.PHIHYD,'X').sel(YC=slice(ySstart-12**-1,\n",
    "# #                                                                    yend+2*12**-1))\n",
    "#                           -grav*ds.Z*rhoConst*1e-4, \n",
    "#                           dask='parallelized', output_dtypes=[float,]\n",
    "#                          ).where(ds.maskW!=0.).compute().chunk({'nmemb':membchunk,\n",
    "#                                                                 'XG':xchunk,'YC':ychunk})\n",
    "    \n",
    "#     rhoy = xr.apply_ufunc(jmd95.densjmd95, \n",
    "#                           grid.interp(ds.SALT,'Y',boundary='fill'\n",
    "#                                      ).sel(YG=slice(yNstart-12**-1,yend+2*12**-1)), \n",
    "#                           grid.interp(ds.THETA,'Y',boundary='fill'\n",
    "#                                      ).sel(YG=slice(yNstart-12**-1,yend+2*12**-1)), \n",
    "# #                           (grid.interp(ds.PHIHYD,'Y',boundary='fill'\n",
    "# #                                       ).sel(YG=slice(ySstart-12**-1,yend+2*12**-1))\n",
    "#                           -grav*ds.Z*rhoConst*1e-4,\n",
    "#                           dask='parallelized', output_dtypes=[float,]\n",
    "#                          ).where(ds.maskS!=0.).compute().chunk({'nmemb':membchunk,\n",
    "#                                                                 'XC':xchunk,'YG':ychunk})\n",
    "\n",
    "    rho_insitu = xr.apply_ufunc(densjmd95, \n",
    "                                ds.SALT.sel(YC=slice(yNstart-12**-1,yend+2*12**-1)), \n",
    "                                ds.THETA.sel(YC=slice(yNstart-12**-1,yend+2*12**-1)),\n",
    "                                -grav*ds.Z*rhoConst*1e-4,             # pressure in [dbar]!!!!\n",
    "                                dask='parallelized', output_dtypes=[float,]\n",
    "                               ).where(ds.maskC!=0.).compute().chunk({'nmemb':membchunk,\n",
    "                                                                      'XC':xchunk,'YC':ychunk})\n",
    "    rhox = xr.apply_ufunc(densjmd95, \n",
    "                          grid.interp(ds.SALT,'X').sel(YC=slice(yNstart-12**-1,yend+2*12**-1)), \n",
    "                          grid.interp(ds.THETA,'X').sel(YC=slice(yNstart-12**-1,yend+2*12**-1)), \n",
    "                          -grav*ds.Z*rhoConst*1e-4, \n",
    "                          dask='parallelized', output_dtypes=[float,]\n",
    "                         ).where(ds.maskW!=0.).compute().chunk({'nmemb':membchunk,\n",
    "                                                                'XG':xchunk,'YC':ychunk})\n",
    "    rhoy = xr.apply_ufunc(densjmd95, \n",
    "                          grid.interp(ds.SALT,'Y',boundary='fill'\n",
    "                                     ).sel(YG=slice(yNstart-12**-1,yend+2*12**-1)), \n",
    "                          grid.interp(ds.THETA,'Y',boundary='fill'\n",
    "                                     ).sel(YG=slice(yNstart-12**-1,yend+2*12**-1)), \n",
    "                          -grav*ds.Z*rhoConst*1e-4,\n",
    "                          dask='parallelized', output_dtypes=[float,]\n",
    "                         ).where(ds.maskS!=0.).compute().chunk({'nmemb':membchunk,\n",
    "                                                                'XC':xchunk,'YG':ychunk})\n",
    "    \n",
    "########################################\n",
    "# #     dpdx = (grid.diff(ds.PHIHYD.where(ds.maskC!=0.) * grid.interp(ds.dyG,'X'),\n",
    "# #                       'X'\n",
    "# #                      ) * ds.rAw**-1\n",
    "# #            ).where(ds.maskW!=0.)\n",
    "# #     dpdy = (grid.diff(ds.PHIHYD.where(ds.maskC!=0.) \n",
    "# #                       * grid.interp(ds.dxG,'Y',boundary='fill'),\n",
    "# #                       'Y',boundary='fill'\n",
    "# #                      ) * ds.rAs**-1\n",
    "# #            ).where(ds.maskS!=0.)\n",
    "    dpdx = (grid.diff(ds.PHIHYD.where(ds.maskC!=0.),'X') \n",
    "            * ds.dxC**-1\n",
    "           ).where(ds.maskW!=0.)\n",
    "    dpdy = (grid.diff(ds.PHIHYD.where(ds.maskC!=0.),'Y',boundary='fill') \n",
    "            * ds.dyC**-1\n",
    "           ).where(ds.maskS!=0.)\n",
    "# #     dpdx.coords['nmemb'] = ('nmemb',ds.nmemb.data)\n",
    "# #     dpdy.coords['nmemb'] = ('nmemb',ds.nmemb.data)\n",
    "    \n",
    "########################################\n",
    "    swfrac = .62 * np.exp(ds.Zl/.6) + (1-.62) * np.exp(ds.Zl/20.)\n",
    "    swfrac1 = (.62 * np.exp(ds.Zl.shift(Zl=-1)/.6) + (1-.62) \n",
    "               * np.exp(ds.Zl.shift(Zl=-1)/20.))\n",
    "    Qsw = (ds.oceQsw / (rhoConst*Cp) / (ds.drF*ds.hFacC) \n",
    "           * (swfrac - swfrac1).data\n",
    "          ).where(ds.maskC!=0.)\n",
    "    Tflx = ((ds.TFLUX - ds.oceQsw) \n",
    "            / (rhoConst*Cp*ds.drF[0]*ds.hFacC.isel(Z=0))\n",
    "           ).where(ds.maskInC!=0.)\n",
    "    tsurf_corr = 0.                  # linFSConverveTr = F.\n",
    "    Surf_corr = (tsurf_corr - ds.WTHMASS[:,0].where(ds.maskInC!=0.)\n",
    "                ) / (ds.drF[0]*ds.hFacC.isel(Z=0))\n",
    "#     DibaT = (ds.Diss_TH.where(ds.maskC!=0.) + Qsw).load()\n",
    "#     DibaT.isel(Z=0)[:] += (Tflx + Surf_corr).load()\n",
    "    DibaT = ds.Diss_TH.where(ds.maskC!=0.) + Qsw\n",
    "    DibaT = DibaT + xr.concat([xr.DataArray((Tflx+Surf_corr).data.reshape((len(ds.nmemb),1,\n",
    "                                                                           len(ds.YC),len(ds.XC)\n",
    "                                                                          )),\n",
    "                                            dims=['nmemb','Z','YC','XC'],\n",
    "                                            coords={'nmemb':ds.nmemb.data,\n",
    "                                                    'Z':np.array([ds.Z[0].data]),\n",
    "                                                    'YC':ds.YC.data,'XC':ds.XC.data}),\n",
    "                               xr.zeros_like(ds.Diss_TH.isel(Z=slice(1,None))\n",
    "                                            ).reset_coords(drop=True)],\n",
    "                              dim='Z')\n",
    "\n",
    "########################################\n",
    "    Sflx = (ds.SFLUX \n",
    "            / (rhoConst*ds.drF[0]*ds.hFacC.isel(Z=0))\n",
    "           ).where(ds.maskInC!=0.)\n",
    "    ssurf_corr = 0.                  # linFSConverveTr = F.\n",
    "    Surf_corr = (ssurf_corr - ds.WSLTMASS[:,0].where(ds.maskInC!=0.)\n",
    "                ) / (ds.drF[0]*ds.hFacC.isel(Z=0))\n",
    "#     DibaS = ds.Diss_SLT.where(ds.maskC!=0.).load()\n",
    "#     DibaS.isel(Z=0)[:] += (Sflx + Surf_corr).load()\n",
    "    DibaS = ds.Diss_SLT.where(ds.maskC!=0.)\n",
    "    DibaS = DibaS + xr.concat([xr.DataArray((Sflx+Surf_corr).data.reshape((len(ds.nmemb),1,\n",
    "                                                                           len(ds.YC),len(ds.XC)\n",
    "                                                                          )),\n",
    "                                            dims=['nmemb','Z','YC','XC'],\n",
    "                                            coords={'nmemb':ds.nmemb.data,\n",
    "                                                    'Z':np.array([ds.Z[0].data]),\n",
    "                                                    'YC':ds.YC.data,'XC':ds.XC.data}),\n",
    "                               xr.zeros_like(ds.Diss_SLT.isel(Z=slice(1,None))\n",
    "                                            ).reset_coords(drop=True)],\n",
    "                              dim='Z')\n",
    "    \n",
    "    comp = grid.interp(ds.WVEL,'Z',boundary='fill').chunk({'Z':-1}) * grav**2 * cs**-2\n",
    "    \n",
    "##########################################\n",
    "    start = time.time()    \n",
    "# #     diaTdz = xr.DataArray(np.ones((len(ds.nmemb),\n",
    "# #                                    len(ds.YC.sel(YC=slice(yNstart-12**-1,\n",
    "# #                                                           yend+2*12**-1))),\n",
    "# #                                    len(ds.XC),len(siglayers))),\n",
    "# #                           dims=['nmemb','YC','XC','sig'],\n",
    "# #                           coords={'nmemb':range(len(ds.nmemb),),\n",
    "# #                                   'YC':ds.YC.sel(YC=slice(yNstart-12**-1,\n",
    "# #                                                           yend+2*12**-1)).data,\n",
    "# #                                   'XC':ds.XC.data,'sig':siglayers}\n",
    "# #                          ) * np.nan\n",
    "# #     diaSdz = diaTdz.copy()\n",
    "# #     sdz = diaTdz.copy()\n",
    "# #     tdz = diaTdz.copy()\n",
    "# #     pxdz = xr.DataArray(np.ones((len(ds.nmemb),\n",
    "# #                                  len(ds.YC.sel(YC=slice(yNstart-12**-1,yend+2*12**-1))),\n",
    "# #                                  len(ds.XG),len(siglayers))),\n",
    "# #                         dims=['nmemb','YC','XG','sig'],\n",
    "# #                         coords={'nmemb':range(len(ds.nmemb),),\n",
    "# #                                 'YC':ds.YC.sel(YC=slice(yNstart-12**-1,\n",
    "# #                                                         yend+2*12**-1)).data,\n",
    "# #                                 'XG':ds.XG.data,'sig':siglayers}\n",
    "# #                        ) * np.nan\n",
    "# #     pydz = xr.DataArray(np.ones((len(ds.nmemb),\n",
    "# #                                  len(ds.YG.sel(YG=slice(yNstart-12**-1,yend+2*12**-1))),\n",
    "# #                                  len(ds.XC),len(siglayers))),\n",
    "# #                         dims=['nmemb','YG','XC','sig'],\n",
    "# #                         coords={'nmemb':range(len(ds.nmemb),),\n",
    "# #                                 'YG':ds.YG.sel(YG=slice(yNstart-12**-1,\n",
    "# #                                                         yend+2*12**-1)).data,\n",
    "# #                                 'XC':ds.XC.data,'sig':siglayers}\n",
    "# #                        ) * np.nan\n",
    "# #     udz = pxdz.copy()\n",
    "# #     vdz = pydz.copy()\n",
    "    \n",
    "# #     for tt in range(len(ds.nmemb)):\n",
    "# #         tmp1 = xr.apply_ufunc(layers_numpy, \n",
    "# #                               dpdx.isel(nmemb=tt).sel(YC=slice(yNstart-12**-1,\n",
    "# #                                                                yend+2*12**-1)\n",
    "# #                                                      ).chunk({'XG':xchunk}),\n",
    "# #                               (rhox.isel(nmemb=tt)-rhoConst),\n",
    "# #                               kwargs={'thetalayers':siglayers,'mapfact':mapfact,\n",
    "# #                                       'mapindex':mapindex,'cellindex':cellindex,\n",
    "# #                                       'drf_finer':drf_finer},\n",
    "# #                               dask='parallelized',\n",
    "# #                               input_core_dims=[['Z'],['Z']], \n",
    "# #                               output_core_dims=[['sig']],\n",
    "# #                               output_dtypes=[float,], output_sizes={'sig':siglayers.size}\n",
    "# #                              ).compute()\n",
    "\n",
    "# #         tmp2 = xr.apply_ufunc(layers_numpy, \n",
    "# #                               dpdy.isel(nmemb=tt).sel(YG=slice(yNstart-12**-1,\n",
    "# #                                                                yend+2*12**-1)\n",
    "# #                                                      ).chunk({'YG':ychunk}),\n",
    "# #                               (rhoy.isel(nmemb=tt)-rhoConst),\n",
    "# #                               kwargs={'thetalayers':siglayers,'mapfact':mapfact,\n",
    "# #                                       'mapindex':mapindex,'cellindex':cellindex,\n",
    "# #                                       'drf_finer':drf_finer},\n",
    "# #                               dask='parallelized',\n",
    "# #                               input_core_dims=[['Z'],['Z']], \n",
    "# #                               output_core_dims=[['sig']],\n",
    "# #                               output_dtypes=[float,], output_sizes={'sig':siglayers.size}\n",
    "# #                              ).compute()\n",
    "\n",
    "# #         pxdz[tt] = tmp1.data\n",
    "# #         pydz[tt] = tmp2.data\n",
    "# #         del tmp1, tmp2\n",
    "    pxdz = layers_apply(dpdx.sel(YC=slice(yNstart-12**-1,yend+2*12**-1)\n",
    "                                ).chunk({'nmemb':membchunk,'XG':xchunk}),\n",
    "                        (rhox-rhoConst),\n",
    "                        siglayers, fine_drf, fine_drc, fine_fact=nremap,\n",
    "                        lev_name='Z', Tlev_name='sig').compute()\n",
    "    pydz = layers_apply(dpdy.sel(YG=slice(yNstart-12**-1,yend+2*12**-1)\n",
    "                                ).chunk({'nmemb':membchunk,'YG':ychunk}),\n",
    "                        (rhoy-rhoConst),\n",
    "                        siglayers, fine_drf, fine_drc, fine_fact=nremap,\n",
    "                        lev_name='Z', Tlev_name='sig').compute()\n",
    "        \n",
    "#         tmp3 = xr.apply_ufunc(layers_numpy, \n",
    "#                               DibaT.isel(nmemb=tt).where(ds.maskC!=0.\n",
    "#                                                         ).sel(YC=slice(yNstart-12**-1,\n",
    "#                                                                        yend+2*12**-1)\n",
    "#                                                              ).chunk({'Z':-1,'YC':ychunk,\n",
    "#                                                                       'XC':xchunk}),\n",
    "#                               (rho_insitu.isel(nmemb=tt)-rhoConst),\n",
    "#                               kwargs={'thetalayers':siglayers,'mapfact':mapfact,\n",
    "#                                       'mapindex':mapindex,'cellindex':cellindex,\n",
    "#                                       'drf_finer':drf_finer},\n",
    "#                               dask='parallelized',\n",
    "#                               input_core_dims=[['Z'],['Z']], \n",
    "#                               output_core_dims=[['sig']],\n",
    "#                               output_dtypes=[float,], output_sizes={'sig':siglayers.size}\n",
    "#                              ).compute()\n",
    "\n",
    "#         tmp4 = xr.apply_ufunc(layers_numpy, \n",
    "#                               DibaS.isel(nmemb=tt).where(ds.maskC!=0.\n",
    "#                                                         ).sel(YC=slice(yNstart-12**-1,\n",
    "#                                                                        yend+2*12**-1)\n",
    "#                                                              ).chunk({'Z':-1,'YC':ychunk,\n",
    "#                                                                       'XC':xchunk}),\n",
    "#                               (rho_insitu.isel(nmemb=tt)-rhoConst),\n",
    "#                               kwargs={'thetalayers':siglayers,'mapfact':mapfact,\n",
    "#                                       'mapindex':mapindex,'cellindex':cellindex,\n",
    "#                                       'drf_finer':drf_finer},\n",
    "#                               dask='parallelized',\n",
    "#                               input_core_dims=[['Z'],['Z']], \n",
    "#                               output_core_dims=[['sig']],\n",
    "#                               output_dtypes=[float,], output_sizes={'sig':siglayers.size}\n",
    "#                              ).compute()\n",
    "\n",
    "#         diaTdz[tt] = tmp3.data\n",
    "#         diaSdz[tt] = tmp4.data\n",
    "#         del tmp3, tmp4\n",
    "    diaTdz = layers_apply((rho_th*DibaT).where(ds.maskC!=0.).sel(YC=slice(yNstart-12**-1,\n",
    "                                                                          yend+2*12**-1)\n",
    "                                                                ).chunk({'nmemb':membchunk,'Z':-1,\n",
    "                                                                         'YC':ychunk,'XC':xchunk}),\n",
    "                          (rho_insitu-rhoConst),\n",
    "                          siglayers, fine_drf, fine_drc, fine_fact=nremap,\n",
    "                          lev_name='Z', Tlev_name='sig').compute()\n",
    "    diaSdz = layers_apply((rho_s*DibaS).where(ds.maskC!=0.).sel(YC=slice(yNstart-12**-1,\n",
    "                                                                         yend+2*12**-1)\n",
    "                                                               ).chunk({'nmemb':membchunk,'Z':-1,\n",
    "                                                                        'YC':ychunk,'XC':xchunk}),\n",
    "                          (rho_insitu-rhoConst),\n",
    "                          siglayers, fine_drf, fine_drc, fine_fact=nremap,\n",
    "                          lev_name='Z', Tlev_name='sig').compute()\n",
    "#     drdTdz = layers_apply(rho_th.where(ds.maskC!=0.).sel(YC=slice(yNstart-12**-1,yend+2*12**-1)\n",
    "#                                                         ).chunk({'nmemb':membchunk,\n",
    "#                                                                  'YC':ychunk,'XC':xchunk}),\n",
    "#                           (rho_insitu-rhoConst),\n",
    "#                           siglayers, fine_drf, fine_drc, fine_fact=nremap,\n",
    "#                           lev_name='Z', Tlev_name='sig').compute()\n",
    "#     drdsdz = layers_apply(rho_s.where(ds.maskC!=0.).sel(YC=slice(yNstart-12**-1,yend+2*12**-1)\n",
    "#                                                        ).chunk({'nmemb':membchunk,\n",
    "#                                                                 'YC':ychunk,'XC':xchunk}),\n",
    "#                           (rho_insitu-rhoConst),\n",
    "#                           siglayers, fine_drf, fine_drc, fine_fact=nremap,\n",
    "#                           lev_name='Z', Tlev_name='sig').compute()\n",
    "    cmpdz = layers_apply(comp.where(ds.maskC!=0.).sel(YC=slice(yNstart-12**-1,yend+2*12**-1)\n",
    "                                                     ).chunk({'nmemb':membchunk,\n",
    "                                                              'YC':ychunk,'XC':xchunk}),\n",
    "                         (rho_insitu-rhoConst),\n",
    "                         siglayers, fine_drf, fine_drc, fine_fact=nremap,\n",
    "                         lev_name='Z', Tlev_name='sig').compute()\n",
    "        \n",
    "#         tmp5 = xr.apply_ufunc(layers_numpy, \n",
    "#                               ds.THETA.isel(nmemb=tt).where(ds.maskC!=0.\n",
    "#                                                            ).sel(YC=slice(yNstart-12**-1,\n",
    "#                                                                           yend+2*12**-1)\n",
    "#                                                                 ).chunk({'YC':ychunk,\n",
    "#                                                                          'XC':xchunk}),\n",
    "#                               (rho_insitu.isel(nmemb=tt)-rhoConst),\n",
    "#                               kwargs={'thetalayers':siglayers,'mapfact':mapfact,\n",
    "#                                       'mapindex':mapindex,'cellindex':cellindex,\n",
    "#                                       'drf_finer':drf_finer},\n",
    "#                               dask='parallelized',\n",
    "#                               input_core_dims=[['Z'],['Z']], \n",
    "#                               output_core_dims=[['sig']],\n",
    "#                               output_dtypes=[float,], output_sizes={'sig':siglayers.size}\n",
    "#                              ).compute()\n",
    "\n",
    "#         tmp6 = xr.apply_ufunc(layers_numpy, \n",
    "#                               ds.SALT.isel(nmemb=tt).where(ds.maskC!=0.\n",
    "#                                                           ).sel(YC=slice(yNstart-12**-1,\n",
    "#                                                                          yend+2*12**-1)\n",
    "#                                                                ).chunk({'YC':ychunk,\n",
    "#                                                                         'XC':xchunk}),\n",
    "#                               (rho_insitu.isel(nmemb=tt)-rhoConst),\n",
    "#                               kwargs={'thetalayers':siglayers,'mapfact':mapfact,\n",
    "#                                       'mapindex':mapindex,'cellindex':cellindex,\n",
    "#                                       'drf_finer':drf_finer},\n",
    "#                               dask='parallelized',\n",
    "#                               input_core_dims=[['Z'],['Z']], \n",
    "#                               output_core_dims=[['sig']],\n",
    "#                               output_dtypes=[float,], output_sizes={'sig':siglayers.size}\n",
    "#                              ).compute()\n",
    "\n",
    "#         tdz[tt] = tmp5.data\n",
    "#         sdz[tt] = tmp6.data\n",
    "#         del tmp5, tmp6\n",
    "    tdz = layers_apply(ds.THETA.where(ds.maskC!=0.).sel(YC=slice(yNstart-12**-1,yend+2*12**-1)\n",
    "                                                       ).chunk({'nmemb':membchunk,\n",
    "                                                                'YC':ychunk,'XC':xchunk}),\n",
    "                       (rho_insitu-rhoConst),\n",
    "                       siglayers, fine_drf, fine_drc, fine_fact=nremap,\n",
    "                       lev_name='Z', Tlev_name='sig').compute()\n",
    "    sdz = layers_apply(ds.SALT.where(ds.maskC!=0.).sel(YC=slice(yNstart-12**-1,yend+2*12**-1)\n",
    "                                                      ).chunk({'nmemb':membchunk,\n",
    "                                                               'YC':ychunk,'XC':xchunk}),\n",
    "                       (rho_insitu-rhoConst),\n",
    "                       siglayers, fine_drf, fine_drc, fine_fact=nremap,\n",
    "                       lev_name='Z', Tlev_name='sig').compute()\n",
    "        \n",
    "# #         tmp7 = xr.apply_ufunc(layers_numpy, \n",
    "# #                               ds.UVEL.isel(nmemb=tt).where(ds.maskW!=0.\n",
    "# #                                                           ).sel(YC=slice(yNstart-12**-1,\n",
    "# #                                                                          yend+2*12**-1)\n",
    "# #                                                                ).chunk({'YC':ychunk,\n",
    "# #                                                                         'XG':xchunk}),\n",
    "# #                               (rhox.isel(nmemb=tt)-rhoConst),\n",
    "# #                               kwargs={'thetalayers':siglayers,'mapfact':mapfact,\n",
    "# #                                       'mapindex':mapindex,'cellindex':cellindex,\n",
    "# #                                       'drf_finer':drf_finer},\n",
    "# #                               dask='parallelized',\n",
    "# #                               input_core_dims=[['Z'],['Z']], \n",
    "# #                               output_core_dims=[['sig']],\n",
    "# #                               output_dtypes=[float,], output_sizes={'sig':siglayers.size}\n",
    "# #                              ).compute()\n",
    "\n",
    "# #         tmp8 = xr.apply_ufunc(layers_numpy, \n",
    "# #                               ds.VVEL.isel(nmemb=tt).where(ds.maskS!=0.\n",
    "# #                                                           ).sel(YG=slice(yNstart-12**-1,\n",
    "# #                                                                          yend+2*12**-1)\n",
    "# #                                                                ).chunk({'YG':ychunk,\n",
    "# #                                                                         'XC':xchunk}),\n",
    "# #                               (rhoy.isel(nmemb=tt)-rhoConst),\n",
    "# #                               kwargs={'thetalayers':siglayers,'mapfact':mapfact,\n",
    "# #                                       'mapindex':mapindex,'cellindex':cellindex,\n",
    "# #                                       'drf_finer':drf_finer},\n",
    "# #                               dask='parallelized',\n",
    "# #                               input_core_dims=[['Z'],['Z']], \n",
    "# #                               output_core_dims=[['sig']],\n",
    "# #                               output_dtypes=[float,], output_sizes={'sig':siglayers.size}\n",
    "# #                              ).compute()\n",
    "\n",
    "# #         udz[tt] = tmp7.data\n",
    "# #         vdz[tt] = tmp8.data\n",
    "# #         del tmp7, tmp8\n",
    "    udz = layers_apply(ds.UVEL.where(ds.maskW!=0.).sel(YC=slice(yNstart-12**-1,yend+2*12**-1)\n",
    "                                                      ).chunk({'nmemb':membchunk,\n",
    "                                                               'YC':ychunk,'XG':xchunk}),\n",
    "                       (rhox-rhoConst),\n",
    "                       siglayers, fine_drf, fine_drc, fine_fact=nremap,\n",
    "                       lev_name='Z', Tlev_name='sig').compute()\n",
    "    vdz = layers_apply(ds.VVEL.where(ds.maskS!=0.).sel(YG=slice(yNstart-12**-1,yend+2*12**-1)\n",
    "                                                      ).chunk({'nmemb':membchunk,\n",
    "                                                               'YG':ychunk,'XC':xchunk}),\n",
    "                       (rhoy-rhoConst),\n",
    "                       siglayers, fine_drf, fine_drc, fine_fact=nremap,\n",
    "                       lev_name='Z', Tlev_name='sig').compute()\n",
    "    \n",
    "\n",
    "#     pxdz = pxdz.chunk({'nmemb':membchunk,'sig':sigchunk,'XG':xchunk,'YC':ychunk})\n",
    "#     pydz = pydz.chunk({'nmemb':membchunk,'sig':sigchunk,'XC':xchunk,'YG':ychunk})\n",
    "    diaTdz = diaTdz.chunk({'nmemb':membchunk,'YC':ychunk,'XC':xchunk})\n",
    "    diaSdz = diaSdz.chunk({'nmemb':membchunk,'YC':ychunk,'XC':xchunk})\n",
    "#     drdTdz = drdTdz.chunk({'nmemb':membchunk,'YC':ychunk,'XC':xchunk})\n",
    "#     drdsdz = drdsdz.chunk({'nmemb':membchunk,'YC':ychunk,'XC':xchunk})\n",
    "    cmpdz = cmpdz.chunk({'nmemb':membchunk,'YC':ychunk,'XC':xchunk})\n",
    "#     tdz = tdz.chunk({'nmemb':membchunk,'YC':ychunk,'XC':xchunk})\n",
    "#     sdz = sdz.chunk({'nmemb':membchunk,'YC':ychunk,'XC':xchunk})\n",
    "#     udz = udz.chunk({'nmemb':membchunk,'sig':sigchunk,'XG':xchunk,'YC':ychunk})\n",
    "#     vdz = vdz.chunk({'nmemb':membchunk,'sig':sigchunk,'XC':xchunk,'YG':ychunk})\n",
    "    \n",
    "    del rho_insitu\n",
    "    del rhoy, rhox\n",
    "    end = time.time()\n",
    "    print(\"Interpolation done. Lapse:\", end-start)\n",
    "    \n",
    "    \n",
    "##########################################    \n",
    "    buoyb = -grav * dsz.sig * rhoConst**-1\n",
    "    buoybp1 = -grav * dsz.sigp1 * rhoConst**-1\n",
    "    \n",
    "#     _dT = -grids.diff(tdz.chunk({'nmemb':membchunk,'YC':ychunk,'XC':xchunk})\n",
    "#                       * dsz.dzetaF**-1,\n",
    "#                       'Z',boundary='fill')**-1\n",
    "#     _ds = -grids.diff(sdz.chunk({'nmemb':membchunk,'YC':ychunk,'XC':xchunk})\n",
    "#                       * dsz.dzetaF**-1,\n",
    "#                       'Z',boundary='fill')**-1\n",
    "# #     varpidz = (grids.interp(dbdT,'Z',boundary='fill') * diaTdz\n",
    "# #                + grids.interp(dbds,'Z',boundary='fill') * diaSdz\n",
    "# #               ).compute()\n",
    "#     varpidz_db = (grids.interp(_dT,'Z',boundary='fill') * diaTdz\n",
    "#                   + grids.interp(_ds,'Z',boundary='fill') * diaSdz\n",
    "#                  )\n",
    "#     varpidz = (varpidz_db * -grids.diff(buoybp1,'Z',boundary='fill')\n",
    "#                + cmpdz).compute()\n",
    "    varpidzdr = diaTdz + diaSdz\n",
    "    varpidz = (-varpidzdr * grav*rhoConst**-1 \n",
    "               + cmpdz\n",
    "              ).compute()\n",
    "    \n",
    "    dsave = varpidz.to_dataset(name='varpidz')\n",
    "    dsave.coords['sigp1'] = ('sigp1',sigp1layers)\n",
    "    dsave.to_netcdf(op.join(savedir,'%4d/Varpidz-compressible_membs_parallel-%2d_%010d.nc' \n",
    "                            % (year,nremap,itime)))\n",
    "    dsave.close()\n",
    "#     dsave = varpidz_db.to_dataset(name='varpidz_db')\n",
    "    dsave = vdz.to_dataset(name='vdz')\n",
    "    dsave['udz'] = udz\n",
    "    dsave['tdz'] = tdz\n",
    "    dsave['sdz'] = sdz\n",
    "    dsave['pxdz'] = pxdz\n",
    "    dsave['pydz'] = pydz\n",
    "    dsave.coords['sigp1'] = ('sigp1',sigp1layers)\n",
    "    dsave.to_netcdf(op.join(savedir,'%4d/Dyn_membs_parallel-%2d_%010d.nc' \n",
    "                            % (year,nremap,itime)))\n",
    "    dsave.close()\n",
    "    dsz.close()\n",
    "    ds.close()\n",
    "\n",
    "#     del cs, rho_th, rho_s\n",
    "    del varpidz, tdz, sdz, diaTdz, diaSdz, cmpdz\n",
    "    del vdz, udz, pydz, pxdz\n",
    "#     client.restart()\n",
    "    \n",
    "    print(itime)"
   ]
  },
  {
   "cell_type": "code",
   "execution_count": 12,
   "metadata": {},
   "outputs": [
    {
     "data": {
      "text/plain": [
       "8376480"
      ]
     },
     "execution_count": 12,
     "metadata": {},
     "output_type": "execute_result"
    }
   ],
   "source": [
    "years = np.arange(2008,2013,dtype=int)\n",
    "ntimes = np.arange(7886160,8672400+dnf,dnf).reshape(len(years),nfile)\n",
    "dd = 8\n",
    "yystart = 3\n",
    "ntimes[yystart,dd]"
   ]
  },
  {
   "cell_type": "code",
   "execution_count": 13,
   "metadata": {
    "collapsed": true,
    "jupyter": {
     "outputs_hidden": true
    }
   },
   "outputs": [
    {
     "name": "stderr",
     "output_type": "stream",
     "text": [
      "/tank/users/tuchida/miniconda3/envs/ensemble/lib/python3.7/site-packages/ipykernel_launcher.py:106: FutureWarning: This DataArray contains multi-dimensional coordinates. In the future, these coordinates will be transposed as well unless you specify transpose_coords=False.\n",
      "/tank/users/tuchida/miniconda3/envs/ensemble/lib/python3.7/site-packages/ipykernel_launcher.py:108: FutureWarning: This DataArray contains multi-dimensional coordinates. In the future, these coordinates will be transposed as well unless you specify transpose_coords=False.\n",
      "/tank/users/tuchida/miniconda3/envs/ensemble/lib/python3.7/site-packages/ipykernel_launcher.py:110: FutureWarning: This DataArray contains multi-dimensional coordinates. In the future, these coordinates will be transposed as well unless you specify transpose_coords=False.\n"
     ]
    },
    {
     "name": "stdout",
     "output_type": "stream",
     "text": [
      "Zs saved.\n",
      "Varpi saved.\n",
      "Dyn saved.\n",
      "8376480\n"
     ]
    },
    {
     "name": "stderr",
     "output_type": "stream",
     "text": [
      "/tank/users/tuchida/miniconda3/envs/ensemble/lib/python3.7/site-packages/ipykernel_launcher.py:106: FutureWarning: This DataArray contains multi-dimensional coordinates. In the future, these coordinates will be transposed as well unless you specify transpose_coords=False.\n",
      "/tank/users/tuchida/miniconda3/envs/ensemble/lib/python3.7/site-packages/ipykernel_launcher.py:108: FutureWarning: This DataArray contains multi-dimensional coordinates. In the future, these coordinates will be transposed as well unless you specify transpose_coords=False.\n",
      "/tank/users/tuchida/miniconda3/envs/ensemble/lib/python3.7/site-packages/ipykernel_launcher.py:110: FutureWarning: This DataArray contains multi-dimensional coordinates. In the future, these coordinates will be transposed as well unless you specify transpose_coords=False.\n"
     ]
    },
    {
     "name": "stdout",
     "output_type": "stream",
     "text": [
      "Zs saved.\n",
      "Varpi saved.\n",
      "Dyn saved.\n",
      "8378640\n"
     ]
    },
    {
     "name": "stderr",
     "output_type": "stream",
     "text": [
      "/tank/users/tuchida/miniconda3/envs/ensemble/lib/python3.7/site-packages/ipykernel_launcher.py:106: FutureWarning: This DataArray contains multi-dimensional coordinates. In the future, these coordinates will be transposed as well unless you specify transpose_coords=False.\n",
      "/tank/users/tuchida/miniconda3/envs/ensemble/lib/python3.7/site-packages/ipykernel_launcher.py:108: FutureWarning: This DataArray contains multi-dimensional coordinates. In the future, these coordinates will be transposed as well unless you specify transpose_coords=False.\n",
      "/tank/users/tuchida/miniconda3/envs/ensemble/lib/python3.7/site-packages/ipykernel_launcher.py:110: FutureWarning: This DataArray contains multi-dimensional coordinates. In the future, these coordinates will be transposed as well unless you specify transpose_coords=False.\n"
     ]
    },
    {
     "name": "stdout",
     "output_type": "stream",
     "text": [
      "Zs saved.\n",
      "Varpi saved.\n",
      "Dyn saved.\n",
      "8380800\n"
     ]
    },
    {
     "name": "stderr",
     "output_type": "stream",
     "text": [
      "/tank/users/tuchida/miniconda3/envs/ensemble/lib/python3.7/site-packages/ipykernel_launcher.py:106: FutureWarning: This DataArray contains multi-dimensional coordinates. In the future, these coordinates will be transposed as well unless you specify transpose_coords=False.\n",
      "/tank/users/tuchida/miniconda3/envs/ensemble/lib/python3.7/site-packages/ipykernel_launcher.py:108: FutureWarning: This DataArray contains multi-dimensional coordinates. In the future, these coordinates will be transposed as well unless you specify transpose_coords=False.\n",
      "/tank/users/tuchida/miniconda3/envs/ensemble/lib/python3.7/site-packages/ipykernel_launcher.py:110: FutureWarning: This DataArray contains multi-dimensional coordinates. In the future, these coordinates will be transposed as well unless you specify transpose_coords=False.\n"
     ]
    },
    {
     "name": "stdout",
     "output_type": "stream",
     "text": [
      "Zs saved.\n",
      "Varpi saved.\n",
      "Dyn saved.\n",
      "8382960\n"
     ]
    },
    {
     "name": "stderr",
     "output_type": "stream",
     "text": [
      "/tank/users/tuchida/miniconda3/envs/ensemble/lib/python3.7/site-packages/ipykernel_launcher.py:106: FutureWarning: This DataArray contains multi-dimensional coordinates. In the future, these coordinates will be transposed as well unless you specify transpose_coords=False.\n",
      "/tank/users/tuchida/miniconda3/envs/ensemble/lib/python3.7/site-packages/ipykernel_launcher.py:108: FutureWarning: This DataArray contains multi-dimensional coordinates. In the future, these coordinates will be transposed as well unless you specify transpose_coords=False.\n",
      "/tank/users/tuchida/miniconda3/envs/ensemble/lib/python3.7/site-packages/ipykernel_launcher.py:110: FutureWarning: This DataArray contains multi-dimensional coordinates. In the future, these coordinates will be transposed as well unless you specify transpose_coords=False.\n"
     ]
    },
    {
     "name": "stdout",
     "output_type": "stream",
     "text": [
      "Zs saved.\n",
      "Varpi saved.\n",
      "Dyn saved.\n",
      "8385120\n"
     ]
    },
    {
     "name": "stderr",
     "output_type": "stream",
     "text": [
      "/tank/users/tuchida/miniconda3/envs/ensemble/lib/python3.7/site-packages/ipykernel_launcher.py:106: FutureWarning: This DataArray contains multi-dimensional coordinates. In the future, these coordinates will be transposed as well unless you specify transpose_coords=False.\n",
      "/tank/users/tuchida/miniconda3/envs/ensemble/lib/python3.7/site-packages/ipykernel_launcher.py:108: FutureWarning: This DataArray contains multi-dimensional coordinates. In the future, these coordinates will be transposed as well unless you specify transpose_coords=False.\n",
      "/tank/users/tuchida/miniconda3/envs/ensemble/lib/python3.7/site-packages/ipykernel_launcher.py:110: FutureWarning: This DataArray contains multi-dimensional coordinates. In the future, these coordinates will be transposed as well unless you specify transpose_coords=False.\n"
     ]
    },
    {
     "name": "stdout",
     "output_type": "stream",
     "text": [
      "Zs saved.\n",
      "Varpi saved.\n",
      "Dyn saved.\n",
      "8387280\n"
     ]
    },
    {
     "name": "stderr",
     "output_type": "stream",
     "text": [
      "/tank/users/tuchida/miniconda3/envs/ensemble/lib/python3.7/site-packages/ipykernel_launcher.py:106: FutureWarning: This DataArray contains multi-dimensional coordinates. In the future, these coordinates will be transposed as well unless you specify transpose_coords=False.\n",
      "/tank/users/tuchida/miniconda3/envs/ensemble/lib/python3.7/site-packages/ipykernel_launcher.py:108: FutureWarning: This DataArray contains multi-dimensional coordinates. In the future, these coordinates will be transposed as well unless you specify transpose_coords=False.\n",
      "/tank/users/tuchida/miniconda3/envs/ensemble/lib/python3.7/site-packages/ipykernel_launcher.py:110: FutureWarning: This DataArray contains multi-dimensional coordinates. In the future, these coordinates will be transposed as well unless you specify transpose_coords=False.\n"
     ]
    },
    {
     "name": "stdout",
     "output_type": "stream",
     "text": [
      "Zs saved.\n",
      "Varpi saved.\n",
      "Dyn saved.\n",
      "8389440\n"
     ]
    },
    {
     "name": "stderr",
     "output_type": "stream",
     "text": [
      "/tank/users/tuchida/miniconda3/envs/ensemble/lib/python3.7/site-packages/ipykernel_launcher.py:106: FutureWarning: This DataArray contains multi-dimensional coordinates. In the future, these coordinates will be transposed as well unless you specify transpose_coords=False.\n",
      "/tank/users/tuchida/miniconda3/envs/ensemble/lib/python3.7/site-packages/ipykernel_launcher.py:108: FutureWarning: This DataArray contains multi-dimensional coordinates. In the future, these coordinates will be transposed as well unless you specify transpose_coords=False.\n",
      "/tank/users/tuchida/miniconda3/envs/ensemble/lib/python3.7/site-packages/ipykernel_launcher.py:110: FutureWarning: This DataArray contains multi-dimensional coordinates. In the future, these coordinates will be transposed as well unless you specify transpose_coords=False.\n"
     ]
    },
    {
     "name": "stdout",
     "output_type": "stream",
     "text": [
      "Zs saved.\n",
      "Varpi saved.\n",
      "Dyn saved.\n",
      "8391600\n"
     ]
    },
    {
     "name": "stderr",
     "output_type": "stream",
     "text": [
      "/tank/users/tuchida/miniconda3/envs/ensemble/lib/python3.7/site-packages/ipykernel_launcher.py:106: FutureWarning: This DataArray contains multi-dimensional coordinates. In the future, these coordinates will be transposed as well unless you specify transpose_coords=False.\n",
      "/tank/users/tuchida/miniconda3/envs/ensemble/lib/python3.7/site-packages/ipykernel_launcher.py:108: FutureWarning: This DataArray contains multi-dimensional coordinates. In the future, these coordinates will be transposed as well unless you specify transpose_coords=False.\n",
      "/tank/users/tuchida/miniconda3/envs/ensemble/lib/python3.7/site-packages/ipykernel_launcher.py:110: FutureWarning: This DataArray contains multi-dimensional coordinates. In the future, these coordinates will be transposed as well unless you specify transpose_coords=False.\n"
     ]
    },
    {
     "name": "stdout",
     "output_type": "stream",
     "text": [
      "Zs saved.\n",
      "Varpi saved.\n",
      "Dyn saved.\n",
      "8393760\n"
     ]
    },
    {
     "name": "stderr",
     "output_type": "stream",
     "text": [
      "/tank/users/tuchida/miniconda3/envs/ensemble/lib/python3.7/site-packages/ipykernel_launcher.py:106: FutureWarning: This DataArray contains multi-dimensional coordinates. In the future, these coordinates will be transposed as well unless you specify transpose_coords=False.\n",
      "/tank/users/tuchida/miniconda3/envs/ensemble/lib/python3.7/site-packages/ipykernel_launcher.py:108: FutureWarning: This DataArray contains multi-dimensional coordinates. In the future, these coordinates will be transposed as well unless you specify transpose_coords=False.\n",
      "/tank/users/tuchida/miniconda3/envs/ensemble/lib/python3.7/site-packages/ipykernel_launcher.py:110: FutureWarning: This DataArray contains multi-dimensional coordinates. In the future, these coordinates will be transposed as well unless you specify transpose_coords=False.\n"
     ]
    },
    {
     "name": "stdout",
     "output_type": "stream",
     "text": [
      "Zs saved.\n",
      "Varpi saved.\n",
      "Dyn saved.\n",
      "8395920\n"
     ]
    },
    {
     "name": "stderr",
     "output_type": "stream",
     "text": [
      "/tank/users/tuchida/miniconda3/envs/ensemble/lib/python3.7/site-packages/ipykernel_launcher.py:106: FutureWarning: This DataArray contains multi-dimensional coordinates. In the future, these coordinates will be transposed as well unless you specify transpose_coords=False.\n",
      "/tank/users/tuchida/miniconda3/envs/ensemble/lib/python3.7/site-packages/ipykernel_launcher.py:108: FutureWarning: This DataArray contains multi-dimensional coordinates. In the future, these coordinates will be transposed as well unless you specify transpose_coords=False.\n",
      "/tank/users/tuchida/miniconda3/envs/ensemble/lib/python3.7/site-packages/ipykernel_launcher.py:110: FutureWarning: This DataArray contains multi-dimensional coordinates. In the future, these coordinates will be transposed as well unless you specify transpose_coords=False.\n"
     ]
    },
    {
     "name": "stdout",
     "output_type": "stream",
     "text": [
      "Zs saved.\n",
      "Varpi saved.\n",
      "Dyn saved.\n",
      "8398080\n"
     ]
    },
    {
     "name": "stderr",
     "output_type": "stream",
     "text": [
      "/tank/users/tuchida/miniconda3/envs/ensemble/lib/python3.7/site-packages/ipykernel_launcher.py:106: FutureWarning: This DataArray contains multi-dimensional coordinates. In the future, these coordinates will be transposed as well unless you specify transpose_coords=False.\n",
      "/tank/users/tuchida/miniconda3/envs/ensemble/lib/python3.7/site-packages/ipykernel_launcher.py:108: FutureWarning: This DataArray contains multi-dimensional coordinates. In the future, these coordinates will be transposed as well unless you specify transpose_coords=False.\n",
      "/tank/users/tuchida/miniconda3/envs/ensemble/lib/python3.7/site-packages/ipykernel_launcher.py:110: FutureWarning: This DataArray contains multi-dimensional coordinates. In the future, these coordinates will be transposed as well unless you specify transpose_coords=False.\n"
     ]
    },
    {
     "name": "stdout",
     "output_type": "stream",
     "text": [
      "Zs saved.\n",
      "Varpi saved.\n",
      "Dyn saved.\n",
      "8400240\n"
     ]
    },
    {
     "name": "stderr",
     "output_type": "stream",
     "text": [
      "/tank/users/tuchida/miniconda3/envs/ensemble/lib/python3.7/site-packages/ipykernel_launcher.py:106: FutureWarning: This DataArray contains multi-dimensional coordinates. In the future, these coordinates will be transposed as well unless you specify transpose_coords=False.\n",
      "/tank/users/tuchida/miniconda3/envs/ensemble/lib/python3.7/site-packages/ipykernel_launcher.py:108: FutureWarning: This DataArray contains multi-dimensional coordinates. In the future, these coordinates will be transposed as well unless you specify transpose_coords=False.\n",
      "/tank/users/tuchida/miniconda3/envs/ensemble/lib/python3.7/site-packages/ipykernel_launcher.py:110: FutureWarning: This DataArray contains multi-dimensional coordinates. In the future, these coordinates will be transposed as well unless you specify transpose_coords=False.\n"
     ]
    },
    {
     "name": "stdout",
     "output_type": "stream",
     "text": [
      "Zs saved.\n",
      "Varpi saved.\n",
      "Dyn saved.\n",
      "8402400\n"
     ]
    },
    {
     "name": "stderr",
     "output_type": "stream",
     "text": [
      "/tank/users/tuchida/miniconda3/envs/ensemble/lib/python3.7/site-packages/ipykernel_launcher.py:106: FutureWarning: This DataArray contains multi-dimensional coordinates. In the future, these coordinates will be transposed as well unless you specify transpose_coords=False.\n",
      "/tank/users/tuchida/miniconda3/envs/ensemble/lib/python3.7/site-packages/ipykernel_launcher.py:108: FutureWarning: This DataArray contains multi-dimensional coordinates. In the future, these coordinates will be transposed as well unless you specify transpose_coords=False.\n",
      "/tank/users/tuchida/miniconda3/envs/ensemble/lib/python3.7/site-packages/ipykernel_launcher.py:110: FutureWarning: This DataArray contains multi-dimensional coordinates. In the future, these coordinates will be transposed as well unless you specify transpose_coords=False.\n"
     ]
    },
    {
     "name": "stdout",
     "output_type": "stream",
     "text": [
      "Zs saved.\n",
      "Varpi saved.\n",
      "Dyn saved.\n",
      "8404560\n"
     ]
    },
    {
     "name": "stderr",
     "output_type": "stream",
     "text": [
      "/tank/users/tuchida/miniconda3/envs/ensemble/lib/python3.7/site-packages/ipykernel_launcher.py:106: FutureWarning: This DataArray contains multi-dimensional coordinates. In the future, these coordinates will be transposed as well unless you specify transpose_coords=False.\n",
      "/tank/users/tuchida/miniconda3/envs/ensemble/lib/python3.7/site-packages/ipykernel_launcher.py:108: FutureWarning: This DataArray contains multi-dimensional coordinates. In the future, these coordinates will be transposed as well unless you specify transpose_coords=False.\n",
      "/tank/users/tuchida/miniconda3/envs/ensemble/lib/python3.7/site-packages/ipykernel_launcher.py:110: FutureWarning: This DataArray contains multi-dimensional coordinates. In the future, these coordinates will be transposed as well unless you specify transpose_coords=False.\n"
     ]
    },
    {
     "name": "stdout",
     "output_type": "stream",
     "text": [
      "Zs saved.\n",
      "Varpi saved.\n",
      "Dyn saved.\n",
      "8406720\n"
     ]
    },
    {
     "name": "stderr",
     "output_type": "stream",
     "text": [
      "/tank/users/tuchida/miniconda3/envs/ensemble/lib/python3.7/site-packages/ipykernel_launcher.py:106: FutureWarning: This DataArray contains multi-dimensional coordinates. In the future, these coordinates will be transposed as well unless you specify transpose_coords=False.\n",
      "/tank/users/tuchida/miniconda3/envs/ensemble/lib/python3.7/site-packages/ipykernel_launcher.py:108: FutureWarning: This DataArray contains multi-dimensional coordinates. In the future, these coordinates will be transposed as well unless you specify transpose_coords=False.\n",
      "/tank/users/tuchida/miniconda3/envs/ensemble/lib/python3.7/site-packages/ipykernel_launcher.py:110: FutureWarning: This DataArray contains multi-dimensional coordinates. In the future, these coordinates will be transposed as well unless you specify transpose_coords=False.\n"
     ]
    },
    {
     "name": "stdout",
     "output_type": "stream",
     "text": [
      "Zs saved.\n",
      "Varpi saved.\n",
      "Dyn saved.\n",
      "8408880\n"
     ]
    },
    {
     "name": "stderr",
     "output_type": "stream",
     "text": [
      "/tank/users/tuchida/miniconda3/envs/ensemble/lib/python3.7/site-packages/ipykernel_launcher.py:106: FutureWarning: This DataArray contains multi-dimensional coordinates. In the future, these coordinates will be transposed as well unless you specify transpose_coords=False.\n",
      "/tank/users/tuchida/miniconda3/envs/ensemble/lib/python3.7/site-packages/ipykernel_launcher.py:108: FutureWarning: This DataArray contains multi-dimensional coordinates. In the future, these coordinates will be transposed as well unless you specify transpose_coords=False.\n",
      "/tank/users/tuchida/miniconda3/envs/ensemble/lib/python3.7/site-packages/ipykernel_launcher.py:110: FutureWarning: This DataArray contains multi-dimensional coordinates. In the future, these coordinates will be transposed as well unless you specify transpose_coords=False.\n"
     ]
    },
    {
     "name": "stdout",
     "output_type": "stream",
     "text": [
      "Zs saved.\n",
      "Varpi saved.\n",
      "Dyn saved.\n",
      "8411040\n"
     ]
    },
    {
     "name": "stderr",
     "output_type": "stream",
     "text": [
      "/tank/users/tuchida/miniconda3/envs/ensemble/lib/python3.7/site-packages/ipykernel_launcher.py:106: FutureWarning: This DataArray contains multi-dimensional coordinates. In the future, these coordinates will be transposed as well unless you specify transpose_coords=False.\n",
      "/tank/users/tuchida/miniconda3/envs/ensemble/lib/python3.7/site-packages/ipykernel_launcher.py:108: FutureWarning: This DataArray contains multi-dimensional coordinates. In the future, these coordinates will be transposed as well unless you specify transpose_coords=False.\n",
      "/tank/users/tuchida/miniconda3/envs/ensemble/lib/python3.7/site-packages/ipykernel_launcher.py:110: FutureWarning: This DataArray contains multi-dimensional coordinates. In the future, these coordinates will be transposed as well unless you specify transpose_coords=False.\n"
     ]
    },
    {
     "name": "stdout",
     "output_type": "stream",
     "text": [
      "Zs saved.\n",
      "Varpi saved.\n",
      "Dyn saved.\n",
      "8413200\n"
     ]
    },
    {
     "name": "stderr",
     "output_type": "stream",
     "text": [
      "/tank/users/tuchida/miniconda3/envs/ensemble/lib/python3.7/site-packages/ipykernel_launcher.py:106: FutureWarning: This DataArray contains multi-dimensional coordinates. In the future, these coordinates will be transposed as well unless you specify transpose_coords=False.\n",
      "/tank/users/tuchida/miniconda3/envs/ensemble/lib/python3.7/site-packages/ipykernel_launcher.py:108: FutureWarning: This DataArray contains multi-dimensional coordinates. In the future, these coordinates will be transposed as well unless you specify transpose_coords=False.\n",
      "/tank/users/tuchida/miniconda3/envs/ensemble/lib/python3.7/site-packages/ipykernel_launcher.py:110: FutureWarning: This DataArray contains multi-dimensional coordinates. In the future, these coordinates will be transposed as well unless you specify transpose_coords=False.\n"
     ]
    },
    {
     "name": "stdout",
     "output_type": "stream",
     "text": [
      "Zs saved.\n",
      "Varpi saved.\n",
      "Dyn saved.\n",
      "8415360\n"
     ]
    },
    {
     "name": "stderr",
     "output_type": "stream",
     "text": [
      "/tank/users/tuchida/miniconda3/envs/ensemble/lib/python3.7/site-packages/ipykernel_launcher.py:106: FutureWarning: This DataArray contains multi-dimensional coordinates. In the future, these coordinates will be transposed as well unless you specify transpose_coords=False.\n",
      "/tank/users/tuchida/miniconda3/envs/ensemble/lib/python3.7/site-packages/ipykernel_launcher.py:108: FutureWarning: This DataArray contains multi-dimensional coordinates. In the future, these coordinates will be transposed as well unless you specify transpose_coords=False.\n",
      "/tank/users/tuchida/miniconda3/envs/ensemble/lib/python3.7/site-packages/ipykernel_launcher.py:110: FutureWarning: This DataArray contains multi-dimensional coordinates. In the future, these coordinates will be transposed as well unless you specify transpose_coords=False.\n"
     ]
    },
    {
     "name": "stdout",
     "output_type": "stream",
     "text": [
      "Zs saved.\n",
      "Varpi saved.\n",
      "Dyn saved.\n",
      "8417520\n"
     ]
    },
    {
     "name": "stderr",
     "output_type": "stream",
     "text": [
      "/tank/users/tuchida/miniconda3/envs/ensemble/lib/python3.7/site-packages/ipykernel_launcher.py:106: FutureWarning: This DataArray contains multi-dimensional coordinates. In the future, these coordinates will be transposed as well unless you specify transpose_coords=False.\n",
      "/tank/users/tuchida/miniconda3/envs/ensemble/lib/python3.7/site-packages/ipykernel_launcher.py:108: FutureWarning: This DataArray contains multi-dimensional coordinates. In the future, these coordinates will be transposed as well unless you specify transpose_coords=False.\n",
      "/tank/users/tuchida/miniconda3/envs/ensemble/lib/python3.7/site-packages/ipykernel_launcher.py:110: FutureWarning: This DataArray contains multi-dimensional coordinates. In the future, these coordinates will be transposed as well unless you specify transpose_coords=False.\n"
     ]
    },
    {
     "name": "stdout",
     "output_type": "stream",
     "text": [
      "Zs saved.\n",
      "Varpi saved.\n",
      "Dyn saved.\n",
      "8419680\n"
     ]
    },
    {
     "name": "stderr",
     "output_type": "stream",
     "text": [
      "/tank/users/tuchida/miniconda3/envs/ensemble/lib/python3.7/site-packages/ipykernel_launcher.py:106: FutureWarning: This DataArray contains multi-dimensional coordinates. In the future, these coordinates will be transposed as well unless you specify transpose_coords=False.\n",
      "/tank/users/tuchida/miniconda3/envs/ensemble/lib/python3.7/site-packages/ipykernel_launcher.py:108: FutureWarning: This DataArray contains multi-dimensional coordinates. In the future, these coordinates will be transposed as well unless you specify transpose_coords=False.\n",
      "/tank/users/tuchida/miniconda3/envs/ensemble/lib/python3.7/site-packages/ipykernel_launcher.py:110: FutureWarning: This DataArray contains multi-dimensional coordinates. In the future, these coordinates will be transposed as well unless you specify transpose_coords=False.\n"
     ]
    },
    {
     "name": "stdout",
     "output_type": "stream",
     "text": [
      "Zs saved.\n",
      "Varpi saved.\n",
      "Dyn saved.\n",
      "8421840\n"
     ]
    },
    {
     "name": "stderr",
     "output_type": "stream",
     "text": [
      "/tank/users/tuchida/miniconda3/envs/ensemble/lib/python3.7/site-packages/ipykernel_launcher.py:106: FutureWarning: This DataArray contains multi-dimensional coordinates. In the future, these coordinates will be transposed as well unless you specify transpose_coords=False.\n",
      "/tank/users/tuchida/miniconda3/envs/ensemble/lib/python3.7/site-packages/ipykernel_launcher.py:108: FutureWarning: This DataArray contains multi-dimensional coordinates. In the future, these coordinates will be transposed as well unless you specify transpose_coords=False.\n",
      "/tank/users/tuchida/miniconda3/envs/ensemble/lib/python3.7/site-packages/ipykernel_launcher.py:110: FutureWarning: This DataArray contains multi-dimensional coordinates. In the future, these coordinates will be transposed as well unless you specify transpose_coords=False.\n"
     ]
    },
    {
     "name": "stdout",
     "output_type": "stream",
     "text": [
      "Zs saved.\n",
      "Varpi saved.\n",
      "Dyn saved.\n",
      "8424000\n"
     ]
    },
    {
     "name": "stderr",
     "output_type": "stream",
     "text": [
      "/tank/users/tuchida/miniconda3/envs/ensemble/lib/python3.7/site-packages/ipykernel_launcher.py:106: FutureWarning: This DataArray contains multi-dimensional coordinates. In the future, these coordinates will be transposed as well unless you specify transpose_coords=False.\n",
      "/tank/users/tuchida/miniconda3/envs/ensemble/lib/python3.7/site-packages/ipykernel_launcher.py:108: FutureWarning: This DataArray contains multi-dimensional coordinates. In the future, these coordinates will be transposed as well unless you specify transpose_coords=False.\n",
      "/tank/users/tuchida/miniconda3/envs/ensemble/lib/python3.7/site-packages/ipykernel_launcher.py:110: FutureWarning: This DataArray contains multi-dimensional coordinates. In the future, these coordinates will be transposed as well unless you specify transpose_coords=False.\n"
     ]
    },
    {
     "name": "stdout",
     "output_type": "stream",
     "text": [
      "Zs saved.\n",
      "Varpi saved.\n",
      "Dyn saved.\n",
      "8426160\n"
     ]
    },
    {
     "name": "stderr",
     "output_type": "stream",
     "text": [
      "/tank/users/tuchida/miniconda3/envs/ensemble/lib/python3.7/site-packages/ipykernel_launcher.py:106: FutureWarning: This DataArray contains multi-dimensional coordinates. In the future, these coordinates will be transposed as well unless you specify transpose_coords=False.\n",
      "/tank/users/tuchida/miniconda3/envs/ensemble/lib/python3.7/site-packages/ipykernel_launcher.py:108: FutureWarning: This DataArray contains multi-dimensional coordinates. In the future, these coordinates will be transposed as well unless you specify transpose_coords=False.\n",
      "/tank/users/tuchida/miniconda3/envs/ensemble/lib/python3.7/site-packages/ipykernel_launcher.py:110: FutureWarning: This DataArray contains multi-dimensional coordinates. In the future, these coordinates will be transposed as well unless you specify transpose_coords=False.\n"
     ]
    },
    {
     "name": "stdout",
     "output_type": "stream",
     "text": [
      "Zs saved.\n",
      "Varpi saved.\n",
      "Dyn saved.\n",
      "8428320\n"
     ]
    },
    {
     "name": "stderr",
     "output_type": "stream",
     "text": [
      "/tank/users/tuchida/miniconda3/envs/ensemble/lib/python3.7/site-packages/ipykernel_launcher.py:106: FutureWarning: This DataArray contains multi-dimensional coordinates. In the future, these coordinates will be transposed as well unless you specify transpose_coords=False.\n",
      "/tank/users/tuchida/miniconda3/envs/ensemble/lib/python3.7/site-packages/ipykernel_launcher.py:108: FutureWarning: This DataArray contains multi-dimensional coordinates. In the future, these coordinates will be transposed as well unless you specify transpose_coords=False.\n",
      "/tank/users/tuchida/miniconda3/envs/ensemble/lib/python3.7/site-packages/ipykernel_launcher.py:110: FutureWarning: This DataArray contains multi-dimensional coordinates. In the future, these coordinates will be transposed as well unless you specify transpose_coords=False.\n"
     ]
    },
    {
     "name": "stdout",
     "output_type": "stream",
     "text": [
      "Zs saved.\n",
      "Varpi saved.\n",
      "Dyn saved.\n",
      "8430480\n"
     ]
    },
    {
     "name": "stderr",
     "output_type": "stream",
     "text": [
      "/tank/users/tuchida/miniconda3/envs/ensemble/lib/python3.7/site-packages/ipykernel_launcher.py:106: FutureWarning: This DataArray contains multi-dimensional coordinates. In the future, these coordinates will be transposed as well unless you specify transpose_coords=False.\n",
      "/tank/users/tuchida/miniconda3/envs/ensemble/lib/python3.7/site-packages/ipykernel_launcher.py:108: FutureWarning: This DataArray contains multi-dimensional coordinates. In the future, these coordinates will be transposed as well unless you specify transpose_coords=False.\n",
      "/tank/users/tuchida/miniconda3/envs/ensemble/lib/python3.7/site-packages/ipykernel_launcher.py:110: FutureWarning: This DataArray contains multi-dimensional coordinates. In the future, these coordinates will be transposed as well unless you specify transpose_coords=False.\n"
     ]
    },
    {
     "name": "stdout",
     "output_type": "stream",
     "text": [
      "Zs saved.\n",
      "Varpi saved.\n",
      "Dyn saved.\n",
      "8432640\n"
     ]
    },
    {
     "name": "stderr",
     "output_type": "stream",
     "text": [
      "/tank/users/tuchida/miniconda3/envs/ensemble/lib/python3.7/site-packages/ipykernel_launcher.py:106: FutureWarning: This DataArray contains multi-dimensional coordinates. In the future, these coordinates will be transposed as well unless you specify transpose_coords=False.\n",
      "/tank/users/tuchida/miniconda3/envs/ensemble/lib/python3.7/site-packages/ipykernel_launcher.py:108: FutureWarning: This DataArray contains multi-dimensional coordinates. In the future, these coordinates will be transposed as well unless you specify transpose_coords=False.\n",
      "/tank/users/tuchida/miniconda3/envs/ensemble/lib/python3.7/site-packages/ipykernel_launcher.py:110: FutureWarning: This DataArray contains multi-dimensional coordinates. In the future, these coordinates will be transposed as well unless you specify transpose_coords=False.\n"
     ]
    },
    {
     "name": "stdout",
     "output_type": "stream",
     "text": [
      "Zs saved.\n",
      "Varpi saved.\n",
      "Dyn saved.\n",
      "8434800\n"
     ]
    },
    {
     "name": "stderr",
     "output_type": "stream",
     "text": [
      "/tank/users/tuchida/miniconda3/envs/ensemble/lib/python3.7/site-packages/ipykernel_launcher.py:106: FutureWarning: This DataArray contains multi-dimensional coordinates. In the future, these coordinates will be transposed as well unless you specify transpose_coords=False.\n",
      "/tank/users/tuchida/miniconda3/envs/ensemble/lib/python3.7/site-packages/ipykernel_launcher.py:108: FutureWarning: This DataArray contains multi-dimensional coordinates. In the future, these coordinates will be transposed as well unless you specify transpose_coords=False.\n",
      "/tank/users/tuchida/miniconda3/envs/ensemble/lib/python3.7/site-packages/ipykernel_launcher.py:110: FutureWarning: This DataArray contains multi-dimensional coordinates. In the future, these coordinates will be transposed as well unless you specify transpose_coords=False.\n"
     ]
    },
    {
     "name": "stdout",
     "output_type": "stream",
     "text": [
      "Zs saved.\n",
      "Varpi saved.\n",
      "Dyn saved.\n",
      "8436960\n"
     ]
    },
    {
     "name": "stderr",
     "output_type": "stream",
     "text": [
      "/tank/users/tuchida/miniconda3/envs/ensemble/lib/python3.7/site-packages/ipykernel_launcher.py:106: FutureWarning: This DataArray contains multi-dimensional coordinates. In the future, these coordinates will be transposed as well unless you specify transpose_coords=False.\n",
      "/tank/users/tuchida/miniconda3/envs/ensemble/lib/python3.7/site-packages/ipykernel_launcher.py:108: FutureWarning: This DataArray contains multi-dimensional coordinates. In the future, these coordinates will be transposed as well unless you specify transpose_coords=False.\n",
      "/tank/users/tuchida/miniconda3/envs/ensemble/lib/python3.7/site-packages/ipykernel_launcher.py:110: FutureWarning: This DataArray contains multi-dimensional coordinates. In the future, these coordinates will be transposed as well unless you specify transpose_coords=False.\n"
     ]
    },
    {
     "name": "stdout",
     "output_type": "stream",
     "text": [
      "Zs saved.\n",
      "Varpi saved.\n",
      "Dyn saved.\n",
      "8439120\n"
     ]
    },
    {
     "name": "stderr",
     "output_type": "stream",
     "text": [
      "/tank/users/tuchida/miniconda3/envs/ensemble/lib/python3.7/site-packages/ipykernel_launcher.py:106: FutureWarning: This DataArray contains multi-dimensional coordinates. In the future, these coordinates will be transposed as well unless you specify transpose_coords=False.\n",
      "/tank/users/tuchida/miniconda3/envs/ensemble/lib/python3.7/site-packages/ipykernel_launcher.py:108: FutureWarning: This DataArray contains multi-dimensional coordinates. In the future, these coordinates will be transposed as well unless you specify transpose_coords=False.\n",
      "/tank/users/tuchida/miniconda3/envs/ensemble/lib/python3.7/site-packages/ipykernel_launcher.py:110: FutureWarning: This DataArray contains multi-dimensional coordinates. In the future, these coordinates will be transposed as well unless you specify transpose_coords=False.\n"
     ]
    },
    {
     "name": "stdout",
     "output_type": "stream",
     "text": [
      "Zs saved.\n",
      "Varpi saved.\n",
      "Dyn saved.\n",
      "8441280\n"
     ]
    },
    {
     "name": "stderr",
     "output_type": "stream",
     "text": [
      "/tank/users/tuchida/miniconda3/envs/ensemble/lib/python3.7/site-packages/ipykernel_launcher.py:106: FutureWarning: This DataArray contains multi-dimensional coordinates. In the future, these coordinates will be transposed as well unless you specify transpose_coords=False.\n",
      "/tank/users/tuchida/miniconda3/envs/ensemble/lib/python3.7/site-packages/ipykernel_launcher.py:108: FutureWarning: This DataArray contains multi-dimensional coordinates. In the future, these coordinates will be transposed as well unless you specify transpose_coords=False.\n",
      "/tank/users/tuchida/miniconda3/envs/ensemble/lib/python3.7/site-packages/ipykernel_launcher.py:110: FutureWarning: This DataArray contains multi-dimensional coordinates. In the future, these coordinates will be transposed as well unless you specify transpose_coords=False.\n"
     ]
    },
    {
     "name": "stdout",
     "output_type": "stream",
     "text": [
      "Zs saved.\n",
      "Varpi saved.\n",
      "Dyn saved.\n",
      "8443440\n"
     ]
    },
    {
     "name": "stderr",
     "output_type": "stream",
     "text": [
      "/tank/users/tuchida/miniconda3/envs/ensemble/lib/python3.7/site-packages/ipykernel_launcher.py:106: FutureWarning: This DataArray contains multi-dimensional coordinates. In the future, these coordinates will be transposed as well unless you specify transpose_coords=False.\n",
      "/tank/users/tuchida/miniconda3/envs/ensemble/lib/python3.7/site-packages/ipykernel_launcher.py:108: FutureWarning: This DataArray contains multi-dimensional coordinates. In the future, these coordinates will be transposed as well unless you specify transpose_coords=False.\n",
      "/tank/users/tuchida/miniconda3/envs/ensemble/lib/python3.7/site-packages/ipykernel_launcher.py:110: FutureWarning: This DataArray contains multi-dimensional coordinates. In the future, these coordinates will be transposed as well unless you specify transpose_coords=False.\n"
     ]
    },
    {
     "name": "stdout",
     "output_type": "stream",
     "text": [
      "Zs saved.\n",
      "Varpi saved.\n",
      "Dyn saved.\n",
      "8445600\n"
     ]
    },
    {
     "name": "stderr",
     "output_type": "stream",
     "text": [
      "/tank/users/tuchida/miniconda3/envs/ensemble/lib/python3.7/site-packages/ipykernel_launcher.py:106: FutureWarning: This DataArray contains multi-dimensional coordinates. In the future, these coordinates will be transposed as well unless you specify transpose_coords=False.\n",
      "/tank/users/tuchida/miniconda3/envs/ensemble/lib/python3.7/site-packages/ipykernel_launcher.py:108: FutureWarning: This DataArray contains multi-dimensional coordinates. In the future, these coordinates will be transposed as well unless you specify transpose_coords=False.\n",
      "/tank/users/tuchida/miniconda3/envs/ensemble/lib/python3.7/site-packages/ipykernel_launcher.py:110: FutureWarning: This DataArray contains multi-dimensional coordinates. In the future, these coordinates will be transposed as well unless you specify transpose_coords=False.\n"
     ]
    },
    {
     "name": "stdout",
     "output_type": "stream",
     "text": [
      "Zs saved.\n",
      "Varpi saved.\n",
      "Dyn saved.\n",
      "8447760\n"
     ]
    },
    {
     "name": "stderr",
     "output_type": "stream",
     "text": [
      "/tank/users/tuchida/miniconda3/envs/ensemble/lib/python3.7/site-packages/ipykernel_launcher.py:106: FutureWarning: This DataArray contains multi-dimensional coordinates. In the future, these coordinates will be transposed as well unless you specify transpose_coords=False.\n",
      "/tank/users/tuchida/miniconda3/envs/ensemble/lib/python3.7/site-packages/ipykernel_launcher.py:108: FutureWarning: This DataArray contains multi-dimensional coordinates. In the future, these coordinates will be transposed as well unless you specify transpose_coords=False.\n",
      "/tank/users/tuchida/miniconda3/envs/ensemble/lib/python3.7/site-packages/ipykernel_launcher.py:110: FutureWarning: This DataArray contains multi-dimensional coordinates. In the future, these coordinates will be transposed as well unless you specify transpose_coords=False.\n"
     ]
    },
    {
     "name": "stdout",
     "output_type": "stream",
     "text": [
      "Zs saved.\n",
      "Varpi saved.\n",
      "Dyn saved.\n",
      "8449920\n"
     ]
    },
    {
     "name": "stderr",
     "output_type": "stream",
     "text": [
      "/tank/users/tuchida/miniconda3/envs/ensemble/lib/python3.7/site-packages/ipykernel_launcher.py:106: FutureWarning: This DataArray contains multi-dimensional coordinates. In the future, these coordinates will be transposed as well unless you specify transpose_coords=False.\n",
      "/tank/users/tuchida/miniconda3/envs/ensemble/lib/python3.7/site-packages/ipykernel_launcher.py:108: FutureWarning: This DataArray contains multi-dimensional coordinates. In the future, these coordinates will be transposed as well unless you specify transpose_coords=False.\n",
      "/tank/users/tuchida/miniconda3/envs/ensemble/lib/python3.7/site-packages/ipykernel_launcher.py:110: FutureWarning: This DataArray contains multi-dimensional coordinates. In the future, these coordinates will be transposed as well unless you specify transpose_coords=False.\n"
     ]
    },
    {
     "name": "stdout",
     "output_type": "stream",
     "text": [
      "Zs saved.\n",
      "Varpi saved.\n",
      "Dyn saved.\n",
      "8452080\n"
     ]
    },
    {
     "name": "stderr",
     "output_type": "stream",
     "text": [
      "/tank/users/tuchida/miniconda3/envs/ensemble/lib/python3.7/site-packages/ipykernel_launcher.py:106: FutureWarning: This DataArray contains multi-dimensional coordinates. In the future, these coordinates will be transposed as well unless you specify transpose_coords=False.\n",
      "/tank/users/tuchida/miniconda3/envs/ensemble/lib/python3.7/site-packages/ipykernel_launcher.py:108: FutureWarning: This DataArray contains multi-dimensional coordinates. In the future, these coordinates will be transposed as well unless you specify transpose_coords=False.\n",
      "/tank/users/tuchida/miniconda3/envs/ensemble/lib/python3.7/site-packages/ipykernel_launcher.py:110: FutureWarning: This DataArray contains multi-dimensional coordinates. In the future, these coordinates will be transposed as well unless you specify transpose_coords=False.\n"
     ]
    },
    {
     "name": "stdout",
     "output_type": "stream",
     "text": [
      "Zs saved.\n",
      "Varpi saved.\n",
      "Dyn saved.\n",
      "8454240\n"
     ]
    },
    {
     "name": "stderr",
     "output_type": "stream",
     "text": [
      "/tank/users/tuchida/miniconda3/envs/ensemble/lib/python3.7/site-packages/ipykernel_launcher.py:106: FutureWarning: This DataArray contains multi-dimensional coordinates. In the future, these coordinates will be transposed as well unless you specify transpose_coords=False.\n",
      "/tank/users/tuchida/miniconda3/envs/ensemble/lib/python3.7/site-packages/ipykernel_launcher.py:108: FutureWarning: This DataArray contains multi-dimensional coordinates. In the future, these coordinates will be transposed as well unless you specify transpose_coords=False.\n",
      "/tank/users/tuchida/miniconda3/envs/ensemble/lib/python3.7/site-packages/ipykernel_launcher.py:110: FutureWarning: This DataArray contains multi-dimensional coordinates. In the future, these coordinates will be transposed as well unless you specify transpose_coords=False.\n"
     ]
    },
    {
     "name": "stdout",
     "output_type": "stream",
     "text": [
      "Zs saved.\n",
      "Varpi saved.\n",
      "Dyn saved.\n",
      "8456400\n"
     ]
    },
    {
     "name": "stderr",
     "output_type": "stream",
     "text": [
      "/tank/users/tuchida/miniconda3/envs/ensemble/lib/python3.7/site-packages/ipykernel_launcher.py:106: FutureWarning: This DataArray contains multi-dimensional coordinates. In the future, these coordinates will be transposed as well unless you specify transpose_coords=False.\n",
      "/tank/users/tuchida/miniconda3/envs/ensemble/lib/python3.7/site-packages/ipykernel_launcher.py:108: FutureWarning: This DataArray contains multi-dimensional coordinates. In the future, these coordinates will be transposed as well unless you specify transpose_coords=False.\n",
      "/tank/users/tuchida/miniconda3/envs/ensemble/lib/python3.7/site-packages/ipykernel_launcher.py:110: FutureWarning: This DataArray contains multi-dimensional coordinates. In the future, these coordinates will be transposed as well unless you specify transpose_coords=False.\n"
     ]
    },
    {
     "name": "stdout",
     "output_type": "stream",
     "text": [
      "Zs saved.\n",
      "Varpi saved.\n",
      "Dyn saved.\n",
      "8458560\n"
     ]
    },
    {
     "name": "stderr",
     "output_type": "stream",
     "text": [
      "/tank/users/tuchida/miniconda3/envs/ensemble/lib/python3.7/site-packages/ipykernel_launcher.py:106: FutureWarning: This DataArray contains multi-dimensional coordinates. In the future, these coordinates will be transposed as well unless you specify transpose_coords=False.\n",
      "/tank/users/tuchida/miniconda3/envs/ensemble/lib/python3.7/site-packages/ipykernel_launcher.py:108: FutureWarning: This DataArray contains multi-dimensional coordinates. In the future, these coordinates will be transposed as well unless you specify transpose_coords=False.\n",
      "/tank/users/tuchida/miniconda3/envs/ensemble/lib/python3.7/site-packages/ipykernel_launcher.py:110: FutureWarning: This DataArray contains multi-dimensional coordinates. In the future, these coordinates will be transposed as well unless you specify transpose_coords=False.\n"
     ]
    },
    {
     "name": "stdout",
     "output_type": "stream",
     "text": [
      "Zs saved.\n",
      "Varpi saved.\n",
      "Dyn saved.\n",
      "8460720\n"
     ]
    },
    {
     "name": "stderr",
     "output_type": "stream",
     "text": [
      "/tank/users/tuchida/miniconda3/envs/ensemble/lib/python3.7/site-packages/ipykernel_launcher.py:106: FutureWarning: This DataArray contains multi-dimensional coordinates. In the future, these coordinates will be transposed as well unless you specify transpose_coords=False.\n",
      "/tank/users/tuchida/miniconda3/envs/ensemble/lib/python3.7/site-packages/ipykernel_launcher.py:108: FutureWarning: This DataArray contains multi-dimensional coordinates. In the future, these coordinates will be transposed as well unless you specify transpose_coords=False.\n",
      "/tank/users/tuchida/miniconda3/envs/ensemble/lib/python3.7/site-packages/ipykernel_launcher.py:110: FutureWarning: This DataArray contains multi-dimensional coordinates. In the future, these coordinates will be transposed as well unless you specify transpose_coords=False.\n"
     ]
    },
    {
     "name": "stdout",
     "output_type": "stream",
     "text": [
      "Zs saved.\n",
      "Varpi saved.\n",
      "Dyn saved.\n",
      "8462880\n"
     ]
    },
    {
     "name": "stderr",
     "output_type": "stream",
     "text": [
      "/tank/users/tuchida/miniconda3/envs/ensemble/lib/python3.7/site-packages/ipykernel_launcher.py:106: FutureWarning: This DataArray contains multi-dimensional coordinates. In the future, these coordinates will be transposed as well unless you specify transpose_coords=False.\n",
      "/tank/users/tuchida/miniconda3/envs/ensemble/lib/python3.7/site-packages/ipykernel_launcher.py:108: FutureWarning: This DataArray contains multi-dimensional coordinates. In the future, these coordinates will be transposed as well unless you specify transpose_coords=False.\n",
      "/tank/users/tuchida/miniconda3/envs/ensemble/lib/python3.7/site-packages/ipykernel_launcher.py:110: FutureWarning: This DataArray contains multi-dimensional coordinates. In the future, these coordinates will be transposed as well unless you specify transpose_coords=False.\n"
     ]
    },
    {
     "name": "stdout",
     "output_type": "stream",
     "text": [
      "Zs saved.\n",
      "Varpi saved.\n",
      "Dyn saved.\n",
      "8465040\n"
     ]
    },
    {
     "name": "stderr",
     "output_type": "stream",
     "text": [
      "/tank/users/tuchida/miniconda3/envs/ensemble/lib/python3.7/site-packages/ipykernel_launcher.py:106: FutureWarning: This DataArray contains multi-dimensional coordinates. In the future, these coordinates will be transposed as well unless you specify transpose_coords=False.\n",
      "/tank/users/tuchida/miniconda3/envs/ensemble/lib/python3.7/site-packages/ipykernel_launcher.py:108: FutureWarning: This DataArray contains multi-dimensional coordinates. In the future, these coordinates will be transposed as well unless you specify transpose_coords=False.\n",
      "/tank/users/tuchida/miniconda3/envs/ensemble/lib/python3.7/site-packages/ipykernel_launcher.py:110: FutureWarning: This DataArray contains multi-dimensional coordinates. In the future, these coordinates will be transposed as well unless you specify transpose_coords=False.\n"
     ]
    },
    {
     "name": "stdout",
     "output_type": "stream",
     "text": [
      "Zs saved.\n",
      "Varpi saved.\n",
      "Dyn saved.\n",
      "8467200\n"
     ]
    },
    {
     "name": "stderr",
     "output_type": "stream",
     "text": [
      "/tank/users/tuchida/miniconda3/envs/ensemble/lib/python3.7/site-packages/ipykernel_launcher.py:106: FutureWarning: This DataArray contains multi-dimensional coordinates. In the future, these coordinates will be transposed as well unless you specify transpose_coords=False.\n",
      "/tank/users/tuchida/miniconda3/envs/ensemble/lib/python3.7/site-packages/ipykernel_launcher.py:108: FutureWarning: This DataArray contains multi-dimensional coordinates. In the future, these coordinates will be transposed as well unless you specify transpose_coords=False.\n",
      "/tank/users/tuchida/miniconda3/envs/ensemble/lib/python3.7/site-packages/ipykernel_launcher.py:110: FutureWarning: This DataArray contains multi-dimensional coordinates. In the future, these coordinates will be transposed as well unless you specify transpose_coords=False.\n"
     ]
    },
    {
     "name": "stdout",
     "output_type": "stream",
     "text": [
      "Zs saved.\n",
      "Varpi saved.\n",
      "Dyn saved.\n",
      "8469360\n"
     ]
    },
    {
     "name": "stderr",
     "output_type": "stream",
     "text": [
      "/tank/users/tuchida/miniconda3/envs/ensemble/lib/python3.7/site-packages/ipykernel_launcher.py:106: FutureWarning: This DataArray contains multi-dimensional coordinates. In the future, these coordinates will be transposed as well unless you specify transpose_coords=False.\n",
      "/tank/users/tuchida/miniconda3/envs/ensemble/lib/python3.7/site-packages/ipykernel_launcher.py:108: FutureWarning: This DataArray contains multi-dimensional coordinates. In the future, these coordinates will be transposed as well unless you specify transpose_coords=False.\n",
      "/tank/users/tuchida/miniconda3/envs/ensemble/lib/python3.7/site-packages/ipykernel_launcher.py:110: FutureWarning: This DataArray contains multi-dimensional coordinates. In the future, these coordinates will be transposed as well unless you specify transpose_coords=False.\n"
     ]
    },
    {
     "name": "stdout",
     "output_type": "stream",
     "text": [
      "Zs saved.\n",
      "Varpi saved.\n",
      "Dyn saved.\n",
      "8471520\n"
     ]
    },
    {
     "name": "stderr",
     "output_type": "stream",
     "text": [
      "/tank/users/tuchida/miniconda3/envs/ensemble/lib/python3.7/site-packages/ipykernel_launcher.py:106: FutureWarning: This DataArray contains multi-dimensional coordinates. In the future, these coordinates will be transposed as well unless you specify transpose_coords=False.\n",
      "/tank/users/tuchida/miniconda3/envs/ensemble/lib/python3.7/site-packages/ipykernel_launcher.py:108: FutureWarning: This DataArray contains multi-dimensional coordinates. In the future, these coordinates will be transposed as well unless you specify transpose_coords=False.\n",
      "/tank/users/tuchida/miniconda3/envs/ensemble/lib/python3.7/site-packages/ipykernel_launcher.py:110: FutureWarning: This DataArray contains multi-dimensional coordinates. In the future, these coordinates will be transposed as well unless you specify transpose_coords=False.\n"
     ]
    },
    {
     "name": "stdout",
     "output_type": "stream",
     "text": [
      "Zs saved.\n",
      "Varpi saved.\n",
      "Dyn saved.\n",
      "8473680\n"
     ]
    },
    {
     "name": "stderr",
     "output_type": "stream",
     "text": [
      "/tank/users/tuchida/miniconda3/envs/ensemble/lib/python3.7/site-packages/ipykernel_launcher.py:106: FutureWarning: This DataArray contains multi-dimensional coordinates. In the future, these coordinates will be transposed as well unless you specify transpose_coords=False.\n",
      "/tank/users/tuchida/miniconda3/envs/ensemble/lib/python3.7/site-packages/ipykernel_launcher.py:108: FutureWarning: This DataArray contains multi-dimensional coordinates. In the future, these coordinates will be transposed as well unless you specify transpose_coords=False.\n",
      "/tank/users/tuchida/miniconda3/envs/ensemble/lib/python3.7/site-packages/ipykernel_launcher.py:110: FutureWarning: This DataArray contains multi-dimensional coordinates. In the future, these coordinates will be transposed as well unless you specify transpose_coords=False.\n"
     ]
    },
    {
     "name": "stdout",
     "output_type": "stream",
     "text": [
      "Zs saved.\n",
      "Varpi saved.\n",
      "Dyn saved.\n",
      "8475840\n"
     ]
    },
    {
     "name": "stderr",
     "output_type": "stream",
     "text": [
      "/tank/users/tuchida/miniconda3/envs/ensemble/lib/python3.7/site-packages/ipykernel_launcher.py:106: FutureWarning: This DataArray contains multi-dimensional coordinates. In the future, these coordinates will be transposed as well unless you specify transpose_coords=False.\n",
      "/tank/users/tuchida/miniconda3/envs/ensemble/lib/python3.7/site-packages/ipykernel_launcher.py:108: FutureWarning: This DataArray contains multi-dimensional coordinates. In the future, these coordinates will be transposed as well unless you specify transpose_coords=False.\n",
      "/tank/users/tuchida/miniconda3/envs/ensemble/lib/python3.7/site-packages/ipykernel_launcher.py:110: FutureWarning: This DataArray contains multi-dimensional coordinates. In the future, these coordinates will be transposed as well unless you specify transpose_coords=False.\n"
     ]
    },
    {
     "name": "stdout",
     "output_type": "stream",
     "text": [
      "Zs saved.\n",
      "Varpi saved.\n",
      "Dyn saved.\n",
      "8478000\n"
     ]
    },
    {
     "name": "stderr",
     "output_type": "stream",
     "text": [
      "/tank/users/tuchida/miniconda3/envs/ensemble/lib/python3.7/site-packages/ipykernel_launcher.py:106: FutureWarning: This DataArray contains multi-dimensional coordinates. In the future, these coordinates will be transposed as well unless you specify transpose_coords=False.\n",
      "/tank/users/tuchida/miniconda3/envs/ensemble/lib/python3.7/site-packages/ipykernel_launcher.py:108: FutureWarning: This DataArray contains multi-dimensional coordinates. In the future, these coordinates will be transposed as well unless you specify transpose_coords=False.\n",
      "/tank/users/tuchida/miniconda3/envs/ensemble/lib/python3.7/site-packages/ipykernel_launcher.py:110: FutureWarning: This DataArray contains multi-dimensional coordinates. In the future, these coordinates will be transposed as well unless you specify transpose_coords=False.\n"
     ]
    },
    {
     "name": "stdout",
     "output_type": "stream",
     "text": [
      "Zs saved.\n",
      "Varpi saved.\n",
      "Dyn saved.\n",
      "8480160\n"
     ]
    },
    {
     "name": "stderr",
     "output_type": "stream",
     "text": [
      "/tank/users/tuchida/miniconda3/envs/ensemble/lib/python3.7/site-packages/ipykernel_launcher.py:106: FutureWarning: This DataArray contains multi-dimensional coordinates. In the future, these coordinates will be transposed as well unless you specify transpose_coords=False.\n",
      "/tank/users/tuchida/miniconda3/envs/ensemble/lib/python3.7/site-packages/ipykernel_launcher.py:108: FutureWarning: This DataArray contains multi-dimensional coordinates. In the future, these coordinates will be transposed as well unless you specify transpose_coords=False.\n",
      "/tank/users/tuchida/miniconda3/envs/ensemble/lib/python3.7/site-packages/ipykernel_launcher.py:110: FutureWarning: This DataArray contains multi-dimensional coordinates. In the future, these coordinates will be transposed as well unless you specify transpose_coords=False.\n"
     ]
    },
    {
     "name": "stdout",
     "output_type": "stream",
     "text": [
      "Zs saved.\n",
      "Varpi saved.\n",
      "Dyn saved.\n",
      "8482320\n"
     ]
    },
    {
     "name": "stderr",
     "output_type": "stream",
     "text": [
      "/tank/users/tuchida/miniconda3/envs/ensemble/lib/python3.7/site-packages/ipykernel_launcher.py:106: FutureWarning: This DataArray contains multi-dimensional coordinates. In the future, these coordinates will be transposed as well unless you specify transpose_coords=False.\n",
      "/tank/users/tuchida/miniconda3/envs/ensemble/lib/python3.7/site-packages/ipykernel_launcher.py:108: FutureWarning: This DataArray contains multi-dimensional coordinates. In the future, these coordinates will be transposed as well unless you specify transpose_coords=False.\n",
      "/tank/users/tuchida/miniconda3/envs/ensemble/lib/python3.7/site-packages/ipykernel_launcher.py:110: FutureWarning: This DataArray contains multi-dimensional coordinates. In the future, these coordinates will be transposed as well unless you specify transpose_coords=False.\n"
     ]
    },
    {
     "name": "stdout",
     "output_type": "stream",
     "text": [
      "Zs saved.\n",
      "Varpi saved.\n",
      "Dyn saved.\n",
      "8484480\n"
     ]
    },
    {
     "name": "stderr",
     "output_type": "stream",
     "text": [
      "/tank/users/tuchida/miniconda3/envs/ensemble/lib/python3.7/site-packages/ipykernel_launcher.py:106: FutureWarning: This DataArray contains multi-dimensional coordinates. In the future, these coordinates will be transposed as well unless you specify transpose_coords=False.\n",
      "/tank/users/tuchida/miniconda3/envs/ensemble/lib/python3.7/site-packages/ipykernel_launcher.py:108: FutureWarning: This DataArray contains multi-dimensional coordinates. In the future, these coordinates will be transposed as well unless you specify transpose_coords=False.\n",
      "/tank/users/tuchida/miniconda3/envs/ensemble/lib/python3.7/site-packages/ipykernel_launcher.py:110: FutureWarning: This DataArray contains multi-dimensional coordinates. In the future, these coordinates will be transposed as well unless you specify transpose_coords=False.\n"
     ]
    },
    {
     "name": "stdout",
     "output_type": "stream",
     "text": [
      "Zs saved.\n",
      "Varpi saved.\n",
      "Dyn saved.\n",
      "8486640\n"
     ]
    },
    {
     "name": "stderr",
     "output_type": "stream",
     "text": [
      "/tank/users/tuchida/miniconda3/envs/ensemble/lib/python3.7/site-packages/ipykernel_launcher.py:106: FutureWarning: This DataArray contains multi-dimensional coordinates. In the future, these coordinates will be transposed as well unless you specify transpose_coords=False.\n",
      "/tank/users/tuchida/miniconda3/envs/ensemble/lib/python3.7/site-packages/ipykernel_launcher.py:108: FutureWarning: This DataArray contains multi-dimensional coordinates. In the future, these coordinates will be transposed as well unless you specify transpose_coords=False.\n",
      "/tank/users/tuchida/miniconda3/envs/ensemble/lib/python3.7/site-packages/ipykernel_launcher.py:110: FutureWarning: This DataArray contains multi-dimensional coordinates. In the future, these coordinates will be transposed as well unless you specify transpose_coords=False.\n"
     ]
    },
    {
     "name": "stdout",
     "output_type": "stream",
     "text": [
      "Zs saved.\n",
      "Varpi saved.\n",
      "Dyn saved.\n",
      "8488800\n"
     ]
    },
    {
     "name": "stderr",
     "output_type": "stream",
     "text": [
      "/tank/users/tuchida/miniconda3/envs/ensemble/lib/python3.7/site-packages/ipykernel_launcher.py:106: FutureWarning: This DataArray contains multi-dimensional coordinates. In the future, these coordinates will be transposed as well unless you specify transpose_coords=False.\n",
      "/tank/users/tuchida/miniconda3/envs/ensemble/lib/python3.7/site-packages/ipykernel_launcher.py:108: FutureWarning: This DataArray contains multi-dimensional coordinates. In the future, these coordinates will be transposed as well unless you specify transpose_coords=False.\n",
      "/tank/users/tuchida/miniconda3/envs/ensemble/lib/python3.7/site-packages/ipykernel_launcher.py:110: FutureWarning: This DataArray contains multi-dimensional coordinates. In the future, these coordinates will be transposed as well unless you specify transpose_coords=False.\n"
     ]
    },
    {
     "name": "stdout",
     "output_type": "stream",
     "text": [
      "Zs saved.\n",
      "Varpi saved.\n",
      "Dyn saved.\n",
      "8490960\n"
     ]
    },
    {
     "name": "stderr",
     "output_type": "stream",
     "text": [
      "/tank/users/tuchida/miniconda3/envs/ensemble/lib/python3.7/site-packages/ipykernel_launcher.py:106: FutureWarning: This DataArray contains multi-dimensional coordinates. In the future, these coordinates will be transposed as well unless you specify transpose_coords=False.\n",
      "/tank/users/tuchida/miniconda3/envs/ensemble/lib/python3.7/site-packages/ipykernel_launcher.py:108: FutureWarning: This DataArray contains multi-dimensional coordinates. In the future, these coordinates will be transposed as well unless you specify transpose_coords=False.\n",
      "/tank/users/tuchida/miniconda3/envs/ensemble/lib/python3.7/site-packages/ipykernel_launcher.py:110: FutureWarning: This DataArray contains multi-dimensional coordinates. In the future, these coordinates will be transposed as well unless you specify transpose_coords=False.\n"
     ]
    },
    {
     "name": "stdout",
     "output_type": "stream",
     "text": [
      "Zs saved.\n",
      "Varpi saved.\n",
      "Dyn saved.\n",
      "8493120\n"
     ]
    },
    {
     "name": "stderr",
     "output_type": "stream",
     "text": [
      "/tank/users/tuchida/miniconda3/envs/ensemble/lib/python3.7/site-packages/ipykernel_launcher.py:106: FutureWarning: This DataArray contains multi-dimensional coordinates. In the future, these coordinates will be transposed as well unless you specify transpose_coords=False.\n",
      "/tank/users/tuchida/miniconda3/envs/ensemble/lib/python3.7/site-packages/ipykernel_launcher.py:108: FutureWarning: This DataArray contains multi-dimensional coordinates. In the future, these coordinates will be transposed as well unless you specify transpose_coords=False.\n",
      "/tank/users/tuchida/miniconda3/envs/ensemble/lib/python3.7/site-packages/ipykernel_launcher.py:110: FutureWarning: This DataArray contains multi-dimensional coordinates. In the future, these coordinates will be transposed as well unless you specify transpose_coords=False.\n"
     ]
    },
    {
     "name": "stdout",
     "output_type": "stream",
     "text": [
      "Zs saved.\n",
      "Varpi saved.\n",
      "Dyn saved.\n",
      "8495280\n"
     ]
    },
    {
     "name": "stderr",
     "output_type": "stream",
     "text": [
      "/tank/users/tuchida/miniconda3/envs/ensemble/lib/python3.7/site-packages/ipykernel_launcher.py:106: FutureWarning: This DataArray contains multi-dimensional coordinates. In the future, these coordinates will be transposed as well unless you specify transpose_coords=False.\n",
      "/tank/users/tuchida/miniconda3/envs/ensemble/lib/python3.7/site-packages/ipykernel_launcher.py:108: FutureWarning: This DataArray contains multi-dimensional coordinates. In the future, these coordinates will be transposed as well unless you specify transpose_coords=False.\n",
      "/tank/users/tuchida/miniconda3/envs/ensemble/lib/python3.7/site-packages/ipykernel_launcher.py:110: FutureWarning: This DataArray contains multi-dimensional coordinates. In the future, these coordinates will be transposed as well unless you specify transpose_coords=False.\n"
     ]
    },
    {
     "name": "stdout",
     "output_type": "stream",
     "text": [
      "Zs saved.\n",
      "Varpi saved.\n",
      "Dyn saved.\n",
      "8497440\n"
     ]
    },
    {
     "name": "stderr",
     "output_type": "stream",
     "text": [
      "/tank/users/tuchida/miniconda3/envs/ensemble/lib/python3.7/site-packages/ipykernel_launcher.py:106: FutureWarning: This DataArray contains multi-dimensional coordinates. In the future, these coordinates will be transposed as well unless you specify transpose_coords=False.\n",
      "/tank/users/tuchida/miniconda3/envs/ensemble/lib/python3.7/site-packages/ipykernel_launcher.py:108: FutureWarning: This DataArray contains multi-dimensional coordinates. In the future, these coordinates will be transposed as well unless you specify transpose_coords=False.\n",
      "/tank/users/tuchida/miniconda3/envs/ensemble/lib/python3.7/site-packages/ipykernel_launcher.py:110: FutureWarning: This DataArray contains multi-dimensional coordinates. In the future, these coordinates will be transposed as well unless you specify transpose_coords=False.\n"
     ]
    },
    {
     "name": "stdout",
     "output_type": "stream",
     "text": [
      "Zs saved.\n",
      "Varpi saved.\n",
      "Dyn saved.\n",
      "8499600\n"
     ]
    },
    {
     "name": "stderr",
     "output_type": "stream",
     "text": [
      "/tank/users/tuchida/miniconda3/envs/ensemble/lib/python3.7/site-packages/ipykernel_launcher.py:106: FutureWarning: This DataArray contains multi-dimensional coordinates. In the future, these coordinates will be transposed as well unless you specify transpose_coords=False.\n",
      "/tank/users/tuchida/miniconda3/envs/ensemble/lib/python3.7/site-packages/ipykernel_launcher.py:108: FutureWarning: This DataArray contains multi-dimensional coordinates. In the future, these coordinates will be transposed as well unless you specify transpose_coords=False.\n",
      "/tank/users/tuchida/miniconda3/envs/ensemble/lib/python3.7/site-packages/ipykernel_launcher.py:110: FutureWarning: This DataArray contains multi-dimensional coordinates. In the future, these coordinates will be transposed as well unless you specify transpose_coords=False.\n"
     ]
    },
    {
     "name": "stdout",
     "output_type": "stream",
     "text": [
      "Zs saved.\n",
      "Varpi saved.\n",
      "Dyn saved.\n",
      "8501760\n"
     ]
    },
    {
     "name": "stderr",
     "output_type": "stream",
     "text": [
      "/tank/users/tuchida/miniconda3/envs/ensemble/lib/python3.7/site-packages/ipykernel_launcher.py:106: FutureWarning: This DataArray contains multi-dimensional coordinates. In the future, these coordinates will be transposed as well unless you specify transpose_coords=False.\n",
      "/tank/users/tuchida/miniconda3/envs/ensemble/lib/python3.7/site-packages/ipykernel_launcher.py:108: FutureWarning: This DataArray contains multi-dimensional coordinates. In the future, these coordinates will be transposed as well unless you specify transpose_coords=False.\n",
      "/tank/users/tuchida/miniconda3/envs/ensemble/lib/python3.7/site-packages/ipykernel_launcher.py:110: FutureWarning: This DataArray contains multi-dimensional coordinates. In the future, these coordinates will be transposed as well unless you specify transpose_coords=False.\n"
     ]
    },
    {
     "name": "stdout",
     "output_type": "stream",
     "text": [
      "Zs saved.\n",
      "Varpi saved.\n",
      "Dyn saved.\n",
      "8503920\n"
     ]
    },
    {
     "name": "stderr",
     "output_type": "stream",
     "text": [
      "/tank/users/tuchida/miniconda3/envs/ensemble/lib/python3.7/site-packages/ipykernel_launcher.py:106: FutureWarning: This DataArray contains multi-dimensional coordinates. In the future, these coordinates will be transposed as well unless you specify transpose_coords=False.\n",
      "/tank/users/tuchida/miniconda3/envs/ensemble/lib/python3.7/site-packages/ipykernel_launcher.py:108: FutureWarning: This DataArray contains multi-dimensional coordinates. In the future, these coordinates will be transposed as well unless you specify transpose_coords=False.\n",
      "/tank/users/tuchida/miniconda3/envs/ensemble/lib/python3.7/site-packages/ipykernel_launcher.py:110: FutureWarning: This DataArray contains multi-dimensional coordinates. In the future, these coordinates will be transposed as well unless you specify transpose_coords=False.\n"
     ]
    },
    {
     "name": "stdout",
     "output_type": "stream",
     "text": [
      "Zs saved.\n",
      "Varpi saved.\n",
      "Dyn saved.\n",
      "8506080\n"
     ]
    },
    {
     "name": "stderr",
     "output_type": "stream",
     "text": [
      "/tank/users/tuchida/miniconda3/envs/ensemble/lib/python3.7/site-packages/ipykernel_launcher.py:106: FutureWarning: This DataArray contains multi-dimensional coordinates. In the future, these coordinates will be transposed as well unless you specify transpose_coords=False.\n",
      "/tank/users/tuchida/miniconda3/envs/ensemble/lib/python3.7/site-packages/ipykernel_launcher.py:108: FutureWarning: This DataArray contains multi-dimensional coordinates. In the future, these coordinates will be transposed as well unless you specify transpose_coords=False.\n",
      "/tank/users/tuchida/miniconda3/envs/ensemble/lib/python3.7/site-packages/ipykernel_launcher.py:110: FutureWarning: This DataArray contains multi-dimensional coordinates. In the future, these coordinates will be transposed as well unless you specify transpose_coords=False.\n"
     ]
    },
    {
     "name": "stdout",
     "output_type": "stream",
     "text": [
      "Zs saved.\n",
      "Varpi saved.\n",
      "Dyn saved.\n",
      "8508240\n"
     ]
    },
    {
     "name": "stderr",
     "output_type": "stream",
     "text": [
      "/tank/users/tuchida/miniconda3/envs/ensemble/lib/python3.7/site-packages/ipykernel_launcher.py:106: FutureWarning: This DataArray contains multi-dimensional coordinates. In the future, these coordinates will be transposed as well unless you specify transpose_coords=False.\n",
      "/tank/users/tuchida/miniconda3/envs/ensemble/lib/python3.7/site-packages/ipykernel_launcher.py:108: FutureWarning: This DataArray contains multi-dimensional coordinates. In the future, these coordinates will be transposed as well unless you specify transpose_coords=False.\n",
      "/tank/users/tuchida/miniconda3/envs/ensemble/lib/python3.7/site-packages/ipykernel_launcher.py:110: FutureWarning: This DataArray contains multi-dimensional coordinates. In the future, these coordinates will be transposed as well unless you specify transpose_coords=False.\n"
     ]
    },
    {
     "name": "stdout",
     "output_type": "stream",
     "text": [
      "Zs saved.\n",
      "Varpi saved.\n",
      "Dyn saved.\n",
      "8510400\n"
     ]
    },
    {
     "name": "stderr",
     "output_type": "stream",
     "text": [
      "/tank/users/tuchida/miniconda3/envs/ensemble/lib/python3.7/site-packages/ipykernel_launcher.py:106: FutureWarning: This DataArray contains multi-dimensional coordinates. In the future, these coordinates will be transposed as well unless you specify transpose_coords=False.\n",
      "/tank/users/tuchida/miniconda3/envs/ensemble/lib/python3.7/site-packages/ipykernel_launcher.py:108: FutureWarning: This DataArray contains multi-dimensional coordinates. In the future, these coordinates will be transposed as well unless you specify transpose_coords=False.\n",
      "/tank/users/tuchida/miniconda3/envs/ensemble/lib/python3.7/site-packages/ipykernel_launcher.py:110: FutureWarning: This DataArray contains multi-dimensional coordinates. In the future, these coordinates will be transposed as well unless you specify transpose_coords=False.\n"
     ]
    },
    {
     "name": "stdout",
     "output_type": "stream",
     "text": [
      "Zs saved.\n",
      "Varpi saved.\n",
      "Dyn saved.\n",
      "8512560\n"
     ]
    },
    {
     "name": "stderr",
     "output_type": "stream",
     "text": [
      "/tank/users/tuchida/miniconda3/envs/ensemble/lib/python3.7/site-packages/ipykernel_launcher.py:106: FutureWarning: This DataArray contains multi-dimensional coordinates. In the future, these coordinates will be transposed as well unless you specify transpose_coords=False.\n",
      "/tank/users/tuchida/miniconda3/envs/ensemble/lib/python3.7/site-packages/ipykernel_launcher.py:108: FutureWarning: This DataArray contains multi-dimensional coordinates. In the future, these coordinates will be transposed as well unless you specify transpose_coords=False.\n",
      "/tank/users/tuchida/miniconda3/envs/ensemble/lib/python3.7/site-packages/ipykernel_launcher.py:110: FutureWarning: This DataArray contains multi-dimensional coordinates. In the future, these coordinates will be transposed as well unless you specify transpose_coords=False.\n"
     ]
    },
    {
     "name": "stdout",
     "output_type": "stream",
     "text": [
      "Zs saved.\n",
      "Varpi saved.\n",
      "Dyn saved.\n",
      "8514720\n"
     ]
    },
    {
     "name": "stderr",
     "output_type": "stream",
     "text": [
      "/tank/users/tuchida/miniconda3/envs/ensemble/lib/python3.7/site-packages/ipykernel_launcher.py:106: FutureWarning: This DataArray contains multi-dimensional coordinates. In the future, these coordinates will be transposed as well unless you specify transpose_coords=False.\n",
      "/tank/users/tuchida/miniconda3/envs/ensemble/lib/python3.7/site-packages/ipykernel_launcher.py:108: FutureWarning: This DataArray contains multi-dimensional coordinates. In the future, these coordinates will be transposed as well unless you specify transpose_coords=False.\n",
      "/tank/users/tuchida/miniconda3/envs/ensemble/lib/python3.7/site-packages/ipykernel_launcher.py:110: FutureWarning: This DataArray contains multi-dimensional coordinates. In the future, these coordinates will be transposed as well unless you specify transpose_coords=False.\n"
     ]
    },
    {
     "name": "stdout",
     "output_type": "stream",
     "text": [
      "Zs saved.\n",
      "Varpi saved.\n",
      "Dyn saved.\n",
      "8516880\n"
     ]
    },
    {
     "name": "stderr",
     "output_type": "stream",
     "text": [
      "/tank/users/tuchida/miniconda3/envs/ensemble/lib/python3.7/site-packages/ipykernel_launcher.py:106: FutureWarning: This DataArray contains multi-dimensional coordinates. In the future, these coordinates will be transposed as well unless you specify transpose_coords=False.\n",
      "/tank/users/tuchida/miniconda3/envs/ensemble/lib/python3.7/site-packages/ipykernel_launcher.py:108: FutureWarning: This DataArray contains multi-dimensional coordinates. In the future, these coordinates will be transposed as well unless you specify transpose_coords=False.\n",
      "/tank/users/tuchida/miniconda3/envs/ensemble/lib/python3.7/site-packages/ipykernel_launcher.py:110: FutureWarning: This DataArray contains multi-dimensional coordinates. In the future, these coordinates will be transposed as well unless you specify transpose_coords=False.\n"
     ]
    },
    {
     "name": "stdout",
     "output_type": "stream",
     "text": [
      "Zs saved.\n",
      "Varpi saved.\n",
      "Dyn saved.\n",
      "8519040\n"
     ]
    },
    {
     "name": "stderr",
     "output_type": "stream",
     "text": [
      "/tank/users/tuchida/miniconda3/envs/ensemble/lib/python3.7/site-packages/ipykernel_launcher.py:106: FutureWarning: This DataArray contains multi-dimensional coordinates. In the future, these coordinates will be transposed as well unless you specify transpose_coords=False.\n",
      "/tank/users/tuchida/miniconda3/envs/ensemble/lib/python3.7/site-packages/ipykernel_launcher.py:108: FutureWarning: This DataArray contains multi-dimensional coordinates. In the future, these coordinates will be transposed as well unless you specify transpose_coords=False.\n",
      "/tank/users/tuchida/miniconda3/envs/ensemble/lib/python3.7/site-packages/ipykernel_launcher.py:110: FutureWarning: This DataArray contains multi-dimensional coordinates. In the future, these coordinates will be transposed as well unless you specify transpose_coords=False.\n"
     ]
    },
    {
     "name": "stdout",
     "output_type": "stream",
     "text": [
      "Zs saved.\n",
      "Varpi saved.\n",
      "Dyn saved.\n",
      "8521200\n"
     ]
    },
    {
     "name": "stderr",
     "output_type": "stream",
     "text": [
      "/tank/users/tuchida/miniconda3/envs/ensemble/lib/python3.7/site-packages/ipykernel_launcher.py:106: FutureWarning: This DataArray contains multi-dimensional coordinates. In the future, these coordinates will be transposed as well unless you specify transpose_coords=False.\n",
      "/tank/users/tuchida/miniconda3/envs/ensemble/lib/python3.7/site-packages/ipykernel_launcher.py:108: FutureWarning: This DataArray contains multi-dimensional coordinates. In the future, these coordinates will be transposed as well unless you specify transpose_coords=False.\n",
      "/tank/users/tuchida/miniconda3/envs/ensemble/lib/python3.7/site-packages/ipykernel_launcher.py:110: FutureWarning: This DataArray contains multi-dimensional coordinates. In the future, these coordinates will be transposed as well unless you specify transpose_coords=False.\n"
     ]
    },
    {
     "name": "stdout",
     "output_type": "stream",
     "text": [
      "Zs saved.\n",
      "Varpi saved.\n",
      "Dyn saved.\n",
      "8523360\n"
     ]
    },
    {
     "name": "stderr",
     "output_type": "stream",
     "text": [
      "/tank/users/tuchida/miniconda3/envs/ensemble/lib/python3.7/site-packages/ipykernel_launcher.py:106: FutureWarning: This DataArray contains multi-dimensional coordinates. In the future, these coordinates will be transposed as well unless you specify transpose_coords=False.\n",
      "/tank/users/tuchida/miniconda3/envs/ensemble/lib/python3.7/site-packages/ipykernel_launcher.py:108: FutureWarning: This DataArray contains multi-dimensional coordinates. In the future, these coordinates will be transposed as well unless you specify transpose_coords=False.\n",
      "/tank/users/tuchida/miniconda3/envs/ensemble/lib/python3.7/site-packages/ipykernel_launcher.py:110: FutureWarning: This DataArray contains multi-dimensional coordinates. In the future, these coordinates will be transposed as well unless you specify transpose_coords=False.\n"
     ]
    },
    {
     "name": "stdout",
     "output_type": "stream",
     "text": [
      "Zs saved.\n",
      "Varpi saved.\n",
      "Dyn saved.\n",
      "8525520\n"
     ]
    },
    {
     "name": "stderr",
     "output_type": "stream",
     "text": [
      "/tank/users/tuchida/miniconda3/envs/ensemble/lib/python3.7/site-packages/ipykernel_launcher.py:106: FutureWarning: This DataArray contains multi-dimensional coordinates. In the future, these coordinates will be transposed as well unless you specify transpose_coords=False.\n",
      "/tank/users/tuchida/miniconda3/envs/ensemble/lib/python3.7/site-packages/ipykernel_launcher.py:108: FutureWarning: This DataArray contains multi-dimensional coordinates. In the future, these coordinates will be transposed as well unless you specify transpose_coords=False.\n",
      "/tank/users/tuchida/miniconda3/envs/ensemble/lib/python3.7/site-packages/ipykernel_launcher.py:110: FutureWarning: This DataArray contains multi-dimensional coordinates. In the future, these coordinates will be transposed as well unless you specify transpose_coords=False.\n"
     ]
    },
    {
     "name": "stdout",
     "output_type": "stream",
     "text": [
      "Zs saved.\n",
      "Varpi saved.\n",
      "Dyn saved.\n",
      "8527680\n"
     ]
    },
    {
     "name": "stderr",
     "output_type": "stream",
     "text": [
      "/tank/users/tuchida/miniconda3/envs/ensemble/lib/python3.7/site-packages/ipykernel_launcher.py:106: FutureWarning: This DataArray contains multi-dimensional coordinates. In the future, these coordinates will be transposed as well unless you specify transpose_coords=False.\n",
      "/tank/users/tuchida/miniconda3/envs/ensemble/lib/python3.7/site-packages/ipykernel_launcher.py:108: FutureWarning: This DataArray contains multi-dimensional coordinates. In the future, these coordinates will be transposed as well unless you specify transpose_coords=False.\n",
      "/tank/users/tuchida/miniconda3/envs/ensemble/lib/python3.7/site-packages/ipykernel_launcher.py:110: FutureWarning: This DataArray contains multi-dimensional coordinates. In the future, these coordinates will be transposed as well unless you specify transpose_coords=False.\n"
     ]
    },
    {
     "name": "stdout",
     "output_type": "stream",
     "text": [
      "Zs saved.\n",
      "Varpi saved.\n",
      "Dyn saved.\n",
      "8529840\n"
     ]
    },
    {
     "name": "stderr",
     "output_type": "stream",
     "text": [
      "/tank/users/tuchida/miniconda3/envs/ensemble/lib/python3.7/site-packages/ipykernel_launcher.py:106: FutureWarning: This DataArray contains multi-dimensional coordinates. In the future, these coordinates will be transposed as well unless you specify transpose_coords=False.\n",
      "/tank/users/tuchida/miniconda3/envs/ensemble/lib/python3.7/site-packages/ipykernel_launcher.py:108: FutureWarning: This DataArray contains multi-dimensional coordinates. In the future, these coordinates will be transposed as well unless you specify transpose_coords=False.\n",
      "/tank/users/tuchida/miniconda3/envs/ensemble/lib/python3.7/site-packages/ipykernel_launcher.py:110: FutureWarning: This DataArray contains multi-dimensional coordinates. In the future, these coordinates will be transposed as well unless you specify transpose_coords=False.\n"
     ]
    },
    {
     "name": "stdout",
     "output_type": "stream",
     "text": [
      "Zs saved.\n",
      "Varpi saved.\n",
      "Dyn saved.\n",
      "8532000\n"
     ]
    },
    {
     "name": "stderr",
     "output_type": "stream",
     "text": [
      "/tank/users/tuchida/miniconda3/envs/ensemble/lib/python3.7/site-packages/ipykernel_launcher.py:106: FutureWarning: This DataArray contains multi-dimensional coordinates. In the future, these coordinates will be transposed as well unless you specify transpose_coords=False.\n",
      "/tank/users/tuchida/miniconda3/envs/ensemble/lib/python3.7/site-packages/ipykernel_launcher.py:108: FutureWarning: This DataArray contains multi-dimensional coordinates. In the future, these coordinates will be transposed as well unless you specify transpose_coords=False.\n",
      "/tank/users/tuchida/miniconda3/envs/ensemble/lib/python3.7/site-packages/ipykernel_launcher.py:110: FutureWarning: This DataArray contains multi-dimensional coordinates. In the future, these coordinates will be transposed as well unless you specify transpose_coords=False.\n"
     ]
    },
    {
     "name": "stdout",
     "output_type": "stream",
     "text": [
      "Zs saved.\n",
      "Varpi saved.\n",
      "Dyn saved.\n",
      "8534160\n"
     ]
    },
    {
     "name": "stderr",
     "output_type": "stream",
     "text": [
      "/tank/users/tuchida/miniconda3/envs/ensemble/lib/python3.7/site-packages/ipykernel_launcher.py:106: FutureWarning: This DataArray contains multi-dimensional coordinates. In the future, these coordinates will be transposed as well unless you specify transpose_coords=False.\n",
      "/tank/users/tuchida/miniconda3/envs/ensemble/lib/python3.7/site-packages/ipykernel_launcher.py:108: FutureWarning: This DataArray contains multi-dimensional coordinates. In the future, these coordinates will be transposed as well unless you specify transpose_coords=False.\n",
      "/tank/users/tuchida/miniconda3/envs/ensemble/lib/python3.7/site-packages/ipykernel_launcher.py:110: FutureWarning: This DataArray contains multi-dimensional coordinates. In the future, these coordinates will be transposed as well unless you specify transpose_coords=False.\n"
     ]
    },
    {
     "name": "stdout",
     "output_type": "stream",
     "text": [
      "Zs saved.\n",
      "Varpi saved.\n",
      "Dyn saved.\n",
      "8536320\n"
     ]
    },
    {
     "name": "stderr",
     "output_type": "stream",
     "text": [
      "/tank/users/tuchida/miniconda3/envs/ensemble/lib/python3.7/site-packages/ipykernel_launcher.py:106: FutureWarning: This DataArray contains multi-dimensional coordinates. In the future, these coordinates will be transposed as well unless you specify transpose_coords=False.\n",
      "/tank/users/tuchida/miniconda3/envs/ensemble/lib/python3.7/site-packages/ipykernel_launcher.py:108: FutureWarning: This DataArray contains multi-dimensional coordinates. In the future, these coordinates will be transposed as well unless you specify transpose_coords=False.\n",
      "/tank/users/tuchida/miniconda3/envs/ensemble/lib/python3.7/site-packages/ipykernel_launcher.py:110: FutureWarning: This DataArray contains multi-dimensional coordinates. In the future, these coordinates will be transposed as well unless you specify transpose_coords=False.\n"
     ]
    },
    {
     "name": "stdout",
     "output_type": "stream",
     "text": [
      "Zs saved.\n",
      "Varpi saved.\n",
      "Dyn saved.\n",
      "8538480\n"
     ]
    },
    {
     "name": "stderr",
     "output_type": "stream",
     "text": [
      "/tank/users/tuchida/miniconda3/envs/ensemble/lib/python3.7/site-packages/ipykernel_launcher.py:106: FutureWarning: This DataArray contains multi-dimensional coordinates. In the future, these coordinates will be transposed as well unless you specify transpose_coords=False.\n",
      "/tank/users/tuchida/miniconda3/envs/ensemble/lib/python3.7/site-packages/ipykernel_launcher.py:108: FutureWarning: This DataArray contains multi-dimensional coordinates. In the future, these coordinates will be transposed as well unless you specify transpose_coords=False.\n",
      "/tank/users/tuchida/miniconda3/envs/ensemble/lib/python3.7/site-packages/ipykernel_launcher.py:110: FutureWarning: This DataArray contains multi-dimensional coordinates. In the future, these coordinates will be transposed as well unless you specify transpose_coords=False.\n"
     ]
    },
    {
     "name": "stdout",
     "output_type": "stream",
     "text": [
      "Zs saved.\n",
      "Varpi saved.\n",
      "Dyn saved.\n",
      "8540640\n"
     ]
    },
    {
     "name": "stderr",
     "output_type": "stream",
     "text": [
      "/tank/users/tuchida/miniconda3/envs/ensemble/lib/python3.7/site-packages/ipykernel_launcher.py:106: FutureWarning: This DataArray contains multi-dimensional coordinates. In the future, these coordinates will be transposed as well unless you specify transpose_coords=False.\n",
      "/tank/users/tuchida/miniconda3/envs/ensemble/lib/python3.7/site-packages/ipykernel_launcher.py:108: FutureWarning: This DataArray contains multi-dimensional coordinates. In the future, these coordinates will be transposed as well unless you specify transpose_coords=False.\n",
      "/tank/users/tuchida/miniconda3/envs/ensemble/lib/python3.7/site-packages/ipykernel_launcher.py:110: FutureWarning: This DataArray contains multi-dimensional coordinates. In the future, these coordinates will be transposed as well unless you specify transpose_coords=False.\n"
     ]
    },
    {
     "name": "stdout",
     "output_type": "stream",
     "text": [
      "Zs saved.\n",
      "Varpi saved.\n",
      "Dyn saved.\n",
      "8542800\n"
     ]
    },
    {
     "name": "stderr",
     "output_type": "stream",
     "text": [
      "/tank/users/tuchida/miniconda3/envs/ensemble/lib/python3.7/site-packages/ipykernel_launcher.py:106: FutureWarning: This DataArray contains multi-dimensional coordinates. In the future, these coordinates will be transposed as well unless you specify transpose_coords=False.\n",
      "/tank/users/tuchida/miniconda3/envs/ensemble/lib/python3.7/site-packages/ipykernel_launcher.py:108: FutureWarning: This DataArray contains multi-dimensional coordinates. In the future, these coordinates will be transposed as well unless you specify transpose_coords=False.\n",
      "/tank/users/tuchida/miniconda3/envs/ensemble/lib/python3.7/site-packages/ipykernel_launcher.py:110: FutureWarning: This DataArray contains multi-dimensional coordinates. In the future, these coordinates will be transposed as well unless you specify transpose_coords=False.\n"
     ]
    },
    {
     "name": "stdout",
     "output_type": "stream",
     "text": [
      "Zs saved.\n",
      "Varpi saved.\n",
      "Dyn saved.\n",
      "8544960\n"
     ]
    },
    {
     "name": "stderr",
     "output_type": "stream",
     "text": [
      "/tank/users/tuchida/miniconda3/envs/ensemble/lib/python3.7/site-packages/ipykernel_launcher.py:106: FutureWarning: This DataArray contains multi-dimensional coordinates. In the future, these coordinates will be transposed as well unless you specify transpose_coords=False.\n",
      "/tank/users/tuchida/miniconda3/envs/ensemble/lib/python3.7/site-packages/ipykernel_launcher.py:108: FutureWarning: This DataArray contains multi-dimensional coordinates. In the future, these coordinates will be transposed as well unless you specify transpose_coords=False.\n",
      "/tank/users/tuchida/miniconda3/envs/ensemble/lib/python3.7/site-packages/ipykernel_launcher.py:110: FutureWarning: This DataArray contains multi-dimensional coordinates. In the future, these coordinates will be transposed as well unless you specify transpose_coords=False.\n"
     ]
    },
    {
     "name": "stdout",
     "output_type": "stream",
     "text": [
      "Zs saved.\n",
      "Varpi saved.\n",
      "Dyn saved.\n",
      "8547120\n"
     ]
    },
    {
     "name": "stderr",
     "output_type": "stream",
     "text": [
      "/tank/users/tuchida/miniconda3/envs/ensemble/lib/python3.7/site-packages/ipykernel_launcher.py:106: FutureWarning: This DataArray contains multi-dimensional coordinates. In the future, these coordinates will be transposed as well unless you specify transpose_coords=False.\n",
      "/tank/users/tuchida/miniconda3/envs/ensemble/lib/python3.7/site-packages/ipykernel_launcher.py:108: FutureWarning: This DataArray contains multi-dimensional coordinates. In the future, these coordinates will be transposed as well unless you specify transpose_coords=False.\n",
      "/tank/users/tuchida/miniconda3/envs/ensemble/lib/python3.7/site-packages/ipykernel_launcher.py:110: FutureWarning: This DataArray contains multi-dimensional coordinates. In the future, these coordinates will be transposed as well unless you specify transpose_coords=False.\n"
     ]
    },
    {
     "name": "stdout",
     "output_type": "stream",
     "text": [
      "Zs saved.\n",
      "Varpi saved.\n",
      "Dyn saved.\n",
      "8549280\n"
     ]
    },
    {
     "name": "stderr",
     "output_type": "stream",
     "text": [
      "/tank/users/tuchida/miniconda3/envs/ensemble/lib/python3.7/site-packages/ipykernel_launcher.py:106: FutureWarning: This DataArray contains multi-dimensional coordinates. In the future, these coordinates will be transposed as well unless you specify transpose_coords=False.\n",
      "/tank/users/tuchida/miniconda3/envs/ensemble/lib/python3.7/site-packages/ipykernel_launcher.py:108: FutureWarning: This DataArray contains multi-dimensional coordinates. In the future, these coordinates will be transposed as well unless you specify transpose_coords=False.\n",
      "/tank/users/tuchida/miniconda3/envs/ensemble/lib/python3.7/site-packages/ipykernel_launcher.py:110: FutureWarning: This DataArray contains multi-dimensional coordinates. In the future, these coordinates will be transposed as well unless you specify transpose_coords=False.\n"
     ]
    },
    {
     "name": "stdout",
     "output_type": "stream",
     "text": [
      "Zs saved.\n",
      "Varpi saved.\n",
      "Dyn saved.\n",
      "8551440\n"
     ]
    },
    {
     "name": "stderr",
     "output_type": "stream",
     "text": [
      "/tank/users/tuchida/miniconda3/envs/ensemble/lib/python3.7/site-packages/ipykernel_launcher.py:106: FutureWarning: This DataArray contains multi-dimensional coordinates. In the future, these coordinates will be transposed as well unless you specify transpose_coords=False.\n",
      "/tank/users/tuchida/miniconda3/envs/ensemble/lib/python3.7/site-packages/ipykernel_launcher.py:108: FutureWarning: This DataArray contains multi-dimensional coordinates. In the future, these coordinates will be transposed as well unless you specify transpose_coords=False.\n",
      "/tank/users/tuchida/miniconda3/envs/ensemble/lib/python3.7/site-packages/ipykernel_launcher.py:110: FutureWarning: This DataArray contains multi-dimensional coordinates. In the future, these coordinates will be transposed as well unless you specify transpose_coords=False.\n"
     ]
    },
    {
     "name": "stdout",
     "output_type": "stream",
     "text": [
      "Zs saved.\n",
      "Varpi saved.\n",
      "Dyn saved.\n",
      "8553600\n"
     ]
    },
    {
     "name": "stderr",
     "output_type": "stream",
     "text": [
      "/tank/users/tuchida/miniconda3/envs/ensemble/lib/python3.7/site-packages/ipykernel_launcher.py:106: FutureWarning: This DataArray contains multi-dimensional coordinates. In the future, these coordinates will be transposed as well unless you specify transpose_coords=False.\n",
      "/tank/users/tuchida/miniconda3/envs/ensemble/lib/python3.7/site-packages/ipykernel_launcher.py:108: FutureWarning: This DataArray contains multi-dimensional coordinates. In the future, these coordinates will be transposed as well unless you specify transpose_coords=False.\n",
      "/tank/users/tuchida/miniconda3/envs/ensemble/lib/python3.7/site-packages/ipykernel_launcher.py:110: FutureWarning: This DataArray contains multi-dimensional coordinates. In the future, these coordinates will be transposed as well unless you specify transpose_coords=False.\n"
     ]
    },
    {
     "name": "stdout",
     "output_type": "stream",
     "text": [
      "Zs saved.\n",
      "Varpi saved.\n",
      "Dyn saved.\n",
      "8555760\n"
     ]
    },
    {
     "name": "stderr",
     "output_type": "stream",
     "text": [
      "/tank/users/tuchida/miniconda3/envs/ensemble/lib/python3.7/site-packages/ipykernel_launcher.py:106: FutureWarning: This DataArray contains multi-dimensional coordinates. In the future, these coordinates will be transposed as well unless you specify transpose_coords=False.\n",
      "/tank/users/tuchida/miniconda3/envs/ensemble/lib/python3.7/site-packages/ipykernel_launcher.py:108: FutureWarning: This DataArray contains multi-dimensional coordinates. In the future, these coordinates will be transposed as well unless you specify transpose_coords=False.\n",
      "/tank/users/tuchida/miniconda3/envs/ensemble/lib/python3.7/site-packages/ipykernel_launcher.py:110: FutureWarning: This DataArray contains multi-dimensional coordinates. In the future, these coordinates will be transposed as well unless you specify transpose_coords=False.\n"
     ]
    },
    {
     "name": "stdout",
     "output_type": "stream",
     "text": [
      "Zs saved.\n",
      "Varpi saved.\n",
      "Dyn saved.\n",
      "8557920\n"
     ]
    },
    {
     "name": "stderr",
     "output_type": "stream",
     "text": [
      "/tank/users/tuchida/miniconda3/envs/ensemble/lib/python3.7/site-packages/ipykernel_launcher.py:106: FutureWarning: This DataArray contains multi-dimensional coordinates. In the future, these coordinates will be transposed as well unless you specify transpose_coords=False.\n",
      "/tank/users/tuchida/miniconda3/envs/ensemble/lib/python3.7/site-packages/ipykernel_launcher.py:108: FutureWarning: This DataArray contains multi-dimensional coordinates. In the future, these coordinates will be transposed as well unless you specify transpose_coords=False.\n",
      "/tank/users/tuchida/miniconda3/envs/ensemble/lib/python3.7/site-packages/ipykernel_launcher.py:110: FutureWarning: This DataArray contains multi-dimensional coordinates. In the future, these coordinates will be transposed as well unless you specify transpose_coords=False.\n"
     ]
    },
    {
     "name": "stdout",
     "output_type": "stream",
     "text": [
      "Zs saved.\n",
      "Varpi saved.\n",
      "Dyn saved.\n",
      "8560080\n"
     ]
    },
    {
     "name": "stderr",
     "output_type": "stream",
     "text": [
      "/tank/users/tuchida/miniconda3/envs/ensemble/lib/python3.7/site-packages/ipykernel_launcher.py:106: FutureWarning: This DataArray contains multi-dimensional coordinates. In the future, these coordinates will be transposed as well unless you specify transpose_coords=False.\n",
      "/tank/users/tuchida/miniconda3/envs/ensemble/lib/python3.7/site-packages/ipykernel_launcher.py:108: FutureWarning: This DataArray contains multi-dimensional coordinates. In the future, these coordinates will be transposed as well unless you specify transpose_coords=False.\n",
      "/tank/users/tuchida/miniconda3/envs/ensemble/lib/python3.7/site-packages/ipykernel_launcher.py:110: FutureWarning: This DataArray contains multi-dimensional coordinates. In the future, these coordinates will be transposed as well unless you specify transpose_coords=False.\n"
     ]
    },
    {
     "name": "stdout",
     "output_type": "stream",
     "text": [
      "Zs saved.\n",
      "Varpi saved.\n",
      "Dyn saved.\n",
      "8562240\n"
     ]
    },
    {
     "name": "stderr",
     "output_type": "stream",
     "text": [
      "/tank/users/tuchida/miniconda3/envs/ensemble/lib/python3.7/site-packages/ipykernel_launcher.py:106: FutureWarning: This DataArray contains multi-dimensional coordinates. In the future, these coordinates will be transposed as well unless you specify transpose_coords=False.\n",
      "/tank/users/tuchida/miniconda3/envs/ensemble/lib/python3.7/site-packages/ipykernel_launcher.py:108: FutureWarning: This DataArray contains multi-dimensional coordinates. In the future, these coordinates will be transposed as well unless you specify transpose_coords=False.\n",
      "/tank/users/tuchida/miniconda3/envs/ensemble/lib/python3.7/site-packages/ipykernel_launcher.py:110: FutureWarning: This DataArray contains multi-dimensional coordinates. In the future, these coordinates will be transposed as well unless you specify transpose_coords=False.\n"
     ]
    },
    {
     "name": "stdout",
     "output_type": "stream",
     "text": [
      "Zs saved.\n",
      "Varpi saved.\n",
      "Dyn saved.\n",
      "8564400\n"
     ]
    },
    {
     "name": "stderr",
     "output_type": "stream",
     "text": [
      "/tank/users/tuchida/miniconda3/envs/ensemble/lib/python3.7/site-packages/ipykernel_launcher.py:106: FutureWarning: This DataArray contains multi-dimensional coordinates. In the future, these coordinates will be transposed as well unless you specify transpose_coords=False.\n",
      "/tank/users/tuchida/miniconda3/envs/ensemble/lib/python3.7/site-packages/ipykernel_launcher.py:108: FutureWarning: This DataArray contains multi-dimensional coordinates. In the future, these coordinates will be transposed as well unless you specify transpose_coords=False.\n",
      "/tank/users/tuchida/miniconda3/envs/ensemble/lib/python3.7/site-packages/ipykernel_launcher.py:110: FutureWarning: This DataArray contains multi-dimensional coordinates. In the future, these coordinates will be transposed as well unless you specify transpose_coords=False.\n"
     ]
    },
    {
     "name": "stdout",
     "output_type": "stream",
     "text": [
      "Zs saved.\n",
      "Varpi saved.\n",
      "Dyn saved.\n",
      "8566560\n"
     ]
    },
    {
     "name": "stderr",
     "output_type": "stream",
     "text": [
      "/tank/users/tuchida/miniconda3/envs/ensemble/lib/python3.7/site-packages/ipykernel_launcher.py:106: FutureWarning: This DataArray contains multi-dimensional coordinates. In the future, these coordinates will be transposed as well unless you specify transpose_coords=False.\n",
      "/tank/users/tuchida/miniconda3/envs/ensemble/lib/python3.7/site-packages/ipykernel_launcher.py:108: FutureWarning: This DataArray contains multi-dimensional coordinates. In the future, these coordinates will be transposed as well unless you specify transpose_coords=False.\n",
      "/tank/users/tuchida/miniconda3/envs/ensemble/lib/python3.7/site-packages/ipykernel_launcher.py:110: FutureWarning: This DataArray contains multi-dimensional coordinates. In the future, these coordinates will be transposed as well unless you specify transpose_coords=False.\n"
     ]
    },
    {
     "name": "stdout",
     "output_type": "stream",
     "text": [
      "Zs saved.\n",
      "Varpi saved.\n",
      "Dyn saved.\n",
      "8568720\n"
     ]
    },
    {
     "name": "stderr",
     "output_type": "stream",
     "text": [
      "/tank/users/tuchida/miniconda3/envs/ensemble/lib/python3.7/site-packages/ipykernel_launcher.py:106: FutureWarning: This DataArray contains multi-dimensional coordinates. In the future, these coordinates will be transposed as well unless you specify transpose_coords=False.\n",
      "/tank/users/tuchida/miniconda3/envs/ensemble/lib/python3.7/site-packages/ipykernel_launcher.py:108: FutureWarning: This DataArray contains multi-dimensional coordinates. In the future, these coordinates will be transposed as well unless you specify transpose_coords=False.\n",
      "/tank/users/tuchida/miniconda3/envs/ensemble/lib/python3.7/site-packages/ipykernel_launcher.py:110: FutureWarning: This DataArray contains multi-dimensional coordinates. In the future, these coordinates will be transposed as well unless you specify transpose_coords=False.\n"
     ]
    },
    {
     "name": "stdout",
     "output_type": "stream",
     "text": [
      "Zs saved.\n",
      "Varpi saved.\n",
      "Dyn saved.\n",
      "8570880\n"
     ]
    },
    {
     "name": "stderr",
     "output_type": "stream",
     "text": [
      "/tank/users/tuchida/miniconda3/envs/ensemble/lib/python3.7/site-packages/ipykernel_launcher.py:106: FutureWarning: This DataArray contains multi-dimensional coordinates. In the future, these coordinates will be transposed as well unless you specify transpose_coords=False.\n",
      "/tank/users/tuchida/miniconda3/envs/ensemble/lib/python3.7/site-packages/ipykernel_launcher.py:108: FutureWarning: This DataArray contains multi-dimensional coordinates. In the future, these coordinates will be transposed as well unless you specify transpose_coords=False.\n",
      "/tank/users/tuchida/miniconda3/envs/ensemble/lib/python3.7/site-packages/ipykernel_launcher.py:110: FutureWarning: This DataArray contains multi-dimensional coordinates. In the future, these coordinates will be transposed as well unless you specify transpose_coords=False.\n"
     ]
    },
    {
     "name": "stdout",
     "output_type": "stream",
     "text": [
      "Zs saved.\n",
      "Varpi saved.\n",
      "Dyn saved.\n",
      "8573040\n"
     ]
    },
    {
     "name": "stderr",
     "output_type": "stream",
     "text": [
      "/tank/users/tuchida/miniconda3/envs/ensemble/lib/python3.7/site-packages/ipykernel_launcher.py:106: FutureWarning: This DataArray contains multi-dimensional coordinates. In the future, these coordinates will be transposed as well unless you specify transpose_coords=False.\n",
      "/tank/users/tuchida/miniconda3/envs/ensemble/lib/python3.7/site-packages/ipykernel_launcher.py:108: FutureWarning: This DataArray contains multi-dimensional coordinates. In the future, these coordinates will be transposed as well unless you specify transpose_coords=False.\n",
      "/tank/users/tuchida/miniconda3/envs/ensemble/lib/python3.7/site-packages/ipykernel_launcher.py:110: FutureWarning: This DataArray contains multi-dimensional coordinates. In the future, these coordinates will be transposed as well unless you specify transpose_coords=False.\n"
     ]
    },
    {
     "name": "stdout",
     "output_type": "stream",
     "text": [
      "Zs saved.\n",
      "Varpi saved.\n",
      "Dyn saved.\n",
      "8575200\n"
     ]
    },
    {
     "name": "stderr",
     "output_type": "stream",
     "text": [
      "/tank/users/tuchida/miniconda3/envs/ensemble/lib/python3.7/site-packages/ipykernel_launcher.py:106: FutureWarning: This DataArray contains multi-dimensional coordinates. In the future, these coordinates will be transposed as well unless you specify transpose_coords=False.\n",
      "/tank/users/tuchida/miniconda3/envs/ensemble/lib/python3.7/site-packages/ipykernel_launcher.py:108: FutureWarning: This DataArray contains multi-dimensional coordinates. In the future, these coordinates will be transposed as well unless you specify transpose_coords=False.\n",
      "/tank/users/tuchida/miniconda3/envs/ensemble/lib/python3.7/site-packages/ipykernel_launcher.py:110: FutureWarning: This DataArray contains multi-dimensional coordinates. In the future, these coordinates will be transposed as well unless you specify transpose_coords=False.\n"
     ]
    },
    {
     "name": "stdout",
     "output_type": "stream",
     "text": [
      "Zs saved.\n",
      "Varpi saved.\n",
      "Dyn saved.\n",
      "8577360\n"
     ]
    },
    {
     "name": "stderr",
     "output_type": "stream",
     "text": [
      "/tank/users/tuchida/miniconda3/envs/ensemble/lib/python3.7/site-packages/ipykernel_launcher.py:106: FutureWarning: This DataArray contains multi-dimensional coordinates. In the future, these coordinates will be transposed as well unless you specify transpose_coords=False.\n",
      "/tank/users/tuchida/miniconda3/envs/ensemble/lib/python3.7/site-packages/ipykernel_launcher.py:108: FutureWarning: This DataArray contains multi-dimensional coordinates. In the future, these coordinates will be transposed as well unless you specify transpose_coords=False.\n",
      "/tank/users/tuchida/miniconda3/envs/ensemble/lib/python3.7/site-packages/ipykernel_launcher.py:110: FutureWarning: This DataArray contains multi-dimensional coordinates. In the future, these coordinates will be transposed as well unless you specify transpose_coords=False.\n"
     ]
    },
    {
     "name": "stdout",
     "output_type": "stream",
     "text": [
      "Zs saved.\n",
      "Varpi saved.\n",
      "Dyn saved.\n",
      "8579520\n"
     ]
    },
    {
     "name": "stderr",
     "output_type": "stream",
     "text": [
      "/tank/users/tuchida/miniconda3/envs/ensemble/lib/python3.7/site-packages/ipykernel_launcher.py:106: FutureWarning: This DataArray contains multi-dimensional coordinates. In the future, these coordinates will be transposed as well unless you specify transpose_coords=False.\n",
      "/tank/users/tuchida/miniconda3/envs/ensemble/lib/python3.7/site-packages/ipykernel_launcher.py:108: FutureWarning: This DataArray contains multi-dimensional coordinates. In the future, these coordinates will be transposed as well unless you specify transpose_coords=False.\n",
      "/tank/users/tuchida/miniconda3/envs/ensemble/lib/python3.7/site-packages/ipykernel_launcher.py:110: FutureWarning: This DataArray contains multi-dimensional coordinates. In the future, these coordinates will be transposed as well unless you specify transpose_coords=False.\n"
     ]
    },
    {
     "name": "stdout",
     "output_type": "stream",
     "text": [
      "Zs saved.\n",
      "Varpi saved.\n",
      "Dyn saved.\n",
      "8581680\n"
     ]
    },
    {
     "name": "stderr",
     "output_type": "stream",
     "text": [
      "/tank/users/tuchida/miniconda3/envs/ensemble/lib/python3.7/site-packages/ipykernel_launcher.py:106: FutureWarning: This DataArray contains multi-dimensional coordinates. In the future, these coordinates will be transposed as well unless you specify transpose_coords=False.\n",
      "/tank/users/tuchida/miniconda3/envs/ensemble/lib/python3.7/site-packages/ipykernel_launcher.py:108: FutureWarning: This DataArray contains multi-dimensional coordinates. In the future, these coordinates will be transposed as well unless you specify transpose_coords=False.\n",
      "/tank/users/tuchida/miniconda3/envs/ensemble/lib/python3.7/site-packages/ipykernel_launcher.py:110: FutureWarning: This DataArray contains multi-dimensional coordinates. In the future, these coordinates will be transposed as well unless you specify transpose_coords=False.\n"
     ]
    },
    {
     "name": "stdout",
     "output_type": "stream",
     "text": [
      "Zs saved.\n",
      "Varpi saved.\n",
      "Dyn saved.\n",
      "8583840\n"
     ]
    },
    {
     "name": "stderr",
     "output_type": "stream",
     "text": [
      "/tank/users/tuchida/miniconda3/envs/ensemble/lib/python3.7/site-packages/ipykernel_launcher.py:106: FutureWarning: This DataArray contains multi-dimensional coordinates. In the future, these coordinates will be transposed as well unless you specify transpose_coords=False.\n",
      "/tank/users/tuchida/miniconda3/envs/ensemble/lib/python3.7/site-packages/ipykernel_launcher.py:108: FutureWarning: This DataArray contains multi-dimensional coordinates. In the future, these coordinates will be transposed as well unless you specify transpose_coords=False.\n",
      "/tank/users/tuchida/miniconda3/envs/ensemble/lib/python3.7/site-packages/ipykernel_launcher.py:110: FutureWarning: This DataArray contains multi-dimensional coordinates. In the future, these coordinates will be transposed as well unless you specify transpose_coords=False.\n"
     ]
    },
    {
     "name": "stdout",
     "output_type": "stream",
     "text": [
      "Zs saved.\n",
      "Varpi saved.\n",
      "Dyn saved.\n",
      "8586000\n"
     ]
    },
    {
     "name": "stderr",
     "output_type": "stream",
     "text": [
      "/tank/users/tuchida/miniconda3/envs/ensemble/lib/python3.7/site-packages/ipykernel_launcher.py:106: FutureWarning: This DataArray contains multi-dimensional coordinates. In the future, these coordinates will be transposed as well unless you specify transpose_coords=False.\n",
      "/tank/users/tuchida/miniconda3/envs/ensemble/lib/python3.7/site-packages/ipykernel_launcher.py:108: FutureWarning: This DataArray contains multi-dimensional coordinates. In the future, these coordinates will be transposed as well unless you specify transpose_coords=False.\n",
      "/tank/users/tuchida/miniconda3/envs/ensemble/lib/python3.7/site-packages/ipykernel_launcher.py:110: FutureWarning: This DataArray contains multi-dimensional coordinates. In the future, these coordinates will be transposed as well unless you specify transpose_coords=False.\n"
     ]
    },
    {
     "name": "stdout",
     "output_type": "stream",
     "text": [
      "Zs saved.\n",
      "Varpi saved.\n",
      "Dyn saved.\n",
      "8588160\n"
     ]
    },
    {
     "name": "stderr",
     "output_type": "stream",
     "text": [
      "/tank/users/tuchida/miniconda3/envs/ensemble/lib/python3.7/site-packages/ipykernel_launcher.py:106: FutureWarning: This DataArray contains multi-dimensional coordinates. In the future, these coordinates will be transposed as well unless you specify transpose_coords=False.\n",
      "/tank/users/tuchida/miniconda3/envs/ensemble/lib/python3.7/site-packages/ipykernel_launcher.py:108: FutureWarning: This DataArray contains multi-dimensional coordinates. In the future, these coordinates will be transposed as well unless you specify transpose_coords=False.\n",
      "/tank/users/tuchida/miniconda3/envs/ensemble/lib/python3.7/site-packages/ipykernel_launcher.py:110: FutureWarning: This DataArray contains multi-dimensional coordinates. In the future, these coordinates will be transposed as well unless you specify transpose_coords=False.\n"
     ]
    },
    {
     "name": "stdout",
     "output_type": "stream",
     "text": [
      "Zs saved.\n",
      "Varpi saved.\n",
      "Dyn saved.\n",
      "8590320\n"
     ]
    },
    {
     "name": "stderr",
     "output_type": "stream",
     "text": [
      "/tank/users/tuchida/miniconda3/envs/ensemble/lib/python3.7/site-packages/ipykernel_launcher.py:106: FutureWarning: This DataArray contains multi-dimensional coordinates. In the future, these coordinates will be transposed as well unless you specify transpose_coords=False.\n",
      "/tank/users/tuchida/miniconda3/envs/ensemble/lib/python3.7/site-packages/ipykernel_launcher.py:108: FutureWarning: This DataArray contains multi-dimensional coordinates. In the future, these coordinates will be transposed as well unless you specify transpose_coords=False.\n",
      "/tank/users/tuchida/miniconda3/envs/ensemble/lib/python3.7/site-packages/ipykernel_launcher.py:110: FutureWarning: This DataArray contains multi-dimensional coordinates. In the future, these coordinates will be transposed as well unless you specify transpose_coords=False.\n"
     ]
    },
    {
     "name": "stdout",
     "output_type": "stream",
     "text": [
      "Zs saved.\n",
      "Varpi saved.\n",
      "Dyn saved.\n",
      "8592480\n"
     ]
    },
    {
     "name": "stderr",
     "output_type": "stream",
     "text": [
      "/tank/users/tuchida/miniconda3/envs/ensemble/lib/python3.7/site-packages/ipykernel_launcher.py:106: FutureWarning: This DataArray contains multi-dimensional coordinates. In the future, these coordinates will be transposed as well unless you specify transpose_coords=False.\n",
      "/tank/users/tuchida/miniconda3/envs/ensemble/lib/python3.7/site-packages/ipykernel_launcher.py:108: FutureWarning: This DataArray contains multi-dimensional coordinates. In the future, these coordinates will be transposed as well unless you specify transpose_coords=False.\n",
      "/tank/users/tuchida/miniconda3/envs/ensemble/lib/python3.7/site-packages/ipykernel_launcher.py:110: FutureWarning: This DataArray contains multi-dimensional coordinates. In the future, these coordinates will be transposed as well unless you specify transpose_coords=False.\n"
     ]
    },
    {
     "name": "stdout",
     "output_type": "stream",
     "text": [
      "Zs saved.\n",
      "Varpi saved.\n",
      "Dyn saved.\n",
      "8594640\n"
     ]
    },
    {
     "name": "stderr",
     "output_type": "stream",
     "text": [
      "/tank/users/tuchida/miniconda3/envs/ensemble/lib/python3.7/site-packages/ipykernel_launcher.py:106: FutureWarning: This DataArray contains multi-dimensional coordinates. In the future, these coordinates will be transposed as well unless you specify transpose_coords=False.\n",
      "/tank/users/tuchida/miniconda3/envs/ensemble/lib/python3.7/site-packages/ipykernel_launcher.py:108: FutureWarning: This DataArray contains multi-dimensional coordinates. In the future, these coordinates will be transposed as well unless you specify transpose_coords=False.\n",
      "/tank/users/tuchida/miniconda3/envs/ensemble/lib/python3.7/site-packages/ipykernel_launcher.py:110: FutureWarning: This DataArray contains multi-dimensional coordinates. In the future, these coordinates will be transposed as well unless you specify transpose_coords=False.\n"
     ]
    },
    {
     "name": "stdout",
     "output_type": "stream",
     "text": [
      "Zs saved.\n",
      "Varpi saved.\n",
      "Dyn saved.\n",
      "8596800\n"
     ]
    },
    {
     "name": "stderr",
     "output_type": "stream",
     "text": [
      "/tank/users/tuchida/miniconda3/envs/ensemble/lib/python3.7/site-packages/ipykernel_launcher.py:106: FutureWarning: This DataArray contains multi-dimensional coordinates. In the future, these coordinates will be transposed as well unless you specify transpose_coords=False.\n",
      "/tank/users/tuchida/miniconda3/envs/ensemble/lib/python3.7/site-packages/ipykernel_launcher.py:108: FutureWarning: This DataArray contains multi-dimensional coordinates. In the future, these coordinates will be transposed as well unless you specify transpose_coords=False.\n",
      "/tank/users/tuchida/miniconda3/envs/ensemble/lib/python3.7/site-packages/ipykernel_launcher.py:110: FutureWarning: This DataArray contains multi-dimensional coordinates. In the future, these coordinates will be transposed as well unless you specify transpose_coords=False.\n"
     ]
    },
    {
     "name": "stdout",
     "output_type": "stream",
     "text": [
      "Zs saved.\n",
      "Varpi saved.\n",
      "Dyn saved.\n",
      "8598960\n"
     ]
    },
    {
     "name": "stderr",
     "output_type": "stream",
     "text": [
      "/tank/users/tuchida/miniconda3/envs/ensemble/lib/python3.7/site-packages/ipykernel_launcher.py:106: FutureWarning: This DataArray contains multi-dimensional coordinates. In the future, these coordinates will be transposed as well unless you specify transpose_coords=False.\n",
      "/tank/users/tuchida/miniconda3/envs/ensemble/lib/python3.7/site-packages/ipykernel_launcher.py:108: FutureWarning: This DataArray contains multi-dimensional coordinates. In the future, these coordinates will be transposed as well unless you specify transpose_coords=False.\n",
      "/tank/users/tuchida/miniconda3/envs/ensemble/lib/python3.7/site-packages/ipykernel_launcher.py:110: FutureWarning: This DataArray contains multi-dimensional coordinates. In the future, these coordinates will be transposed as well unless you specify transpose_coords=False.\n"
     ]
    },
    {
     "name": "stdout",
     "output_type": "stream",
     "text": [
      "Zs saved.\n",
      "Varpi saved.\n",
      "Dyn saved.\n",
      "8601120\n"
     ]
    },
    {
     "name": "stderr",
     "output_type": "stream",
     "text": [
      "/tank/users/tuchida/miniconda3/envs/ensemble/lib/python3.7/site-packages/ipykernel_launcher.py:106: FutureWarning: This DataArray contains multi-dimensional coordinates. In the future, these coordinates will be transposed as well unless you specify transpose_coords=False.\n",
      "/tank/users/tuchida/miniconda3/envs/ensemble/lib/python3.7/site-packages/ipykernel_launcher.py:108: FutureWarning: This DataArray contains multi-dimensional coordinates. In the future, these coordinates will be transposed as well unless you specify transpose_coords=False.\n",
      "/tank/users/tuchida/miniconda3/envs/ensemble/lib/python3.7/site-packages/ipykernel_launcher.py:110: FutureWarning: This DataArray contains multi-dimensional coordinates. In the future, these coordinates will be transposed as well unless you specify transpose_coords=False.\n"
     ]
    },
    {
     "name": "stdout",
     "output_type": "stream",
     "text": [
      "Zs saved.\n",
      "Varpi saved.\n",
      "Dyn saved.\n",
      "8603280\n"
     ]
    },
    {
     "name": "stderr",
     "output_type": "stream",
     "text": [
      "/tank/users/tuchida/miniconda3/envs/ensemble/lib/python3.7/site-packages/ipykernel_launcher.py:106: FutureWarning: This DataArray contains multi-dimensional coordinates. In the future, these coordinates will be transposed as well unless you specify transpose_coords=False.\n",
      "/tank/users/tuchida/miniconda3/envs/ensemble/lib/python3.7/site-packages/ipykernel_launcher.py:108: FutureWarning: This DataArray contains multi-dimensional coordinates. In the future, these coordinates will be transposed as well unless you specify transpose_coords=False.\n",
      "/tank/users/tuchida/miniconda3/envs/ensemble/lib/python3.7/site-packages/ipykernel_launcher.py:110: FutureWarning: This DataArray contains multi-dimensional coordinates. In the future, these coordinates will be transposed as well unless you specify transpose_coords=False.\n"
     ]
    },
    {
     "name": "stdout",
     "output_type": "stream",
     "text": [
      "Zs saved.\n",
      "Varpi saved.\n",
      "Dyn saved.\n",
      "8605440\n"
     ]
    },
    {
     "name": "stderr",
     "output_type": "stream",
     "text": [
      "/tank/users/tuchida/miniconda3/envs/ensemble/lib/python3.7/site-packages/ipykernel_launcher.py:106: FutureWarning: This DataArray contains multi-dimensional coordinates. In the future, these coordinates will be transposed as well unless you specify transpose_coords=False.\n",
      "/tank/users/tuchida/miniconda3/envs/ensemble/lib/python3.7/site-packages/ipykernel_launcher.py:108: FutureWarning: This DataArray contains multi-dimensional coordinates. In the future, these coordinates will be transposed as well unless you specify transpose_coords=False.\n",
      "/tank/users/tuchida/miniconda3/envs/ensemble/lib/python3.7/site-packages/ipykernel_launcher.py:110: FutureWarning: This DataArray contains multi-dimensional coordinates. In the future, these coordinates will be transposed as well unless you specify transpose_coords=False.\n"
     ]
    },
    {
     "name": "stdout",
     "output_type": "stream",
     "text": [
      "Zs saved.\n",
      "Varpi saved.\n",
      "Dyn saved.\n",
      "8607600\n"
     ]
    },
    {
     "name": "stderr",
     "output_type": "stream",
     "text": [
      "/tank/users/tuchida/miniconda3/envs/ensemble/lib/python3.7/site-packages/ipykernel_launcher.py:106: FutureWarning: This DataArray contains multi-dimensional coordinates. In the future, these coordinates will be transposed as well unless you specify transpose_coords=False.\n",
      "/tank/users/tuchida/miniconda3/envs/ensemble/lib/python3.7/site-packages/ipykernel_launcher.py:108: FutureWarning: This DataArray contains multi-dimensional coordinates. In the future, these coordinates will be transposed as well unless you specify transpose_coords=False.\n",
      "/tank/users/tuchida/miniconda3/envs/ensemble/lib/python3.7/site-packages/ipykernel_launcher.py:110: FutureWarning: This DataArray contains multi-dimensional coordinates. In the future, these coordinates will be transposed as well unless you specify transpose_coords=False.\n"
     ]
    },
    {
     "name": "stdout",
     "output_type": "stream",
     "text": [
      "Zs saved.\n",
      "Varpi saved.\n",
      "Dyn saved.\n",
      "8609760\n"
     ]
    },
    {
     "name": "stderr",
     "output_type": "stream",
     "text": [
      "/tank/users/tuchida/miniconda3/envs/ensemble/lib/python3.7/site-packages/ipykernel_launcher.py:106: FutureWarning: This DataArray contains multi-dimensional coordinates. In the future, these coordinates will be transposed as well unless you specify transpose_coords=False.\n",
      "/tank/users/tuchida/miniconda3/envs/ensemble/lib/python3.7/site-packages/ipykernel_launcher.py:108: FutureWarning: This DataArray contains multi-dimensional coordinates. In the future, these coordinates will be transposed as well unless you specify transpose_coords=False.\n",
      "/tank/users/tuchida/miniconda3/envs/ensemble/lib/python3.7/site-packages/ipykernel_launcher.py:110: FutureWarning: This DataArray contains multi-dimensional coordinates. In the future, these coordinates will be transposed as well unless you specify transpose_coords=False.\n"
     ]
    },
    {
     "name": "stdout",
     "output_type": "stream",
     "text": [
      "Zs saved.\n",
      "Varpi saved.\n",
      "Dyn saved.\n",
      "8611920\n"
     ]
    },
    {
     "name": "stderr",
     "output_type": "stream",
     "text": [
      "/tank/users/tuchida/miniconda3/envs/ensemble/lib/python3.7/site-packages/ipykernel_launcher.py:106: FutureWarning: This DataArray contains multi-dimensional coordinates. In the future, these coordinates will be transposed as well unless you specify transpose_coords=False.\n",
      "/tank/users/tuchida/miniconda3/envs/ensemble/lib/python3.7/site-packages/ipykernel_launcher.py:108: FutureWarning: This DataArray contains multi-dimensional coordinates. In the future, these coordinates will be transposed as well unless you specify transpose_coords=False.\n",
      "/tank/users/tuchida/miniconda3/envs/ensemble/lib/python3.7/site-packages/ipykernel_launcher.py:110: FutureWarning: This DataArray contains multi-dimensional coordinates. In the future, these coordinates will be transposed as well unless you specify transpose_coords=False.\n"
     ]
    },
    {
     "name": "stdout",
     "output_type": "stream",
     "text": [
      "Zs saved.\n",
      "Varpi saved.\n",
      "Dyn saved.\n",
      "8614080\n"
     ]
    },
    {
     "name": "stderr",
     "output_type": "stream",
     "text": [
      "/tank/users/tuchida/miniconda3/envs/ensemble/lib/python3.7/site-packages/ipykernel_launcher.py:106: FutureWarning: This DataArray contains multi-dimensional coordinates. In the future, these coordinates will be transposed as well unless you specify transpose_coords=False.\n",
      "/tank/users/tuchida/miniconda3/envs/ensemble/lib/python3.7/site-packages/ipykernel_launcher.py:108: FutureWarning: This DataArray contains multi-dimensional coordinates. In the future, these coordinates will be transposed as well unless you specify transpose_coords=False.\n",
      "/tank/users/tuchida/miniconda3/envs/ensemble/lib/python3.7/site-packages/ipykernel_launcher.py:110: FutureWarning: This DataArray contains multi-dimensional coordinates. In the future, these coordinates will be transposed as well unless you specify transpose_coords=False.\n"
     ]
    },
    {
     "name": "stdout",
     "output_type": "stream",
     "text": [
      "Zs saved.\n",
      "Varpi saved.\n",
      "Dyn saved.\n",
      "8616240\n"
     ]
    },
    {
     "name": "stderr",
     "output_type": "stream",
     "text": [
      "/tank/users/tuchida/miniconda3/envs/ensemble/lib/python3.7/site-packages/ipykernel_launcher.py:106: FutureWarning: This DataArray contains multi-dimensional coordinates. In the future, these coordinates will be transposed as well unless you specify transpose_coords=False.\n",
      "/tank/users/tuchida/miniconda3/envs/ensemble/lib/python3.7/site-packages/ipykernel_launcher.py:108: FutureWarning: This DataArray contains multi-dimensional coordinates. In the future, these coordinates will be transposed as well unless you specify transpose_coords=False.\n",
      "/tank/users/tuchida/miniconda3/envs/ensemble/lib/python3.7/site-packages/ipykernel_launcher.py:110: FutureWarning: This DataArray contains multi-dimensional coordinates. In the future, these coordinates will be transposed as well unless you specify transpose_coords=False.\n"
     ]
    },
    {
     "name": "stdout",
     "output_type": "stream",
     "text": [
      "Zs saved.\n",
      "Varpi saved.\n",
      "Dyn saved.\n",
      "8618400\n"
     ]
    },
    {
     "name": "stderr",
     "output_type": "stream",
     "text": [
      "/tank/users/tuchida/miniconda3/envs/ensemble/lib/python3.7/site-packages/ipykernel_launcher.py:106: FutureWarning: This DataArray contains multi-dimensional coordinates. In the future, these coordinates will be transposed as well unless you specify transpose_coords=False.\n",
      "/tank/users/tuchida/miniconda3/envs/ensemble/lib/python3.7/site-packages/ipykernel_launcher.py:108: FutureWarning: This DataArray contains multi-dimensional coordinates. In the future, these coordinates will be transposed as well unless you specify transpose_coords=False.\n",
      "/tank/users/tuchida/miniconda3/envs/ensemble/lib/python3.7/site-packages/ipykernel_launcher.py:110: FutureWarning: This DataArray contains multi-dimensional coordinates. In the future, these coordinates will be transposed as well unless you specify transpose_coords=False.\n"
     ]
    },
    {
     "name": "stdout",
     "output_type": "stream",
     "text": [
      "Zs saved.\n",
      "Varpi saved.\n",
      "Dyn saved.\n",
      "8620560\n"
     ]
    },
    {
     "name": "stderr",
     "output_type": "stream",
     "text": [
      "/tank/users/tuchida/miniconda3/envs/ensemble/lib/python3.7/site-packages/ipykernel_launcher.py:106: FutureWarning: This DataArray contains multi-dimensional coordinates. In the future, these coordinates will be transposed as well unless you specify transpose_coords=False.\n",
      "/tank/users/tuchida/miniconda3/envs/ensemble/lib/python3.7/site-packages/ipykernel_launcher.py:108: FutureWarning: This DataArray contains multi-dimensional coordinates. In the future, these coordinates will be transposed as well unless you specify transpose_coords=False.\n",
      "/tank/users/tuchida/miniconda3/envs/ensemble/lib/python3.7/site-packages/ipykernel_launcher.py:110: FutureWarning: This DataArray contains multi-dimensional coordinates. In the future, these coordinates will be transposed as well unless you specify transpose_coords=False.\n"
     ]
    },
    {
     "name": "stdout",
     "output_type": "stream",
     "text": [
      "Zs saved.\n",
      "Varpi saved.\n",
      "Dyn saved.\n",
      "8622720\n"
     ]
    },
    {
     "name": "stderr",
     "output_type": "stream",
     "text": [
      "/tank/users/tuchida/miniconda3/envs/ensemble/lib/python3.7/site-packages/ipykernel_launcher.py:106: FutureWarning: This DataArray contains multi-dimensional coordinates. In the future, these coordinates will be transposed as well unless you specify transpose_coords=False.\n",
      "/tank/users/tuchida/miniconda3/envs/ensemble/lib/python3.7/site-packages/ipykernel_launcher.py:108: FutureWarning: This DataArray contains multi-dimensional coordinates. In the future, these coordinates will be transposed as well unless you specify transpose_coords=False.\n",
      "/tank/users/tuchida/miniconda3/envs/ensemble/lib/python3.7/site-packages/ipykernel_launcher.py:110: FutureWarning: This DataArray contains multi-dimensional coordinates. In the future, these coordinates will be transposed as well unless you specify transpose_coords=False.\n"
     ]
    },
    {
     "name": "stdout",
     "output_type": "stream",
     "text": [
      "Zs saved.\n",
      "Varpi saved.\n",
      "Dyn saved.\n",
      "8624880\n"
     ]
    },
    {
     "name": "stderr",
     "output_type": "stream",
     "text": [
      "/tank/users/tuchida/miniconda3/envs/ensemble/lib/python3.7/site-packages/ipykernel_launcher.py:106: FutureWarning: This DataArray contains multi-dimensional coordinates. In the future, these coordinates will be transposed as well unless you specify transpose_coords=False.\n",
      "/tank/users/tuchida/miniconda3/envs/ensemble/lib/python3.7/site-packages/ipykernel_launcher.py:108: FutureWarning: This DataArray contains multi-dimensional coordinates. In the future, these coordinates will be transposed as well unless you specify transpose_coords=False.\n",
      "/tank/users/tuchida/miniconda3/envs/ensemble/lib/python3.7/site-packages/ipykernel_launcher.py:110: FutureWarning: This DataArray contains multi-dimensional coordinates. In the future, these coordinates will be transposed as well unless you specify transpose_coords=False.\n"
     ]
    },
    {
     "name": "stdout",
     "output_type": "stream",
     "text": [
      "Zs saved.\n",
      "Varpi saved.\n",
      "Dyn saved.\n",
      "8627040\n"
     ]
    },
    {
     "name": "stderr",
     "output_type": "stream",
     "text": [
      "/tank/users/tuchida/miniconda3/envs/ensemble/lib/python3.7/site-packages/ipykernel_launcher.py:106: FutureWarning: This DataArray contains multi-dimensional coordinates. In the future, these coordinates will be transposed as well unless you specify transpose_coords=False.\n",
      "/tank/users/tuchida/miniconda3/envs/ensemble/lib/python3.7/site-packages/ipykernel_launcher.py:108: FutureWarning: This DataArray contains multi-dimensional coordinates. In the future, these coordinates will be transposed as well unless you specify transpose_coords=False.\n",
      "/tank/users/tuchida/miniconda3/envs/ensemble/lib/python3.7/site-packages/ipykernel_launcher.py:110: FutureWarning: This DataArray contains multi-dimensional coordinates. In the future, these coordinates will be transposed as well unless you specify transpose_coords=False.\n"
     ]
    },
    {
     "name": "stdout",
     "output_type": "stream",
     "text": [
      "Zs saved.\n",
      "Varpi saved.\n",
      "Dyn saved.\n",
      "8629200\n"
     ]
    },
    {
     "name": "stderr",
     "output_type": "stream",
     "text": [
      "/tank/users/tuchida/miniconda3/envs/ensemble/lib/python3.7/site-packages/ipykernel_launcher.py:106: FutureWarning: This DataArray contains multi-dimensional coordinates. In the future, these coordinates will be transposed as well unless you specify transpose_coords=False.\n",
      "/tank/users/tuchida/miniconda3/envs/ensemble/lib/python3.7/site-packages/ipykernel_launcher.py:108: FutureWarning: This DataArray contains multi-dimensional coordinates. In the future, these coordinates will be transposed as well unless you specify transpose_coords=False.\n",
      "/tank/users/tuchida/miniconda3/envs/ensemble/lib/python3.7/site-packages/ipykernel_launcher.py:110: FutureWarning: This DataArray contains multi-dimensional coordinates. In the future, these coordinates will be transposed as well unless you specify transpose_coords=False.\n"
     ]
    },
    {
     "name": "stdout",
     "output_type": "stream",
     "text": [
      "Zs saved.\n",
      "Varpi saved.\n",
      "Dyn saved.\n",
      "8631360\n"
     ]
    },
    {
     "name": "stderr",
     "output_type": "stream",
     "text": [
      "/tank/users/tuchida/miniconda3/envs/ensemble/lib/python3.7/site-packages/ipykernel_launcher.py:106: FutureWarning: This DataArray contains multi-dimensional coordinates. In the future, these coordinates will be transposed as well unless you specify transpose_coords=False.\n",
      "/tank/users/tuchida/miniconda3/envs/ensemble/lib/python3.7/site-packages/ipykernel_launcher.py:108: FutureWarning: This DataArray contains multi-dimensional coordinates. In the future, these coordinates will be transposed as well unless you specify transpose_coords=False.\n",
      "/tank/users/tuchida/miniconda3/envs/ensemble/lib/python3.7/site-packages/ipykernel_launcher.py:110: FutureWarning: This DataArray contains multi-dimensional coordinates. In the future, these coordinates will be transposed as well unless you specify transpose_coords=False.\n"
     ]
    },
    {
     "name": "stdout",
     "output_type": "stream",
     "text": [
      "Zs saved.\n",
      "Varpi saved.\n",
      "Dyn saved.\n",
      "8633520\n"
     ]
    },
    {
     "name": "stderr",
     "output_type": "stream",
     "text": [
      "/tank/users/tuchida/miniconda3/envs/ensemble/lib/python3.7/site-packages/ipykernel_launcher.py:106: FutureWarning: This DataArray contains multi-dimensional coordinates. In the future, these coordinates will be transposed as well unless you specify transpose_coords=False.\n",
      "/tank/users/tuchida/miniconda3/envs/ensemble/lib/python3.7/site-packages/ipykernel_launcher.py:108: FutureWarning: This DataArray contains multi-dimensional coordinates. In the future, these coordinates will be transposed as well unless you specify transpose_coords=False.\n",
      "/tank/users/tuchida/miniconda3/envs/ensemble/lib/python3.7/site-packages/ipykernel_launcher.py:110: FutureWarning: This DataArray contains multi-dimensional coordinates. In the future, these coordinates will be transposed as well unless you specify transpose_coords=False.\n"
     ]
    },
    {
     "name": "stdout",
     "output_type": "stream",
     "text": [
      "Zs saved.\n",
      "Varpi saved.\n",
      "Dyn saved.\n",
      "8635680\n"
     ]
    },
    {
     "name": "stderr",
     "output_type": "stream",
     "text": [
      "/tank/users/tuchida/miniconda3/envs/ensemble/lib/python3.7/site-packages/ipykernel_launcher.py:106: FutureWarning: This DataArray contains multi-dimensional coordinates. In the future, these coordinates will be transposed as well unless you specify transpose_coords=False.\n",
      "/tank/users/tuchida/miniconda3/envs/ensemble/lib/python3.7/site-packages/ipykernel_launcher.py:108: FutureWarning: This DataArray contains multi-dimensional coordinates. In the future, these coordinates will be transposed as well unless you specify transpose_coords=False.\n",
      "/tank/users/tuchida/miniconda3/envs/ensemble/lib/python3.7/site-packages/ipykernel_launcher.py:110: FutureWarning: This DataArray contains multi-dimensional coordinates. In the future, these coordinates will be transposed as well unless you specify transpose_coords=False.\n"
     ]
    },
    {
     "name": "stdout",
     "output_type": "stream",
     "text": [
      "Zs saved.\n",
      "Varpi saved.\n",
      "Dyn saved.\n",
      "8637840\n"
     ]
    },
    {
     "name": "stderr",
     "output_type": "stream",
     "text": [
      "/tank/users/tuchida/miniconda3/envs/ensemble/lib/python3.7/site-packages/ipykernel_launcher.py:106: FutureWarning: This DataArray contains multi-dimensional coordinates. In the future, these coordinates will be transposed as well unless you specify transpose_coords=False.\n",
      "/tank/users/tuchida/miniconda3/envs/ensemble/lib/python3.7/site-packages/ipykernel_launcher.py:108: FutureWarning: This DataArray contains multi-dimensional coordinates. In the future, these coordinates will be transposed as well unless you specify transpose_coords=False.\n",
      "/tank/users/tuchida/miniconda3/envs/ensemble/lib/python3.7/site-packages/ipykernel_launcher.py:110: FutureWarning: This DataArray contains multi-dimensional coordinates. In the future, these coordinates will be transposed as well unless you specify transpose_coords=False.\n"
     ]
    },
    {
     "name": "stdout",
     "output_type": "stream",
     "text": [
      "Zs saved.\n",
      "Varpi saved.\n",
      "Dyn saved.\n",
      "8640000\n"
     ]
    },
    {
     "name": "stderr",
     "output_type": "stream",
     "text": [
      "/tank/users/tuchida/miniconda3/envs/ensemble/lib/python3.7/site-packages/ipykernel_launcher.py:106: FutureWarning: This DataArray contains multi-dimensional coordinates. In the future, these coordinates will be transposed as well unless you specify transpose_coords=False.\n",
      "/tank/users/tuchida/miniconda3/envs/ensemble/lib/python3.7/site-packages/ipykernel_launcher.py:108: FutureWarning: This DataArray contains multi-dimensional coordinates. In the future, these coordinates will be transposed as well unless you specify transpose_coords=False.\n",
      "/tank/users/tuchida/miniconda3/envs/ensemble/lib/python3.7/site-packages/ipykernel_launcher.py:110: FutureWarning: This DataArray contains multi-dimensional coordinates. In the future, these coordinates will be transposed as well unless you specify transpose_coords=False.\n"
     ]
    },
    {
     "name": "stdout",
     "output_type": "stream",
     "text": [
      "Zs saved.\n",
      "Varpi saved.\n",
      "Dyn saved.\n",
      "8642160\n"
     ]
    },
    {
     "name": "stderr",
     "output_type": "stream",
     "text": [
      "/tank/users/tuchida/miniconda3/envs/ensemble/lib/python3.7/site-packages/ipykernel_launcher.py:106: FutureWarning: This DataArray contains multi-dimensional coordinates. In the future, these coordinates will be transposed as well unless you specify transpose_coords=False.\n",
      "/tank/users/tuchida/miniconda3/envs/ensemble/lib/python3.7/site-packages/ipykernel_launcher.py:108: FutureWarning: This DataArray contains multi-dimensional coordinates. In the future, these coordinates will be transposed as well unless you specify transpose_coords=False.\n",
      "/tank/users/tuchida/miniconda3/envs/ensemble/lib/python3.7/site-packages/ipykernel_launcher.py:110: FutureWarning: This DataArray contains multi-dimensional coordinates. In the future, these coordinates will be transposed as well unless you specify transpose_coords=False.\n"
     ]
    },
    {
     "name": "stdout",
     "output_type": "stream",
     "text": [
      "Zs saved.\n",
      "Varpi saved.\n",
      "Dyn saved.\n",
      "8644320\n"
     ]
    },
    {
     "name": "stderr",
     "output_type": "stream",
     "text": [
      "/tank/users/tuchida/miniconda3/envs/ensemble/lib/python3.7/site-packages/ipykernel_launcher.py:106: FutureWarning: This DataArray contains multi-dimensional coordinates. In the future, these coordinates will be transposed as well unless you specify transpose_coords=False.\n",
      "/tank/users/tuchida/miniconda3/envs/ensemble/lib/python3.7/site-packages/ipykernel_launcher.py:108: FutureWarning: This DataArray contains multi-dimensional coordinates. In the future, these coordinates will be transposed as well unless you specify transpose_coords=False.\n",
      "/tank/users/tuchida/miniconda3/envs/ensemble/lib/python3.7/site-packages/ipykernel_launcher.py:110: FutureWarning: This DataArray contains multi-dimensional coordinates. In the future, these coordinates will be transposed as well unless you specify transpose_coords=False.\n"
     ]
    },
    {
     "name": "stdout",
     "output_type": "stream",
     "text": [
      "Zs saved.\n",
      "Varpi saved.\n",
      "Dyn saved.\n",
      "8646480\n"
     ]
    },
    {
     "name": "stderr",
     "output_type": "stream",
     "text": [
      "/tank/users/tuchida/miniconda3/envs/ensemble/lib/python3.7/site-packages/ipykernel_launcher.py:106: FutureWarning: This DataArray contains multi-dimensional coordinates. In the future, these coordinates will be transposed as well unless you specify transpose_coords=False.\n",
      "/tank/users/tuchida/miniconda3/envs/ensemble/lib/python3.7/site-packages/ipykernel_launcher.py:108: FutureWarning: This DataArray contains multi-dimensional coordinates. In the future, these coordinates will be transposed as well unless you specify transpose_coords=False.\n",
      "/tank/users/tuchida/miniconda3/envs/ensemble/lib/python3.7/site-packages/ipykernel_launcher.py:110: FutureWarning: This DataArray contains multi-dimensional coordinates. In the future, these coordinates will be transposed as well unless you specify transpose_coords=False.\n"
     ]
    },
    {
     "name": "stdout",
     "output_type": "stream",
     "text": [
      "Zs saved.\n",
      "Varpi saved.\n",
      "Dyn saved.\n",
      "8648640\n"
     ]
    },
    {
     "name": "stderr",
     "output_type": "stream",
     "text": [
      "/tank/users/tuchida/miniconda3/envs/ensemble/lib/python3.7/site-packages/ipykernel_launcher.py:106: FutureWarning: This DataArray contains multi-dimensional coordinates. In the future, these coordinates will be transposed as well unless you specify transpose_coords=False.\n",
      "/tank/users/tuchida/miniconda3/envs/ensemble/lib/python3.7/site-packages/ipykernel_launcher.py:108: FutureWarning: This DataArray contains multi-dimensional coordinates. In the future, these coordinates will be transposed as well unless you specify transpose_coords=False.\n",
      "/tank/users/tuchida/miniconda3/envs/ensemble/lib/python3.7/site-packages/ipykernel_launcher.py:110: FutureWarning: This DataArray contains multi-dimensional coordinates. In the future, these coordinates will be transposed as well unless you specify transpose_coords=False.\n"
     ]
    },
    {
     "name": "stdout",
     "output_type": "stream",
     "text": [
      "Zs saved.\n",
      "Varpi saved.\n",
      "Dyn saved.\n",
      "8650800\n"
     ]
    },
    {
     "name": "stderr",
     "output_type": "stream",
     "text": [
      "/tank/users/tuchida/miniconda3/envs/ensemble/lib/python3.7/site-packages/ipykernel_launcher.py:106: FutureWarning: This DataArray contains multi-dimensional coordinates. In the future, these coordinates will be transposed as well unless you specify transpose_coords=False.\n",
      "/tank/users/tuchida/miniconda3/envs/ensemble/lib/python3.7/site-packages/ipykernel_launcher.py:108: FutureWarning: This DataArray contains multi-dimensional coordinates. In the future, these coordinates will be transposed as well unless you specify transpose_coords=False.\n",
      "/tank/users/tuchida/miniconda3/envs/ensemble/lib/python3.7/site-packages/ipykernel_launcher.py:110: FutureWarning: This DataArray contains multi-dimensional coordinates. In the future, these coordinates will be transposed as well unless you specify transpose_coords=False.\n"
     ]
    },
    {
     "name": "stdout",
     "output_type": "stream",
     "text": [
      "Zs saved.\n",
      "Varpi saved.\n",
      "Dyn saved.\n",
      "8652960\n"
     ]
    },
    {
     "name": "stderr",
     "output_type": "stream",
     "text": [
      "/tank/users/tuchida/miniconda3/envs/ensemble/lib/python3.7/site-packages/ipykernel_launcher.py:106: FutureWarning: This DataArray contains multi-dimensional coordinates. In the future, these coordinates will be transposed as well unless you specify transpose_coords=False.\n",
      "/tank/users/tuchida/miniconda3/envs/ensemble/lib/python3.7/site-packages/ipykernel_launcher.py:108: FutureWarning: This DataArray contains multi-dimensional coordinates. In the future, these coordinates will be transposed as well unless you specify transpose_coords=False.\n",
      "/tank/users/tuchida/miniconda3/envs/ensemble/lib/python3.7/site-packages/ipykernel_launcher.py:110: FutureWarning: This DataArray contains multi-dimensional coordinates. In the future, these coordinates will be transposed as well unless you specify transpose_coords=False.\n"
     ]
    },
    {
     "name": "stdout",
     "output_type": "stream",
     "text": [
      "Zs saved.\n",
      "Varpi saved.\n",
      "Dyn saved.\n",
      "8655120\n"
     ]
    },
    {
     "name": "stderr",
     "output_type": "stream",
     "text": [
      "/tank/users/tuchida/miniconda3/envs/ensemble/lib/python3.7/site-packages/ipykernel_launcher.py:106: FutureWarning: This DataArray contains multi-dimensional coordinates. In the future, these coordinates will be transposed as well unless you specify transpose_coords=False.\n",
      "/tank/users/tuchida/miniconda3/envs/ensemble/lib/python3.7/site-packages/ipykernel_launcher.py:108: FutureWarning: This DataArray contains multi-dimensional coordinates. In the future, these coordinates will be transposed as well unless you specify transpose_coords=False.\n",
      "/tank/users/tuchida/miniconda3/envs/ensemble/lib/python3.7/site-packages/ipykernel_launcher.py:110: FutureWarning: This DataArray contains multi-dimensional coordinates. In the future, these coordinates will be transposed as well unless you specify transpose_coords=False.\n"
     ]
    },
    {
     "name": "stdout",
     "output_type": "stream",
     "text": [
      "Zs saved.\n",
      "Varpi saved.\n",
      "Dyn saved.\n",
      "8657280\n"
     ]
    },
    {
     "name": "stderr",
     "output_type": "stream",
     "text": [
      "/tank/users/tuchida/miniconda3/envs/ensemble/lib/python3.7/site-packages/ipykernel_launcher.py:106: FutureWarning: This DataArray contains multi-dimensional coordinates. In the future, these coordinates will be transposed as well unless you specify transpose_coords=False.\n",
      "/tank/users/tuchida/miniconda3/envs/ensemble/lib/python3.7/site-packages/ipykernel_launcher.py:108: FutureWarning: This DataArray contains multi-dimensional coordinates. In the future, these coordinates will be transposed as well unless you specify transpose_coords=False.\n",
      "/tank/users/tuchida/miniconda3/envs/ensemble/lib/python3.7/site-packages/ipykernel_launcher.py:110: FutureWarning: This DataArray contains multi-dimensional coordinates. In the future, these coordinates will be transposed as well unless you specify transpose_coords=False.\n"
     ]
    },
    {
     "name": "stdout",
     "output_type": "stream",
     "text": [
      "Zs saved.\n",
      "Varpi saved.\n",
      "Dyn saved.\n",
      "8659440\n"
     ]
    },
    {
     "name": "stderr",
     "output_type": "stream",
     "text": [
      "/tank/users/tuchida/miniconda3/envs/ensemble/lib/python3.7/site-packages/ipykernel_launcher.py:106: FutureWarning: This DataArray contains multi-dimensional coordinates. In the future, these coordinates will be transposed as well unless you specify transpose_coords=False.\n",
      "/tank/users/tuchida/miniconda3/envs/ensemble/lib/python3.7/site-packages/ipykernel_launcher.py:108: FutureWarning: This DataArray contains multi-dimensional coordinates. In the future, these coordinates will be transposed as well unless you specify transpose_coords=False.\n",
      "/tank/users/tuchida/miniconda3/envs/ensemble/lib/python3.7/site-packages/ipykernel_launcher.py:110: FutureWarning: This DataArray contains multi-dimensional coordinates. In the future, these coordinates will be transposed as well unless you specify transpose_coords=False.\n"
     ]
    },
    {
     "name": "stdout",
     "output_type": "stream",
     "text": [
      "Zs saved.\n",
      "Varpi saved.\n",
      "Dyn saved.\n",
      "8661600\n"
     ]
    },
    {
     "name": "stderr",
     "output_type": "stream",
     "text": [
      "/tank/users/tuchida/miniconda3/envs/ensemble/lib/python3.7/site-packages/ipykernel_launcher.py:106: FutureWarning: This DataArray contains multi-dimensional coordinates. In the future, these coordinates will be transposed as well unless you specify transpose_coords=False.\n",
      "/tank/users/tuchida/miniconda3/envs/ensemble/lib/python3.7/site-packages/ipykernel_launcher.py:108: FutureWarning: This DataArray contains multi-dimensional coordinates. In the future, these coordinates will be transposed as well unless you specify transpose_coords=False.\n",
      "/tank/users/tuchida/miniconda3/envs/ensemble/lib/python3.7/site-packages/ipykernel_launcher.py:110: FutureWarning: This DataArray contains multi-dimensional coordinates. In the future, these coordinates will be transposed as well unless you specify transpose_coords=False.\n"
     ]
    },
    {
     "name": "stdout",
     "output_type": "stream",
     "text": [
      "Zs saved.\n",
      "Varpi saved.\n",
      "Dyn saved.\n",
      "8663760\n"
     ]
    },
    {
     "name": "stderr",
     "output_type": "stream",
     "text": [
      "/tank/users/tuchida/miniconda3/envs/ensemble/lib/python3.7/site-packages/ipykernel_launcher.py:106: FutureWarning: This DataArray contains multi-dimensional coordinates. In the future, these coordinates will be transposed as well unless you specify transpose_coords=False.\n",
      "/tank/users/tuchida/miniconda3/envs/ensemble/lib/python3.7/site-packages/ipykernel_launcher.py:108: FutureWarning: This DataArray contains multi-dimensional coordinates. In the future, these coordinates will be transposed as well unless you specify transpose_coords=False.\n",
      "/tank/users/tuchida/miniconda3/envs/ensemble/lib/python3.7/site-packages/ipykernel_launcher.py:110: FutureWarning: This DataArray contains multi-dimensional coordinates. In the future, these coordinates will be transposed as well unless you specify transpose_coords=False.\n"
     ]
    },
    {
     "name": "stdout",
     "output_type": "stream",
     "text": [
      "Zs saved.\n",
      "Varpi saved.\n",
      "Dyn saved.\n",
      "8665920\n"
     ]
    },
    {
     "name": "stderr",
     "output_type": "stream",
     "text": [
      "/tank/users/tuchida/miniconda3/envs/ensemble/lib/python3.7/site-packages/ipykernel_launcher.py:106: FutureWarning: This DataArray contains multi-dimensional coordinates. In the future, these coordinates will be transposed as well unless you specify transpose_coords=False.\n",
      "/tank/users/tuchida/miniconda3/envs/ensemble/lib/python3.7/site-packages/ipykernel_launcher.py:108: FutureWarning: This DataArray contains multi-dimensional coordinates. In the future, these coordinates will be transposed as well unless you specify transpose_coords=False.\n",
      "/tank/users/tuchida/miniconda3/envs/ensemble/lib/python3.7/site-packages/ipykernel_launcher.py:110: FutureWarning: This DataArray contains multi-dimensional coordinates. In the future, these coordinates will be transposed as well unless you specify transpose_coords=False.\n"
     ]
    },
    {
     "name": "stdout",
     "output_type": "stream",
     "text": [
      "Zs saved.\n",
      "Varpi saved.\n",
      "Dyn saved.\n",
      "8668080\n"
     ]
    },
    {
     "name": "stderr",
     "output_type": "stream",
     "text": [
      "/tank/users/tuchida/miniconda3/envs/ensemble/lib/python3.7/site-packages/ipykernel_launcher.py:106: FutureWarning: This DataArray contains multi-dimensional coordinates. In the future, these coordinates will be transposed as well unless you specify transpose_coords=False.\n",
      "/tank/users/tuchida/miniconda3/envs/ensemble/lib/python3.7/site-packages/ipykernel_launcher.py:108: FutureWarning: This DataArray contains multi-dimensional coordinates. In the future, these coordinates will be transposed as well unless you specify transpose_coords=False.\n",
      "/tank/users/tuchida/miniconda3/envs/ensemble/lib/python3.7/site-packages/ipykernel_launcher.py:110: FutureWarning: This DataArray contains multi-dimensional coordinates. In the future, these coordinates will be transposed as well unless you specify transpose_coords=False.\n"
     ]
    },
    {
     "name": "stdout",
     "output_type": "stream",
     "text": [
      "Zs saved.\n",
      "Varpi saved.\n",
      "Dyn saved.\n",
      "8670240\n"
     ]
    },
    {
     "name": "stderr",
     "output_type": "stream",
     "text": [
      "/tank/users/tuchida/miniconda3/envs/ensemble/lib/python3.7/site-packages/ipykernel_launcher.py:106: FutureWarning: This DataArray contains multi-dimensional coordinates. In the future, these coordinates will be transposed as well unless you specify transpose_coords=False.\n",
      "/tank/users/tuchida/miniconda3/envs/ensemble/lib/python3.7/site-packages/ipykernel_launcher.py:108: FutureWarning: This DataArray contains multi-dimensional coordinates. In the future, these coordinates will be transposed as well unless you specify transpose_coords=False.\n",
      "/tank/users/tuchida/miniconda3/envs/ensemble/lib/python3.7/site-packages/ipykernel_launcher.py:110: FutureWarning: This DataArray contains multi-dimensional coordinates. In the future, these coordinates will be transposed as well unless you specify transpose_coords=False.\n"
     ]
    },
    {
     "name": "stdout",
     "output_type": "stream",
     "text": [
      "Zs saved.\n",
      "Varpi saved.\n",
      "Dyn saved.\n",
      "8672400\n"
     ]
    }
   ],
   "source": [
    "ystart = yNstart\n",
    "yy = yystart\n",
    "\n",
    "\n",
    "for year in years[yystart:]:\n",
    "    if year == years[yystart]:\n",
    "        mtimes = ntimes[yy,dd:]\n",
    "    else:\n",
    "        mtimes = ntimes[yy]\n",
    "    for itime in mtimes:\n",
    "        for nmemb in range(24):\n",
    "            if nmemb == 0:\n",
    "                ds = open_mdsdataset(op.join(ddir,'qjamet/RUNS/ORAR/memb%02d/run%4d/ocn/' % (nmemb,year)), \n",
    "                                     grid_dir=op.join(ddir,'grid_chaO/gridMIT_update1/'),\n",
    "                                     prefix=['diag_ocnTave','diag_ocnSurf'], \n",
    "                                     delta_t=2e2, iters=itime,\n",
    "#                                      chunks={'XC':xchunk,'XG':xchunk,'YC':ychunk,'YG':ychunk}\n",
    "                                    ).isel(time=0)\n",
    "            else:\n",
    "                ds = xr.concat([ds, open_mdsdataset(op.join(ddir,'qjamet/RUNS/ORAR/memb%02d/run%4d/ocn/' \n",
    "                                                            % (nmemb,year)), \n",
    "                                                    grid_dir=op.join(ddir,'grid_chaO/gridMIT_update1/'),\n",
    "                                                    prefix=['diag_ocnTave','diag_ocnSurf'], \n",
    "                                                    delta_t=2e2, iters=itime,\n",
    "#                                                     chunks={'XC':xchunk,'XG':xchunk,'YC':ychunk,'YG':ychunk}\n",
    "                                                   ).isel(time=0)\n",
    "                               ], 'nmemb')\n",
    "        ds.coords['nmemb'] = ('nmemb',range(24))\n",
    "\n",
    "\n",
    "        theta = ds.THETA.where(ds.maskC!=0.)\n",
    "        salt = ds.SALT.where(ds.maskC!=0.)\n",
    "        \n",
    "        dsp = xr.open_zarr(op.join(savedir,'PHI_5Dave/run%4d/%010d/' % (year,itime)),\n",
    "                          ).isel(time=0)\n",
    "        cs = dsp.cs.where(ds.maskC!=0.).chunk({'nmemb':membchunk,'Z':-1})\n",
    "        phi = dsp.PHIHYD.where(ds.maskC!=0.).chunk({'nmemb':membchunk,'Z':-1})\n",
    "\n",
    "\n",
    "        fine_drf = np.squeeze(ds.drF.sel(Z=slice(None,None)))\n",
    "        fine_drc = np.squeeze(ds.drC.sel(Zp1=slice(None,None)))\n",
    "\n",
    "        grid = Grid(ds, periodic=['X'])\n",
    "        grid_sub = Grid(ds.sel(YC=slice(ySstart-12**-1,yend+2*12**-1),\n",
    "                               YG=slice(ySstart-12**-1,yend+2*12**-1)), \n",
    "                        periodic=['X'])\n",
    "        dpdx = (grid_sub.diff(phi,'X') \n",
    "                * ds.dxC**-1\n",
    "               ).where(ds.maskW!=0.)\n",
    "        dpdy = (grid_sub.diff(phi,'Y',boundary='fill') \n",
    "                * ds.dyC**-1\n",
    "               ).where(ds.maskS!=0.)\n",
    "\n",
    "########################################\n",
    "#                 Rhos                 #\n",
    "########################################\n",
    "        rho_til = rhoConst*(1. - grav*grid.interp(-grid.cumsum(Cs**-2*ds.drF,\n",
    "                                                               'Z',boundary='fill',to='outer'),\n",
    "                                                  'Z',boundary='fill')\n",
    "                           ).chunk({'Z':-1})\n",
    "    \n",
    "        dsr = xr.open_zarr(op.join(savedir,'Varpi_5Dave/run%4d/%010d/' % (year,itime))\n",
    "                          ).isel(time=0)\n",
    "        rho_insitu = dsr.rho.sel(YC=slice(ystart-12**-1,yend+2*12**-1)\n",
    "                                ).chunk({'nmemb':membchunk,'Z':-1,'XC':xchunk,'YC':ychunk})\n",
    "        rhox = xr.apply_ufunc(densjmd95, \n",
    "                              grid.interp(salt,'X').sel(YC=slice(ystart-12**-1,yend+2*12**-1)), \n",
    "                              grid.interp(theta,'X').sel(YC=slice(ystart-12**-1,yend+2*12**-1)), \n",
    "                              -grav*ds.Z*rhoConst*1e-4, \n",
    "                              dask='parallelized', output_dtypes=[float,]\n",
    "                             ).where(ds.maskW!=0.).chunk({'nmemb':membchunk,\n",
    "                                                          'XG':xchunk,'YC':ychunk})\n",
    "        rhoy = xr.apply_ufunc(densjmd95, \n",
    "                              grid.interp(salt,'Y',boundary='fill'\n",
    "                                         ).sel(YG=slice(ystart-12**-1,yend+2*12**-1)), \n",
    "                              grid.interp(theta,'Y',boundary='fill'\n",
    "                                         ).sel(YG=slice(ystart-12**-1,yend+2*12**-1)), \n",
    "                              -grav*ds.Z*rhoConst*1e-4,\n",
    "                              dask='parallelized', output_dtypes=[float,]\n",
    "                             ).where(ds.maskS!=0.).chunk({'nmemb':membchunk,\n",
    "                                                          'XC':xchunk,'YG':ychunk})\n",
    "#         rhoz = xr.apply_ufunc(densjmd95, \n",
    "#                               grid.interp(grid.interp(salt,'Y',boundary='fill'),\n",
    "#                                           'X').sel(YG=slice(ystart-12**-1,yend+2*12**-1)), \n",
    "#                               grid.interp(grid.interp(theta,'Y',boundary='fill'),\n",
    "#                                           'X').sel(YG=slice(ystart-12**-1,yend+2*12**-1)), \n",
    "#                               -grav*ds.Z*rhoConst*1e-4,\n",
    "#                               dask='parallelized', output_dtypes=[float,]\n",
    "#                              ).where(grid.interp(ds.maskS,'X')!=0.\n",
    "#                                     ).compute().chunk({'nmemb':membchunk,\n",
    "#                                                        'XG':xchunk,'YG':ychunk})\n",
    "        delta = rho_insitu - rho_til\n",
    "        deltax = rhox - rho_til\n",
    "        deltay = rhoy - rho_til\n",
    "#         deltaz = rhoz - rho_til\n",
    "#         print(rho_insitu)\n",
    "\n",
    "##########################################\n",
    "#                   Zs                   #\n",
    "##########################################\n",
    "#         start = time.time()\n",
    "        zz, _ = xr.broadcast(ds.Z, rho_insitu.isel(Z=0))\n",
    "        zzy, _ = xr.broadcast(ds.Z, rhoy.isel(Z=0))\n",
    "        zzx, _ = xr.broadcast(ds.Z, rhox.isel(Z=0))\n",
    "        zz = zz.where(ds.maskC!=0.).chunk({'nmemb':membchunk,'YC':ychunk,\n",
    "                                           'XC':xchunk}).transpose('nmemb','Z','YC','XC')\n",
    "        zzy = zzy.where(ds.maskS!=0.).chunk({'nmemb':membchunk,'YG':ychunk,\n",
    "                                             'XC':xchunk}).transpose('nmemb','Z','YG','XC')\n",
    "        zzx = zzx.where(ds.maskW!=0.).chunk({'nmemb':membchunk,'YC':ychunk,\n",
    "                                             'XG':xchunk}).transpose('nmemb','Z','YC','XG')\n",
    "\n",
    "        dzetaF = layers_apply(xr.ones_like(zz).where(ds.maskC!=0.).chunk({'nmemb':membchunk,\n",
    "                                                                          'XC':xchunk,\n",
    "                                                                          'YC':ychunk}),\n",
    "                              delta,\n",
    "                              siglayers, fine_drf, fine_drc, fine_fact=nremap,\n",
    "                              lev_name='Z', Tlev_name='sig').compute()\n",
    "        zdz = layers_apply(zz, delta,\n",
    "                           siglayers, fine_drf, fine_drc, fine_fact=nremap,\n",
    "                           lev_name='Z', Tlev_name='sig').compute()\n",
    "\n",
    "        dzetaFx = layers_apply(xr.ones_like(zzx).where(ds.maskW!=0.).chunk({'nmemb':membchunk,\n",
    "                                                                            'XG':xchunk,\n",
    "                                                                            'YC':ychunk}),\n",
    "                               deltax,\n",
    "                               siglayers, fine_drf, fine_drc, fine_fact=nremap,\n",
    "                               lev_name='Z', Tlev_name='sig').compute()\n",
    "        zxdz = layers_apply(zzx, deltax,\n",
    "                            siglayers, fine_drf, fine_drc, fine_fact=nremap,\n",
    "                            lev_name='Z', Tlev_name='sig').compute()\n",
    "\n",
    "        dzetaFy = layers_apply(xr.ones_like(zzy).where(ds.maskS!=0.).chunk({'nmemb':membchunk,\n",
    "                                                                            'XC':xchunk,\n",
    "                                                                            'YG':ychunk}),\n",
    "                               deltay,\n",
    "                               siglayers, fine_drf, fine_drc, fine_fact=nremap,\n",
    "                               lev_name='Z', Tlev_name='sig').compute()\n",
    "        zydz = layers_apply(zzy, deltay,\n",
    "                            siglayers, fine_drf, fine_drc, fine_fact=nremap,\n",
    "                            lev_name='Z', Tlev_name='sig').compute()\n",
    "\n",
    "#         dzetaFz = layers_apply(xr.ones_like(rhoz).where(grid.interp(ds.maskS,'X')!=0.\n",
    "#                                                        ).chunk({'nmemb':membchunk,'XG':xchunk,\n",
    "#                                                                 'YG':ychunk}),\n",
    "#                                deltaz,\n",
    "#                                siglayers, fine_drf, fine_drc, fine_fact=nremap,\n",
    "#                                lev_name='Z', Tlev_name='sig').compute()\n",
    "\n",
    "        del zz, zzy, zzx\n",
    "#         end = time.time()\n",
    "#         print(\"Zs interpolated. Lapse:\", end-start)\n",
    "\n",
    "    ##########################################\n",
    "        dsave = zdz.to_dataset(name='zdz')\n",
    "        dsave['zydz'] = zydz\n",
    "        dsave['zxdz'] = zxdz\n",
    "        dsave['dzetaF'] = dzetaF.where(dzetaF!=0.)\n",
    "        dsave['dzetaFx'] = dzetaFx.where(dzetaFx!=0.)\n",
    "        dsave['dzetaFy'] = dzetaFy.where(dzetaFy!=0.)\n",
    "#         dsave['dzetaFz'] = dzetaFz\n",
    "        dsave.coords['sigp1'] = ('sigp1',sigp1layers)\n",
    "        dsave.to_zarr(op.join(savedir,'5Dave/run%4d/Zs/%010d/' % (year,itime)), mode='w')\n",
    "        dsave.close()\n",
    "\n",
    "        del zdz, zydz, zxdz, dzetaF, dzetaFy, dzetaFx \n",
    "#         del dzetaFz\n",
    "        print(\"Zs saved.\")\n",
    "\n",
    "##########################################\n",
    "#          Dynamical variables           #\n",
    "##########################################\n",
    "#         start = time.time()\n",
    "\n",
    "        comp = (grid.interp(ds.WVEL,'Z',boundary='fill').chunk({'Z':-1}) \n",
    "                * grav**2 \n",
    "                * (cs**-2 - Cs**-2))\n",
    "    \n",
    "#         diaTdz = layers_apply(dsr.varpiT.where(ds.maskC!=0.).sel(YC=slice(ystart-12**-1,\n",
    "#                                                                           yend+2*12**-1)\n",
    "#                                                                 ).chunk({'nmemb':membchunk,'Z':-1,\n",
    "#                                                                          'YC':ychunk,'XC':xchunk}),\n",
    "#                               delta,\n",
    "#                               siglayers, fine_drf, fine_drc, fine_fact=nremap,\n",
    "#                               lev_name='Z', Tlev_name='sig').compute()\n",
    "#         diaSdz = layers_apply(dsr.varpiS.where(ds.maskC!=0.).sel(YC=slice(ystart-12**-1,\n",
    "#                                                                           yend+2*12**-1)\n",
    "#                                                                 ).chunk({'nmemb':membchunk,'Z':-1,\n",
    "#                                                                          'YC':ychunk,'XC':xchunk}),\n",
    "#                               delta,\n",
    "#                               siglayers, fine_drf, fine_drc, fine_fact=nremap,\n",
    "#                               lev_name='Z', Tlev_name='sig').compute()\n",
    "        diadz = layers_apply((dsr.VarpiT + dsr.VarpiS).where(ds.maskC!=0.).sel(YC=slice(ystart-12**-1,\n",
    "                                                                                        yend+2*12**-1)\n",
    "                                                                              ).chunk({'nmemb':membchunk,'Z':-1,\n",
    "                                                                                       'YC':ychunk,'XC':xchunk}),\n",
    "                              delta,\n",
    "                              siglayers, fine_drf, fine_drc, fine_fact=nremap,\n",
    "                              lev_name='Z', Tlev_name='sig').compute()\n",
    "        cmpdz = layers_apply(comp.where(ds.maskC!=0.).sel(YC=slice(ystart-12**-1,yend+2*12**-1)\n",
    "                                                         ).chunk({'nmemb':membchunk,\n",
    "                                                                  'YC':ychunk,'XC':xchunk}),\n",
    "                             delta,\n",
    "                             siglayers, fine_drf, fine_drc, fine_fact=nremap,\n",
    "                             lev_name='Z', Tlev_name='sig').compute()       \n",
    "##########################################\n",
    "#         varpidz = (-grav*diadz*rhoConst**-1 \n",
    "#                    + cmpdz\n",
    "#                   )\n",
    "        dsave = cmpdz.to_dataset(name='cmpdz')\n",
    "        dsave['diadz'] = -grav*diadz*rhoConst**-1 \n",
    "        dsave.coords['sigp1'] = ('sigp1',sigp1layers)\n",
    "        dsave.to_zarr(op.join(savedir,'5Dave/run%4d/Varpi/%010d/' % (year,itime)), mode='w')\n",
    "        dsave.close()\n",
    "\n",
    "        del diadz, cmpdz\n",
    "        print(\"Varpi saved.\")\n",
    "\n",
    "##########################################   \n",
    "        pxdz = layers_apply(dpdx.sel(YC=slice(ystart-12**-1,yend+2*12**-1)\n",
    "                                    ).chunk({'nmemb':membchunk,'YC':ychunk,'XG':xchunk}),\n",
    "                            deltax,\n",
    "                            siglayers, fine_drf, fine_drc, fine_fact=nremap,\n",
    "                            lev_name='Z', Tlev_name='sig').compute()\n",
    "        pydz = layers_apply(dpdy.sel(YG=slice(ystart-12**-1,yend+2*12**-1)\n",
    "                                    ).chunk({'nmemb':membchunk,'YG':ychunk,'XC':xchunk}),\n",
    "                            deltay,\n",
    "                            siglayers, fine_drf, fine_drc, fine_fact=nremap,\n",
    "                            lev_name='Z', Tlev_name='sig').compute()\n",
    "        tdz = layers_apply(theta.where(ds.maskC!=0.).sel(YC=slice(ystart-12**-1,yend+2*12**-1)\n",
    "                                                        ).chunk({'nmemb':membchunk,\n",
    "                                                                 'YC':ychunk,'XC':xchunk}),\n",
    "                           delta,\n",
    "                           siglayers, fine_drf, fine_drc, fine_fact=nremap,\n",
    "                           lev_name='Z', Tlev_name='sig').compute()\n",
    "        sdz = layers_apply(salt.where(ds.maskC!=0.).sel(YC=slice(ystart-12**-1,yend+2*12**-1)\n",
    "                                                       ).chunk({'nmemb':membchunk,\n",
    "                                                                'YC':ychunk,'XC':xchunk}),\n",
    "                           delta,\n",
    "                           siglayers, fine_drf, fine_drc, fine_fact=nremap,\n",
    "                           lev_name='Z', Tlev_name='sig').compute()\n",
    "        udz = layers_apply(ds.UVEL.where(ds.maskW!=0.).sel(YC=slice(ystart-12**-1,yend+2*12**-1)\n",
    "                                                          ).chunk({'nmemb':membchunk,\n",
    "                                                                   'YC':ychunk,'XG':xchunk}),\n",
    "                           deltax,\n",
    "                           siglayers, fine_drf, fine_drc, fine_fact=nremap,\n",
    "                           lev_name='Z', Tlev_name='sig').compute()\n",
    "        vdz = layers_apply(ds.VVEL.where(ds.maskS!=0.).sel(YG=slice(ystart-12**-1,yend+2*12**-1)\n",
    "                                                          ).chunk({'nmemb':membchunk,\n",
    "                                                                   'YG':ychunk,'XC':xchunk}),\n",
    "                           deltay,\n",
    "                           siglayers, fine_drf, fine_drc, fine_fact=nremap,\n",
    "                           lev_name='Z', Tlev_name='sig').compute()\n",
    "\n",
    "        del rho_insitu, rhoy, rhox, delta, deltax, deltay\n",
    "#         del rhoz, deltaz\n",
    "#         end = time.time()\n",
    "#         print(\"Dyns interpolated. Lapse:\", end-start)\n",
    "\n",
    "##########################################   \n",
    "        dsave = vdz.to_dataset(name='vdz')\n",
    "        dsave['udz'] = udz\n",
    "        dsave['tdz'] = tdz\n",
    "        dsave['sdz'] = sdz\n",
    "        dsave['pxdz'] = pxdz\n",
    "        dsave['pydz'] = pydz\n",
    "        dsave.coords['sigp1'] = ('sigp1',sigp1layers)\n",
    "        dsave.to_zarr(op.join(savedir,'5Dave/run%4d/Dyns/%010d/' % (year,itime)), mode='w')\n",
    "        dsave.close()\n",
    "\n",
    "        print(\"Dyn saved.\")\n",
    "        del tdz, sdz, vdz, udz, pydz, pxdz\n",
    "        ds.close()\n",
    "        dsp.close()\n",
    "        dsr.close()\n",
    "\n",
    "        print(itime)\n",
    "        \n",
    "    yy += 1"
   ]
  },
  {
   "cell_type": "code",
   "execution_count": 14,
   "metadata": {},
   "outputs": [
    {
     "data": {
      "text/html": [
       "<table style=\"border: 2px solid white;\">\n",
       "<tr>\n",
       "<td style=\"vertical-align: top; border: 0px solid white\">\n",
       "<h3 style=\"text-align: left;\">Client</h3>\n",
       "<ul style=\"text-align: left; list-style: none; margin: 0; padding: 0;\">\n",
       "  <li><b>Scheduler: </b>tcp://127.0.0.1:45861</li>\n",
       "  <li><b>Dashboard: </b><a href='http://127.0.0.1:8787/status' target='_blank'>http://127.0.0.1:8787/status</a></li>\n",
       "</ul>\n",
       "</td>\n",
       "<td style=\"vertical-align: top; border: 0px solid white\">\n",
       "<h3 style=\"text-align: left;\">Cluster</h3>\n",
       "<ul style=\"text-align: left; list-style:none; margin: 0; padding: 0;\">\n",
       "  <li><b>Workers: </b>16</li>\n",
       "  <li><b>Cores: </b>80</li>\n",
       "  <li><b>Memory: </b>337.99 GB</li>\n",
       "</ul>\n",
       "</td>\n",
       "</tr>\n",
       "</table>"
      ],
      "text/plain": [
       "<Client: 'tcp://127.0.0.1:45861' processes=0 threads=0, memory=0 B>"
      ]
     },
     "execution_count": 14,
     "metadata": {},
     "output_type": "execute_result"
    }
   ],
   "source": [
    "client.restart()"
   ]
  },
  {
   "cell_type": "code",
   "execution_count": null,
   "metadata": {},
   "outputs": [],
   "source": []
  }
 ],
 "metadata": {
  "kernelspec": {
   "display_name": "Python 3",
   "language": "python",
   "name": "python3"
  },
  "language_info": {
   "codemirror_mode": {
    "name": "ipython",
    "version": 3
   },
   "file_extension": ".py",
   "mimetype": "text/x-python",
   "name": "python",
   "nbconvert_exporter": "python",
   "pygments_lexer": "ipython3",
   "version": "3.7.3"
  }
 },
 "nbformat": 4,
 "nbformat_minor": 4
}
